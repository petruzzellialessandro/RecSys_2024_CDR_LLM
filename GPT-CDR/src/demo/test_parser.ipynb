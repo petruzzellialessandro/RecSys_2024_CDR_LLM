{
 "cells": [
  {
   "cell_type": "code",
   "execution_count": 1,
   "metadata": {},
   "outputs": [],
   "source": [
    "import pandas as pd\n",
    "from collections import OrderedDict\n",
    "import re\n",
    "import sys\n",
    "sys.path.append(\"../models/\")\n",
    "import utilities as ut"
   ]
  },
  {
   "cell_type": "code",
   "execution_count": 2,
   "metadata": {},
   "outputs": [],
   "source": [
    "SEPARATOR = \"###################\"\n",
    "MISTRAL_ANSWERS = []\n",
    "demo_path = \"../demo/\""
   ]
  },
  {
   "cell_type": "markdown",
   "metadata": {},
   "source": [
    "# Collect demo data"
   ]
  },
  {
   "cell_type": "code",
   "execution_count": 3,
   "metadata": {},
   "outputs": [],
   "source": [
    "with open(demo_path + \"demo_mistral_answers.txt\", \"r\") as file:\n",
    "    mistral_file_content = file.read()\n",
    "    mistral_original_answers = str(mistral_file_content).split(SEPARATOR)\n",
    "\n",
    "# GPT-3.5 turbo\n",
    "with open(demo_path + \"demo_gpt_answers.txt\", \"r\") as gpt_file:\n",
    "    gpt_file_content = gpt_file.read()\n",
    "    GPT_ANSWERS = str(gpt_file_content).split(SEPARATOR)"
   ]
  },
  {
   "cell_type": "markdown",
   "metadata": {},
   "source": [
    "# Extract recommendations"
   ]
  },
  {
   "cell_type": "code",
   "execution_count": 4,
   "metadata": {},
   "outputs": [],
   "source": [
    "for mistral_answer in mistral_original_answers:\n",
    "    MISTRAL_ANSWERS.append(ut.filter_llm_output(mistral_answer, model=\"mistral\"))"
   ]
  },
  {
   "cell_type": "markdown",
   "metadata": {},
   "source": [
    "# MISTRAL ANSWERS"
   ]
  },
  {
   "cell_type": "code",
   "execution_count": 5,
   "metadata": {},
   "outputs": [
    {
     "data": {
      "text/plain": [
       "['I recommend you the following books: \\n0002247399.',\n",
       " 'Based on your interests, I would suggest the following books:\\n\\n1. \"The Tarot Reader\" by Nancy Shavick: This book is about the history and practice of tarot reading, and it would be a great addition to your collection if you are interested in spirituality and self-discovery.\\n2. \"Coming Apart: Why Relationships End and How to Live Through the Ending of Yours\" by Daphne Rose Kingma: This book is a self-help guide that focuses on the end of relationships and how to navigate through the process. It would be a great addition to your collection if you are interested in personal growth and self-improvement.\\n3. \"Confessions of a Shopaholic\" by Sophie Kinsella: This book is a light-hearted and humorous novel about a woman who is addicted to shopping. It would be a great addition to your collection if you are interested in romance and women\\'s fiction.\\n\\nI hope these suggestions help you find the perfect books for your collection!',\n",
       " \"Based on your interest in Monty Python and the Holy Grail and Sweeney Todd: The Demon Barber of Fleet Street, I would suggest the following books:\\n\\n1. The Other Daughter: A Novel by Lisa Gardner - This book is a mystery thriller that follows a woman who is trying to uncover the truth about her family's past. It has elements of suspense and intrigue that could appeal to you.\\n2. The Survivors Club: A Thriller by Lisa Gardner - This book is another mystery thriller that follows a group of people who are connected to a tragic event. It has elements of suspense and intrigue that could appeal to you.\\n3. One Door Away From Heaven by Dean Koontz - This book is a mystery thriller that follows a woman who is trying to uncover the truth about a missing person case. It has elements of suspense and intrigue that could appeal to you.\\n\\nAll three of these books have elements of mystery, thriller, and suspense that could appeal to you based on your interest in Monty Python and Sweeney Todd.\",\n",
       " 'Based on the given information, it seems that the person enjoys watching movies that are related to religion and spirituality. Therefore, it would be appropriate to suggest a book that is also related to these themes.\\n\\nOne possible suggestion would be \"The Prophet\" by Kahlil Gibran. This book is a collection of inspirational and thought-provoking sayings and parables that explore themes such as love, compassion, and the search for meaning in life. The book has been widely read and admired for its timeless wisdom and its ability to touch the hearts of readers from all walks of life.\\n\\nAnother possible suggestion would be \"The Queen\\'s Fool\" by Philippa Gregory. While this book is not directly related to religion and spirituality, it does explore themes of power, deception, and the human condition. The book tells the story of a young woman who becomes embroiled in the dangerous world of court intrigue and political machinations in Tudor England. The book is a thrilling and engaging read that is sure to captivate the reader\\'s imagination.\\n\\nOverall, both of these books would make great suggestions for someone who enjoys watching movies related to religion and spirituality.',\n",
       " 'Based on the given information, the candidate items are:\\n\\n1. Introductory Circuit Analysis (12th Edition)\\n2. A Dance with Dragons\\n3. Country & Western Gospel Hymnal Volume One: Large Book\\n4. Ship of Magic (Liveship Traders)\\n5. The Queen\\'s Fool\\n6. The Prophet\\n7. Roy Rogers: King of the Cowboys\\n8. The Unmasking of Oscar Wilde\\n9. Scones, Muffins, and Tea Cakes: Breakfast Breads and Teatime Spreads\\n10. Perelandra (Cosmic Trilogy)\\n\\nTo suggest a book among these items, we need to consider the categories and ratings of each item. Based on the given information, the items are categorized as follows:\\n\\n1. Books\\n2. Books\\n3. Books\\n4. Books\\n5. Books\\n6. Books\\n7. Books\\n8. Books\\n9. Books\\n10. Books\\n\\nAll the items have a rating of 5, which indicates that they are highly rated. However, we need to consider the categories of each item to make a suggestion.\\n\\nSince the given items are all books, we can suggest any of them as a book recommendation. However, if we want to suggest a book that is related to the given items, we can suggest \"The Hobbit: An Unexpected Journey\" by J.R.R. Tolkien. This book is a fantasy novel that is part of the Middle-earth series, which includes \"The Lord of the Rings\" trilogy. The book is also related to the \"The Hobbit\" movie that was released in 2013, which is one of the items in the given list.\\n\\nTherefore, based on the given information, we can suggest \"The Hobbit: An Unexpected Journey\" as a book recommendation.',\n",
       " 'Based on the given information, it seems that the person enjoys a variety of genres, including action, adventure, comedy, and fantasy. They also seem to have a particular interest in movies and TV shows from the 20th century.\\n\\nGiven this information, I would suggest the book \"A Dance with Dragons\" by George R.R. Martin. This book is part of the popular \"Game of Thrones\" series, which is known for its complex characters, intricate plot, and epic battles. It is also a fantasy novel, which fits the person\\'s interest in that genre. Additionally, the book has received high acclaim and has won numerous awards, making it a popular choice among readers.']"
      ]
     },
     "execution_count": 5,
     "metadata": {},
     "output_type": "execute_result"
    }
   ],
   "source": [
    "MISTRAL_ANSWERS"
   ]
  },
  {
   "cell_type": "markdown",
   "metadata": {},
   "source": [
    "# Parsing Potential Methods"
   ]
  },
  {
   "cell_type": "markdown",
   "metadata": {},
   "source": [
    "I check the average len of item ids in two sample datasets such that, if the computed averages are equal, we might use some sort of regular expression to find the ids in the LLM's answers."
   ]
  },
  {
   "cell_type": "code",
   "execution_count": 6,
   "metadata": {},
   "outputs": [],
   "source": [
    "booksDF = pd.read_csv(\"../data/test/books_2_5__1.csv\")\n",
    "moviesDF = pd.read_csv(\"../data/test/movies_5_10.csv\")"
   ]
  },
  {
   "cell_type": "code",
   "execution_count": 7,
   "metadata": {},
   "outputs": [
    {
     "name": "stdout",
     "output_type": "stream",
     "text": [
      "AVG Len of Item IDs in booksDF: 10\n",
      "AVG Len of Item IDs in moviesDF: 10\n"
     ]
    }
   ],
   "source": [
    "print(f\"AVG Len of Item IDs in booksDF: {int(booksDF['item_id'].str.len().mean())}\")\n",
    "print(f\"AVG Len of Item IDs in moviesDF: {int(moviesDF['item_id'].str.len().mean())}\")"
   ]
  },
  {
   "cell_type": "code",
   "execution_count": 8,
   "metadata": {},
   "outputs": [],
   "source": [
    "# This methods retrieves all strings up to 10 chars similar to: 1234567890, ABCDEFGHIL, 123ABCDF34, or AB540943XX\n",
    "# Return: set of film ids\n",
    "def extract_suggestion_id(sentence):\n",
    "    pattern = r'[0-9A-Z]{10}'\n",
    "    match = re.findall(pattern, sentence)\n",
    "    \n",
    "    if match:\n",
    "        return list(OrderedDict.fromkeys(match))\n",
    "    else:\n",
    "        return None\n",
    "\n",
    "# This methods retrieves all strings similar to: \"Film Title\" by Film Author/Actor\n",
    "# Return: set of film titles\n",
    "def extract_suggestion_title(sentence):\n",
    "    pattern = r'\"([^\"]+)\" by [\\w\\s]+'\n",
    "    match = re.findall(pattern, sentence)\n",
    "    \n",
    "    if match:\n",
    "        return list(OrderedDict.fromkeys(match))\n",
    "    else:\n",
    "        return None"
   ]
  },
  {
   "cell_type": "markdown",
   "metadata": {},
   "source": [
    "## Examples of Parsing Results"
   ]
  },
  {
   "cell_type": "code",
   "execution_count": 9,
   "metadata": {},
   "outputs": [
    {
     "name": "stdout",
     "output_type": "stream",
     "text": [
      "Movie Title: ['The Tarot Reader', 'The Sium Sium']\n",
      "Found ids: ['1234567890', 'AB540943XX']\n"
     ]
    }
   ],
   "source": [
    "sentence = 'Yesterday I watched \"The Tarot Reader\" by Nancy Shavick, \"The Sium Sium\" by Ronaldo and the films with ids \"1234567890\" and \"AB540943XX\".'\n",
    "title = extract_suggestion_title(sentence)\n",
    "ids = extract_suggestion_id(sentence)\n",
    "\n",
    "if title and ids:\n",
    "    print(f'Movie Title: {title}')\n",
    "    print(f\"Found ids: {ids}\")\n",
    "else:\n",
    "    print('No matching pattern found.')"
   ]
  },
  {
   "cell_type": "markdown",
   "metadata": {},
   "source": [
    "## Parsing Applied on Mistral/GPT Answers"
   ]
  },
  {
   "cell_type": "code",
   "execution_count": 27,
   "metadata": {},
   "outputs": [
    {
     "name": "stdout",
     "output_type": "stream",
     "text": [
      "Based on the given information, it seems that the person enjoys a variety of genres, including action, adventure, comedy, and fantasy. They also seem to have a particular interest in movies and TV shows from the 20th century.\n",
      "\n",
      "Given this information, I would suggest the book \"A Dance with Dragons\" by George R.R. Martin. This book is part of the popular \"Game of Thrones\" series, which is known for its complex characters, intricate plot, and epic battles. It is also a fantasy novel, which fits the person's interest in that genre. Additionally, the book has received high acclaim and has won numerous awards, making it a popular choice among readers.\n"
     ]
    }
   ],
   "source": [
    "print(MISTRAL_ANSWERS[5])"
   ]
  },
  {
   "cell_type": "code",
   "execution_count": 11,
   "metadata": {},
   "outputs": [
    {
     "name": "stdout",
     "output_type": "stream",
     "text": [
      "1° ================================================\n",
      "Movie Title: No Matches!\n",
      "Found ids: ['0002247399']\n",
      "2° ================================================\n",
      "Movie Title: ['The Tarot Reader', 'Coming Apart: Why Relationships End and How to Live Through the Ending of Yours', 'Confessions of a Shopaholic']\n",
      "Found ids: No Matches!\n",
      "3° ================================================\n",
      "Movie Title: No Matches!\n",
      "Found ids: No Matches!\n",
      "4° ================================================\n",
      "Movie Title: ['The Prophet', \"The Queen's Fool\"]\n",
      "Found ids: No Matches!\n",
      "5° ================================================\n",
      "Movie Title: ['The Hobbit: An Unexpected Journey']\n",
      "Found ids: No Matches!\n",
      "6° ================================================\n",
      "Movie Title: ['A Dance with Dragons']\n",
      "Found ids: No Matches!\n"
     ]
    }
   ],
   "source": [
    "i = 1\n",
    "for answer in MISTRAL_ANSWERS:\n",
    "\n",
    "    title = extract_suggestion_title(answer)\n",
    "    ids = extract_suggestion_id(answer)\n",
    "\n",
    "    if title:\n",
    "        print(f\"{i}° ================================================\\nMovie Title: {title}\")\n",
    "    else:\n",
    "        print(f\"{i}° ================================================\\nMovie Title: No Matches!\")\n",
    "        \n",
    "    if ids:\n",
    "        print(f\"Found ids: {ids}\")\n",
    "    else:\n",
    "        print(f\"Found ids: No Matches!\")\n",
    "\n",
    "    i += 1"
   ]
  },
  {
   "cell_type": "code",
   "execution_count": 15,
   "metadata": {},
   "outputs": [
    {
     "name": "stdout",
     "output_type": "stream",
     "text": [
      "Based on your interest in Monty Python and the Holy Grail and Sweeney Todd: The Demon Barber of Fleet Street, I would suggest the following books:\n",
      "\n",
      "1. The Other Daughter: A Novel by Lisa Gardner - This book is a mystery thriller that follows a woman who is trying to uncover the truth about her family's past. It has elements of suspense and intrigue that could appeal to you.\n",
      "2. The Survivors Club: A Thriller by Lisa Gardner - This book is another mystery thriller that follows a group of people who are connected to a tragic event. It has elements of suspense and intrigue that could appeal to you.\n",
      "3. One Door Away From Heaven by Dean Koontz - This book is a mystery thriller that follows a woman who is trying to uncover the truth about a missing person case. It has elements of suspense and intrigue that could appeal to you.\n",
      "\n",
      "All three of these books have elements of mystery, thriller, and suspense that could appeal to you based on your interest in Monty Python and Sweeney Todd.\n"
     ]
    }
   ],
   "source": [
    "print(MISTRAL_ANSWERS[2])"
   ]
  },
  {
   "cell_type": "markdown",
   "metadata": {},
   "source": [
    "# GPT ANSWERS"
   ]
  },
  {
   "cell_type": "code",
   "execution_count": 20,
   "metadata": {},
   "outputs": [
    {
     "name": "stdout",
     "output_type": "stream",
     "text": [
      "1° ================================================\n",
      "Movie Title: No Matches!\n",
      "Found ids: ['1573306894', '6301650662', 'B00022LOTM']\n",
      "2° ================================================\n",
      "Movie Title: No Matches!\n",
      "Found ids: ['5558160063', '5559291986', 'B0000009S5']\n",
      "3° ================================================\n",
      "Movie Title: No Matches!\n",
      "Found ids: ['6301334175', 'B000002ROL', 'B000000SRO']\n",
      "4° ================================================\n",
      "Movie Title: ['Glass Houses', 'Transformed Man']\n",
      "Found ids: ['B00005Q3AN', 'B0000025I4', '5559291986']\n",
      "5° ================================================\n",
      "Movie Title: No Matches!\n",
      "Found ids: ['B0000024P5', '5558160063', '1573306894']\n",
      "6° ================================================\n",
      "Movie Title: No Matches!\n",
      "Found ids: ['B00006IUGM', 'B000002W3R', '1573306894']\n"
     ]
    }
   ],
   "source": [
    "i = 1\n",
    "for answer in GPT_ANSWERS:\n",
    "     title = extract_suggestion_title(answer)\n",
    "     ids = extract_suggestion_id(answer)\n",
    "\n",
    "     if title:\n",
    "        print(f\"{i}° ================================================\\nMovie Title: {title}\")\n",
    "     else:\n",
    "          print(f\"{i}° ================================================\\nMovie Title: No Matches!\")\n",
    "          \n",
    "     if ids:\n",
    "          print(f\"Found ids: {ids}\")\n",
    "     else:\n",
    "          print(f\"Found ids: No Matches!\")\n",
    "          \n",
    "     i += 1"
   ]
  },
  {
   "cell_type": "code",
   "execution_count": 17,
   "metadata": {},
   "outputs": [
    {
     "name": "stdout",
     "output_type": "stream",
     "text": [
      "\n",
      "To suggest 3 CDs from the given list, we can use a content-based filtering approach. We will consider the categories and brands of the CDs, as well as the user's preferences for books.\n",
      "\n",
      "Step 1: Analyze the user's preferences for books\n",
      "The user liked books in various categories such as Biographies & Memoirs, Historical, Arts & Photography, Performing Arts, Engineering & Transportation, and Children's Books. Based on this, we can assume that the user has a diverse range of interests.\n",
      "\n",
      "Step 2: Identify relevant CDs based on categories and brands\n",
      "We will consider the categories and brands of the CDs to find the most relevant ones for the user.\n",
      "\n",
      "- CD 1: Pink Floyd In Concert: Delicate Sound Of Thunder VHS\n",
      "    Categories: Rock, Progressive, Progressive Rock\n",
      "    Brand: Pink Floyd\n",
      "\n",
      "- CD 2: Transformed Man\n",
      "    Categories: Comedy & Spoken Word, Spoken Word\n",
      "    Brand: William Shatner\n",
      "\n",
      "- CD 3: Special Bulletin TV-Movie VHS\n",
      "    Categories: Special Interest, Instructional\n",
      "    Brand: Ed Flanders\n",
      "\n",
      "- CD 4: Tony Bennett - MTV Unplugged: The Video\n",
      "    Categories: Pop, Oldies, Traditional Pop\n",
      "\n",
      "- CD 5: Kathleen Battle: A Christmas Celebration\n",
      "    Categories: Opera & Classical Vocal, Vocal Non-Opera, Hymns\n",
      "    Brand: Kathleen Battle\n",
      "\n",
      "- CD 6: Christmas With Kiri Te Kanawa: Carols from Coventry Cathedral\n",
      "    Categories: Opera & Classical Vocal, Vocal Non-Opera, Hymns\n",
      "    Brand: Kiri Te Kanawa\n",
      "\n",
      "- CD 7: Ozzy Osbourne - Live & Loud\n",
      "    Categories: World Music, Europe, British Isles, Britain\n",
      "\n",
      "- CD 8: Introduction to Ballroom Dancing VHS\n",
      "    Categories: Special Interest, Instructional\n",
      "    Brand: Margot Scholz\n",
      "\n",
      "- CD 9: Comatose\n",
      "    Categories: Christian\n",
      "    Brand: Skillet\n",
      "\n",
      "- CD 10: Now Is the Caroling Season\n",
      "    Categories: Jazz, Swing Jazz, Classic Big Band\n",
      "    Brand: Fred Waring\n",
      "\n",
      "Step 3: Select the most relevant CDs based on the user's preferences\n",
      "Based on the user's preferences for books, we can prioritize CDs that align with those interests. We will also consider the brands of the CDs.\n",
      "\n",
      "The most relevant CDs for the user could be:\n",
      "1. Pink Floyd In Concert: Delicate Sound Of Thunder VHS - This CD aligns with the user's interest in rock music and has a brand that the user might be familiar with.\n",
      "2. Kathleen Battle: A Christmas Celebration - This CD aligns with the user's interest in vocal music and hymns, and has a brand that the user might be familiar with.\n",
      "3. Christmas With Kiri Te Kanawa: Carols from Coventry Cathedral - This CD aligns with the user's interest in vocal music and hymns, and has a brand that the user might be familiar with.\n",
      "\n",
      "Therefore, I recommend you the following CDs: [6301334175, B000002ROL, B000000SRO] ordered by relevance.\n",
      "\n"
     ]
    }
   ],
   "source": [
    "print(GPT_ANSWERS[2])"
   ]
  },
  {
   "cell_type": "markdown",
   "metadata": {},
   "source": [
    "# **We could utilize the suggestion's position in the list to indicate that the user should give greater consideration to the first element compared to the others.**"
   ]
  }
 ],
 "metadata": {
  "kernelspec": {
   "display_name": "Python 3",
   "language": "python",
   "name": "python3"
  },
  "language_info": {
   "codemirror_mode": {
    "name": "ipython",
    "version": 3
   },
   "file_extension": ".py",
   "mimetype": "text/x-python",
   "name": "python",
   "nbconvert_exporter": "python",
   "pygments_lexer": "ipython3",
   "version": "3.12.0"
  }
 },
 "nbformat": 4,
 "nbformat_minor": 2
}
