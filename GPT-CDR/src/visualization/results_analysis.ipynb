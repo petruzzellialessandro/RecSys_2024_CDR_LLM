{
 "cells": [
  {
   "cell_type": "markdown",
   "metadata": {},
   "source": [
    "# **Results analysis**"
   ]
  },
  {
   "cell_type": "markdown",
   "metadata": {},
   "source": [
    "## Utilities"
   ]
  },
  {
   "cell_type": "markdown",
   "metadata": {},
   "source": [
    "### Dependencies"
   ]
  },
  {
   "cell_type": "code",
   "execution_count": 1,
   "metadata": {},
   "outputs": [],
   "source": [
    "import pandas as pd\n",
    "import os\n",
    "import random\n",
    "import numpy as np\n",
    "import plotly.express as px\n",
    "import plotly.graph_objects as go"
   ]
  },
  {
   "cell_type": "markdown",
   "metadata": {},
   "source": [
    "### Constants"
   ]
  },
  {
   "cell_type": "code",
   "execution_count": 2,
   "metadata": {},
   "outputs": [],
   "source": [
    "def get_root_dir_path(curr_working_dir, no_folders_above):\n",
    "    dir_path = curr_working_dir\n",
    "    for _ in range(no_folders_above):\n",
    "        dir_path = os.path.dirname(dir_path)\n",
    "    return dir_path"
   ]
  },
  {
   "cell_type": "code",
   "execution_count": 3,
   "metadata": {},
   "outputs": [],
   "source": [
    "ROOT_DIR = get_root_dir_path(os.getcwd(), 2)"
   ]
  },
  {
   "cell_type": "code",
   "execution_count": 4,
   "metadata": {},
   "outputs": [],
   "source": [
    "# ----------\n",
    "# Data paths\n",
    "# ----------\n",
    "\n",
    "DATA_DIR = ROOT_DIR + \"/data/processed/\"\n",
    "EXTRA_DATA_DIR = ROOT_DIR + \"/data/processed/extra_cut/\"\n",
    "\n",
    "BOOKS2_5_DIR = DATA_DIR + \"Books2_5/\"\n",
    "BOOKS3_5_DIR = DATA_DIR + \"Books3_5/\"\n",
    "EXTRA_BOOKS_DIR = EXTRA_DATA_DIR + \"Books/\"\n",
    "\n",
    "CDS2_5_DIR = DATA_DIR + \"CDs2_5/\"\n",
    "CDS3_5_DIR = DATA_DIR + \"CDs3_5/\"\n",
    "EXTRA_CDS_DIR = EXTRA_DATA_DIR + \"CDs/\"\n",
    "\n",
    "MOVIES2_5_DIR = DATA_DIR + \"Movies2_5/\"\n",
    "MOVIES3_5_DIR = DATA_DIR + \"Movies3_5/\"\n",
    "EXTRA_MOVIES_DIR = EXTRA_DATA_DIR + \"Movies/\""
   ]
  },
  {
   "cell_type": "code",
   "execution_count": 5,
   "metadata": {},
   "outputs": [],
   "source": [
    "# ----------------\n",
    "# Tested scenarios\n",
    "# ----------------\n",
    "TEST_CASES = [                                                                       \n",
    "    \"books35_cds510\", \"books35_movies510\",\n",
    "    \"books35_movies810\", \"books35_cds810\",\n",
    "\n",
    "    \"cds35_books510\", \"cds35_movies510\",\n",
    "    \"cds35_books810\", \"cds35_movies810\",\n",
    "\n",
    "    \"movies35_books510\", \"movies35_cds510\",\n",
    "    \"movies35_books810\", \"movies35_cds810\",\n",
    "]\n",
    "\n",
    "TEST_CASES_DICT = {\n",
    "    \"books25_movies510\": [BOOKS2_5_DIR + \"books_2_5__1\", BOOKS2_5_DIR + \"movies_5_10\"], \n",
    "    \"books25_movies610\": [BOOKS2_5_DIR + \"books_2_5__2\", BOOKS2_5_DIR + \"movies_6_10\"],  \n",
    "\n",
    "    \"books35_cds510\": [BOOKS3_5_DIR + \"books_3_5__1\", BOOKS3_5_DIR + \"cds_5_10\"], \n",
    "    \"books35_movies510\": [BOOKS3_5_DIR + \"books_3_5__2\", BOOKS3_5_DIR + \"movies_5_10\"], \n",
    "    \"books35_movies610\": [BOOKS3_5_DIR + \"books_3_5__3\", BOOKS3_5_DIR + \"movies_6_10\"], \n",
    "    \"books35_movies810\": [EXTRA_BOOKS_DIR + \"books_3_5__6\", EXTRA_BOOKS_DIR + \"movies_8_10\"], \n",
    "    \"books35_cds810\": [EXTRA_BOOKS_DIR + \"books_3_5__4\", EXTRA_BOOKS_DIR + \"cds_8_10\"], \n",
    "\n",
    "    \"cds25_books510\": [CDS2_5_DIR + \"cds_2_5__1\", CDS2_5_DIR + \"books5_10\"], \n",
    "    \"cds25_books610\": [CDS2_5_DIR + \"cds_2_5__2\", CDS2_5_DIR + \"books6_10\"], \n",
    "    \"cds25_movies510\": [CDS2_5_DIR + \"cds_2_5__3\", CDS2_5_DIR + \"movies_5_10\"], \n",
    "    \"cds25_movies610\": [CDS2_5_DIR + \"cds_2_5__4\", CDS2_5_DIR + \"movies_6_10\"], \n",
    "\n",
    "    \"cds35_books510\": [CDS3_5_DIR + \"cds_3_5__1\", CDS3_5_DIR + \"books5_10\"], \n",
    "    \"cds35_books610\": [CDS3_5_DIR + \"cds_3_5__2\", CDS3_5_DIR + \"books6_10\"], \n",
    "    \"cds35_movies510\": [CDS3_5_DIR + \"cds_3_5__3\", CDS3_5_DIR + \"movies_5_10\"], \n",
    "    \"cds35_movies610\": [CDS3_5_DIR + \"cds_3_5__4\", CDS3_5_DIR + \"movies_6_10\"],\n",
    "    \"cds35_books810\": [EXTRA_CDS_DIR + \"cds_3_5__5\", EXTRA_CDS_DIR + \"books_8_10\"], \n",
    "    \"cds35_movies810\": [EXTRA_CDS_DIR + \"cds_3_5__7\", EXTRA_CDS_DIR + \"movies_8_10\"], \n",
    "\n",
    "    \"movies25_books510\": [MOVIES2_5_DIR + \"movies_2_5__1\", MOVIES2_5_DIR + \"books5_10\"], \n",
    "    \"movies25_books610\": [MOVIES2_5_DIR + \"movies_2_5__2\", MOVIES2_5_DIR + \"books6_10\"], \n",
    "    \"movies25_cds510\": [MOVIES2_5_DIR + \"movies_2_5__3\", MOVIES2_5_DIR + \"cds_5_10\"], \n",
    "    \"movies25_cds610\": [MOVIES2_5_DIR + \"movies_2_5__4\", MOVIES2_5_DIR + \"cds_6_10\"], \n",
    "\n",
    "    \"movies35_books510\": [MOVIES3_5_DIR + \"movies_3_5__1\", MOVIES3_5_DIR + \"books5_10\"], \n",
    "    \"movies35_books610\": [MOVIES3_5_DIR + \"movies_3_5__2\", MOVIES3_5_DIR + \"books6_10\"], \n",
    "    \"movies35_cds510\": [MOVIES3_5_DIR + \"movies_3_5__3\", MOVIES3_5_DIR + \"cds_5_10\"], \n",
    "    \"movies35_cds610\": [MOVIES3_5_DIR + \"movies_3_5__4\", MOVIES3_5_DIR + \"cds_6_10\"],\n",
    "    \"movies35_books810\": [EXTRA_MOVIES_DIR + \"movies_3_5__5\", EXTRA_MOVIES_DIR + \"books_8_10\"], \n",
    "    \"movies35_cds810\": [EXTRA_MOVIES_DIR + \"movies_3_5__7\", EXTRA_MOVIES_DIR + \"cds_8_10\"], \n",
    "}"
   ]
  },
  {
   "cell_type": "code",
   "execution_count": 6,
   "metadata": {},
   "outputs": [],
   "source": [
    "COLUMNS_TYPES =  {\n",
    "        'user_id': 'string',\n",
    "        'item_id': 'string',\n",
    "        'rating': 'string',\n",
    "        'timestamp': 'string',\n",
    "        'title': 'string',\n",
    "        'brand': 'string',\n",
    "        'category': 'string'\n",
    "    }"
   ]
  },
  {
   "cell_type": "code",
   "execution_count": 7,
   "metadata": {},
   "outputs": [],
   "source": [
    "LIKED_THRESHOLD = 4"
   ]
  },
  {
   "cell_type": "code",
   "execution_count": 8,
   "metadata": {},
   "outputs": [],
   "source": [
    "# -------------------\n",
    "# Path to predictions\n",
    "# -------------------\n",
    "PREDICTIONS_DIR = ROOT_DIR + \"/models/predictions/\"\n",
    "\n",
    "BOOKS_35_CDS_510_0S = PREDICTIONS_DIR + \"/books35_cds510/books35_cds510_GPT_0s.pkl\"\n",
    "BOOKS_35_CDS_510_1S = PREDICTIONS_DIR + \"/books35_cds510/books35_cds510_GPT_1s.pkl\"\n",
    "BOOKS_35_CDS_810_0S = PREDICTIONS_DIR + \"/cut_8_10/books35_cds810/books35_cds810_0s.pkl\"\n",
    "BOOKS_35_CDS_810_1S = PREDICTIONS_DIR + \"/cut_8_10/books35_cds810/books35_cds810_1s.pkl\"\n",
    "\n",
    "BOOKS_35_MOVIES_510_0S = PREDICTIONS_DIR + \"/books35_movies510/books35_movies510_GPT_0s.pkl\"\n",
    "BOOKS_35_MOVIES_510_1S = PREDICTIONS_DIR + \"/books35_movies510/books35_movies510_GPT_1s.pkl\"\n",
    "BOOKS_35_MOVIES_810_0S = PREDICTIONS_DIR + \"/cut_8_10/books35_movies810/books35_movies810_0s.pkl\"\n",
    "BOOKS_35_MOVIES_810_1S = PREDICTIONS_DIR + \"/cut_8_10/books35_movies810/books35_movies810_1s.pkl\"\n",
    "\n",
    "CDS_35_BOOKS_510_0S = PREDICTIONS_DIR + \"/cds35_books510/cds35_books510_GPT_0s.pkl\"\n",
    "CDS_35_BOOKS_510_1S = PREDICTIONS_DIR + \"/cds35_books510/cds35_books510_GPT_1s.pkl\"\n",
    "CDS_35_BOOKS_810_0S = PREDICTIONS_DIR + \"/cut_8_10/cds35_books810/cds35_books810_0s.pkl\"\n",
    "CDS_35_BOOKS_810_1S = PREDICTIONS_DIR + \"/cut_8_10/cds35_books810/cds35_books810_1s.pkl\"\n",
    "\n",
    "CDS_35_MOVIES_510_0S = PREDICTIONS_DIR + \"/cds35_movies510/cds35_movies510_GPT_0s.pkl\"\n",
    "CDS_35_MOVIES_510_1S = PREDICTIONS_DIR + \"/cds35_movies510/cds35_movies510_GPT_1s.pkl\"\n",
    "CDS_35_MOVIES_810_0S = PREDICTIONS_DIR + \"/cut_8_10/cds35_movies810/cds35_movies810_0s.pkl\"\n",
    "CDS_35_MOVIES_810_1S = PREDICTIONS_DIR + \"/cut_8_10/cds35_movies810/cds35_movies810_1s.pkl\"\n",
    "\n",
    "MOVIES_35_BOOKS_510_0S = PREDICTIONS_DIR + \"/movies35_books510/movies35_books510_GPT_0s.pkl\"\n",
    "MOVIES_35_BOOKS_510_1S = PREDICTIONS_DIR + \"/movies35_books510/movies35_books510_GPT_1s.pkl\"\n",
    "MOVIES_35_BOOKS_810_0S = PREDICTIONS_DIR + \"/cut_8_10/movies35_books810/movies35_books810_0s.pkl\"\n",
    "MOVIES_35_BOOKS_810_1S = PREDICTIONS_DIR + \"/cut_8_10/movies35_books810/movies35_books810_1s.pkl\"\n",
    "\n",
    "MOVIES_35_CDS_510_0S = PREDICTIONS_DIR + \"/movies35_cds510/movies35_cds510_GPT_0s.pkl\"\n",
    "MOVIES_35_CDS_510_1S = PREDICTIONS_DIR + \"/movies35_cds510/movies35_cds510_GPT_1s.pkl\"\n",
    "MOVIES_35_CDS_810_0S = PREDICTIONS_DIR + \"/cut_8_10/movies35_cds810/movies35_cds810_0s.pkl\"\n",
    "MOVIES_35_CDS_810_1S = PREDICTIONS_DIR + \"/cut_8_10/movies35_cds810/movies35_cds810_1s.pkl\""
   ]
  },
  {
   "cell_type": "code",
   "execution_count": 9,
   "metadata": {},
   "outputs": [],
   "source": [
    "SKIP_KEYS = ['Mean', 'Max', 'Min']"
   ]
  },
  {
   "cell_type": "markdown",
   "metadata": {},
   "source": [
    "### Methods"
   ]
  },
  {
   "cell_type": "code",
   "execution_count": 10,
   "metadata": {},
   "outputs": [],
   "source": [
    "def data_loader(data_paths):\n",
    "    \"\"\"\n",
    "        Method to load datasets given their paths\n",
    "    \"\"\"\n",
    "    liked_items_data = pd.read_csv(data_paths[0] + \".csv\", dtype=COLUMNS_TYPES)\n",
    "    candidate_items_data = pd.read_csv(data_paths[1] + \".csv\", dtype=COLUMNS_TYPES)\n",
    "    print(\"Datasets loaded!\")\n",
    "    return liked_items_data, candidate_items_data"
   ]
  },
  {
   "cell_type": "code",
   "execution_count": 11,
   "metadata": {},
   "outputs": [],
   "source": [
    "def split_items_for_user(items):\n",
    "    \"\"\"\n",
    "        Splits the items for a user into liked and disliked items.\n",
    "    \"\"\"\n",
    "    liked_items = items[items[\"rating\"].astype(int) > LIKED_THRESHOLD]\n",
    "    disliked_items = items[items[\"rating\"].astype(int) <= LIKED_THRESHOLD]\n",
    "\n",
    "    return liked_items, disliked_items"
   ]
  },
  {
   "cell_type": "code",
   "execution_count": 12,
   "metadata": {},
   "outputs": [],
   "source": [
    "def count_users_with_empty_splits(data):\n",
    "    \"\"\"\n",
    "        Counts users with empty liked_items and empty disliked_items.\n",
    "\n",
    "        Parameters:\n",
    "        - data: DataFrame with user-item ratings.\n",
    "\n",
    "        Returns:\n",
    "        - count_empty_liked: Number of users with empty liked_items.\n",
    "        - count_empty_disliked: Number of users with empty disliked_items.\n",
    "    \"\"\"\n",
    "    count_only_liked = 0\n",
    "    only_liked_users = []\n",
    "\n",
    "    count_only_disliked = 0\n",
    "    only_disliked_users = []\n",
    "\n",
    "    # Group data by user_id\n",
    "    grouped_data = data.groupby('user_id')\n",
    "\n",
    "    for user_id, group in grouped_data:\n",
    "        liked_items, disliked_items = split_items_for_user(group)\n",
    "\n",
    "        if liked_items.empty:\n",
    "            count_only_disliked += 1\n",
    "            only_disliked_users.append(user_id)\n",
    "\n",
    "        if disliked_items.empty:\n",
    "            count_only_liked += 1\n",
    "            only_liked_users.append(user_id)\n",
    "\n",
    "    return count_only_disliked, only_disliked_users, count_only_liked, only_liked_users"
   ]
  },
  {
   "cell_type": "code",
   "execution_count": 13,
   "metadata": {},
   "outputs": [],
   "source": [
    "def count_words(sentence):\n",
    "  \"\"\"\n",
    "    Counts the number of words in a sentence.\n",
    "  \"\"\"\n",
    "  splitted = sentence.split(\" \")\n",
    "\n",
    "  return len(splitted)"
   ]
  },
  {
   "cell_type": "code",
   "execution_count": 14,
   "metadata": {},
   "outputs": [],
   "source": [
    "def plot_length_distribution(df, name, color):\n",
    "    \"\"\"\n",
    "        Plots the distribution of the length of the reviews.\n",
    "    \"\"\"\n",
    "    train_lens = [count_words(sentence) for sentence in df['Explanation']]\n",
    "\n",
    "    mean_train_len = np.mean(train_lens)\n",
    "    max_train_len = max(train_lens)\n",
    "    min_train_len = min(train_lens)\n",
    "\n",
    "    fig = px.histogram(train_lens,\n",
    "                    labels={'value': 'Length', 'count': 'Frequency'},\n",
    "                    title=f'Length Distribution - {name} [Mean: {int(mean_train_len)} - Max: {max_train_len} - Min: {min_train_len}]',\n",
    "                    color_discrete_sequence=[color])\n",
    "\n",
    "    fig.update_layout(xaxis_title='Length', yaxis_title='Frequency')\n",
    "\n",
    "    fig.show()"
   ]
  },
  {
   "cell_type": "code",
   "execution_count": 15,
   "metadata": {},
   "outputs": [],
   "source": [
    "def plot_length_distribution_comparison(df_0s, df_1s, name):\n",
    "    \"\"\"\n",
    "        Plots the distribution of the length of the reviews for zero and one shot predictions.\n",
    "    \"\"\"\n",
    "    lens_0s = [count_words(sentence) for sentence in df_0s['Explanation']]\n",
    "    lens_1s = [count_words(sentence) for sentence in df_1s['Explanation']]\n",
    "\n",
    "    fig = go.Figure()\n",
    "\n",
    "    fig.add_trace(go.Histogram(x=lens_0s, name=\"Zero-Shot\", marker_color=\"#28A08C\"))\n",
    "    fig.add_trace(go.Histogram(x=lens_1s, name=\"One-Shot\", marker_color=\"#01DB8C\"))\n",
    "\n",
    "    fig.update_layout(\n",
    "        title=f\"{name} - Explanation length distribution\",\n",
    "        xaxis_title=\"Length\",\n",
    "        yaxis_title=\"Frequency\"\n",
    "    )\n",
    "\n",
    "    fig.show()"
   ]
  },
  {
   "cell_type": "code",
   "execution_count": 16,
   "metadata": {},
   "outputs": [],
   "source": [
    "def compute_statistics_explanations(df):\n",
    "    \"\"\"\n",
    "        Computes statistics for the explanations.\n",
    "    \"\"\"\n",
    "    lens = [count_words(sentence) for sentence in df['Explanation']]\n",
    "\n",
    "    mean_len = np.mean(lens)\n",
    "    max_len = max(lens)\n",
    "    min_len = min(lens)\n",
    "\n",
    "    # Filter explanations based on criteria\n",
    "    one_word_explanations = [explanation for explanation in df['Explanation'] if count_words(explanation) == 1]\n",
    "    short_explanations = [explanation for explanation in df['Explanation'] if count_words(explanation) < 5]\n",
    "    below_mean_explanations = [explanation for explanation in df['Explanation'] if count_words(explanation) < mean_len]\n",
    "    range_10_20_explanations = [explanation for explanation in df['Explanation'] if 10 <= count_words(explanation) <= 20]\n",
    "    above_mean_explanations = [explanation for explanation in df['Explanation'] if count_words(explanation) >= mean_len]\n",
    "    range_max_explanations = [explanation for explanation in df['Explanation'] if max_len-20 <= count_words(explanation) <= max_len]\n",
    "\n",
    "\n",
    "    return {\n",
    "        'Mean': mean_len,\n",
    "        'Max': max_len,\n",
    "        'Min': min_len,\n",
    "        'One_word': len(one_word_explanations),\n",
    "        'Short': len(short_explanations),\n",
    "        'Below_mean': len(below_mean_explanations),\n",
    "        'Range_10_20': len(range_10_20_explanations),\n",
    "        'Above_mean': len(above_mean_explanations),\n",
    "        'Range_max': len(range_max_explanations),\n",
    "    }"
   ]
  },
  {
   "cell_type": "code",
   "execution_count": 17,
   "metadata": {},
   "outputs": [],
   "source": [
    "def plot_statistics_comparison(stats_0s, stats_1s, name, skip_keys=[]):\n",
    "    \"\"\"\n",
    "        Plots statistics comparison between zero and one shot predictions.\n",
    "    \"\"\"\n",
    "    # Filter keys to skip\n",
    "    stats_0s_filtered = {key: value for key, value in stats_0s.items() if key not in skip_keys}\n",
    "    stats_1s_filtered = {key: value for key, value in stats_1s.items() if key not in skip_keys}\n",
    "\n",
    "    # Convert data to DataFrames\n",
    "    df_0s = pd.DataFrame(stats_0s_filtered.items(), columns=['Column', 'Value'])\n",
    "    df_1s = pd.DataFrame(stats_1s_filtered.items(), columns=['Column', 'Value'])\n",
    "\n",
    "    fig = go.Figure()\n",
    "\n",
    "    fig.add_trace(go.Bar(x=df_0s['Column'], y=df_0s['Value'], name=\"Zero-Shot\", marker_color=\"#28A08C\"))\n",
    "    fig.add_trace(go.Bar(x=df_1s['Column'], y=df_1s['Value'], name=\"One-Shot\", marker_color=\"#01DB8C\"))\n",
    "\n",
    "    fig.update_layout(title=f'{name} - Statistics comparison')\n",
    "    fig.show()"
   ]
  },
  {
   "cell_type": "code",
   "execution_count": 18,
   "metadata": {},
   "outputs": [],
   "source": [
    "def compare_statistics(stats_0s, stats_1s):\n",
    "    \"\"\"\n",
    "        Compare statistics between zero and one shot predictions.\n",
    "    \"\"\"\n",
    "    keys = set(stats_0s.keys()).union(stats_1s.keys())\n",
    "\n",
    "    data = {\"Property\": [], \"Zero-shot\": [], \"One-shot\": [], \"Shift\": []}\n",
    "\n",
    "    for key in keys:\n",
    "        value_0s = stats_0s.get(key, None)\n",
    "        value_1s = stats_1s.get(key, None)\n",
    "\n",
    "        data[\"Property\"].append(key)\n",
    "        data[\"Zero-shot\"].append(int(value_0s) if (value_0s is not None) else None)\n",
    "        data[\"One-shot\"].append(int(value_1s) if (value_1s is not None) else None)\n",
    "        data[\"Shift\"].append(int(value_1s - value_0s) if (value_0s is not None and value_1s is not None) else None)\n",
    "\n",
    "    df = pd.DataFrame(data)\n",
    "\n",
    "    return df"
   ]
  },
  {
   "cell_type": "code",
   "execution_count": 19,
   "metadata": {},
   "outputs": [],
   "source": [
    "def get_sample_explanations(explanations):\n",
    "    \"\"\"\n",
    "        Gets a sample of explanations based on their length.\n",
    "    \"\"\"\n",
    "    # Calculate mean and max lengths\n",
    "    mean_length = np.mean([count_words(explanation) for explanation in explanations])\n",
    "    max_length = np.max([count_words(explanation) for explanation in explanations])\n",
    "\n",
    "    # Filter explanations based on criteria\n",
    "    one_word_explanations = [explanation for explanation in explanations if count_words(explanation) == 1]\n",
    "    short_explanations = [explanation for explanation in explanations if count_words(explanation) < 5]\n",
    "    below_mean_explanations = [explanation for explanation in explanations if count_words(explanation) < mean_length]\n",
    "    range_10_20_explanations = [explanation for explanation in explanations if 10 <= count_words(explanation) <= 20]\n",
    "    above_mean_explanations = [explanation for explanation in explanations if count_words(explanation) >= mean_length]\n",
    "    range_max_explanations = [explanation for explanation in explanations if max_length-20 <= count_words(explanation) <= max_length]\n",
    "\n",
    "    # Sample from the filtered explanations\n",
    "    sample_below_mean = np.random.choice(below_mean_explanations, size=min(5, len(below_mean_explanations)), replace=False)\n",
    "    sample_10_20 = np.random.choice(range_10_20_explanations, size=min(5, len(range_10_20_explanations)), replace=False)\n",
    "    sample_above_mean = np.random.choice(above_mean_explanations, size=min(5, len(above_mean_explanations)), replace=False)\n",
    "    sample_range_max = np.random.choice(range_max_explanations, size=min(5, len(range_max_explanations)), replace=False)\n",
    "\n",
    "    return {\n",
    "        'one_word': one_word_explanations,\n",
    "        'short': short_explanations,\n",
    "        'count_below_mean': len(below_mean_explanations),\n",
    "        'sample_below_mean': sample_below_mean,\n",
    "        'count_10_20': len(range_10_20_explanations),\n",
    "        'sample_10_20': sample_10_20,\n",
    "        'count_above_mean': len(above_mean_explanations),\n",
    "        'sample_above_mean': sample_above_mean,\n",
    "        'count_range_max': len(range_max_explanations),\n",
    "        'sample_range_max': sample_range_max\n",
    "    }"
   ]
  },
  {
   "cell_type": "markdown",
   "metadata": {},
   "source": [
    "## Unbalanced users' preferences in base domains"
   ]
  },
  {
   "cell_type": "markdown",
   "metadata": {},
   "source": [
    "Here is an exploratory analysis on the number of users who have either liked or disliked items exclusively within all the base domains used in our experiments."
   ]
  },
  {
   "cell_type": "code",
   "execution_count": 20,
   "metadata": {},
   "outputs": [
    {
     "name": "stdout",
     "output_type": "stream",
     "text": [
      "\n",
      "-------------------------------------------------\n",
      "The selected test case is: books35_cds510!\n",
      "Datasets loaded!\n",
      "Users with only liked items: 195\n",
      "Users with only disliked items: 62\n",
      "-------------------------------------------------\n",
      "\n",
      "\n",
      "-------------------------------------------------\n",
      "The selected test case is: books35_movies510!\n",
      "Datasets loaded!\n",
      "Users with only liked items: 182\n",
      "Users with only disliked items: 50\n",
      "-------------------------------------------------\n",
      "\n",
      "\n",
      "-------------------------------------------------\n",
      "The selected test case is: books35_movies810!\n",
      "Datasets loaded!\n",
      "Users with only liked items: 69\n",
      "Users with only disliked items: 19\n",
      "-------------------------------------------------\n",
      "\n",
      "\n",
      "-------------------------------------------------\n",
      "The selected test case is: books35_cds810!\n",
      "Datasets loaded!\n",
      "Users with only liked items: 66\n",
      "Users with only disliked items: 19\n",
      "-------------------------------------------------\n",
      "\n",
      "\n",
      "-------------------------------------------------\n",
      "The selected test case is: cds35_books510!\n",
      "Datasets loaded!\n",
      "Users with only liked items: 460\n",
      "Users with only disliked items: 65\n",
      "-------------------------------------------------\n",
      "\n",
      "\n",
      "-------------------------------------------------\n",
      "The selected test case is: cds35_movies510!\n",
      "Datasets loaded!\n",
      "Users with only liked items: 407\n",
      "Users with only disliked items: 63\n",
      "-------------------------------------------------\n",
      "\n",
      "\n",
      "-------------------------------------------------\n",
      "The selected test case is: cds35_books810!\n",
      "Datasets loaded!\n",
      "Users with only liked items: 155\n",
      "Users with only disliked items: 24\n",
      "-------------------------------------------------\n",
      "\n",
      "\n",
      "-------------------------------------------------\n",
      "The selected test case is: cds35_movies810!\n",
      "Datasets loaded!\n",
      "Users with only liked items: 141\n",
      "Users with only disliked items: 21\n",
      "-------------------------------------------------\n",
      "\n",
      "\n",
      "-------------------------------------------------\n",
      "The selected test case is: movies35_books510!\n",
      "Datasets loaded!\n",
      "Users with only liked items: 302\n",
      "Users with only disliked items: 120\n",
      "-------------------------------------------------\n",
      "\n",
      "\n",
      "-------------------------------------------------\n",
      "The selected test case is: movies35_cds510!\n",
      "Datasets loaded!\n",
      "Users with only liked items: 320\n",
      "Users with only disliked items: 102\n",
      "-------------------------------------------------\n",
      "\n",
      "\n",
      "-------------------------------------------------\n",
      "The selected test case is: movies35_books810!\n",
      "Datasets loaded!\n",
      "Users with only liked items: 129\n",
      "Users with only disliked items: 43\n",
      "-------------------------------------------------\n",
      "\n",
      "\n",
      "-------------------------------------------------\n",
      "The selected test case is: movies35_cds810!\n",
      "Datasets loaded!\n",
      "Users with only liked items: 96\n",
      "Users with only disliked items: 32\n",
      "-------------------------------------------------\n",
      "\n"
     ]
    }
   ],
   "source": [
    "results_dict = {}\n",
    "\n",
    "for scenario in TEST_CASES:\n",
    "    print(\"\\n-------------------------------------------------\")\n",
    "    print(f\"The selected test case is: {scenario}!\")\n",
    "\n",
    "    data_paths_to_load = TEST_CASES_DICT.get(scenario)\n",
    "    base_domain, _ = data_loader(data_paths_to_load)\n",
    "\n",
    "    count_only_disliked, only_disliked_users, count_only_liked, only_liked_users = count_users_with_empty_splits(base_domain)\n",
    "    \n",
    "    results_dict[scenario] = {\n",
    "        'count_only_disliked': count_only_disliked,\n",
    "        'only_disliked_users': only_disliked_users,\n",
    "        'count_only_liked': count_only_liked,\n",
    "        'only_liked_users': only_liked_users\n",
    "    }\n",
    "    \n",
    "    print(f\"Users with only liked items: {count_only_liked}\")\n",
    "    print(f\"Users with only disliked items: {count_only_disliked}\")\n",
    "    print(\"-------------------------------------------------\\n\")"
   ]
  },
  {
   "cell_type": "markdown",
   "metadata": {},
   "source": [
    "Let's determine which are the scenarios mostly affected by this characteristic."
   ]
  },
  {
   "cell_type": "code",
   "execution_count": 21,
   "metadata": {},
   "outputs": [
    {
     "name": "stdout",
     "output_type": "stream",
     "text": [
      "The scenario with the maximum count_only_liked is: cds35_books510 with 460 users with only liked items\n",
      "The scenario with the maximum count_only_disliked is: movies35_books510 with 120 users with only liked items\n"
     ]
    }
   ],
   "source": [
    "max_liked_scenario = max(results_dict.items(), key=lambda x: x[1]['count_only_liked'])\n",
    "max_disliked_scenario = max(results_dict.items(), key=lambda x: x[1]['count_only_disliked'])\n",
    "\n",
    "print(f\"The scenario with the maximum count_only_liked is: {max_liked_scenario[0]} with {max_liked_scenario[1]['count_only_liked']} users with only liked items\")\n",
    "print(f\"The scenario with the maximum count_only_disliked is: {max_disliked_scenario[0]} with {max_disliked_scenario[1]['count_only_disliked']} users with only liked items\")"
   ]
  },
  {
   "cell_type": "markdown",
   "metadata": {},
   "source": [
    "In cases where capturing detailed user preferences is challenging, it's interesting to look at the explanations GPT gives during the recommendation step. \n",
    "\n",
    "This analysis aims to assess how GPT uses knowledge to overcome this issue, if at all.\n",
    "We'll also compare how, for the same user, the given explanation varies according to the adopted prompting technique."
   ]
  },
  {
   "cell_type": "code",
   "execution_count": 22,
   "metadata": {},
   "outputs": [],
   "source": [
    "# ------------------------\n",
    "# Books - Read predictions\n",
    "# ------------------------\n",
    "books_35_cds_510_0s_preds = pd.read_pickle(BOOKS_35_CDS_510_0S)\n",
    "books_35_cds_510_1s_preds = pd.read_pickle(BOOKS_35_CDS_510_1S)\n",
    "books_35_cds_810_0s_preds = pd.read_pickle(BOOKS_35_CDS_810_0S)\n",
    "books_35_cds_810_1s_preds = pd.read_pickle(BOOKS_35_CDS_810_1S)\n",
    "\n",
    "books_35_movies_510_0s_preds = pd.read_pickle(BOOKS_35_MOVIES_510_0S)\n",
    "books_35_movies_510_1s_preds = pd.read_pickle(BOOKS_35_MOVIES_510_1S)\n",
    "books_35_movies_810_0s_preds = pd.read_pickle(BOOKS_35_MOVIES_810_0S)\n",
    "books_35_movies_810_1s_preds = pd.read_pickle(BOOKS_35_MOVIES_810_1S)"
   ]
  },
  {
   "cell_type": "code",
   "execution_count": 23,
   "metadata": {},
   "outputs": [],
   "source": [
    "# ----------------------\n",
    "# CDs - Read predictions\n",
    "# ----------------------\n",
    "cds_35_books_510_0s_preds = pd.read_pickle(CDS_35_BOOKS_510_0S)\n",
    "cds_35_books_510_1s_preds = pd.read_pickle(CDS_35_BOOKS_510_1S)\n",
    "cds_35_books_810_0s_preds = pd.read_pickle(CDS_35_BOOKS_810_0S)\n",
    "cds_35_books_810_1s_preds = pd.read_pickle(CDS_35_BOOKS_810_1S)\n",
    "\n",
    "cds_35_movies_510_0s_preds = pd.read_pickle(CDS_35_MOVIES_510_0S)\n",
    "cds_35_movies_510_1s_preds = pd.read_pickle(CDS_35_MOVIES_510_1S)\n",
    "cds_35_movies_810_0s_preds = pd.read_pickle(CDS_35_MOVIES_810_0S)\n",
    "cds_35_movies_810_1s_preds = pd.read_pickle(CDS_35_MOVIES_810_1S)"
   ]
  },
  {
   "cell_type": "code",
   "execution_count": 24,
   "metadata": {},
   "outputs": [],
   "source": [
    "# -------------------------\n",
    "# Movies - Read predictions\n",
    "# -------------------------\n",
    "movies_35_books_510_0s_preds = pd.read_pickle(MOVIES_35_BOOKS_510_0S)\n",
    "movies_35_books_510_1s_preds = pd.read_pickle(MOVIES_35_BOOKS_510_1S)\n",
    "movies_35_books_810_0s_preds = pd.read_pickle(MOVIES_35_BOOKS_810_0S)\n",
    "movies_35_books_810_1s_preds = pd.read_pickle(MOVIES_35_BOOKS_810_1S)\n",
    "\n",
    "movies_35_cds_510_0s_preds = pd.read_pickle(MOVIES_35_CDS_510_0S)\n",
    "movies_35_cds_510_1s_preds = pd.read_pickle(MOVIES_35_CDS_510_1S)\n",
    "movies_35_cds_810_0s_preds = pd.read_pickle(MOVIES_35_CDS_810_0S)\n",
    "movies_35_cds_810_1s_preds = pd.read_pickle(MOVIES_35_CDS_810_1S)"
   ]
  },
  {
   "cell_type": "code",
   "execution_count": 25,
   "metadata": {},
   "outputs": [
    {
     "name": "stdout",
     "output_type": "stream",
     "text": [
      "Sample users' ids with only liked items: ['AZ14WYRAE0ZLT', 'A13V8R45OBN11B', 'A18PRAQOCXAJ43', 'A8PK56SFLXQ8B', 'A1K53QGOP7B8JL']\n",
      "Sample users' ids with only disliked items: ['A8CC95A35ET2C', 'AQJP15L6DMEQD', 'A136IQFGB01KQB', 'A21AMFQK5SGWTC', 'AOUL71VSSLB7J']\n"
     ]
    }
   ],
   "source": [
    "# -----------------\n",
    "# Pick random users\n",
    "# -----------------\n",
    "only_liked_sample_users = random.sample(max_liked_scenario[1]['only_liked_users'], 5)\n",
    "only_disliked_sample_users = random.sample(max_disliked_scenario[1]['only_disliked_users'], 5)\n",
    "\n",
    "print(f\"Sample users' ids with only liked items: {only_liked_sample_users}\")\n",
    "print(f\"Sample users' ids with only disliked items: {only_disliked_sample_users}\")"
   ]
  },
  {
   "cell_type": "markdown",
   "metadata": {},
   "source": [
    "We'll examine the scenario with most users that have only liked items, and then the scenario with most users that have only disliked items."
   ]
  },
  {
   "cell_type": "code",
   "execution_count": 26,
   "metadata": {},
   "outputs": [
    {
     "name": "stdout",
     "output_type": "stream",
     "text": [
      "\n",
      "-------------------------------------------------\n",
      "User id: AZ14WYRAE0ZLT\n",
      "Explanation 0s: \n",
      " Based on the user's liked CDs, which include Billie Holiday, Edwin Starr, and Professor Longhair, I recommend the following books:\n",
      "Explanation 1s: \n",
      " Based on your liked CDs, which include Billie Holiday and Edwin Starr, I have ranked the books that are most likely to align with your preferences. The top-ranked book, \"The Fabulous Furry Freak Brothers Omnibus\" by Gilbert Shelton, falls under the category of \"Comics & Graphic Novels,\" which may appeal to your interest in music-related content. The second-ranked book, \"The Dove of Death: A Mystery of Ancient Ireland\" by Peter Tremayne, is a mystery novel that may provide an engaging reading experience. The remaining books also cover a range of genres such as fiction, philosophy, and history, offering a diverse selection for you to explore.\n",
      "-------------------------------------------------\n",
      "\n",
      "\n",
      "-------------------------------------------------\n",
      "User id: A13V8R45OBN11B\n",
      "Explanation 0s: \n",
      " Based on the user's liked CDs, which include alternative rock, punk, classic rock, and country genres, I recommend the following books:\n",
      "Explanation 1s: \n",
      " Based on your liked CDs, which include alternative rock, classic rock, and country genres, I recommend books that cover a range of topics. \"On the Rez\" explores social sciences and Native American culture, \"Hemingway\" delves into literature and fiction history, \"Model Patient: My Life As An Incurable Wise-Ass\" is a memoir in the arts and literature category, \"Forced Entries: The Downtown Diaries: 1971-1973\" is a biographical account of the arts and literature scene, and \"Girl with a Pearl Earring\" is a thrilling mystery novel. These recommendations aim to provide a diverse reading experience that aligns with your musical preferences.\n",
      "-------------------------------------------------\n",
      "\n",
      "\n",
      "-------------------------------------------------\n",
      "User id: A18PRAQOCXAJ43\n",
      "Explanation 0s: \n",
      " Based on the user's liked CDs, which include classic rock, disco, and rockabilly genres, I recommend the following books:\n",
      "Explanation 1s: \n",
      " Based on your liked CDs, which include classic rock, psychedelic rock, disco, and rockabilly genres, I recommend the following books that align with your musical preferences:\n",
      "-------------------------------------------------\n",
      "\n",
      "\n",
      "-------------------------------------------------\n",
      "User id: A8PK56SFLXQ8B\n",
      "Explanation 0s: \n",
      " Based on the user's liked CDs, which are in the categories of 'Pop', 'Oldies', and 'Traditional Pop', I have recommended books that are in the categories of 'Literature & Fiction' and 'United States'. The top 5 recommended books are:\n",
      "Explanation 1s: \n",
      " Based on your liked CDs, which are in the genre of traditional pop and oldies, I have recommended books that are in the literature and fiction category. These books may have a similar nostalgic and classic feel to them, which aligns with your preference for traditional pop music. Additionally, the recommended books cover a range of topics such as romance, contemporary fiction, and pet care, providing a diverse selection for you to choose from.\n",
      "-------------------------------------------------\n",
      "\n",
      "\n",
      "-------------------------------------------------\n",
      "User id: A1K53QGOP7B8JL\n",
      "Explanation 0s: \n",
      " Based on the user's liked CDs, which are mainly in the categories of 'Alternative Rock' and 'Indie Rock', I have recommended books that are related to similar genres or themes.\n",
      "Explanation 1s: \n",
      " Based on your liked CDs, which are in the alternative rock and indie rock genres, I have ranked the books that are related to mystery, thrillers, and suspense. These books may appeal to you because they share similar themes of intrigue and suspense with the music genres you enjoyed. Additionally, the books cover a range of topics such as collectibles, cookbooks, and astrology, providing a diverse selection for your reading preferences.\n",
      "-------------------------------------------------\n",
      "\n"
     ]
    }
   ],
   "source": [
    "for user_id in only_liked_sample_users:\n",
    "    print(\"\\n-------------------------------------------------\")\n",
    "    print(f\"User id: {user_id}\")\n",
    "    explanation_0s = cds_35_books_510_0s_preds[cds_35_books_510_1s_preds['UserId'] == user_id]['Explanation'].values[0]\n",
    "    explanation_1s = cds_35_books_510_1s_preds[cds_35_books_510_1s_preds['UserId'] == user_id]['Explanation'].values[0]\n",
    "\n",
    "    print(f\"Explanation 0s: \\n {explanation_0s}\")\n",
    "    print(f\"Explanation 1s: \\n {explanation_1s}\")\n",
    "    print(\"-------------------------------------------------\\n\")"
   ]
  },
  {
   "cell_type": "code",
   "execution_count": 27,
   "metadata": {},
   "outputs": [
    {
     "name": "stdout",
     "output_type": "stream",
     "text": [
      "\n",
      "-------------------------------------------------\n",
      "User id: A8CC95A35ET2C\n",
      "Explanation 0s: \n",
      " Based on the user's liked movies, which are related to The Beatles and Paul McCartney, I recommend the following books:\n",
      "Explanation 1s: \n",
      " Based on your liked movies, which are related to music artists like The Beatles and Paul McCartney, I have ranked the books that are also related to music and biographies. The top-ranked book, \"Dark Horse: The Life And Art Of George Harrison,\" is a biography about George Harrison, one of the members of The Beatles. This book provides insights into his life and his contributions to music. The second-ranked book, \"Fire And Rain: The James Taylor Story,\" is a biography about James Taylor, another influential musician. The third-ranked book, \"The Rolling Stone Illustrated History of Rock and Roll: The Definitive History of the Most Important Artists and Their Music,\" is a comprehensive guide to the history of rock and roll, covering various artists and their music. The fourth-ranked book, \"The Lost Lennon Interviews,\" is a collection of interviews with John Lennon, offering a deeper understanding of his thoughts and perspectives. Finally, the fifth-ranked book, \"Inside the Yellow Submarine: The Making of the Beatles' Animated Classic,\" explores the creation process of the iconic Beatles' animated film. These books are recommended based on their relevance to your liked movies and your interest in music and biographies.\n",
      "-------------------------------------------------\n",
      "\n",
      "\n",
      "-------------------------------------------------\n",
      "User id: AQJP15L6DMEQD\n",
      "Explanation 0s: \n",
      " Based on the user's liked and disliked movies, I have recommended the top 5 books from the given list of candidates.\n",
      "Explanation 1s: \n",
      " Based on the user's dislike for movies related to aliens and paranormal activities, the recommended books are focused on similar themes. \"UFO's and the Alien Agenda: Uncovering the Mystery Behind UFOs and the Paranormal\" and \"The Source: Journey Through the Unexplained\" are books that explore the mysteries and theories surrounding UFOs and the paranormal. \"Into the Wild\" is a biography about a traveler and explorer, which aligns with the user's interest in adventure. \"Waterland\" is a contemporary fiction novel that may provide a different genre for the user to explore. \"Essays and Aphorisms\" is a collection of philosophical essays that may appeal to the user's interest in deeper contemplation.\n",
      "-------------------------------------------------\n",
      "\n",
      "\n",
      "-------------------------------------------------\n",
      "User id: A136IQFGB01KQB\n",
      "Explanation 0s: \n",
      " Based on the user's liked movies, which are related to music and performing arts, I recommend the following books:\n",
      "Explanation 1s: \n",
      " Based on your disliked movies in the music domain, it seems that you are interested in learning more about guitars and music. Therefore, I have ranked the books related to guitars and music at the top of the list. These books include topics such as guitar repair, interactive guides, comprehensive frameworks for effective instruction, and the history of electric guitars and basses. I believe these books will provide you with valuable information and insights into the world of guitars and music.\n",
      "-------------------------------------------------\n",
      "\n",
      "\n",
      "-------------------------------------------------\n",
      "User id: A21AMFQK5SGWTC\n",
      "Explanation 0s: \n",
      " Based on the user's liked and disliked movies, I have ranked the candidate books.\n",
      "Explanation 1s: \n",
      " Based on the user's disliked movies, which include \"Wyatt Earp VHS\" and \"Death Valley,\" it seems that the user is not interested in movies related to Westerns or science fiction/fantasy genres. Therefore, the recommended books are focused on different genres and themes. The top-ranked book, \"Hunt for the Skinwalker: Science Confronts the Unexplained at a Remote Ranch in Utah,\" is a non-fiction book about paranormal phenomena, which aligns with the user's interest in the occult and paranormal. The other recommended books cover topics such as Christian spirituality, ghost stories, demon possession, and the Vatican's alleged plan for the arrival of an alien savior. These recommendations are based on the assumption that the user's interest in the occult and paranormal extends to other forms of media, such as books.\n",
      "-------------------------------------------------\n",
      "\n",
      "\n",
      "-------------------------------------------------\n",
      "User id: AOUL71VSSLB7J\n",
      "Explanation 0s: \n",
      " Based on the user's liked and disliked movies, I will recommend books that are similar in genre and themes.\n",
      "Explanation 1s: \n",
      " Based on your disliked movies, I have recommended books that are in different genres and categories. The books I have suggested include science fiction, historical fiction, short stories, mystery, and adventure. By diversifying the genres, I aim to provide you with a range of options that may align with your interests and preferences.\n",
      "-------------------------------------------------\n",
      "\n"
     ]
    }
   ],
   "source": [
    "for user_id in only_disliked_sample_users:\n",
    "    print(\"\\n-------------------------------------------------\")\n",
    "    print(f\"User id: {user_id}\")\n",
    "    explanation_0s = movies_35_books_510_0s_preds[movies_35_books_510_0s_preds['UserId'] == user_id]['Explanation'].values[0]\n",
    "    explanation_1s = movies_35_books_510_1s_preds[movies_35_books_510_1s_preds['UserId'] == user_id]['Explanation'].values[0]\n",
    "\n",
    "    print(f\"Explanation 0s: \\n {explanation_0s}\")\n",
    "    print(f\"Explanation 1s: \\n {explanation_1s}\")\n",
    "    print(\"-------------------------------------------------\\n\")"
   ]
  },
  {
   "cell_type": "markdown",
   "metadata": {},
   "source": [
    "## Explanations analysis"
   ]
  },
  {
   "cell_type": "markdown",
   "metadata": {},
   "source": [
    "We'll start with the length distribution analysis, so that we can assess how verbose could be GPT while explaining recommendations, or, identify anomalies (if any).\n",
    "\n",
    "Specifically, we'll plot the explanation length distribution for each tested case, comparing those obtained with zero-shot prompting and those obtained with one-shot prompting.\n",
    "Then, we'll compute some statistics."
   ]
  },
  {
   "cell_type": "markdown",
   "metadata": {},
   "source": [
    "### Length distribution"
   ]
  },
  {
   "cell_type": "code",
   "execution_count": 28,
   "metadata": {},
   "outputs": [
    {
     "data": {
      "application/vnd.plotly.v1+json": {
       "config": {
        "plotlyServerURL": "https://plot.ly"
       },
       "data": [
        {
         "marker": {
          "color": "#28A08C"
         },
         "name": "Zero-Shot",
         "type": "histogram",
         "x": [
          87,
          38,
          53,
          41,
          30,
          37,
          24,
          23,
          52,
          25,
          26,
          21,
          26,
          25,
          29,
          33,
          43,
          82,
          43,
          21,
          82,
          37,
          39,
          36,
          137,
          25,
          41,
          22,
          26,
          154,
          34,
          36,
          34,
          20,
          50,
          30,
          97,
          28,
          29,
          39,
          33,
          28,
          34,
          32,
          19,
          31,
          23,
          76,
          30,
          45,
          21,
          24,
          197,
          37,
          25,
          33,
          29,
          29,
          119,
          50,
          30,
          18,
          22,
          39,
          27,
          45,
          42,
          30,
          34,
          39,
          42,
          30,
          30,
          131,
          35,
          143,
          38,
          47,
          21,
          26,
          21,
          32,
          38,
          28,
          33,
          59,
          44,
          29,
          40,
          19,
          18,
          35,
          31,
          32,
          29,
          33,
          40,
          39,
          134,
          25,
          20,
          22,
          59,
          20,
          48,
          31,
          15,
          130,
          28,
          105,
          85,
          41,
          25,
          27,
          31,
          49,
          92,
          33,
          120,
          29,
          108,
          30,
          24,
          23,
          26,
          22,
          25,
          18,
          34,
          32,
          20,
          32,
          34,
          32,
          19,
          41,
          28,
          18,
          34,
          36,
          11,
          41,
          93,
          24,
          26,
          38,
          122,
          35,
          71,
          32,
          20,
          19,
          24,
          45,
          171,
          50,
          39,
          19,
          23,
          45,
          46,
          31,
          19,
          29,
          77,
          30,
          60,
          24,
          37,
          53,
          33,
          91,
          33,
          36,
          19,
          26,
          41,
          90,
          37,
          33,
          47,
          60,
          43,
          30,
          20,
          19,
          21,
          43,
          76,
          47,
          43,
          124,
          32,
          40,
          28,
          47,
          50,
          43,
          35,
          25,
          30,
          54,
          1,
          43,
          45,
          26,
          23,
          17,
          33,
          21,
          73,
          25,
          24,
          29,
          42,
          33,
          22,
          37,
          22,
          36,
          31,
          28,
          97,
          107,
          31,
          24,
          28,
          65,
          30,
          35,
          95,
          36,
          35,
          37,
          35,
          20,
          76,
          36,
          33,
          34,
          42,
          79,
          14,
          52,
          26,
          29,
          37,
          40,
          50,
          189,
          83,
          28,
          19,
          30,
          30,
          144,
          22,
          21,
          104,
          31,
          95,
          31,
          25,
          104,
          21,
          27,
          25,
          28,
          33,
          31,
          31,
          29,
          24,
          38,
          39,
          26,
          32,
          43,
          53,
          39,
          100,
          38,
          27,
          19,
          156,
          19,
          55,
          25,
          24,
          135,
          25,
          32,
          46,
          50,
          31,
          33,
          88,
          57,
          43,
          24,
          39,
          161,
          33,
          21,
          27,
          33,
          41,
          129,
          18,
          29,
          32,
          36,
          19,
          19,
          31,
          20,
          23,
          1,
          22,
          25,
          25,
          29,
          121,
          179,
          25,
          72,
          75,
          110,
          87,
          20,
          14,
          26,
          29,
          28,
          27,
          18,
          32,
          31,
          18,
          31,
          25,
          37,
          44,
          33,
          25,
          105,
          44,
          35,
          36,
          41,
          41,
          24,
          30,
          71,
          21,
          138,
          25,
          34,
          48,
          21,
          35,
          24,
          129,
          39,
          30,
          25,
          36,
          41,
          41,
          31,
          86,
          18,
          33,
          20,
          34,
          21,
          43,
          45,
          29,
          13,
          23,
          51,
          20,
          19,
          20,
          29,
          29,
          33,
          20,
          27,
          19,
          68,
          91,
          31,
          41,
          18,
          19,
          30,
          17,
          37,
          24,
          37,
          31,
          38,
          88,
          29,
          25,
          44,
          31,
          39,
          30,
          66,
          22,
          21,
          31,
          46,
          28,
          21,
          23,
          24,
          14,
          40,
          21,
          29,
          28,
          38,
          22,
          35,
          45,
          86,
          72,
          65,
          24,
          54,
          31,
          39,
          33,
          165,
          35,
          45,
          53,
          22,
          31,
          42,
          25,
          33,
          26,
          30,
          43,
          25,
          14,
          86,
          23,
          61,
          26,
          30,
          35,
          20,
          20,
          25,
          31,
          52,
          20,
          34,
          27,
          27,
          29,
          43,
          131,
          54,
          32,
          63,
          36,
          36,
          24,
          60,
          46,
          20,
          33,
          20,
          32,
          53,
          26,
          26,
          24,
          38,
          29,
          30,
          58,
          23,
          18,
          40,
          63,
          180,
          130,
          40,
          24,
          37,
          32,
          120,
          21,
          27,
          22,
          31,
          160,
          32,
          19,
          35,
          50,
          17,
          36,
          24,
          21,
          32,
          19,
          102,
          31,
          33,
          34,
          28,
          31,
          23,
          55,
          29,
          19,
          34,
          31,
          19,
          23,
          36,
          31,
          19,
          79,
          149,
          38,
          26,
          1,
          40,
          29,
          28,
          17,
          34,
          27,
          25,
          20,
          22,
          37,
          154,
          108,
          30,
          70,
          37,
          25,
          38,
          23,
          80,
          46,
          38,
          42,
          50,
          22,
          48,
          36,
          34,
          18,
          80,
          38,
          22,
          20,
          38,
          30,
          27,
          86,
          209,
          41,
          26,
          35,
          29,
          86,
          36,
          41,
          39,
          23,
          24,
          55,
          26,
          26,
          23,
          29,
          28,
          23,
          30,
          28,
          35,
          39,
          25,
          29,
          57,
          22,
          39,
          1,
          33,
          33,
          54,
          146,
          12,
          32,
          25,
          26,
          37,
          24,
          32,
          60,
          24,
          1,
          31,
          18,
          29,
          20,
          20,
          27,
          56,
          27,
          38,
          162,
          43,
          54,
          30,
          35,
          1,
          50,
          24,
          41,
          23,
          26,
          20,
          24,
          83,
          23,
          43,
          33,
          37,
          17,
          160,
          29,
          46,
          35,
          33,
          23,
          1,
          20,
          30,
          79,
          19,
          23,
          41,
          148,
          21,
          26,
          26,
          23,
          118,
          22,
          35,
          103,
          27,
          35,
          25,
          25,
          30,
          27,
          194,
          41,
          24,
          28,
          109,
          31,
          44,
          39,
          36,
          31,
          96,
          32,
          41,
          36,
          36,
          25,
          20,
          50,
          88,
          25,
          28,
          30,
          33,
          32,
          42,
          30,
          174,
          35,
          110,
          45,
          24,
          41,
          42,
          24,
          24,
          39,
          27,
          24,
          59,
          20,
          26,
          31,
          18,
          179,
          1,
          32,
          75,
          49,
          32,
          27,
          35,
          69,
          36,
          18,
          25,
          24,
          78,
          139
         ]
        },
        {
         "marker": {
          "color": "#01DB8C"
         },
         "name": "One-Shot",
         "type": "histogram",
         "x": [
          60,
          118,
          66,
          27,
          111,
          97,
          106,
          103,
          47,
          124,
          117,
          155,
          107,
          136,
          99,
          120,
          35,
          93,
          99,
          107,
          113,
          151,
          29,
          28,
          168,
          106,
          117,
          111,
          62,
          80,
          116,
          34,
          113,
          25,
          110,
          75,
          54,
          119,
          179,
          118,
          129,
          125,
          102,
          37,
          134,
          145,
          19,
          115,
          143,
          70,
          103,
          122,
          145,
          122,
          154,
          76,
          135,
          81,
          112,
          33,
          22,
          104,
          24,
          32,
          27,
          41,
          75,
          145,
          175,
          114,
          79,
          76,
          142,
          82,
          76,
          103,
          100,
          28,
          164,
          112,
          125,
          51,
          114,
          100,
          112,
          83,
          116,
          26,
          111,
          175,
          122,
          79,
          106,
          129,
          108,
          28,
          140,
          160,
          94,
          107,
          23,
          146,
          79,
          45,
          82,
          152,
          37,
          124,
          153,
          54,
          114,
          141,
          126,
          118,
          124,
          149,
          69,
          66,
          87,
          44,
          122,
          142,
          107,
          141,
          144,
          25,
          106,
          153,
          22,
          37,
          135,
          116,
          153,
          122,
          111,
          102,
          14,
          123,
          34,
          130,
          115,
          140,
          123,
          58,
          91,
          34,
          96,
          127,
          46,
          118,
          40,
          138,
          82,
          94,
          153,
          19,
          18,
          159,
          114,
          117,
          136,
          92,
          79,
          134,
          142,
          179,
          46,
          148,
          132,
          106,
          70,
          98,
          91,
          35,
          108,
          68,
          27,
          100,
          104,
          31,
          42,
          109,
          90,
          22,
          109,
          19,
          75,
          120,
          134,
          30,
          127,
          82,
          109,
          139,
          117,
          115,
          88,
          34,
          134,
          138,
          147,
          114,
          70,
          135,
          178,
          95,
          93,
          122,
          123,
          160,
          68,
          44,
          127,
          98,
          95,
          32,
          157,
          39,
          96,
          155,
          128,
          70,
          28,
          147,
          95,
          74,
          101,
          113,
          29,
          160,
          99,
          81,
          96,
          132,
          130,
          127,
          126,
          27,
          141,
          44,
          108,
          87,
          111,
          56,
          142,
          40,
          79,
          130,
          155,
          76,
          49,
          116,
          23,
          92,
          135,
          89,
          114,
          123,
          76,
          108,
          73,
          84,
          119,
          45,
          68,
          82,
          36,
          94,
          69,
          119,
          142,
          104,
          133,
          120,
          29,
          22,
          84,
          104,
          93,
          79,
          123,
          80,
          99,
          98,
          119,
          37,
          103,
          31,
          26,
          88,
          125,
          40,
          110,
          102,
          105,
          118,
          146,
          79,
          99,
          167,
          95,
          166,
          118,
          139,
          130,
          31,
          83,
          136,
          143,
          30,
          46,
          84,
          148,
          31,
          138,
          52,
          149,
          137,
          140,
          101,
          89,
          120,
          100,
          154,
          138,
          105,
          110,
          100,
          77,
          95,
          74,
          98,
          154,
          78,
          93,
          20,
          155,
          34,
          120,
          127,
          70,
          39,
          124,
          107,
          123,
          93,
          103,
          124,
          83,
          111,
          89,
          118,
          118,
          110,
          110,
          139,
          100,
          171,
          28,
          130,
          119,
          123,
          125,
          122,
          118,
          46,
          47,
          119,
          98,
          50,
          118,
          19,
          100,
          30,
          79,
          156,
          30,
          143,
          124,
          149,
          141,
          117,
          163,
          29,
          80,
          132,
          131,
          117,
          37,
          30,
          108,
          132,
          98,
          121,
          29,
          67,
          173,
          123,
          18,
          99,
          114,
          142,
          112,
          121,
          101,
          140,
          25,
          57,
          29,
          119,
          125,
          81,
          98,
          81,
          151,
          87,
          93,
          142,
          105,
          124,
          134,
          63,
          196,
          114,
          79,
          108,
          22,
          109,
          33,
          141,
          84,
          70,
          118,
          143,
          130,
          128,
          106,
          125,
          147,
          140,
          101,
          151,
          113,
          124,
          24,
          80,
          99,
          82,
          140,
          91,
          150,
          79,
          143,
          116,
          97,
          114,
          32,
          21,
          130,
          146,
          127,
          83,
          27,
          128,
          51,
          81,
          76,
          127,
          132,
          66,
          128,
          72,
          116,
          133,
          139,
          11,
          142,
          107,
          101,
          70,
          31,
          91,
          67,
          100,
          24,
          97,
          29,
          35,
          166,
          107,
          106,
          113,
          118,
          133,
          137,
          117,
          82,
          77,
          27,
          77,
          27,
          105,
          143,
          146,
          124,
          95,
          126,
          68,
          57,
          52,
          72,
          113,
          138,
          74,
          137,
          28,
          109,
          117,
          56,
          104,
          72,
          82,
          95,
          23,
          79,
          140,
          149,
          22,
          161,
          28,
          104,
          126,
          100,
          18,
          106,
          27,
          142,
          103,
          137,
          22,
          75,
          40,
          142,
          110,
          81,
          29,
          153,
          187,
          142,
          111,
          114,
          114,
          135,
          40,
          121,
          88,
          142,
          104,
          132,
          87,
          98,
          115,
          75,
          105,
          118,
          142,
          69,
          24,
          92,
          140,
          70,
          91,
          156,
          97,
          69,
          133,
          37,
          105,
          79,
          31,
          92,
          24,
          79,
          140,
          26,
          111,
          136,
          123,
          136,
          124,
          132,
          92,
          167,
          110,
          66,
          119,
          126,
          61,
          114,
          129,
          127,
          100,
          128,
          167,
          88,
          30,
          85,
          31,
          170,
          138,
          141,
          197,
          74,
          89,
          109,
          110,
          118,
          108,
          111,
          69,
          82,
          116,
          107,
          128,
          99,
          76,
          135,
          110,
          101,
          96,
          41,
          100,
          127,
          85,
          100,
          102,
          154,
          148,
          82,
          154,
          104,
          100,
          119,
          137,
          70,
          111,
          113,
          65,
          100,
          131,
          111,
          73,
          81,
          148,
          110,
          119,
          136,
          107,
          94,
          144,
          24,
          75,
          100,
          145,
          30,
          46,
          126,
          28,
          83,
          28,
          116,
          172,
          123,
          98,
          68,
          80,
          96,
          82,
          99,
          124,
          132,
          47,
          129,
          170,
          110,
          40,
          102,
          120,
          79,
          110,
          25,
          160,
          138,
          138,
          126,
          118,
          28,
          142,
          133,
          129,
          142,
          100,
          47,
          147,
          133,
          90,
          141,
          28,
          102,
          121,
          28,
          154,
          23,
          139,
          107,
          112,
          135,
          118,
          73,
          138,
          70,
          98,
          88,
          122,
          132,
          120,
          168,
          85,
          89
         ]
        }
       ],
       "layout": {
        "template": {
         "data": {
          "bar": [
           {
            "error_x": {
             "color": "#2a3f5f"
            },
            "error_y": {
             "color": "#2a3f5f"
            },
            "marker": {
             "line": {
              "color": "#E5ECF6",
              "width": 0.5
             },
             "pattern": {
              "fillmode": "overlay",
              "size": 10,
              "solidity": 0.2
             }
            },
            "type": "bar"
           }
          ],
          "barpolar": [
           {
            "marker": {
             "line": {
              "color": "#E5ECF6",
              "width": 0.5
             },
             "pattern": {
              "fillmode": "overlay",
              "size": 10,
              "solidity": 0.2
             }
            },
            "type": "barpolar"
           }
          ],
          "carpet": [
           {
            "aaxis": {
             "endlinecolor": "#2a3f5f",
             "gridcolor": "white",
             "linecolor": "white",
             "minorgridcolor": "white",
             "startlinecolor": "#2a3f5f"
            },
            "baxis": {
             "endlinecolor": "#2a3f5f",
             "gridcolor": "white",
             "linecolor": "white",
             "minorgridcolor": "white",
             "startlinecolor": "#2a3f5f"
            },
            "type": "carpet"
           }
          ],
          "choropleth": [
           {
            "colorbar": {
             "outlinewidth": 0,
             "ticks": ""
            },
            "type": "choropleth"
           }
          ],
          "contour": [
           {
            "colorbar": {
             "outlinewidth": 0,
             "ticks": ""
            },
            "colorscale": [
             [
              0,
              "#0d0887"
             ],
             [
              0.1111111111111111,
              "#46039f"
             ],
             [
              0.2222222222222222,
              "#7201a8"
             ],
             [
              0.3333333333333333,
              "#9c179e"
             ],
             [
              0.4444444444444444,
              "#bd3786"
             ],
             [
              0.5555555555555556,
              "#d8576b"
             ],
             [
              0.6666666666666666,
              "#ed7953"
             ],
             [
              0.7777777777777778,
              "#fb9f3a"
             ],
             [
              0.8888888888888888,
              "#fdca26"
             ],
             [
              1,
              "#f0f921"
             ]
            ],
            "type": "contour"
           }
          ],
          "contourcarpet": [
           {
            "colorbar": {
             "outlinewidth": 0,
             "ticks": ""
            },
            "type": "contourcarpet"
           }
          ],
          "heatmap": [
           {
            "colorbar": {
             "outlinewidth": 0,
             "ticks": ""
            },
            "colorscale": [
             [
              0,
              "#0d0887"
             ],
             [
              0.1111111111111111,
              "#46039f"
             ],
             [
              0.2222222222222222,
              "#7201a8"
             ],
             [
              0.3333333333333333,
              "#9c179e"
             ],
             [
              0.4444444444444444,
              "#bd3786"
             ],
             [
              0.5555555555555556,
              "#d8576b"
             ],
             [
              0.6666666666666666,
              "#ed7953"
             ],
             [
              0.7777777777777778,
              "#fb9f3a"
             ],
             [
              0.8888888888888888,
              "#fdca26"
             ],
             [
              1,
              "#f0f921"
             ]
            ],
            "type": "heatmap"
           }
          ],
          "heatmapgl": [
           {
            "colorbar": {
             "outlinewidth": 0,
             "ticks": ""
            },
            "colorscale": [
             [
              0,
              "#0d0887"
             ],
             [
              0.1111111111111111,
              "#46039f"
             ],
             [
              0.2222222222222222,
              "#7201a8"
             ],
             [
              0.3333333333333333,
              "#9c179e"
             ],
             [
              0.4444444444444444,
              "#bd3786"
             ],
             [
              0.5555555555555556,
              "#d8576b"
             ],
             [
              0.6666666666666666,
              "#ed7953"
             ],
             [
              0.7777777777777778,
              "#fb9f3a"
             ],
             [
              0.8888888888888888,
              "#fdca26"
             ],
             [
              1,
              "#f0f921"
             ]
            ],
            "type": "heatmapgl"
           }
          ],
          "histogram": [
           {
            "marker": {
             "pattern": {
              "fillmode": "overlay",
              "size": 10,
              "solidity": 0.2
             }
            },
            "type": "histogram"
           }
          ],
          "histogram2d": [
           {
            "colorbar": {
             "outlinewidth": 0,
             "ticks": ""
            },
            "colorscale": [
             [
              0,
              "#0d0887"
             ],
             [
              0.1111111111111111,
              "#46039f"
             ],
             [
              0.2222222222222222,
              "#7201a8"
             ],
             [
              0.3333333333333333,
              "#9c179e"
             ],
             [
              0.4444444444444444,
              "#bd3786"
             ],
             [
              0.5555555555555556,
              "#d8576b"
             ],
             [
              0.6666666666666666,
              "#ed7953"
             ],
             [
              0.7777777777777778,
              "#fb9f3a"
             ],
             [
              0.8888888888888888,
              "#fdca26"
             ],
             [
              1,
              "#f0f921"
             ]
            ],
            "type": "histogram2d"
           }
          ],
          "histogram2dcontour": [
           {
            "colorbar": {
             "outlinewidth": 0,
             "ticks": ""
            },
            "colorscale": [
             [
              0,
              "#0d0887"
             ],
             [
              0.1111111111111111,
              "#46039f"
             ],
             [
              0.2222222222222222,
              "#7201a8"
             ],
             [
              0.3333333333333333,
              "#9c179e"
             ],
             [
              0.4444444444444444,
              "#bd3786"
             ],
             [
              0.5555555555555556,
              "#d8576b"
             ],
             [
              0.6666666666666666,
              "#ed7953"
             ],
             [
              0.7777777777777778,
              "#fb9f3a"
             ],
             [
              0.8888888888888888,
              "#fdca26"
             ],
             [
              1,
              "#f0f921"
             ]
            ],
            "type": "histogram2dcontour"
           }
          ],
          "mesh3d": [
           {
            "colorbar": {
             "outlinewidth": 0,
             "ticks": ""
            },
            "type": "mesh3d"
           }
          ],
          "parcoords": [
           {
            "line": {
             "colorbar": {
              "outlinewidth": 0,
              "ticks": ""
             }
            },
            "type": "parcoords"
           }
          ],
          "pie": [
           {
            "automargin": true,
            "type": "pie"
           }
          ],
          "scatter": [
           {
            "fillpattern": {
             "fillmode": "overlay",
             "size": 10,
             "solidity": 0.2
            },
            "type": "scatter"
           }
          ],
          "scatter3d": [
           {
            "line": {
             "colorbar": {
              "outlinewidth": 0,
              "ticks": ""
             }
            },
            "marker": {
             "colorbar": {
              "outlinewidth": 0,
              "ticks": ""
             }
            },
            "type": "scatter3d"
           }
          ],
          "scattercarpet": [
           {
            "marker": {
             "colorbar": {
              "outlinewidth": 0,
              "ticks": ""
             }
            },
            "type": "scattercarpet"
           }
          ],
          "scattergeo": [
           {
            "marker": {
             "colorbar": {
              "outlinewidth": 0,
              "ticks": ""
             }
            },
            "type": "scattergeo"
           }
          ],
          "scattergl": [
           {
            "marker": {
             "colorbar": {
              "outlinewidth": 0,
              "ticks": ""
             }
            },
            "type": "scattergl"
           }
          ],
          "scattermapbox": [
           {
            "marker": {
             "colorbar": {
              "outlinewidth": 0,
              "ticks": ""
             }
            },
            "type": "scattermapbox"
           }
          ],
          "scatterpolar": [
           {
            "marker": {
             "colorbar": {
              "outlinewidth": 0,
              "ticks": ""
             }
            },
            "type": "scatterpolar"
           }
          ],
          "scatterpolargl": [
           {
            "marker": {
             "colorbar": {
              "outlinewidth": 0,
              "ticks": ""
             }
            },
            "type": "scatterpolargl"
           }
          ],
          "scatterternary": [
           {
            "marker": {
             "colorbar": {
              "outlinewidth": 0,
              "ticks": ""
             }
            },
            "type": "scatterternary"
           }
          ],
          "surface": [
           {
            "colorbar": {
             "outlinewidth": 0,
             "ticks": ""
            },
            "colorscale": [
             [
              0,
              "#0d0887"
             ],
             [
              0.1111111111111111,
              "#46039f"
             ],
             [
              0.2222222222222222,
              "#7201a8"
             ],
             [
              0.3333333333333333,
              "#9c179e"
             ],
             [
              0.4444444444444444,
              "#bd3786"
             ],
             [
              0.5555555555555556,
              "#d8576b"
             ],
             [
              0.6666666666666666,
              "#ed7953"
             ],
             [
              0.7777777777777778,
              "#fb9f3a"
             ],
             [
              0.8888888888888888,
              "#fdca26"
             ],
             [
              1,
              "#f0f921"
             ]
            ],
            "type": "surface"
           }
          ],
          "table": [
           {
            "cells": {
             "fill": {
              "color": "#EBF0F8"
             },
             "line": {
              "color": "white"
             }
            },
            "header": {
             "fill": {
              "color": "#C8D4E3"
             },
             "line": {
              "color": "white"
             }
            },
            "type": "table"
           }
          ]
         },
         "layout": {
          "annotationdefaults": {
           "arrowcolor": "#2a3f5f",
           "arrowhead": 0,
           "arrowwidth": 1
          },
          "autotypenumbers": "strict",
          "coloraxis": {
           "colorbar": {
            "outlinewidth": 0,
            "ticks": ""
           }
          },
          "colorscale": {
           "diverging": [
            [
             0,
             "#8e0152"
            ],
            [
             0.1,
             "#c51b7d"
            ],
            [
             0.2,
             "#de77ae"
            ],
            [
             0.3,
             "#f1b6da"
            ],
            [
             0.4,
             "#fde0ef"
            ],
            [
             0.5,
             "#f7f7f7"
            ],
            [
             0.6,
             "#e6f5d0"
            ],
            [
             0.7,
             "#b8e186"
            ],
            [
             0.8,
             "#7fbc41"
            ],
            [
             0.9,
             "#4d9221"
            ],
            [
             1,
             "#276419"
            ]
           ],
           "sequential": [
            [
             0,
             "#0d0887"
            ],
            [
             0.1111111111111111,
             "#46039f"
            ],
            [
             0.2222222222222222,
             "#7201a8"
            ],
            [
             0.3333333333333333,
             "#9c179e"
            ],
            [
             0.4444444444444444,
             "#bd3786"
            ],
            [
             0.5555555555555556,
             "#d8576b"
            ],
            [
             0.6666666666666666,
             "#ed7953"
            ],
            [
             0.7777777777777778,
             "#fb9f3a"
            ],
            [
             0.8888888888888888,
             "#fdca26"
            ],
            [
             1,
             "#f0f921"
            ]
           ],
           "sequentialminus": [
            [
             0,
             "#0d0887"
            ],
            [
             0.1111111111111111,
             "#46039f"
            ],
            [
             0.2222222222222222,
             "#7201a8"
            ],
            [
             0.3333333333333333,
             "#9c179e"
            ],
            [
             0.4444444444444444,
             "#bd3786"
            ],
            [
             0.5555555555555556,
             "#d8576b"
            ],
            [
             0.6666666666666666,
             "#ed7953"
            ],
            [
             0.7777777777777778,
             "#fb9f3a"
            ],
            [
             0.8888888888888888,
             "#fdca26"
            ],
            [
             1,
             "#f0f921"
            ]
           ]
          },
          "colorway": [
           "#636efa",
           "#EF553B",
           "#00cc96",
           "#ab63fa",
           "#FFA15A",
           "#19d3f3",
           "#FF6692",
           "#B6E880",
           "#FF97FF",
           "#FECB52"
          ],
          "font": {
           "color": "#2a3f5f"
          },
          "geo": {
           "bgcolor": "white",
           "lakecolor": "white",
           "landcolor": "#E5ECF6",
           "showlakes": true,
           "showland": true,
           "subunitcolor": "white"
          },
          "hoverlabel": {
           "align": "left"
          },
          "hovermode": "closest",
          "mapbox": {
           "style": "light"
          },
          "paper_bgcolor": "white",
          "plot_bgcolor": "#E5ECF6",
          "polar": {
           "angularaxis": {
            "gridcolor": "white",
            "linecolor": "white",
            "ticks": ""
           },
           "bgcolor": "#E5ECF6",
           "radialaxis": {
            "gridcolor": "white",
            "linecolor": "white",
            "ticks": ""
           }
          },
          "scene": {
           "xaxis": {
            "backgroundcolor": "#E5ECF6",
            "gridcolor": "white",
            "gridwidth": 2,
            "linecolor": "white",
            "showbackground": true,
            "ticks": "",
            "zerolinecolor": "white"
           },
           "yaxis": {
            "backgroundcolor": "#E5ECF6",
            "gridcolor": "white",
            "gridwidth": 2,
            "linecolor": "white",
            "showbackground": true,
            "ticks": "",
            "zerolinecolor": "white"
           },
           "zaxis": {
            "backgroundcolor": "#E5ECF6",
            "gridcolor": "white",
            "gridwidth": 2,
            "linecolor": "white",
            "showbackground": true,
            "ticks": "",
            "zerolinecolor": "white"
           }
          },
          "shapedefaults": {
           "line": {
            "color": "#2a3f5f"
           }
          },
          "ternary": {
           "aaxis": {
            "gridcolor": "white",
            "linecolor": "white",
            "ticks": ""
           },
           "baxis": {
            "gridcolor": "white",
            "linecolor": "white",
            "ticks": ""
           },
           "bgcolor": "#E5ECF6",
           "caxis": {
            "gridcolor": "white",
            "linecolor": "white",
            "ticks": ""
           }
          },
          "title": {
           "x": 0.05
          },
          "xaxis": {
           "automargin": true,
           "gridcolor": "white",
           "linecolor": "white",
           "ticks": "",
           "title": {
            "standoff": 15
           },
           "zerolinecolor": "white",
           "zerolinewidth": 2
          },
          "yaxis": {
           "automargin": true,
           "gridcolor": "white",
           "linecolor": "white",
           "ticks": "",
           "title": {
            "standoff": 15
           },
           "zerolinecolor": "white",
           "zerolinewidth": 2
          }
         }
        },
        "title": {
         "text": "Books_3_5_Movies_5_10 - Explanation length distribution"
        },
        "xaxis": {
         "title": {
          "text": "Length"
         }
        },
        "yaxis": {
         "title": {
          "text": "Frequency"
         }
        }
       }
      }
     },
     "metadata": {},
     "output_type": "display_data"
    },
    {
     "data": {
      "application/vnd.plotly.v1+json": {
       "config": {
        "plotlyServerURL": "https://plot.ly"
       },
       "data": [
        {
         "marker": {
          "color": "#28A08C"
         },
         "name": "Zero-Shot",
         "type": "histogram",
         "x": [
          38,
          52,
          25,
          21,
          26,
          25,
          29,
          82,
          39,
          36,
          34,
          20,
          39,
          32,
          19,
          23,
          197,
          29,
          18,
          45,
          30,
          42,
          30,
          35,
          143,
          47,
          32,
          28,
          33,
          29,
          40,
          18,
          29,
          33,
          40,
          25,
          20,
          48,
          28,
          41,
          25,
          49,
          92,
          33,
          108,
          30,
          23,
          26,
          22,
          25,
          18,
          20,
          34,
          19,
          41,
          93,
          35,
          19,
          45,
          19,
          23,
          19,
          60,
          24,
          37,
          33,
          33,
          41,
          20,
          19,
          47,
          43,
          124,
          28,
          47,
          50,
          25,
          30,
          54,
          43,
          17,
          33,
          73,
          24,
          42,
          22,
          31,
          28,
          97,
          31,
          24,
          65,
          95,
          35,
          76,
          34,
          79,
          40,
          189,
          19,
          30,
          144,
          22,
          21,
          104,
          27,
          39,
          100,
          38,
          156,
          32,
          43,
          36,
          1,
          22,
          25,
          179,
          75,
          14,
          26,
          28,
          18,
          18,
          37,
          44,
          41,
          35,
          129,
          30,
          25,
          18,
          34,
          43,
          23,
          51,
          20,
          20,
          19,
          31,
          18,
          17,
          31,
          29,
          30,
          66,
          22,
          46,
          28,
          22,
          72,
          65,
          54,
          39,
          165,
          45,
          53,
          30,
          43,
          25,
          23,
          35,
          20,
          27,
          27,
          29,
          20,
          24,
          29,
          58,
          40,
          63,
          180,
          37,
          27,
          31,
          33,
          28,
          31,
          23,
          29,
          19,
          34,
          36,
          31,
          79,
          1,
          25,
          20,
          22,
          108,
          70,
          25,
          23,
          46,
          42,
          48,
          18,
          30,
          26,
          29,
          41,
          28,
          23,
          39,
          39,
          1,
          12,
          32,
          37,
          24,
          1,
          18,
          29,
          20,
          27,
          38,
          1,
          50,
          23,
          20,
          24,
          83,
          33,
          23,
          1,
          20,
          23,
          22,
          35,
          30,
          41,
          28,
          44,
          36,
          28,
          33,
          32,
          30,
          110,
          41,
          24,
          24,
          20,
          1,
          35,
          36
         ]
        },
        {
         "marker": {
          "color": "#01DB8C"
         },
         "name": "One-Shot",
         "type": "histogram",
         "x": [
          118,
          47,
          124,
          155,
          107,
          136,
          99,
          113,
          29,
          28,
          113,
          25,
          118,
          37,
          134,
          19,
          145,
          81,
          104,
          41,
          145,
          79,
          142,
          76,
          103,
          28,
          51,
          100,
          112,
          26,
          111,
          122,
          108,
          28,
          140,
          107,
          23,
          82,
          153,
          141,
          126,
          149,
          69,
          66,
          122,
          142,
          141,
          144,
          25,
          106,
          153,
          135,
          153,
          111,
          102,
          123,
          127,
          138,
          94,
          159,
          114,
          79,
          46,
          148,
          132,
          70,
          91,
          27,
          109,
          19,
          30,
          127,
          82,
          117,
          115,
          88,
          138,
          147,
          114,
          135,
          122,
          123,
          68,
          127,
          95,
          96,
          128,
          70,
          28,
          95,
          74,
          113,
          99,
          130,
          126,
          44,
          87,
          130,
          76,
          23,
          135,
          89,
          114,
          123,
          45,
          82,
          29,
          123,
          80,
          119,
          40,
          99,
          84,
          137,
          140,
          101,
          154,
          110,
          74,
          98,
          78,
          20,
          120,
          39,
          124,
          111,
          119,
          125,
          118,
          46,
          19,
          79,
          30,
          141,
          117,
          80,
          37,
          108,
          121,
          67,
          18,
          112,
          140,
          125,
          81,
          98,
          87,
          79,
          22,
          84,
          70,
          143,
          128,
          125,
          140,
          101,
          82,
          140,
          91,
          143,
          32,
          21,
          51,
          81,
          76,
          70,
          24,
          29,
          166,
          113,
          118,
          133,
          77,
          105,
          109,
          117,
          104,
          72,
          82,
          23,
          79,
          140,
          28,
          104,
          100,
          142,
          110,
          81,
          29,
          142,
          114,
          135,
          121,
          142,
          132,
          115,
          118,
          70,
          133,
          105,
          92,
          124,
          132,
          66,
          129,
          127,
          30,
          85,
          138,
          141,
          109,
          118,
          108,
          69,
          107,
          128,
          96,
          41,
          85,
          102,
          154,
          148,
          104,
          100,
          131,
          111,
          110,
          100,
          126,
          28,
          123,
          68,
          82,
          110,
          160,
          138,
          126,
          28,
          129,
          47,
          133,
          102,
          28,
          112,
          98,
          122
         ]
        }
       ],
       "layout": {
        "template": {
         "data": {
          "bar": [
           {
            "error_x": {
             "color": "#2a3f5f"
            },
            "error_y": {
             "color": "#2a3f5f"
            },
            "marker": {
             "line": {
              "color": "#E5ECF6",
              "width": 0.5
             },
             "pattern": {
              "fillmode": "overlay",
              "size": 10,
              "solidity": 0.2
             }
            },
            "type": "bar"
           }
          ],
          "barpolar": [
           {
            "marker": {
             "line": {
              "color": "#E5ECF6",
              "width": 0.5
             },
             "pattern": {
              "fillmode": "overlay",
              "size": 10,
              "solidity": 0.2
             }
            },
            "type": "barpolar"
           }
          ],
          "carpet": [
           {
            "aaxis": {
             "endlinecolor": "#2a3f5f",
             "gridcolor": "white",
             "linecolor": "white",
             "minorgridcolor": "white",
             "startlinecolor": "#2a3f5f"
            },
            "baxis": {
             "endlinecolor": "#2a3f5f",
             "gridcolor": "white",
             "linecolor": "white",
             "minorgridcolor": "white",
             "startlinecolor": "#2a3f5f"
            },
            "type": "carpet"
           }
          ],
          "choropleth": [
           {
            "colorbar": {
             "outlinewidth": 0,
             "ticks": ""
            },
            "type": "choropleth"
           }
          ],
          "contour": [
           {
            "colorbar": {
             "outlinewidth": 0,
             "ticks": ""
            },
            "colorscale": [
             [
              0,
              "#0d0887"
             ],
             [
              0.1111111111111111,
              "#46039f"
             ],
             [
              0.2222222222222222,
              "#7201a8"
             ],
             [
              0.3333333333333333,
              "#9c179e"
             ],
             [
              0.4444444444444444,
              "#bd3786"
             ],
             [
              0.5555555555555556,
              "#d8576b"
             ],
             [
              0.6666666666666666,
              "#ed7953"
             ],
             [
              0.7777777777777778,
              "#fb9f3a"
             ],
             [
              0.8888888888888888,
              "#fdca26"
             ],
             [
              1,
              "#f0f921"
             ]
            ],
            "type": "contour"
           }
          ],
          "contourcarpet": [
           {
            "colorbar": {
             "outlinewidth": 0,
             "ticks": ""
            },
            "type": "contourcarpet"
           }
          ],
          "heatmap": [
           {
            "colorbar": {
             "outlinewidth": 0,
             "ticks": ""
            },
            "colorscale": [
             [
              0,
              "#0d0887"
             ],
             [
              0.1111111111111111,
              "#46039f"
             ],
             [
              0.2222222222222222,
              "#7201a8"
             ],
             [
              0.3333333333333333,
              "#9c179e"
             ],
             [
              0.4444444444444444,
              "#bd3786"
             ],
             [
              0.5555555555555556,
              "#d8576b"
             ],
             [
              0.6666666666666666,
              "#ed7953"
             ],
             [
              0.7777777777777778,
              "#fb9f3a"
             ],
             [
              0.8888888888888888,
              "#fdca26"
             ],
             [
              1,
              "#f0f921"
             ]
            ],
            "type": "heatmap"
           }
          ],
          "heatmapgl": [
           {
            "colorbar": {
             "outlinewidth": 0,
             "ticks": ""
            },
            "colorscale": [
             [
              0,
              "#0d0887"
             ],
             [
              0.1111111111111111,
              "#46039f"
             ],
             [
              0.2222222222222222,
              "#7201a8"
             ],
             [
              0.3333333333333333,
              "#9c179e"
             ],
             [
              0.4444444444444444,
              "#bd3786"
             ],
             [
              0.5555555555555556,
              "#d8576b"
             ],
             [
              0.6666666666666666,
              "#ed7953"
             ],
             [
              0.7777777777777778,
              "#fb9f3a"
             ],
             [
              0.8888888888888888,
              "#fdca26"
             ],
             [
              1,
              "#f0f921"
             ]
            ],
            "type": "heatmapgl"
           }
          ],
          "histogram": [
           {
            "marker": {
             "pattern": {
              "fillmode": "overlay",
              "size": 10,
              "solidity": 0.2
             }
            },
            "type": "histogram"
           }
          ],
          "histogram2d": [
           {
            "colorbar": {
             "outlinewidth": 0,
             "ticks": ""
            },
            "colorscale": [
             [
              0,
              "#0d0887"
             ],
             [
              0.1111111111111111,
              "#46039f"
             ],
             [
              0.2222222222222222,
              "#7201a8"
             ],
             [
              0.3333333333333333,
              "#9c179e"
             ],
             [
              0.4444444444444444,
              "#bd3786"
             ],
             [
              0.5555555555555556,
              "#d8576b"
             ],
             [
              0.6666666666666666,
              "#ed7953"
             ],
             [
              0.7777777777777778,
              "#fb9f3a"
             ],
             [
              0.8888888888888888,
              "#fdca26"
             ],
             [
              1,
              "#f0f921"
             ]
            ],
            "type": "histogram2d"
           }
          ],
          "histogram2dcontour": [
           {
            "colorbar": {
             "outlinewidth": 0,
             "ticks": ""
            },
            "colorscale": [
             [
              0,
              "#0d0887"
             ],
             [
              0.1111111111111111,
              "#46039f"
             ],
             [
              0.2222222222222222,
              "#7201a8"
             ],
             [
              0.3333333333333333,
              "#9c179e"
             ],
             [
              0.4444444444444444,
              "#bd3786"
             ],
             [
              0.5555555555555556,
              "#d8576b"
             ],
             [
              0.6666666666666666,
              "#ed7953"
             ],
             [
              0.7777777777777778,
              "#fb9f3a"
             ],
             [
              0.8888888888888888,
              "#fdca26"
             ],
             [
              1,
              "#f0f921"
             ]
            ],
            "type": "histogram2dcontour"
           }
          ],
          "mesh3d": [
           {
            "colorbar": {
             "outlinewidth": 0,
             "ticks": ""
            },
            "type": "mesh3d"
           }
          ],
          "parcoords": [
           {
            "line": {
             "colorbar": {
              "outlinewidth": 0,
              "ticks": ""
             }
            },
            "type": "parcoords"
           }
          ],
          "pie": [
           {
            "automargin": true,
            "type": "pie"
           }
          ],
          "scatter": [
           {
            "fillpattern": {
             "fillmode": "overlay",
             "size": 10,
             "solidity": 0.2
            },
            "type": "scatter"
           }
          ],
          "scatter3d": [
           {
            "line": {
             "colorbar": {
              "outlinewidth": 0,
              "ticks": ""
             }
            },
            "marker": {
             "colorbar": {
              "outlinewidth": 0,
              "ticks": ""
             }
            },
            "type": "scatter3d"
           }
          ],
          "scattercarpet": [
           {
            "marker": {
             "colorbar": {
              "outlinewidth": 0,
              "ticks": ""
             }
            },
            "type": "scattercarpet"
           }
          ],
          "scattergeo": [
           {
            "marker": {
             "colorbar": {
              "outlinewidth": 0,
              "ticks": ""
             }
            },
            "type": "scattergeo"
           }
          ],
          "scattergl": [
           {
            "marker": {
             "colorbar": {
              "outlinewidth": 0,
              "ticks": ""
             }
            },
            "type": "scattergl"
           }
          ],
          "scattermapbox": [
           {
            "marker": {
             "colorbar": {
              "outlinewidth": 0,
              "ticks": ""
             }
            },
            "type": "scattermapbox"
           }
          ],
          "scatterpolar": [
           {
            "marker": {
             "colorbar": {
              "outlinewidth": 0,
              "ticks": ""
             }
            },
            "type": "scatterpolar"
           }
          ],
          "scatterpolargl": [
           {
            "marker": {
             "colorbar": {
              "outlinewidth": 0,
              "ticks": ""
             }
            },
            "type": "scatterpolargl"
           }
          ],
          "scatterternary": [
           {
            "marker": {
             "colorbar": {
              "outlinewidth": 0,
              "ticks": ""
             }
            },
            "type": "scatterternary"
           }
          ],
          "surface": [
           {
            "colorbar": {
             "outlinewidth": 0,
             "ticks": ""
            },
            "colorscale": [
             [
              0,
              "#0d0887"
             ],
             [
              0.1111111111111111,
              "#46039f"
             ],
             [
              0.2222222222222222,
              "#7201a8"
             ],
             [
              0.3333333333333333,
              "#9c179e"
             ],
             [
              0.4444444444444444,
              "#bd3786"
             ],
             [
              0.5555555555555556,
              "#d8576b"
             ],
             [
              0.6666666666666666,
              "#ed7953"
             ],
             [
              0.7777777777777778,
              "#fb9f3a"
             ],
             [
              0.8888888888888888,
              "#fdca26"
             ],
             [
              1,
              "#f0f921"
             ]
            ],
            "type": "surface"
           }
          ],
          "table": [
           {
            "cells": {
             "fill": {
              "color": "#EBF0F8"
             },
             "line": {
              "color": "white"
             }
            },
            "header": {
             "fill": {
              "color": "#C8D4E3"
             },
             "line": {
              "color": "white"
             }
            },
            "type": "table"
           }
          ]
         },
         "layout": {
          "annotationdefaults": {
           "arrowcolor": "#2a3f5f",
           "arrowhead": 0,
           "arrowwidth": 1
          },
          "autotypenumbers": "strict",
          "coloraxis": {
           "colorbar": {
            "outlinewidth": 0,
            "ticks": ""
           }
          },
          "colorscale": {
           "diverging": [
            [
             0,
             "#8e0152"
            ],
            [
             0.1,
             "#c51b7d"
            ],
            [
             0.2,
             "#de77ae"
            ],
            [
             0.3,
             "#f1b6da"
            ],
            [
             0.4,
             "#fde0ef"
            ],
            [
             0.5,
             "#f7f7f7"
            ],
            [
             0.6,
             "#e6f5d0"
            ],
            [
             0.7,
             "#b8e186"
            ],
            [
             0.8,
             "#7fbc41"
            ],
            [
             0.9,
             "#4d9221"
            ],
            [
             1,
             "#276419"
            ]
           ],
           "sequential": [
            [
             0,
             "#0d0887"
            ],
            [
             0.1111111111111111,
             "#46039f"
            ],
            [
             0.2222222222222222,
             "#7201a8"
            ],
            [
             0.3333333333333333,
             "#9c179e"
            ],
            [
             0.4444444444444444,
             "#bd3786"
            ],
            [
             0.5555555555555556,
             "#d8576b"
            ],
            [
             0.6666666666666666,
             "#ed7953"
            ],
            [
             0.7777777777777778,
             "#fb9f3a"
            ],
            [
             0.8888888888888888,
             "#fdca26"
            ],
            [
             1,
             "#f0f921"
            ]
           ],
           "sequentialminus": [
            [
             0,
             "#0d0887"
            ],
            [
             0.1111111111111111,
             "#46039f"
            ],
            [
             0.2222222222222222,
             "#7201a8"
            ],
            [
             0.3333333333333333,
             "#9c179e"
            ],
            [
             0.4444444444444444,
             "#bd3786"
            ],
            [
             0.5555555555555556,
             "#d8576b"
            ],
            [
             0.6666666666666666,
             "#ed7953"
            ],
            [
             0.7777777777777778,
             "#fb9f3a"
            ],
            [
             0.8888888888888888,
             "#fdca26"
            ],
            [
             1,
             "#f0f921"
            ]
           ]
          },
          "colorway": [
           "#636efa",
           "#EF553B",
           "#00cc96",
           "#ab63fa",
           "#FFA15A",
           "#19d3f3",
           "#FF6692",
           "#B6E880",
           "#FF97FF",
           "#FECB52"
          ],
          "font": {
           "color": "#2a3f5f"
          },
          "geo": {
           "bgcolor": "white",
           "lakecolor": "white",
           "landcolor": "#E5ECF6",
           "showlakes": true,
           "showland": true,
           "subunitcolor": "white"
          },
          "hoverlabel": {
           "align": "left"
          },
          "hovermode": "closest",
          "mapbox": {
           "style": "light"
          },
          "paper_bgcolor": "white",
          "plot_bgcolor": "#E5ECF6",
          "polar": {
           "angularaxis": {
            "gridcolor": "white",
            "linecolor": "white",
            "ticks": ""
           },
           "bgcolor": "#E5ECF6",
           "radialaxis": {
            "gridcolor": "white",
            "linecolor": "white",
            "ticks": ""
           }
          },
          "scene": {
           "xaxis": {
            "backgroundcolor": "#E5ECF6",
            "gridcolor": "white",
            "gridwidth": 2,
            "linecolor": "white",
            "showbackground": true,
            "ticks": "",
            "zerolinecolor": "white"
           },
           "yaxis": {
            "backgroundcolor": "#E5ECF6",
            "gridcolor": "white",
            "gridwidth": 2,
            "linecolor": "white",
            "showbackground": true,
            "ticks": "",
            "zerolinecolor": "white"
           },
           "zaxis": {
            "backgroundcolor": "#E5ECF6",
            "gridcolor": "white",
            "gridwidth": 2,
            "linecolor": "white",
            "showbackground": true,
            "ticks": "",
            "zerolinecolor": "white"
           }
          },
          "shapedefaults": {
           "line": {
            "color": "#2a3f5f"
           }
          },
          "ternary": {
           "aaxis": {
            "gridcolor": "white",
            "linecolor": "white",
            "ticks": ""
           },
           "baxis": {
            "gridcolor": "white",
            "linecolor": "white",
            "ticks": ""
           },
           "bgcolor": "#E5ECF6",
           "caxis": {
            "gridcolor": "white",
            "linecolor": "white",
            "ticks": ""
           }
          },
          "title": {
           "x": 0.05
          },
          "xaxis": {
           "automargin": true,
           "gridcolor": "white",
           "linecolor": "white",
           "ticks": "",
           "title": {
            "standoff": 15
           },
           "zerolinecolor": "white",
           "zerolinewidth": 2
          },
          "yaxis": {
           "automargin": true,
           "gridcolor": "white",
           "linecolor": "white",
           "ticks": "",
           "title": {
            "standoff": 15
           },
           "zerolinecolor": "white",
           "zerolinewidth": 2
          }
         }
        },
        "title": {
         "text": "Books_3_5_Movies_8_10 - Explanation length distribution"
        },
        "xaxis": {
         "title": {
          "text": "Length"
         }
        },
        "yaxis": {
         "title": {
          "text": "Frequency"
         }
        }
       }
      }
     },
     "metadata": {},
     "output_type": "display_data"
    }
   ],
   "source": [
    "plot_length_distribution_comparison(books_35_movies_510_0s_preds, books_35_movies_510_1s_preds, \"Books_3_5_Movies_5_10\")\n",
    "plot_length_distribution_comparison(books_35_movies_810_0s_preds, books_35_movies_810_1s_preds, \"Books_3_5_Movies_8_10\")"
   ]
  },
  {
   "cell_type": "code",
   "execution_count": 29,
   "metadata": {},
   "outputs": [
    {
     "data": {
      "application/vnd.plotly.v1+json": {
       "config": {
        "plotlyServerURL": "https://plot.ly"
       },
       "data": [
        {
         "marker": {
          "color": "#28A08C"
         },
         "name": "Zero-Shot",
         "type": "histogram",
         "x": [
          30,
          19,
          41,
          86,
          76,
          36,
          40,
          188,
          17,
          132,
          24,
          19,
          35,
          39,
          16,
          20,
          54,
          34,
          18,
          129,
          23,
          16,
          65,
          38,
          139,
          45,
          85,
          42,
          150,
          48,
          77,
          90,
          27,
          21,
          157,
          20,
          29,
          33,
          42,
          40,
          40,
          21,
          42,
          36,
          50,
          18,
          183,
          40,
          66,
          38,
          24,
          36,
          33,
          71,
          157,
          100,
          73,
          41,
          33,
          38,
          33,
          17,
          163,
          31,
          22,
          37,
          101,
          150,
          34,
          204,
          18,
          141,
          79,
          148,
          111,
          30,
          41,
          18,
          124,
          35,
          65,
          42,
          46,
          19,
          26,
          143,
          111,
          18,
          24,
          37,
          59,
          18,
          129,
          109,
          184,
          34,
          18,
          60,
          40,
          49,
          172,
          135,
          28,
          43,
          40,
          37,
          28,
          23,
          24,
          64,
          43,
          32,
          21,
          39,
          49,
          83,
          18,
          45,
          36,
          188,
          19,
          86,
          24,
          49,
          35,
          72,
          35,
          112,
          36,
          23,
          146,
          33,
          29,
          31,
          103,
          22,
          145,
          40,
          45,
          21,
          47,
          161,
          27,
          31,
          35,
          20,
          99,
          65,
          20,
          81,
          27,
          38,
          140,
          31,
          32,
          41,
          23,
          28,
          21,
          55,
          86,
          20,
          41,
          27,
          27,
          78,
          40,
          100,
          148,
          49,
          120,
          167,
          88,
          19,
          30,
          83,
          101,
          35,
          71,
          119,
          36,
          45,
          143,
          83,
          25,
          29,
          32,
          35,
          36,
          91,
          32,
          36,
          124,
          37,
          26,
          33,
          28,
          72,
          75,
          55,
          20,
          31,
          30,
          67,
          31,
          29,
          20,
          22,
          36,
          73,
          39,
          65,
          188,
          25,
          18,
          36,
          90,
          140,
          125,
          26,
          16,
          20,
          30,
          20,
          41,
          21,
          43,
          24,
          43,
          48,
          98,
          38,
          102,
          28,
          20,
          37,
          35,
          21,
          34,
          19,
          49,
          33,
          112,
          37,
          45,
          120,
          98,
          179,
          25,
          19,
          29,
          31,
          32,
          29,
          98,
          75,
          102,
          91,
          21,
          99,
          29,
          26,
          93,
          61,
          40,
          105,
          32,
          132,
          26,
          158,
          166,
          32,
          33,
          84,
          47,
          135,
          86,
          37,
          48,
          43,
          33,
          39,
          69,
          24,
          91,
          40,
          52,
          138,
          90,
          114,
          21,
          32,
          32,
          138,
          99,
          84,
          69,
          36,
          138,
          22,
          42,
          199,
          204,
          120,
          26,
          32,
          148,
          112,
          20,
          30,
          102,
          20,
          79,
          26,
          29,
          27,
          24,
          22,
          28,
          35,
          200,
          35,
          88,
          18,
          101,
          111,
          37,
          81,
          43,
          31,
          178,
          159,
          160,
          30,
          31,
          145,
          26,
          19,
          46,
          23,
          164,
          118,
          49,
          83,
          17,
          18,
          236,
          36,
          20,
          158,
          164,
          56,
          31,
          58,
          68,
          69,
          25,
          88,
          61,
          154,
          60,
          92,
          42,
          31,
          53,
          114,
          167,
          33,
          24,
          47,
          99,
          37,
          32,
          45,
          22,
          18,
          17,
          43,
          42,
          39,
          25,
          33,
          106,
          88,
          120,
          31,
          45,
          72,
          20,
          18,
          29,
          30,
          85,
          28,
          78,
          29,
          18,
          24,
          172,
          30,
          140,
          22,
          49,
          36,
          20,
          51,
          19,
          23,
          18,
          75,
          35,
          98,
          36,
          63,
          87,
          29,
          37,
          37,
          30,
          130,
          73,
          172,
          43,
          31,
          49,
          73,
          32,
          65,
          59,
          77,
          27,
          55,
          33,
          19,
          163,
          173,
          24,
          66,
          43,
          40,
          32,
          40,
          64,
          23,
          82,
          19,
          96,
          72,
          77,
          156,
          177,
          124,
          30,
          75,
          19,
          25,
          97,
          131,
          148,
          55,
          112,
          51,
          32,
          33,
          67,
          20,
          31,
          187,
          138,
          21,
          20,
          36,
          180,
          31,
          21,
          29,
          36,
          160,
          79,
          151,
          37,
          27,
          38,
          164,
          74,
          39,
          90,
          19,
          23,
          33,
          32,
          92,
          167,
          19,
          25,
          16,
          60,
          66,
          23,
          55,
          29,
          26,
          46,
          26,
          102,
          43,
          79,
          19,
          99,
          39,
          73,
          19,
          71,
          22,
          31,
          146,
          157,
          49,
          41,
          132,
          27,
          31,
          36,
          38,
          19,
          32,
          52,
          92,
          40,
          45,
          74,
          16,
          103,
          143,
          37,
          46,
          30,
          18,
          34,
          125,
          35,
          18,
          19,
          30,
          70,
          30,
          153,
          28,
          28,
          18,
          130,
          23,
          20,
          34,
          16,
          94,
          39,
          159,
          32,
          22,
          47,
          41,
          29,
          99,
          45,
          36,
          39,
          27,
          58,
          34,
          27,
          46,
          92,
          84,
          27,
          117,
          34,
          26,
          93,
          88,
          19,
          21,
          19,
          31,
          168,
          30,
          18,
          38,
          121,
          78,
          47,
          19,
          20,
          26,
          30,
          45,
          43,
          74,
          34,
          84,
          32,
          19,
          159,
          93,
          35,
          23,
          51,
          23,
          40,
          106,
          30,
          19,
          31,
          144,
          41,
          25,
          61,
          102,
          160,
          131,
          18,
          25,
          101,
          28,
          54,
          146,
          37,
          33,
          89,
          28,
          38,
          41,
          27,
          37,
          125,
          68,
          36,
          48,
          161,
          34,
          120,
          55,
          80,
          68,
          60,
          46,
          37,
          158,
          18,
          41,
          67,
          106,
          31,
          88,
          212,
          33,
          22,
          34,
          19,
          20,
          47,
          39,
          165,
          82,
          19,
          75,
          70,
          28,
          66,
          167,
          48,
          22,
          47,
          24,
          49,
          51,
          29,
          65,
          108,
          39,
          38,
          48,
          157,
          18,
          27,
          68,
          19,
          275,
          21,
          21,
          129,
          39,
          38,
          83,
          24,
          21,
          162,
          75,
          38,
          16,
          36,
          66,
          85,
          30,
          92,
          144,
          30,
          20,
          48,
          91,
          19,
          168,
          82,
          23,
          45,
          36,
          17,
          23,
          43,
          59,
          21,
          158,
          51,
          39,
          29,
          31,
          73,
          95,
          46,
          183,
          79,
          100,
          27,
          34,
          148,
          49,
          164,
          26,
          20,
          29,
          33,
          23,
          30,
          89,
          125,
          113,
          23,
          121,
          33,
          98,
          45,
          82,
          19,
          23,
          25,
          97,
          54,
          100,
          29,
          35,
          37,
          24,
          37,
          19,
          31,
          66,
          86,
          76,
          23,
          18,
          48,
          24,
          191,
          73,
          18,
          40,
          84,
          23,
          23,
          83,
          20,
          22,
          72,
          21,
          19,
          34,
          79,
          30,
          36,
          91,
          103,
          25,
          80,
          120,
          140,
          21,
          159,
          223,
          30,
          47,
          92,
          53,
          56,
          75,
          132,
          20,
          112,
          45,
          34,
          63,
          43,
          107,
          148,
          29,
          23,
          42,
          29,
          49,
          19,
          33,
          136,
          156,
          39,
          100,
          42
         ]
        },
        {
         "marker": {
          "color": "#01DB8C"
         },
         "name": "One-Shot",
         "type": "histogram",
         "x": [
          89,
          113,
          83,
          123,
          133,
          103,
          106,
          159,
          111,
          143,
          86,
          153,
          89,
          105,
          101,
          23,
          74,
          82,
          106,
          73,
          180,
          70,
          33,
          85,
          69,
          92,
          83,
          115,
          110,
          66,
          76,
          62,
          116,
          75,
          88,
          28,
          116,
          119,
          136,
          177,
          154,
          23,
          86,
          119,
          81,
          39,
          132,
          173,
          56,
          102,
          139,
          137,
          153,
          126,
          113,
          91,
          137,
          97,
          73,
          105,
          79,
          87,
          153,
          151,
          172,
          46,
          86,
          93,
          144,
          106,
          119,
          36,
          85,
          111,
          43,
          143,
          124,
          96,
          42,
          92,
          123,
          105,
          129,
          22,
          135,
          17,
          149,
          90,
          71,
          69,
          134,
          106,
          42,
          152,
          97,
          141,
          102,
          105,
          108,
          75,
          76,
          175,
          164,
          30,
          131,
          88,
          88,
          36,
          205,
          75,
          150,
          104,
          37,
          49,
          113,
          131,
          168,
          136,
          136,
          40,
          103,
          74,
          155,
          105,
          122,
          41,
          38,
          103,
          109,
          159,
          87,
          108,
          32,
          35,
          126,
          27,
          221,
          123,
          75,
          126,
          106,
          109,
          24,
          171,
          110,
          25,
          160,
          158,
          157,
          67,
          32,
          22,
          110,
          95,
          148,
          70,
          25,
          153,
          28,
          118,
          102,
          47,
          89,
          25,
          164,
          114,
          16,
          92,
          61,
          76,
          110,
          138,
          97,
          168,
          181,
          114,
          90,
          89,
          38,
          93,
          90,
          58,
          121,
          98,
          89,
          32,
          93,
          144,
          88,
          54,
          194,
          164,
          81,
          117,
          95,
          133,
          132,
          74,
          81,
          79,
          156,
          15,
          23,
          107,
          89,
          81,
          141,
          148,
          44,
          81,
          62,
          101,
          107,
          126,
          97,
          113,
          25,
          138,
          133,
          18,
          148,
          87,
          159,
          184,
          144,
          73,
          84,
          175,
          90,
          125,
          144,
          151,
          118,
          198,
          20,
          86,
          92,
          81,
          165,
          126,
          118,
          104,
          29,
          89,
          152,
          104,
          63,
          113,
          119,
          88,
          147,
          27,
          36,
          170,
          131,
          109,
          20,
          155,
          34,
          55,
          70,
          129,
          172,
          42,
          196,
          74,
          159,
          109,
          85,
          134,
          16,
          35,
          130,
          150,
          106,
          94,
          111,
          172,
          52,
          40,
          66,
          47,
          96,
          97,
          119,
          165,
          27,
          19,
          120,
          98,
          125,
          132,
          60,
          19,
          90,
          140,
          78,
          103,
          96,
          37,
          57,
          130,
          81,
          108,
          51,
          82,
          70,
          109,
          17,
          50,
          136,
          20,
          109,
          74,
          135,
          112,
          31,
          95,
          74,
          118,
          151,
          140,
          94,
          150,
          97,
          81,
          98,
          137,
          109,
          138,
          82,
          70,
          103,
          133,
          104,
          143,
          140,
          155,
          43,
          16,
          151,
          91,
          16,
          105,
          72,
          104,
          166,
          70,
          149,
          91,
          95,
          136,
          44,
          61,
          93,
          153,
          129,
          18,
          75,
          58,
          110,
          57,
          96,
          33,
          66,
          130,
          89,
          44,
          164,
          40,
          130,
          166,
          86,
          100,
          145,
          21,
          21,
          75,
          36,
          66,
          19,
          119,
          154,
          123,
          105,
          81,
          150,
          152,
          83,
          173,
          103,
          31,
          103,
          137,
          80,
          112,
          25,
          27,
          200,
          89,
          97,
          24,
          68,
          77,
          30,
          86,
          136,
          148,
          66,
          151,
          148,
          137,
          169,
          67,
          101,
          69,
          108,
          90,
          124,
          94,
          130,
          107,
          98,
          95,
          28,
          141,
          130,
          97,
          50,
          128,
          50,
          62,
          100,
          95,
          146,
          145,
          23,
          69,
          34,
          158,
          146,
          136,
          73,
          177,
          124,
          152,
          92,
          99,
          38,
          42,
          119,
          107,
          144,
          141,
          40,
          45,
          85,
          135,
          146,
          92,
          137,
          31,
          117,
          143,
          103,
          70,
          75,
          201,
          68,
          23,
          151,
          51,
          132,
          65,
          138,
          118,
          152,
          109,
          110,
          110,
          76,
          126,
          127,
          104,
          28,
          125,
          80,
          129,
          150,
          132,
          177,
          80,
          78,
          167,
          159,
          90,
          101,
          73,
          73,
          166,
          96,
          147,
          166,
          20,
          156,
          178,
          84,
          82,
          110,
          131,
          92,
          92,
          92,
          66,
          103,
          84,
          236,
          123,
          61,
          120,
          127,
          95,
          189,
          105,
          93,
          130,
          180,
          49,
          62,
          49,
          122,
          34,
          89,
          42,
          79,
          142,
          103,
          158,
          74,
          118,
          156,
          48,
          159,
          99,
          78,
          105,
          148,
          84,
          73,
          75,
          92,
          145,
          68,
          65,
          93,
          79,
          104,
          118,
          152,
          140,
          162,
          107,
          138,
          91,
          104,
          111,
          142,
          164,
          27,
          61,
          128,
          163,
          124,
          91,
          64,
          121,
          130,
          126,
          78,
          69,
          103,
          127,
          26,
          61,
          115,
          89,
          154,
          75,
          118,
          185,
          27,
          145,
          124,
          49,
          184,
          162,
          61,
          137,
          29,
          75,
          64,
          73,
          103,
          86,
          121,
          141,
          97,
          85,
          48,
          73,
          83,
          172,
          106,
          94,
          104,
          105,
          73,
          94,
          60,
          68,
          171,
          131,
          86,
          153,
          84,
          85,
          26,
          90,
          146,
          57,
          96,
          98,
          134,
          106,
          146,
          95,
          199,
          154,
          148,
          121,
          119,
          65,
          38,
          19,
          88,
          168,
          26,
          118,
          111,
          123,
          143,
          68,
          35,
          18,
          180,
          178,
          107,
          43,
          124,
          111,
          39,
          139,
          98,
          106,
          66,
          27,
          180,
          155,
          81,
          117,
          120,
          23,
          110,
          41,
          27,
          82,
          119,
          146,
          50,
          24,
          174,
          126,
          135,
          148,
          48,
          100,
          145,
          110,
          157,
          60,
          154,
          138,
          84,
          85,
          97,
          29,
          122,
          139,
          62,
          148,
          22,
          91,
          88,
          196,
          108,
          131,
          151,
          109,
          68,
          61,
          19,
          112,
          61,
          155,
          113,
          44,
          164,
          156,
          115,
          168,
          51,
          72,
          96,
          26,
          17,
          130,
          69,
          85,
          110,
          130,
          138,
          117,
          92,
          186,
          106,
          25,
          79,
          84,
          147,
          84,
          125,
          154,
          61,
          106,
          63,
          40,
          136,
          70,
          112,
          125,
          104,
          112,
          170,
          27,
          167,
          67,
          87,
          151,
          82,
          131,
          126,
          60,
          104,
          71,
          86,
          84,
          145,
          71,
          110,
          98,
          120,
          24,
          93,
          116,
          78,
          90,
          126,
          115,
          179,
          87,
          119,
          149,
          156,
          109,
          64,
          159,
          74,
          148,
          164,
          113,
          42,
          65,
          73,
          94,
          78,
          146,
          66,
          96,
          51,
          138,
          87,
          82,
          75,
          68,
          75,
          102,
          76,
          119,
          93,
          25,
          23,
          105,
          126,
          18,
          94,
          27,
          82,
          132,
          109,
          156,
          141,
          125,
          67,
          155,
          117
         ]
        }
       ],
       "layout": {
        "template": {
         "data": {
          "bar": [
           {
            "error_x": {
             "color": "#2a3f5f"
            },
            "error_y": {
             "color": "#2a3f5f"
            },
            "marker": {
             "line": {
              "color": "#E5ECF6",
              "width": 0.5
             },
             "pattern": {
              "fillmode": "overlay",
              "size": 10,
              "solidity": 0.2
             }
            },
            "type": "bar"
           }
          ],
          "barpolar": [
           {
            "marker": {
             "line": {
              "color": "#E5ECF6",
              "width": 0.5
             },
             "pattern": {
              "fillmode": "overlay",
              "size": 10,
              "solidity": 0.2
             }
            },
            "type": "barpolar"
           }
          ],
          "carpet": [
           {
            "aaxis": {
             "endlinecolor": "#2a3f5f",
             "gridcolor": "white",
             "linecolor": "white",
             "minorgridcolor": "white",
             "startlinecolor": "#2a3f5f"
            },
            "baxis": {
             "endlinecolor": "#2a3f5f",
             "gridcolor": "white",
             "linecolor": "white",
             "minorgridcolor": "white",
             "startlinecolor": "#2a3f5f"
            },
            "type": "carpet"
           }
          ],
          "choropleth": [
           {
            "colorbar": {
             "outlinewidth": 0,
             "ticks": ""
            },
            "type": "choropleth"
           }
          ],
          "contour": [
           {
            "colorbar": {
             "outlinewidth": 0,
             "ticks": ""
            },
            "colorscale": [
             [
              0,
              "#0d0887"
             ],
             [
              0.1111111111111111,
              "#46039f"
             ],
             [
              0.2222222222222222,
              "#7201a8"
             ],
             [
              0.3333333333333333,
              "#9c179e"
             ],
             [
              0.4444444444444444,
              "#bd3786"
             ],
             [
              0.5555555555555556,
              "#d8576b"
             ],
             [
              0.6666666666666666,
              "#ed7953"
             ],
             [
              0.7777777777777778,
              "#fb9f3a"
             ],
             [
              0.8888888888888888,
              "#fdca26"
             ],
             [
              1,
              "#f0f921"
             ]
            ],
            "type": "contour"
           }
          ],
          "contourcarpet": [
           {
            "colorbar": {
             "outlinewidth": 0,
             "ticks": ""
            },
            "type": "contourcarpet"
           }
          ],
          "heatmap": [
           {
            "colorbar": {
             "outlinewidth": 0,
             "ticks": ""
            },
            "colorscale": [
             [
              0,
              "#0d0887"
             ],
             [
              0.1111111111111111,
              "#46039f"
             ],
             [
              0.2222222222222222,
              "#7201a8"
             ],
             [
              0.3333333333333333,
              "#9c179e"
             ],
             [
              0.4444444444444444,
              "#bd3786"
             ],
             [
              0.5555555555555556,
              "#d8576b"
             ],
             [
              0.6666666666666666,
              "#ed7953"
             ],
             [
              0.7777777777777778,
              "#fb9f3a"
             ],
             [
              0.8888888888888888,
              "#fdca26"
             ],
             [
              1,
              "#f0f921"
             ]
            ],
            "type": "heatmap"
           }
          ],
          "heatmapgl": [
           {
            "colorbar": {
             "outlinewidth": 0,
             "ticks": ""
            },
            "colorscale": [
             [
              0,
              "#0d0887"
             ],
             [
              0.1111111111111111,
              "#46039f"
             ],
             [
              0.2222222222222222,
              "#7201a8"
             ],
             [
              0.3333333333333333,
              "#9c179e"
             ],
             [
              0.4444444444444444,
              "#bd3786"
             ],
             [
              0.5555555555555556,
              "#d8576b"
             ],
             [
              0.6666666666666666,
              "#ed7953"
             ],
             [
              0.7777777777777778,
              "#fb9f3a"
             ],
             [
              0.8888888888888888,
              "#fdca26"
             ],
             [
              1,
              "#f0f921"
             ]
            ],
            "type": "heatmapgl"
           }
          ],
          "histogram": [
           {
            "marker": {
             "pattern": {
              "fillmode": "overlay",
              "size": 10,
              "solidity": 0.2
             }
            },
            "type": "histogram"
           }
          ],
          "histogram2d": [
           {
            "colorbar": {
             "outlinewidth": 0,
             "ticks": ""
            },
            "colorscale": [
             [
              0,
              "#0d0887"
             ],
             [
              0.1111111111111111,
              "#46039f"
             ],
             [
              0.2222222222222222,
              "#7201a8"
             ],
             [
              0.3333333333333333,
              "#9c179e"
             ],
             [
              0.4444444444444444,
              "#bd3786"
             ],
             [
              0.5555555555555556,
              "#d8576b"
             ],
             [
              0.6666666666666666,
              "#ed7953"
             ],
             [
              0.7777777777777778,
              "#fb9f3a"
             ],
             [
              0.8888888888888888,
              "#fdca26"
             ],
             [
              1,
              "#f0f921"
             ]
            ],
            "type": "histogram2d"
           }
          ],
          "histogram2dcontour": [
           {
            "colorbar": {
             "outlinewidth": 0,
             "ticks": ""
            },
            "colorscale": [
             [
              0,
              "#0d0887"
             ],
             [
              0.1111111111111111,
              "#46039f"
             ],
             [
              0.2222222222222222,
              "#7201a8"
             ],
             [
              0.3333333333333333,
              "#9c179e"
             ],
             [
              0.4444444444444444,
              "#bd3786"
             ],
             [
              0.5555555555555556,
              "#d8576b"
             ],
             [
              0.6666666666666666,
              "#ed7953"
             ],
             [
              0.7777777777777778,
              "#fb9f3a"
             ],
             [
              0.8888888888888888,
              "#fdca26"
             ],
             [
              1,
              "#f0f921"
             ]
            ],
            "type": "histogram2dcontour"
           }
          ],
          "mesh3d": [
           {
            "colorbar": {
             "outlinewidth": 0,
             "ticks": ""
            },
            "type": "mesh3d"
           }
          ],
          "parcoords": [
           {
            "line": {
             "colorbar": {
              "outlinewidth": 0,
              "ticks": ""
             }
            },
            "type": "parcoords"
           }
          ],
          "pie": [
           {
            "automargin": true,
            "type": "pie"
           }
          ],
          "scatter": [
           {
            "fillpattern": {
             "fillmode": "overlay",
             "size": 10,
             "solidity": 0.2
            },
            "type": "scatter"
           }
          ],
          "scatter3d": [
           {
            "line": {
             "colorbar": {
              "outlinewidth": 0,
              "ticks": ""
             }
            },
            "marker": {
             "colorbar": {
              "outlinewidth": 0,
              "ticks": ""
             }
            },
            "type": "scatter3d"
           }
          ],
          "scattercarpet": [
           {
            "marker": {
             "colorbar": {
              "outlinewidth": 0,
              "ticks": ""
             }
            },
            "type": "scattercarpet"
           }
          ],
          "scattergeo": [
           {
            "marker": {
             "colorbar": {
              "outlinewidth": 0,
              "ticks": ""
             }
            },
            "type": "scattergeo"
           }
          ],
          "scattergl": [
           {
            "marker": {
             "colorbar": {
              "outlinewidth": 0,
              "ticks": ""
             }
            },
            "type": "scattergl"
           }
          ],
          "scattermapbox": [
           {
            "marker": {
             "colorbar": {
              "outlinewidth": 0,
              "ticks": ""
             }
            },
            "type": "scattermapbox"
           }
          ],
          "scatterpolar": [
           {
            "marker": {
             "colorbar": {
              "outlinewidth": 0,
              "ticks": ""
             }
            },
            "type": "scatterpolar"
           }
          ],
          "scatterpolargl": [
           {
            "marker": {
             "colorbar": {
              "outlinewidth": 0,
              "ticks": ""
             }
            },
            "type": "scatterpolargl"
           }
          ],
          "scatterternary": [
           {
            "marker": {
             "colorbar": {
              "outlinewidth": 0,
              "ticks": ""
             }
            },
            "type": "scatterternary"
           }
          ],
          "surface": [
           {
            "colorbar": {
             "outlinewidth": 0,
             "ticks": ""
            },
            "colorscale": [
             [
              0,
              "#0d0887"
             ],
             [
              0.1111111111111111,
              "#46039f"
             ],
             [
              0.2222222222222222,
              "#7201a8"
             ],
             [
              0.3333333333333333,
              "#9c179e"
             ],
             [
              0.4444444444444444,
              "#bd3786"
             ],
             [
              0.5555555555555556,
              "#d8576b"
             ],
             [
              0.6666666666666666,
              "#ed7953"
             ],
             [
              0.7777777777777778,
              "#fb9f3a"
             ],
             [
              0.8888888888888888,
              "#fdca26"
             ],
             [
              1,
              "#f0f921"
             ]
            ],
            "type": "surface"
           }
          ],
          "table": [
           {
            "cells": {
             "fill": {
              "color": "#EBF0F8"
             },
             "line": {
              "color": "white"
             }
            },
            "header": {
             "fill": {
              "color": "#C8D4E3"
             },
             "line": {
              "color": "white"
             }
            },
            "type": "table"
           }
          ]
         },
         "layout": {
          "annotationdefaults": {
           "arrowcolor": "#2a3f5f",
           "arrowhead": 0,
           "arrowwidth": 1
          },
          "autotypenumbers": "strict",
          "coloraxis": {
           "colorbar": {
            "outlinewidth": 0,
            "ticks": ""
           }
          },
          "colorscale": {
           "diverging": [
            [
             0,
             "#8e0152"
            ],
            [
             0.1,
             "#c51b7d"
            ],
            [
             0.2,
             "#de77ae"
            ],
            [
             0.3,
             "#f1b6da"
            ],
            [
             0.4,
             "#fde0ef"
            ],
            [
             0.5,
             "#f7f7f7"
            ],
            [
             0.6,
             "#e6f5d0"
            ],
            [
             0.7,
             "#b8e186"
            ],
            [
             0.8,
             "#7fbc41"
            ],
            [
             0.9,
             "#4d9221"
            ],
            [
             1,
             "#276419"
            ]
           ],
           "sequential": [
            [
             0,
             "#0d0887"
            ],
            [
             0.1111111111111111,
             "#46039f"
            ],
            [
             0.2222222222222222,
             "#7201a8"
            ],
            [
             0.3333333333333333,
             "#9c179e"
            ],
            [
             0.4444444444444444,
             "#bd3786"
            ],
            [
             0.5555555555555556,
             "#d8576b"
            ],
            [
             0.6666666666666666,
             "#ed7953"
            ],
            [
             0.7777777777777778,
             "#fb9f3a"
            ],
            [
             0.8888888888888888,
             "#fdca26"
            ],
            [
             1,
             "#f0f921"
            ]
           ],
           "sequentialminus": [
            [
             0,
             "#0d0887"
            ],
            [
             0.1111111111111111,
             "#46039f"
            ],
            [
             0.2222222222222222,
             "#7201a8"
            ],
            [
             0.3333333333333333,
             "#9c179e"
            ],
            [
             0.4444444444444444,
             "#bd3786"
            ],
            [
             0.5555555555555556,
             "#d8576b"
            ],
            [
             0.6666666666666666,
             "#ed7953"
            ],
            [
             0.7777777777777778,
             "#fb9f3a"
            ],
            [
             0.8888888888888888,
             "#fdca26"
            ],
            [
             1,
             "#f0f921"
            ]
           ]
          },
          "colorway": [
           "#636efa",
           "#EF553B",
           "#00cc96",
           "#ab63fa",
           "#FFA15A",
           "#19d3f3",
           "#FF6692",
           "#B6E880",
           "#FF97FF",
           "#FECB52"
          ],
          "font": {
           "color": "#2a3f5f"
          },
          "geo": {
           "bgcolor": "white",
           "lakecolor": "white",
           "landcolor": "#E5ECF6",
           "showlakes": true,
           "showland": true,
           "subunitcolor": "white"
          },
          "hoverlabel": {
           "align": "left"
          },
          "hovermode": "closest",
          "mapbox": {
           "style": "light"
          },
          "paper_bgcolor": "white",
          "plot_bgcolor": "#E5ECF6",
          "polar": {
           "angularaxis": {
            "gridcolor": "white",
            "linecolor": "white",
            "ticks": ""
           },
           "bgcolor": "#E5ECF6",
           "radialaxis": {
            "gridcolor": "white",
            "linecolor": "white",
            "ticks": ""
           }
          },
          "scene": {
           "xaxis": {
            "backgroundcolor": "#E5ECF6",
            "gridcolor": "white",
            "gridwidth": 2,
            "linecolor": "white",
            "showbackground": true,
            "ticks": "",
            "zerolinecolor": "white"
           },
           "yaxis": {
            "backgroundcolor": "#E5ECF6",
            "gridcolor": "white",
            "gridwidth": 2,
            "linecolor": "white",
            "showbackground": true,
            "ticks": "",
            "zerolinecolor": "white"
           },
           "zaxis": {
            "backgroundcolor": "#E5ECF6",
            "gridcolor": "white",
            "gridwidth": 2,
            "linecolor": "white",
            "showbackground": true,
            "ticks": "",
            "zerolinecolor": "white"
           }
          },
          "shapedefaults": {
           "line": {
            "color": "#2a3f5f"
           }
          },
          "ternary": {
           "aaxis": {
            "gridcolor": "white",
            "linecolor": "white",
            "ticks": ""
           },
           "baxis": {
            "gridcolor": "white",
            "linecolor": "white",
            "ticks": ""
           },
           "bgcolor": "#E5ECF6",
           "caxis": {
            "gridcolor": "white",
            "linecolor": "white",
            "ticks": ""
           }
          },
          "title": {
           "x": 0.05
          },
          "xaxis": {
           "automargin": true,
           "gridcolor": "white",
           "linecolor": "white",
           "ticks": "",
           "title": {
            "standoff": 15
           },
           "zerolinecolor": "white",
           "zerolinewidth": 2
          },
          "yaxis": {
           "automargin": true,
           "gridcolor": "white",
           "linecolor": "white",
           "ticks": "",
           "title": {
            "standoff": 15
           },
           "zerolinecolor": "white",
           "zerolinewidth": 2
          }
         }
        },
        "title": {
         "text": "Books_3_5_CDs_5_10 - Explanation length distribution"
        },
        "xaxis": {
         "title": {
          "text": "Length"
         }
        },
        "yaxis": {
         "title": {
          "text": "Frequency"
         }
        }
       }
      }
     },
     "metadata": {},
     "output_type": "display_data"
    },
    {
     "data": {
      "application/vnd.plotly.v1+json": {
       "config": {
        "plotlyServerURL": "https://plot.ly"
       },
       "data": [
        {
         "marker": {
          "color": "#28A08C"
         },
         "name": "Zero-Shot",
         "type": "histogram",
         "x": [
          30,
          86,
          40,
          35,
          16,
          34,
          18,
          16,
          65,
          45,
          85,
          150,
          27,
          21,
          42,
          183,
          33,
          71,
          157,
          100,
          17,
          31,
          37,
          34,
          79,
          30,
          35,
          42,
          40,
          49,
          172,
          135,
          43,
          32,
          36,
          86,
          35,
          35,
          33,
          22,
          145,
          40,
          47,
          99,
          65,
          20,
          81,
          38,
          31,
          32,
          23,
          55,
          27,
          148,
          120,
          19,
          45,
          143,
          83,
          32,
          72,
          31,
          22,
          36,
          25,
          90,
          20,
          21,
          24,
          20,
          21,
          112,
          45,
          98,
          19,
          32,
          26,
          40,
          158,
          33,
          135,
          37,
          48,
          43,
          33,
          39,
          40,
          52,
          32,
          138,
          120,
          26,
          20,
          27,
          22,
          28,
          35,
          37,
          43,
          31,
          160,
          30,
          145,
          19,
          118,
          18,
          20,
          158,
          56,
          58,
          68,
          25,
          114,
          33,
          37,
          32,
          18,
          43,
          31,
          45,
          72,
          29,
          30,
          85,
          29,
          24,
          22,
          36,
          19,
          18,
          37,
          37,
          43,
          59,
          33,
          19,
          19,
          156,
          30,
          75,
          25,
          55,
          112,
          51,
          32,
          20,
          31,
          31,
          21,
          37,
          27,
          23,
          43,
          79,
          99,
          41,
          27,
          36,
          40,
          37,
          18,
          34,
          35,
          70,
          30,
          39,
          159,
          41,
          27,
          58,
          46,
          92,
          27,
          26,
          93,
          19,
          30,
          121,
          47,
          34,
          84,
          19,
          23,
          40,
          30,
          61,
          101,
          28,
          54,
          37,
          41,
          125,
          48,
          120,
          46,
          31,
          34,
          47,
          39,
          165,
          82,
          19,
          70,
          66,
          48,
          24,
          49,
          108,
          39,
          18,
          129,
          83,
          38,
          85,
          92,
          30,
          19,
          168,
          23,
          36,
          17,
          23,
          31,
          95,
          49,
          164,
          33,
          23,
          121,
          33,
          45,
          23,
          25,
          24,
          31,
          76,
          23,
          191,
          73,
          18,
          40,
          23,
          83,
          19,
          34,
          30,
          36,
          103,
          80,
          140,
          159,
          223,
          30,
          53,
          56,
          45,
          34,
          43,
          23,
          29,
          49,
          42
         ]
        },
        {
         "marker": {
          "color": "#01DB8C"
         },
         "name": "One-Shot",
         "type": "histogram",
         "x": [
          89,
          123,
          106,
          89,
          101,
          82,
          106,
          70,
          33,
          92,
          83,
          110,
          116,
          75,
          136,
          132,
          153,
          126,
          113,
          91,
          87,
          151,
          46,
          144,
          85,
          143,
          92,
          105,
          108,
          75,
          76,
          175,
          150,
          104,
          136,
          74,
          122,
          38,
          108,
          27,
          221,
          123,
          106,
          160,
          158,
          157,
          67,
          22,
          95,
          148,
          25,
          118,
          164,
          61,
          110,
          168,
          58,
          121,
          98,
          194,
          74,
          89,
          148,
          44,
          126,
          25,
          87,
          73,
          175,
          20,
          81,
          29,
          152,
          63,
          88,
          36,
          129,
          196,
          134,
          130,
          94,
          172,
          52,
          40,
          66,
          47,
          165,
          27,
          60,
          19,
          108,
          51,
          17,
          112,
          95,
          74,
          140,
          98,
          109,
          138,
          103,
          133,
          143,
          155,
          91,
          104,
          149,
          91,
          136,
          61,
          93,
          129,
          130,
          44,
          166,
          86,
          21,
          75,
          81,
          150,
          152,
          103,
          31,
          103,
          112,
          27,
          24,
          77,
          136,
          66,
          108,
          90,
          98,
          50,
          100,
          95,
          152,
          42,
          144,
          141,
          45,
          92,
          137,
          31,
          117,
          70,
          75,
          65,
          138,
          76,
          126,
          150,
          178,
          84,
          110,
          61,
          127,
          189,
          62,
          79,
          158,
          74,
          156,
          78,
          105,
          104,
          118,
          107,
          164,
          27,
          163,
          124,
          64,
          126,
          78,
          103,
          89,
          118,
          27,
          29,
          75,
          73,
          141,
          48,
          83,
          73,
          86,
          153,
          84,
          26,
          98,
          146,
          154,
          119,
          168,
          35,
          43,
          39,
          139,
          98,
          106,
          66,
          180,
          81,
          120,
          41,
          27,
          50,
          24,
          148,
          154,
          85,
          62,
          88,
          108,
          151,
          19,
          112,
          155,
          44,
          164,
          156,
          130,
          85,
          25,
          79,
          125,
          136,
          70,
          112,
          104,
          27,
          167,
          60,
          86,
          71,
          110,
          93,
          116,
          78,
          90,
          115,
          87,
          64,
          159,
          148,
          164,
          42,
          73,
          78,
          66,
          96,
          51,
          82,
          75,
          119,
          93,
          23,
          94,
          82,
          132,
          117
         ]
        }
       ],
       "layout": {
        "template": {
         "data": {
          "bar": [
           {
            "error_x": {
             "color": "#2a3f5f"
            },
            "error_y": {
             "color": "#2a3f5f"
            },
            "marker": {
             "line": {
              "color": "#E5ECF6",
              "width": 0.5
             },
             "pattern": {
              "fillmode": "overlay",
              "size": 10,
              "solidity": 0.2
             }
            },
            "type": "bar"
           }
          ],
          "barpolar": [
           {
            "marker": {
             "line": {
              "color": "#E5ECF6",
              "width": 0.5
             },
             "pattern": {
              "fillmode": "overlay",
              "size": 10,
              "solidity": 0.2
             }
            },
            "type": "barpolar"
           }
          ],
          "carpet": [
           {
            "aaxis": {
             "endlinecolor": "#2a3f5f",
             "gridcolor": "white",
             "linecolor": "white",
             "minorgridcolor": "white",
             "startlinecolor": "#2a3f5f"
            },
            "baxis": {
             "endlinecolor": "#2a3f5f",
             "gridcolor": "white",
             "linecolor": "white",
             "minorgridcolor": "white",
             "startlinecolor": "#2a3f5f"
            },
            "type": "carpet"
           }
          ],
          "choropleth": [
           {
            "colorbar": {
             "outlinewidth": 0,
             "ticks": ""
            },
            "type": "choropleth"
           }
          ],
          "contour": [
           {
            "colorbar": {
             "outlinewidth": 0,
             "ticks": ""
            },
            "colorscale": [
             [
              0,
              "#0d0887"
             ],
             [
              0.1111111111111111,
              "#46039f"
             ],
             [
              0.2222222222222222,
              "#7201a8"
             ],
             [
              0.3333333333333333,
              "#9c179e"
             ],
             [
              0.4444444444444444,
              "#bd3786"
             ],
             [
              0.5555555555555556,
              "#d8576b"
             ],
             [
              0.6666666666666666,
              "#ed7953"
             ],
             [
              0.7777777777777778,
              "#fb9f3a"
             ],
             [
              0.8888888888888888,
              "#fdca26"
             ],
             [
              1,
              "#f0f921"
             ]
            ],
            "type": "contour"
           }
          ],
          "contourcarpet": [
           {
            "colorbar": {
             "outlinewidth": 0,
             "ticks": ""
            },
            "type": "contourcarpet"
           }
          ],
          "heatmap": [
           {
            "colorbar": {
             "outlinewidth": 0,
             "ticks": ""
            },
            "colorscale": [
             [
              0,
              "#0d0887"
             ],
             [
              0.1111111111111111,
              "#46039f"
             ],
             [
              0.2222222222222222,
              "#7201a8"
             ],
             [
              0.3333333333333333,
              "#9c179e"
             ],
             [
              0.4444444444444444,
              "#bd3786"
             ],
             [
              0.5555555555555556,
              "#d8576b"
             ],
             [
              0.6666666666666666,
              "#ed7953"
             ],
             [
              0.7777777777777778,
              "#fb9f3a"
             ],
             [
              0.8888888888888888,
              "#fdca26"
             ],
             [
              1,
              "#f0f921"
             ]
            ],
            "type": "heatmap"
           }
          ],
          "heatmapgl": [
           {
            "colorbar": {
             "outlinewidth": 0,
             "ticks": ""
            },
            "colorscale": [
             [
              0,
              "#0d0887"
             ],
             [
              0.1111111111111111,
              "#46039f"
             ],
             [
              0.2222222222222222,
              "#7201a8"
             ],
             [
              0.3333333333333333,
              "#9c179e"
             ],
             [
              0.4444444444444444,
              "#bd3786"
             ],
             [
              0.5555555555555556,
              "#d8576b"
             ],
             [
              0.6666666666666666,
              "#ed7953"
             ],
             [
              0.7777777777777778,
              "#fb9f3a"
             ],
             [
              0.8888888888888888,
              "#fdca26"
             ],
             [
              1,
              "#f0f921"
             ]
            ],
            "type": "heatmapgl"
           }
          ],
          "histogram": [
           {
            "marker": {
             "pattern": {
              "fillmode": "overlay",
              "size": 10,
              "solidity": 0.2
             }
            },
            "type": "histogram"
           }
          ],
          "histogram2d": [
           {
            "colorbar": {
             "outlinewidth": 0,
             "ticks": ""
            },
            "colorscale": [
             [
              0,
              "#0d0887"
             ],
             [
              0.1111111111111111,
              "#46039f"
             ],
             [
              0.2222222222222222,
              "#7201a8"
             ],
             [
              0.3333333333333333,
              "#9c179e"
             ],
             [
              0.4444444444444444,
              "#bd3786"
             ],
             [
              0.5555555555555556,
              "#d8576b"
             ],
             [
              0.6666666666666666,
              "#ed7953"
             ],
             [
              0.7777777777777778,
              "#fb9f3a"
             ],
             [
              0.8888888888888888,
              "#fdca26"
             ],
             [
              1,
              "#f0f921"
             ]
            ],
            "type": "histogram2d"
           }
          ],
          "histogram2dcontour": [
           {
            "colorbar": {
             "outlinewidth": 0,
             "ticks": ""
            },
            "colorscale": [
             [
              0,
              "#0d0887"
             ],
             [
              0.1111111111111111,
              "#46039f"
             ],
             [
              0.2222222222222222,
              "#7201a8"
             ],
             [
              0.3333333333333333,
              "#9c179e"
             ],
             [
              0.4444444444444444,
              "#bd3786"
             ],
             [
              0.5555555555555556,
              "#d8576b"
             ],
             [
              0.6666666666666666,
              "#ed7953"
             ],
             [
              0.7777777777777778,
              "#fb9f3a"
             ],
             [
              0.8888888888888888,
              "#fdca26"
             ],
             [
              1,
              "#f0f921"
             ]
            ],
            "type": "histogram2dcontour"
           }
          ],
          "mesh3d": [
           {
            "colorbar": {
             "outlinewidth": 0,
             "ticks": ""
            },
            "type": "mesh3d"
           }
          ],
          "parcoords": [
           {
            "line": {
             "colorbar": {
              "outlinewidth": 0,
              "ticks": ""
             }
            },
            "type": "parcoords"
           }
          ],
          "pie": [
           {
            "automargin": true,
            "type": "pie"
           }
          ],
          "scatter": [
           {
            "fillpattern": {
             "fillmode": "overlay",
             "size": 10,
             "solidity": 0.2
            },
            "type": "scatter"
           }
          ],
          "scatter3d": [
           {
            "line": {
             "colorbar": {
              "outlinewidth": 0,
              "ticks": ""
             }
            },
            "marker": {
             "colorbar": {
              "outlinewidth": 0,
              "ticks": ""
             }
            },
            "type": "scatter3d"
           }
          ],
          "scattercarpet": [
           {
            "marker": {
             "colorbar": {
              "outlinewidth": 0,
              "ticks": ""
             }
            },
            "type": "scattercarpet"
           }
          ],
          "scattergeo": [
           {
            "marker": {
             "colorbar": {
              "outlinewidth": 0,
              "ticks": ""
             }
            },
            "type": "scattergeo"
           }
          ],
          "scattergl": [
           {
            "marker": {
             "colorbar": {
              "outlinewidth": 0,
              "ticks": ""
             }
            },
            "type": "scattergl"
           }
          ],
          "scattermapbox": [
           {
            "marker": {
             "colorbar": {
              "outlinewidth": 0,
              "ticks": ""
             }
            },
            "type": "scattermapbox"
           }
          ],
          "scatterpolar": [
           {
            "marker": {
             "colorbar": {
              "outlinewidth": 0,
              "ticks": ""
             }
            },
            "type": "scatterpolar"
           }
          ],
          "scatterpolargl": [
           {
            "marker": {
             "colorbar": {
              "outlinewidth": 0,
              "ticks": ""
             }
            },
            "type": "scatterpolargl"
           }
          ],
          "scatterternary": [
           {
            "marker": {
             "colorbar": {
              "outlinewidth": 0,
              "ticks": ""
             }
            },
            "type": "scatterternary"
           }
          ],
          "surface": [
           {
            "colorbar": {
             "outlinewidth": 0,
             "ticks": ""
            },
            "colorscale": [
             [
              0,
              "#0d0887"
             ],
             [
              0.1111111111111111,
              "#46039f"
             ],
             [
              0.2222222222222222,
              "#7201a8"
             ],
             [
              0.3333333333333333,
              "#9c179e"
             ],
             [
              0.4444444444444444,
              "#bd3786"
             ],
             [
              0.5555555555555556,
              "#d8576b"
             ],
             [
              0.6666666666666666,
              "#ed7953"
             ],
             [
              0.7777777777777778,
              "#fb9f3a"
             ],
             [
              0.8888888888888888,
              "#fdca26"
             ],
             [
              1,
              "#f0f921"
             ]
            ],
            "type": "surface"
           }
          ],
          "table": [
           {
            "cells": {
             "fill": {
              "color": "#EBF0F8"
             },
             "line": {
              "color": "white"
             }
            },
            "header": {
             "fill": {
              "color": "#C8D4E3"
             },
             "line": {
              "color": "white"
             }
            },
            "type": "table"
           }
          ]
         },
         "layout": {
          "annotationdefaults": {
           "arrowcolor": "#2a3f5f",
           "arrowhead": 0,
           "arrowwidth": 1
          },
          "autotypenumbers": "strict",
          "coloraxis": {
           "colorbar": {
            "outlinewidth": 0,
            "ticks": ""
           }
          },
          "colorscale": {
           "diverging": [
            [
             0,
             "#8e0152"
            ],
            [
             0.1,
             "#c51b7d"
            ],
            [
             0.2,
             "#de77ae"
            ],
            [
             0.3,
             "#f1b6da"
            ],
            [
             0.4,
             "#fde0ef"
            ],
            [
             0.5,
             "#f7f7f7"
            ],
            [
             0.6,
             "#e6f5d0"
            ],
            [
             0.7,
             "#b8e186"
            ],
            [
             0.8,
             "#7fbc41"
            ],
            [
             0.9,
             "#4d9221"
            ],
            [
             1,
             "#276419"
            ]
           ],
           "sequential": [
            [
             0,
             "#0d0887"
            ],
            [
             0.1111111111111111,
             "#46039f"
            ],
            [
             0.2222222222222222,
             "#7201a8"
            ],
            [
             0.3333333333333333,
             "#9c179e"
            ],
            [
             0.4444444444444444,
             "#bd3786"
            ],
            [
             0.5555555555555556,
             "#d8576b"
            ],
            [
             0.6666666666666666,
             "#ed7953"
            ],
            [
             0.7777777777777778,
             "#fb9f3a"
            ],
            [
             0.8888888888888888,
             "#fdca26"
            ],
            [
             1,
             "#f0f921"
            ]
           ],
           "sequentialminus": [
            [
             0,
             "#0d0887"
            ],
            [
             0.1111111111111111,
             "#46039f"
            ],
            [
             0.2222222222222222,
             "#7201a8"
            ],
            [
             0.3333333333333333,
             "#9c179e"
            ],
            [
             0.4444444444444444,
             "#bd3786"
            ],
            [
             0.5555555555555556,
             "#d8576b"
            ],
            [
             0.6666666666666666,
             "#ed7953"
            ],
            [
             0.7777777777777778,
             "#fb9f3a"
            ],
            [
             0.8888888888888888,
             "#fdca26"
            ],
            [
             1,
             "#f0f921"
            ]
           ]
          },
          "colorway": [
           "#636efa",
           "#EF553B",
           "#00cc96",
           "#ab63fa",
           "#FFA15A",
           "#19d3f3",
           "#FF6692",
           "#B6E880",
           "#FF97FF",
           "#FECB52"
          ],
          "font": {
           "color": "#2a3f5f"
          },
          "geo": {
           "bgcolor": "white",
           "lakecolor": "white",
           "landcolor": "#E5ECF6",
           "showlakes": true,
           "showland": true,
           "subunitcolor": "white"
          },
          "hoverlabel": {
           "align": "left"
          },
          "hovermode": "closest",
          "mapbox": {
           "style": "light"
          },
          "paper_bgcolor": "white",
          "plot_bgcolor": "#E5ECF6",
          "polar": {
           "angularaxis": {
            "gridcolor": "white",
            "linecolor": "white",
            "ticks": ""
           },
           "bgcolor": "#E5ECF6",
           "radialaxis": {
            "gridcolor": "white",
            "linecolor": "white",
            "ticks": ""
           }
          },
          "scene": {
           "xaxis": {
            "backgroundcolor": "#E5ECF6",
            "gridcolor": "white",
            "gridwidth": 2,
            "linecolor": "white",
            "showbackground": true,
            "ticks": "",
            "zerolinecolor": "white"
           },
           "yaxis": {
            "backgroundcolor": "#E5ECF6",
            "gridcolor": "white",
            "gridwidth": 2,
            "linecolor": "white",
            "showbackground": true,
            "ticks": "",
            "zerolinecolor": "white"
           },
           "zaxis": {
            "backgroundcolor": "#E5ECF6",
            "gridcolor": "white",
            "gridwidth": 2,
            "linecolor": "white",
            "showbackground": true,
            "ticks": "",
            "zerolinecolor": "white"
           }
          },
          "shapedefaults": {
           "line": {
            "color": "#2a3f5f"
           }
          },
          "ternary": {
           "aaxis": {
            "gridcolor": "white",
            "linecolor": "white",
            "ticks": ""
           },
           "baxis": {
            "gridcolor": "white",
            "linecolor": "white",
            "ticks": ""
           },
           "bgcolor": "#E5ECF6",
           "caxis": {
            "gridcolor": "white",
            "linecolor": "white",
            "ticks": ""
           }
          },
          "title": {
           "x": 0.05
          },
          "xaxis": {
           "automargin": true,
           "gridcolor": "white",
           "linecolor": "white",
           "ticks": "",
           "title": {
            "standoff": 15
           },
           "zerolinecolor": "white",
           "zerolinewidth": 2
          },
          "yaxis": {
           "automargin": true,
           "gridcolor": "white",
           "linecolor": "white",
           "ticks": "",
           "title": {
            "standoff": 15
           },
           "zerolinecolor": "white",
           "zerolinewidth": 2
          }
         }
        },
        "title": {
         "text": "Books_3_5_CDs_8_10 - Explanation length distribution"
        },
        "xaxis": {
         "title": {
          "text": "Length"
         }
        },
        "yaxis": {
         "title": {
          "text": "Frequency"
         }
        }
       }
      }
     },
     "metadata": {},
     "output_type": "display_data"
    }
   ],
   "source": [
    "plot_length_distribution_comparison(books_35_cds_510_0s_preds, books_35_cds_510_1s_preds, \"Books_3_5_CDs_5_10\")\n",
    "plot_length_distribution_comparison(books_35_cds_810_0s_preds, books_35_cds_810_1s_preds, \"Books_3_5_CDs_8_10\")"
   ]
  },
  {
   "cell_type": "code",
   "execution_count": 30,
   "metadata": {},
   "outputs": [
    {
     "data": {
      "application/vnd.plotly.v1+json": {
       "config": {
        "plotlyServerURL": "https://plot.ly"
       },
       "data": [
        {
         "marker": {
          "color": "#28A08C"
         },
         "name": "Zero-Shot",
         "type": "histogram",
         "x": [
          22,
          20,
          17,
          32,
          36,
          31,
          37,
          22,
          27,
          22,
          20,
          24,
          33,
          103,
          25,
          34,
          26,
          21,
          44,
          26,
          104,
          30,
          32,
          24,
          21,
          29,
          31,
          15,
          33,
          1,
          20,
          34,
          28,
          41,
          23,
          32,
          34,
          91,
          31,
          39,
          32,
          22,
          1,
          28,
          1,
          28,
          36,
          33,
          22,
          159,
          92,
          45,
          31,
          21,
          34,
          26,
          35,
          35,
          21,
          28,
          26,
          30,
          35,
          31,
          30,
          32,
          51,
          14,
          33,
          17,
          1,
          39,
          25,
          33,
          72,
          17,
          25,
          20,
          27,
          31,
          21,
          14,
          40,
          38,
          28,
          221,
          169,
          52,
          23,
          23,
          60,
          59,
          26,
          102,
          40,
          31,
          28,
          49,
          44,
          42,
          32,
          23,
          35,
          23,
          36,
          45,
          17,
          28,
          56,
          15,
          29,
          19,
          26,
          26,
          33,
          131,
          49,
          18,
          33,
          37,
          42,
          27,
          28,
          39,
          24,
          22,
          45,
          37,
          47,
          149,
          33,
          31,
          31,
          19,
          35,
          19,
          86,
          38,
          29,
          25,
          29,
          28,
          110,
          28,
          31,
          30,
          33,
          30,
          28,
          33,
          32,
          161,
          29,
          14,
          21,
          22,
          24,
          33,
          66,
          29,
          35,
          32,
          23,
          25,
          43,
          27,
          14,
          25,
          30,
          24,
          28,
          29,
          1,
          24,
          19,
          39,
          27,
          18,
          33,
          24,
          29,
          45,
          27,
          24,
          33,
          41,
          169,
          154,
          26,
          34,
          121,
          47,
          93,
          31,
          14,
          109,
          25,
          29,
          35,
          23,
          17,
          27,
          1,
          35,
          20,
          33,
          20,
          25,
          39,
          65,
          33,
          26,
          19,
          21,
          28,
          23,
          35,
          41,
          20,
          167,
          51,
          29,
          32,
          43,
          29,
          23,
          32,
          37,
          14,
          19,
          45,
          61,
          23,
          31,
          22,
          53,
          184,
          31,
          23,
          28,
          35,
          119,
          35,
          22,
          36,
          22,
          25,
          22,
          160,
          14,
          31,
          22,
          28,
          14,
          21,
          28,
          24,
          18,
          14,
          14,
          27,
          26,
          38,
          47,
          24,
          16,
          24,
          26,
          33,
          31,
          40,
          25,
          19,
          18,
          163,
          25,
          50,
          19,
          50,
          27,
          33,
          35,
          25,
          42,
          31,
          26,
          31,
          66,
          1,
          31,
          24,
          97,
          19,
          30,
          31,
          24,
          22,
          30,
          42,
          72,
          28,
          43,
          28,
          33,
          77,
          1,
          24,
          44,
          30,
          67,
          33,
          26,
          25,
          71,
          31,
          34,
          25,
          33,
          21,
          41,
          74,
          34,
          21,
          28,
          31,
          27,
          23,
          38,
          47,
          28,
          20,
          14,
          23,
          161,
          21,
          32,
          28,
          41,
          17,
          24,
          21,
          197,
          42,
          24,
          28,
          34,
          25,
          104,
          78,
          18,
          21,
          152,
          1,
          20,
          23,
          28,
          1,
          23,
          37,
          151,
          39,
          62,
          43,
          27,
          31,
          24,
          47,
          40,
          44,
          27,
          22,
          31,
          121,
          170,
          24,
          28,
          140,
          31,
          79,
          107,
          25,
          41,
          90,
          180,
          20,
          27,
          50,
          24,
          30,
          22,
          24,
          31,
          30,
          32,
          25,
          40,
          27,
          34,
          25,
          1,
          28,
          31,
          28,
          143,
          30,
          27,
          30,
          18,
          31,
          46,
          38,
          30,
          30,
          24,
          43,
          24,
          33,
          34,
          24,
          30,
          24,
          148,
          42,
          18,
          20,
          1,
          25,
          17,
          35,
          33,
          17,
          37,
          32,
          18,
          52,
          108,
          21,
          19,
          38,
          32,
          101,
          38,
          18,
          29,
          48,
          18,
          38,
          1,
          32,
          20,
          30,
          153,
          22,
          15,
          19,
          27,
          32,
          44,
          30,
          154,
          35,
          112,
          22,
          18,
          24,
          24,
          33,
          22,
          31,
          31,
          22,
          38,
          136,
          164,
          34,
          28,
          35,
          167,
          27,
          19,
          24,
          31,
          23,
          95,
          21,
          17,
          35,
          24,
          35,
          34,
          35,
          40,
          21,
          45,
          18,
          19,
          48,
          65,
          23,
          30,
          47,
          24,
          36,
          31,
          21,
          22,
          34,
          45,
          26,
          26,
          158,
          34,
          14,
          27,
          27,
          37,
          21,
          148,
          38,
          20,
          33,
          24,
          59,
          30,
          33,
          33,
          37,
          23,
          42,
          33,
          23,
          35,
          20,
          32,
          21,
          23,
          29,
          46,
          103,
          25,
          39,
          33,
          117,
          31,
          39,
          73,
          38,
          29,
          99,
          40,
          35,
          25,
          41,
          47,
          36,
          30,
          29,
          32,
          30,
          78,
          35,
          56,
          23,
          96,
          31,
          30,
          30,
          24,
          44,
          28,
          48,
          108,
          24,
          27,
          44,
          25,
          33,
          29,
          60,
          22,
          30,
          33,
          39,
          41,
          39,
          18,
          27,
          1,
          162,
          32,
          21,
          26,
          53,
          34,
          28,
          43,
          21,
          22,
          84,
          40,
          55,
          23,
          41,
          49,
          30,
          20,
          22,
          25,
          130,
          24,
          37,
          22,
          21,
          39,
          21,
          47,
          96,
          25,
          19,
          141,
          34,
          24,
          33,
          37,
          30,
          136,
          57,
          21,
          29,
          12,
          31,
          147,
          38,
          106,
          40,
          1,
          22,
          18,
          45,
          37,
          31,
          28,
          1,
          43,
          41,
          37,
          97,
          20,
          127,
          25,
          31,
          28,
          36,
          27,
          25,
          17,
          31,
          22,
          34,
          23,
          23,
          70,
          18,
          20,
          28,
          122,
          194,
          22,
          26,
          25,
          38,
          1,
          115,
          136,
          30,
          22,
          28,
          40,
          30,
          43,
          111,
          35,
          33,
          109,
          24,
          20,
          32,
          29,
          34,
          26,
          39,
          24,
          55,
          29,
          27,
          19,
          145,
          96,
          36,
          34,
          115,
          24,
          23,
          20,
          26,
          29,
          39,
          35,
          86,
          19,
          29,
          33,
          34,
          24,
          27,
          21,
          22,
          25,
          1,
          19,
          33,
          24,
          37,
          93,
          27,
          27,
          25,
          31,
          28,
          35,
          35,
          91,
          26,
          27,
          22,
          42,
          24,
          45,
          22,
          26,
          17,
          18,
          39,
          33,
          50,
          33,
          15,
          35,
          96,
          120,
          25,
          21,
          38,
          28,
          32,
          125,
          49,
          22,
          26,
          55,
          45,
          45,
          23,
          28,
          17,
          28,
          143,
          26,
          1,
          27,
          32,
          31,
          24,
          51,
          26,
          26,
          21,
          62,
          33,
          118,
          29,
          78,
          30,
          30,
          22,
          148,
          42,
          20,
          18,
          26,
          61,
          60,
          28,
          94,
          24,
          22,
          148,
          21,
          106,
          26,
          20,
          29,
          14,
          1,
          28,
          43,
          38,
          65,
          19,
          23,
          30,
          23,
          36,
          23,
          20,
          34,
          24,
          65,
          16,
          41,
          25,
          127,
          108,
          27,
          26,
          1,
          74,
          37,
          40,
          29,
          33,
          93,
          99,
          51,
          18,
          30,
          26,
          24,
          28,
          41,
          25,
          136,
          23,
          24,
          21,
          29,
          25,
          28,
          44,
          36,
          68,
          23,
          48,
          53,
          30,
          39,
          1,
          21,
          64,
          23,
          42,
          19,
          31,
          33,
          32,
          52,
          29,
          106,
          19,
          1,
          45,
          30,
          42,
          37,
          39,
          25,
          44,
          85,
          36,
          124,
          31,
          42,
          20,
          31,
          24,
          30,
          21,
          34,
          37,
          32,
          42,
          42,
          1,
          31,
          31,
          31,
          1,
          131,
          53,
          36,
          82,
          77,
          27,
          17,
          133,
          155,
          22,
          128,
          28,
          23,
          23,
          55,
          26,
          69,
          30,
          25,
          44,
          30,
          41,
          39,
          20,
          29,
          82,
          63,
          29,
          24,
          46,
          23,
          20,
          62,
          33,
          25,
          37,
          38,
          31,
          39,
          31,
          20,
          20,
          150,
          1,
          151,
          130,
          28,
          127,
          42,
          38,
          41,
          14,
          40,
          21,
          22,
          25,
          23,
          32,
          138,
          27,
          50,
          43,
          1,
          29,
          20,
          30,
          61,
          32,
          1,
          38,
          26,
          37,
          54,
          36,
          85,
          137,
          20,
          28,
          35,
          1,
          24,
          37,
          143,
          32,
          53,
          18,
          24,
          20,
          29,
          49,
          25,
          32,
          17,
          1,
          54,
          34,
          26,
          25,
          26,
          120,
          1,
          35,
          38,
          34,
          24,
          17,
          30,
          36,
          25,
          29,
          24,
          30,
          39,
          73,
          138,
          27,
          45,
          57,
          95,
          26,
          17,
          73,
          31,
          87,
          38,
          14,
          27,
          36,
          31,
          22,
          26,
          28,
          28,
          33,
          19,
          25,
          48,
          14,
          25,
          79,
          152,
          35,
          25,
          18,
          14,
          23,
          33,
          35,
          24,
          39,
          31,
          45,
          49,
          23,
          36,
          102,
          27,
          23,
          106,
          44,
          21,
          44,
          31,
          42,
          21,
          36,
          45,
          40,
          17,
          114,
          58,
          36,
          29,
          28,
          38,
          29,
          25,
          21,
          38,
          42,
          40,
          37,
          42,
          59,
          19,
          20,
          28,
          31,
          28,
          110,
          35,
          24,
          30,
          19,
          26,
          32,
          31,
          36,
          20,
          47,
          142,
          43,
          34,
          1,
          27,
          35,
          106,
          63,
          33,
          138,
          137,
          33,
          31,
          127,
          27,
          46,
          31,
          71,
          134,
          113,
          88,
          26,
          41,
          22,
          27,
          81,
          21,
          24,
          42,
          24,
          1,
          21,
          29,
          31,
          51,
          32,
          30,
          164,
          32,
          31,
          1,
          29,
          18,
          31,
          31,
          32,
          28,
          19,
          148,
          23,
          39,
          25,
          1,
          65,
          41,
          31,
          26,
          22,
          33,
          26,
          52,
          19,
          46,
          37,
          51,
          109,
          40,
          30,
          41,
          30,
          53,
          54,
          34,
          24,
          32,
          34,
          96,
          1,
          28,
          94,
          25,
          57,
          25,
          27,
          125,
          22,
          55,
          22,
          18,
          33,
          78,
          65,
          78,
          47,
          35,
          26,
          21,
          45,
          33,
          30,
          17,
          39,
          34,
          28,
          34,
          40,
          44,
          31,
          18,
          139,
          14,
          1,
          34,
          159,
          95,
          30,
          34,
          20
         ]
        },
        {
         "marker": {
          "color": "#01DB8C"
         },
         "name": "One-Shot",
         "type": "histogram",
         "x": [
          19,
          69,
          115,
          115,
          130,
          118,
          146,
          116,
          146,
          112,
          130,
          79,
          131,
          160,
          163,
          121,
          45,
          71,
          94,
          121,
          113,
          119,
          39,
          163,
          126,
          134,
          143,
          49,
          155,
          62,
          135,
          162,
          30,
          138,
          114,
          141,
          40,
          171,
          79,
          20,
          144,
          110,
          154,
          106,
          118,
          128,
          126,
          159,
          175,
          192,
          62,
          119,
          23,
          32,
          110,
          24,
          135,
          128,
          24,
          127,
          111,
          109,
          85,
          23,
          143,
          144,
          104,
          38,
          144,
          21,
          67,
          85,
          24,
          137,
          129,
          63,
          152,
          31,
          33,
          78,
          130,
          29,
          117,
          107,
          116,
          153,
          102,
          65,
          95,
          41,
          57,
          97,
          32,
          118,
          117,
          132,
          33,
          108,
          104,
          105,
          143,
          112,
          87,
          136,
          159,
          117,
          143,
          124,
          106,
          111,
          24,
          110,
          36,
          22,
          83,
          104,
          110,
          133,
          24,
          122,
          95,
          120,
          124,
          86,
          88,
          153,
          88,
          158,
          160,
          80,
          131,
          78,
          123,
          127,
          149,
          35,
          115,
          152,
          28,
          133,
          167,
          132,
          109,
          113,
          159,
          56,
          130,
          19,
          28,
          28,
          159,
          142,
          121,
          125,
          136,
          119,
          133,
          124,
          85,
          109,
          81,
          166,
          85,
          127,
          135,
          131,
          149,
          131,
          77,
          202,
          106,
          114,
          139,
          148,
          107,
          138,
          43,
          113,
          30,
          97,
          28,
          102,
          147,
          28,
          123,
          153,
          101,
          52,
          109,
          119,
          75,
          168,
          123,
          125,
          139,
          100,
          140,
          161,
          124,
          69,
          67,
          109,
          69,
          28,
          123,
          136,
          97,
          24,
          97,
          94,
          109,
          80,
          37,
          104,
          98,
          175,
          145,
          126,
          102,
          21,
          133,
          118,
          121,
          28,
          125,
          24,
          123,
          90,
          132,
          158,
          82,
          145,
          28,
          144,
          137,
          107,
          132,
          95,
          23,
          123,
          160,
          119,
          157,
          118,
          34,
          123,
          112,
          26,
          108,
          57,
          44,
          138,
          25,
          23,
          126,
          26,
          73,
          69,
          141,
          165,
          140,
          59,
          39,
          75,
          121,
          63,
          39,
          106,
          148,
          46,
          91,
          116,
          135,
          132,
          129,
          145,
          139,
          24,
          33,
          104,
          116,
          142,
          128,
          152,
          98,
          121,
          165,
          111,
          170,
          79,
          28,
          143,
          22,
          115,
          98,
          172,
          40,
          138,
          113,
          143,
          29,
          50,
          26,
          85,
          127,
          68,
          113,
          97,
          100,
          44,
          52,
          113,
          143,
          96,
          138,
          107,
          35,
          108,
          86,
          134,
          103,
          104,
          135,
          29,
          142,
          138,
          144,
          134,
          131,
          103,
          89,
          132,
          143,
          96,
          67,
          126,
          206,
          114,
          162,
          99,
          30,
          107,
          48,
          145,
          29,
          118,
          101,
          166,
          106,
          26,
          62,
          141,
          24,
          131,
          141,
          83,
          137,
          138,
          100,
          161,
          142,
          114,
          151,
          110,
          38,
          117,
          159,
          108,
          83,
          156,
          128,
          110,
          65,
          27,
          32,
          123,
          81,
          121,
          142,
          50,
          51,
          97,
          130,
          92,
          133,
          110,
          123,
          142,
          115,
          113,
          146,
          106,
          110,
          46,
          133,
          104,
          31,
          153,
          121,
          122,
          144,
          127,
          27,
          32,
          132,
          125,
          32,
          26,
          128,
          36,
          151,
          22,
          80,
          105,
          138,
          143,
          159,
          139,
          58,
          114,
          132,
          84,
          120,
          106,
          114,
          75,
          78,
          96,
          27,
          128,
          24,
          111,
          124,
          18,
          156,
          132,
          161,
          23,
          38,
          61,
          79,
          31,
          146,
          86,
          32,
          81,
          132,
          137,
          122,
          113,
          30,
          24,
          25,
          150,
          158,
          142,
          69,
          36,
          28,
          125,
          135,
          120,
          127,
          105,
          76,
          124,
          23,
          147,
          165,
          26,
          82,
          70,
          100,
          29,
          44,
          33,
          103,
          136,
          123,
          169,
          124,
          137,
          25,
          67,
          37,
          127,
          31,
          117,
          68,
          182,
          115,
          56,
          26,
          152,
          140,
          23,
          82,
          70,
          128,
          107,
          102,
          25,
          117,
          25,
          102,
          171,
          41,
          31,
          54,
          25,
          25,
          81,
          89,
          123,
          102,
          171,
          109,
          132,
          27,
          28,
          136,
          23,
          151,
          159,
          118,
          163,
          89,
          141,
          125,
          161,
          98,
          109,
          34,
          132,
          122,
          69,
          112,
          140,
          78,
          113,
          106,
          87,
          123,
          27,
          110,
          90,
          120,
          152,
          124,
          106,
          35,
          138,
          37,
          135,
          48,
          172,
          115,
          152,
          175,
          124,
          138,
          70,
          96,
          93,
          126,
          39,
          142,
          140,
          62,
          95,
          193,
          126,
          155,
          67,
          69,
          115,
          132,
          31,
          153,
          40,
          141,
          121,
          47,
          142,
          127,
          147,
          152,
          106,
          125,
          132,
          101,
          114,
          51,
          96,
          88,
          41,
          133,
          28,
          136,
          26,
          151,
          105,
          33,
          153,
          94,
          123,
          97,
          66,
          123,
          39,
          137,
          137,
          98,
          29,
          124,
          85,
          102,
          112,
          24,
          107,
          139,
          63,
          141,
          140,
          147,
          43,
          135,
          30,
          81,
          116,
          104,
          162,
          150,
          110,
          113,
          21,
          131,
          27,
          113,
          92,
          166,
          56,
          54,
          123,
          110,
          169,
          31,
          25,
          121,
          128,
          29,
          102,
          71,
          124,
          159,
          120,
          123,
          159,
          146,
          121,
          134,
          105,
          23,
          140,
          30,
          96,
          138,
          119,
          104,
          138,
          120,
          112,
          122,
          101,
          26,
          120,
          95,
          159,
          129,
          121,
          85,
          27,
          138,
          96,
          149,
          126,
          81,
          72,
          135,
          128,
          107,
          24,
          111,
          30,
          174,
          97,
          152,
          72,
          26,
          193,
          26,
          153,
          162,
          25,
          110,
          49,
          125,
          141,
          76,
          133,
          116,
          108,
          31,
          86,
          51,
          84,
          88,
          24,
          140,
          131,
          156,
          146,
          118,
          121,
          24,
          120,
          168,
          139,
          143,
          138,
          23,
          95,
          134,
          154,
          94,
          115,
          119,
          24,
          122,
          162,
          119,
          66,
          147,
          112,
          101,
          118,
          106,
          97,
          77,
          109,
          44,
          125,
          112,
          147,
          48,
          101,
          22,
          120,
          129,
          28,
          79,
          27,
          138,
          44,
          22,
          32,
          130,
          119,
          103,
          155,
          138,
          97,
          31,
          102,
          26,
          121,
          118,
          113,
          104,
          133,
          45,
          125,
          131,
          129,
          112,
          130,
          147,
          137,
          141,
          85,
          61,
          127,
          24,
          111,
          119,
          118,
          114,
          26,
          77,
          85,
          128,
          114,
          123,
          35,
          120,
          48,
          52,
          122,
          136,
          100,
          120,
          34,
          36,
          54,
          126,
          155,
          116,
          64,
          140,
          110,
          179,
          87,
          101,
          113,
          118,
          126,
          134,
          124,
          154,
          97,
          108,
          95,
          126,
          136,
          106,
          85,
          121,
          118,
          118,
          122,
          25,
          104,
          123,
          67,
          80,
          89,
          143,
          120,
          77,
          126,
          29,
          129,
          154,
          49,
          27,
          139,
          122,
          115,
          132,
          99,
          142,
          127,
          132,
          95,
          62,
          139,
          103,
          65,
          135,
          93,
          139,
          120,
          151,
          103,
          116,
          104,
          133,
          134,
          27,
          68,
          115,
          135,
          26,
          133,
          22,
          110,
          149,
          136,
          157,
          104,
          131,
          106,
          146,
          139,
          44,
          121,
          97,
          76,
          151,
          100,
          68,
          117,
          181,
          97,
          110,
          118,
          100,
          127,
          23,
          27,
          24,
          147,
          128,
          191,
          26,
          63,
          145,
          108,
          136,
          28,
          73,
          140,
          91,
          132,
          30,
          67,
          75,
          151,
          99,
          64,
          129,
          139,
          134,
          32,
          123,
          112,
          138,
          156,
          28,
          134,
          108,
          28,
          33,
          30,
          94,
          110,
          118,
          129,
          125,
          145,
          74,
          29,
          116,
          125,
          63,
          28,
          132,
          108,
          103,
          40,
          118,
          132,
          95,
          90,
          85,
          29,
          78,
          128,
          161,
          131,
          28,
          88,
          122,
          31,
          85,
          42,
          53,
          106,
          152,
          118,
          125,
          101,
          112,
          155,
          136,
          186,
          138,
          98,
          125,
          102,
          26,
          99,
          85,
          143,
          176,
          92,
          124,
          97,
          133,
          145,
          128,
          89,
          138,
          26,
          156,
          118,
          62,
          168,
          67,
          49,
          102,
          98,
          139,
          155,
          141,
          51,
          81,
          149,
          99,
          73,
          109,
          68,
          127,
          114,
          175,
          136,
          160,
          72,
          116,
          108,
          118,
          127,
          99,
          126,
          129,
          47,
          110,
          146,
          122,
          22,
          113,
          44,
          123,
          138,
          101,
          64,
          24,
          128,
          70,
          85,
          118,
          136,
          100,
          122,
          87,
          76,
          102,
          109,
          160,
          112,
          117,
          23,
          111,
          89,
          26,
          24,
          106,
          30,
          82,
          145,
          138,
          134,
          33,
          107,
          146,
          115,
          137,
          111,
          31,
          120,
          143,
          144,
          96,
          114,
          32,
          81,
          113,
          123,
          57,
          136,
          98,
          30,
          88,
          25,
          94,
          17,
          26,
          141,
          74,
          134,
          153,
          26,
          135,
          74,
          83,
          91,
          96,
          167,
          84,
          133,
          158,
          78,
          28,
          36,
          105,
          125,
          85,
          26,
          106,
          71,
          101,
          126,
          56,
          94,
          30,
          130,
          29,
          66,
          152,
          129,
          94,
          105,
          119,
          75,
          95,
          126,
          108,
          104,
          91,
          30,
          86,
          26,
          126,
          116,
          147,
          100,
          25,
          136,
          149,
          97,
          40,
          100,
          188,
          151,
          58,
          114,
          151,
          143,
          31,
          87,
          99,
          105,
          141,
          65,
          85,
          150,
          117,
          68,
          95,
          143,
          88,
          25,
          108,
          81,
          49,
          101,
          89,
          110,
          104,
          36,
          28,
          90,
          129,
          87,
          74,
          27,
          114,
          99,
          66,
          54,
          138,
          34,
          194,
          131,
          117,
          26,
          148,
          115,
          124,
          236,
          97,
          108,
          28,
          31,
          134,
          157,
          28,
          73,
          37,
          81,
          135,
          152,
          104,
          122,
          98
         ]
        }
       ],
       "layout": {
        "template": {
         "data": {
          "bar": [
           {
            "error_x": {
             "color": "#2a3f5f"
            },
            "error_y": {
             "color": "#2a3f5f"
            },
            "marker": {
             "line": {
              "color": "#E5ECF6",
              "width": 0.5
             },
             "pattern": {
              "fillmode": "overlay",
              "size": 10,
              "solidity": 0.2
             }
            },
            "type": "bar"
           }
          ],
          "barpolar": [
           {
            "marker": {
             "line": {
              "color": "#E5ECF6",
              "width": 0.5
             },
             "pattern": {
              "fillmode": "overlay",
              "size": 10,
              "solidity": 0.2
             }
            },
            "type": "barpolar"
           }
          ],
          "carpet": [
           {
            "aaxis": {
             "endlinecolor": "#2a3f5f",
             "gridcolor": "white",
             "linecolor": "white",
             "minorgridcolor": "white",
             "startlinecolor": "#2a3f5f"
            },
            "baxis": {
             "endlinecolor": "#2a3f5f",
             "gridcolor": "white",
             "linecolor": "white",
             "minorgridcolor": "white",
             "startlinecolor": "#2a3f5f"
            },
            "type": "carpet"
           }
          ],
          "choropleth": [
           {
            "colorbar": {
             "outlinewidth": 0,
             "ticks": ""
            },
            "type": "choropleth"
           }
          ],
          "contour": [
           {
            "colorbar": {
             "outlinewidth": 0,
             "ticks": ""
            },
            "colorscale": [
             [
              0,
              "#0d0887"
             ],
             [
              0.1111111111111111,
              "#46039f"
             ],
             [
              0.2222222222222222,
              "#7201a8"
             ],
             [
              0.3333333333333333,
              "#9c179e"
             ],
             [
              0.4444444444444444,
              "#bd3786"
             ],
             [
              0.5555555555555556,
              "#d8576b"
             ],
             [
              0.6666666666666666,
              "#ed7953"
             ],
             [
              0.7777777777777778,
              "#fb9f3a"
             ],
             [
              0.8888888888888888,
              "#fdca26"
             ],
             [
              1,
              "#f0f921"
             ]
            ],
            "type": "contour"
           }
          ],
          "contourcarpet": [
           {
            "colorbar": {
             "outlinewidth": 0,
             "ticks": ""
            },
            "type": "contourcarpet"
           }
          ],
          "heatmap": [
           {
            "colorbar": {
             "outlinewidth": 0,
             "ticks": ""
            },
            "colorscale": [
             [
              0,
              "#0d0887"
             ],
             [
              0.1111111111111111,
              "#46039f"
             ],
             [
              0.2222222222222222,
              "#7201a8"
             ],
             [
              0.3333333333333333,
              "#9c179e"
             ],
             [
              0.4444444444444444,
              "#bd3786"
             ],
             [
              0.5555555555555556,
              "#d8576b"
             ],
             [
              0.6666666666666666,
              "#ed7953"
             ],
             [
              0.7777777777777778,
              "#fb9f3a"
             ],
             [
              0.8888888888888888,
              "#fdca26"
             ],
             [
              1,
              "#f0f921"
             ]
            ],
            "type": "heatmap"
           }
          ],
          "heatmapgl": [
           {
            "colorbar": {
             "outlinewidth": 0,
             "ticks": ""
            },
            "colorscale": [
             [
              0,
              "#0d0887"
             ],
             [
              0.1111111111111111,
              "#46039f"
             ],
             [
              0.2222222222222222,
              "#7201a8"
             ],
             [
              0.3333333333333333,
              "#9c179e"
             ],
             [
              0.4444444444444444,
              "#bd3786"
             ],
             [
              0.5555555555555556,
              "#d8576b"
             ],
             [
              0.6666666666666666,
              "#ed7953"
             ],
             [
              0.7777777777777778,
              "#fb9f3a"
             ],
             [
              0.8888888888888888,
              "#fdca26"
             ],
             [
              1,
              "#f0f921"
             ]
            ],
            "type": "heatmapgl"
           }
          ],
          "histogram": [
           {
            "marker": {
             "pattern": {
              "fillmode": "overlay",
              "size": 10,
              "solidity": 0.2
             }
            },
            "type": "histogram"
           }
          ],
          "histogram2d": [
           {
            "colorbar": {
             "outlinewidth": 0,
             "ticks": ""
            },
            "colorscale": [
             [
              0,
              "#0d0887"
             ],
             [
              0.1111111111111111,
              "#46039f"
             ],
             [
              0.2222222222222222,
              "#7201a8"
             ],
             [
              0.3333333333333333,
              "#9c179e"
             ],
             [
              0.4444444444444444,
              "#bd3786"
             ],
             [
              0.5555555555555556,
              "#d8576b"
             ],
             [
              0.6666666666666666,
              "#ed7953"
             ],
             [
              0.7777777777777778,
              "#fb9f3a"
             ],
             [
              0.8888888888888888,
              "#fdca26"
             ],
             [
              1,
              "#f0f921"
             ]
            ],
            "type": "histogram2d"
           }
          ],
          "histogram2dcontour": [
           {
            "colorbar": {
             "outlinewidth": 0,
             "ticks": ""
            },
            "colorscale": [
             [
              0,
              "#0d0887"
             ],
             [
              0.1111111111111111,
              "#46039f"
             ],
             [
              0.2222222222222222,
              "#7201a8"
             ],
             [
              0.3333333333333333,
              "#9c179e"
             ],
             [
              0.4444444444444444,
              "#bd3786"
             ],
             [
              0.5555555555555556,
              "#d8576b"
             ],
             [
              0.6666666666666666,
              "#ed7953"
             ],
             [
              0.7777777777777778,
              "#fb9f3a"
             ],
             [
              0.8888888888888888,
              "#fdca26"
             ],
             [
              1,
              "#f0f921"
             ]
            ],
            "type": "histogram2dcontour"
           }
          ],
          "mesh3d": [
           {
            "colorbar": {
             "outlinewidth": 0,
             "ticks": ""
            },
            "type": "mesh3d"
           }
          ],
          "parcoords": [
           {
            "line": {
             "colorbar": {
              "outlinewidth": 0,
              "ticks": ""
             }
            },
            "type": "parcoords"
           }
          ],
          "pie": [
           {
            "automargin": true,
            "type": "pie"
           }
          ],
          "scatter": [
           {
            "fillpattern": {
             "fillmode": "overlay",
             "size": 10,
             "solidity": 0.2
            },
            "type": "scatter"
           }
          ],
          "scatter3d": [
           {
            "line": {
             "colorbar": {
              "outlinewidth": 0,
              "ticks": ""
             }
            },
            "marker": {
             "colorbar": {
              "outlinewidth": 0,
              "ticks": ""
             }
            },
            "type": "scatter3d"
           }
          ],
          "scattercarpet": [
           {
            "marker": {
             "colorbar": {
              "outlinewidth": 0,
              "ticks": ""
             }
            },
            "type": "scattercarpet"
           }
          ],
          "scattergeo": [
           {
            "marker": {
             "colorbar": {
              "outlinewidth": 0,
              "ticks": ""
             }
            },
            "type": "scattergeo"
           }
          ],
          "scattergl": [
           {
            "marker": {
             "colorbar": {
              "outlinewidth": 0,
              "ticks": ""
             }
            },
            "type": "scattergl"
           }
          ],
          "scattermapbox": [
           {
            "marker": {
             "colorbar": {
              "outlinewidth": 0,
              "ticks": ""
             }
            },
            "type": "scattermapbox"
           }
          ],
          "scatterpolar": [
           {
            "marker": {
             "colorbar": {
              "outlinewidth": 0,
              "ticks": ""
             }
            },
            "type": "scatterpolar"
           }
          ],
          "scatterpolargl": [
           {
            "marker": {
             "colorbar": {
              "outlinewidth": 0,
              "ticks": ""
             }
            },
            "type": "scatterpolargl"
           }
          ],
          "scatterternary": [
           {
            "marker": {
             "colorbar": {
              "outlinewidth": 0,
              "ticks": ""
             }
            },
            "type": "scatterternary"
           }
          ],
          "surface": [
           {
            "colorbar": {
             "outlinewidth": 0,
             "ticks": ""
            },
            "colorscale": [
             [
              0,
              "#0d0887"
             ],
             [
              0.1111111111111111,
              "#46039f"
             ],
             [
              0.2222222222222222,
              "#7201a8"
             ],
             [
              0.3333333333333333,
              "#9c179e"
             ],
             [
              0.4444444444444444,
              "#bd3786"
             ],
             [
              0.5555555555555556,
              "#d8576b"
             ],
             [
              0.6666666666666666,
              "#ed7953"
             ],
             [
              0.7777777777777778,
              "#fb9f3a"
             ],
             [
              0.8888888888888888,
              "#fdca26"
             ],
             [
              1,
              "#f0f921"
             ]
            ],
            "type": "surface"
           }
          ],
          "table": [
           {
            "cells": {
             "fill": {
              "color": "#EBF0F8"
             },
             "line": {
              "color": "white"
             }
            },
            "header": {
             "fill": {
              "color": "#C8D4E3"
             },
             "line": {
              "color": "white"
             }
            },
            "type": "table"
           }
          ]
         },
         "layout": {
          "annotationdefaults": {
           "arrowcolor": "#2a3f5f",
           "arrowhead": 0,
           "arrowwidth": 1
          },
          "autotypenumbers": "strict",
          "coloraxis": {
           "colorbar": {
            "outlinewidth": 0,
            "ticks": ""
           }
          },
          "colorscale": {
           "diverging": [
            [
             0,
             "#8e0152"
            ],
            [
             0.1,
             "#c51b7d"
            ],
            [
             0.2,
             "#de77ae"
            ],
            [
             0.3,
             "#f1b6da"
            ],
            [
             0.4,
             "#fde0ef"
            ],
            [
             0.5,
             "#f7f7f7"
            ],
            [
             0.6,
             "#e6f5d0"
            ],
            [
             0.7,
             "#b8e186"
            ],
            [
             0.8,
             "#7fbc41"
            ],
            [
             0.9,
             "#4d9221"
            ],
            [
             1,
             "#276419"
            ]
           ],
           "sequential": [
            [
             0,
             "#0d0887"
            ],
            [
             0.1111111111111111,
             "#46039f"
            ],
            [
             0.2222222222222222,
             "#7201a8"
            ],
            [
             0.3333333333333333,
             "#9c179e"
            ],
            [
             0.4444444444444444,
             "#bd3786"
            ],
            [
             0.5555555555555556,
             "#d8576b"
            ],
            [
             0.6666666666666666,
             "#ed7953"
            ],
            [
             0.7777777777777778,
             "#fb9f3a"
            ],
            [
             0.8888888888888888,
             "#fdca26"
            ],
            [
             1,
             "#f0f921"
            ]
           ],
           "sequentialminus": [
            [
             0,
             "#0d0887"
            ],
            [
             0.1111111111111111,
             "#46039f"
            ],
            [
             0.2222222222222222,
             "#7201a8"
            ],
            [
             0.3333333333333333,
             "#9c179e"
            ],
            [
             0.4444444444444444,
             "#bd3786"
            ],
            [
             0.5555555555555556,
             "#d8576b"
            ],
            [
             0.6666666666666666,
             "#ed7953"
            ],
            [
             0.7777777777777778,
             "#fb9f3a"
            ],
            [
             0.8888888888888888,
             "#fdca26"
            ],
            [
             1,
             "#f0f921"
            ]
           ]
          },
          "colorway": [
           "#636efa",
           "#EF553B",
           "#00cc96",
           "#ab63fa",
           "#FFA15A",
           "#19d3f3",
           "#FF6692",
           "#B6E880",
           "#FF97FF",
           "#FECB52"
          ],
          "font": {
           "color": "#2a3f5f"
          },
          "geo": {
           "bgcolor": "white",
           "lakecolor": "white",
           "landcolor": "#E5ECF6",
           "showlakes": true,
           "showland": true,
           "subunitcolor": "white"
          },
          "hoverlabel": {
           "align": "left"
          },
          "hovermode": "closest",
          "mapbox": {
           "style": "light"
          },
          "paper_bgcolor": "white",
          "plot_bgcolor": "#E5ECF6",
          "polar": {
           "angularaxis": {
            "gridcolor": "white",
            "linecolor": "white",
            "ticks": ""
           },
           "bgcolor": "#E5ECF6",
           "radialaxis": {
            "gridcolor": "white",
            "linecolor": "white",
            "ticks": ""
           }
          },
          "scene": {
           "xaxis": {
            "backgroundcolor": "#E5ECF6",
            "gridcolor": "white",
            "gridwidth": 2,
            "linecolor": "white",
            "showbackground": true,
            "ticks": "",
            "zerolinecolor": "white"
           },
           "yaxis": {
            "backgroundcolor": "#E5ECF6",
            "gridcolor": "white",
            "gridwidth": 2,
            "linecolor": "white",
            "showbackground": true,
            "ticks": "",
            "zerolinecolor": "white"
           },
           "zaxis": {
            "backgroundcolor": "#E5ECF6",
            "gridcolor": "white",
            "gridwidth": 2,
            "linecolor": "white",
            "showbackground": true,
            "ticks": "",
            "zerolinecolor": "white"
           }
          },
          "shapedefaults": {
           "line": {
            "color": "#2a3f5f"
           }
          },
          "ternary": {
           "aaxis": {
            "gridcolor": "white",
            "linecolor": "white",
            "ticks": ""
           },
           "baxis": {
            "gridcolor": "white",
            "linecolor": "white",
            "ticks": ""
           },
           "bgcolor": "#E5ECF6",
           "caxis": {
            "gridcolor": "white",
            "linecolor": "white",
            "ticks": ""
           }
          },
          "title": {
           "x": 0.05
          },
          "xaxis": {
           "automargin": true,
           "gridcolor": "white",
           "linecolor": "white",
           "ticks": "",
           "title": {
            "standoff": 15
           },
           "zerolinecolor": "white",
           "zerolinewidth": 2
          },
          "yaxis": {
           "automargin": true,
           "gridcolor": "white",
           "linecolor": "white",
           "ticks": "",
           "title": {
            "standoff": 15
           },
           "zerolinecolor": "white",
           "zerolinewidth": 2
          }
         }
        },
        "title": {
         "text": "CDs_3_5_Movies_5_10 - Explanation length distribution"
        },
        "xaxis": {
         "title": {
          "text": "Length"
         }
        },
        "yaxis": {
         "title": {
          "text": "Frequency"
         }
        }
       }
      }
     },
     "metadata": {},
     "output_type": "display_data"
    },
    {
     "data": {
      "application/vnd.plotly.v1+json": {
       "config": {
        "plotlyServerURL": "https://plot.ly"
       },
       "data": [
        {
         "marker": {
          "color": "#28A08C"
         },
         "name": "Zero-Shot",
         "type": "histogram",
         "x": [
          20,
          32,
          37,
          24,
          33,
          103,
          34,
          21,
          104,
          30,
          32,
          33,
          1,
          28,
          34,
          39,
          22,
          1,
          28,
          36,
          33,
          31,
          21,
          34,
          26,
          35,
          35,
          31,
          30,
          51,
          14,
          1,
          39,
          72,
          17,
          31,
          221,
          52,
          60,
          40,
          28,
          23,
          23,
          17,
          19,
          26,
          26,
          33,
          49,
          37,
          28,
          22,
          37,
          149,
          33,
          31,
          31,
          19,
          38,
          25,
          110,
          28,
          32,
          161,
          22,
          66,
          14,
          25,
          24,
          29,
          1,
          24,
          18,
          31,
          109,
          35,
          1,
          25,
          26,
          21,
          28,
          51,
          43,
          37,
          45,
          22,
          23,
          35,
          31,
          22,
          28,
          14,
          24,
          14,
          14,
          27,
          31,
          40,
          18,
          19,
          27,
          35,
          31,
          1,
          30,
          24,
          22,
          30,
          1,
          24,
          44,
          30,
          25,
          71,
          34,
          33,
          41,
          74,
          21,
          28,
          31,
          38,
          47,
          23,
          21,
          17,
          24,
          42,
          24,
          25,
          152,
          1,
          23,
          1,
          23,
          37,
          151,
          27,
          31,
          40,
          44,
          27,
          31,
          25,
          180,
          20,
          30,
          24,
          27,
          1,
          31,
          30,
          18,
          24,
          34,
          1,
          17,
          21,
          19,
          38,
          48,
          1,
          30,
          22,
          18,
          33,
          22,
          34,
          27,
          24,
          23,
          21,
          18,
          23,
          24,
          36,
          31,
          45,
          26,
          26,
          158,
          14,
          27,
          24,
          33,
          42,
          33,
          35,
          23,
          117,
          31,
          73,
          38,
          29,
          40,
          41,
          29,
          30,
          56,
          23,
          24,
          28,
          108,
          27,
          44,
          33,
          29,
          22,
          33,
          39,
          18,
          27,
          1,
          162,
          26,
          34,
          21,
          41,
          49,
          25,
          130,
          21,
          47,
          19,
          24,
          30,
          29,
          12,
          106,
          1,
          45,
          37,
          1,
          97,
          20,
          25,
          31,
          36,
          31,
          18,
          28,
          26,
          1,
          136,
          28,
          30,
          35,
          109,
          24,
          29,
          24,
          115,
          20,
          26,
          29,
          24,
          22,
          1,
          19,
          24,
          27,
          28,
          91,
          45,
          39,
          33,
          15,
          35,
          32,
          49,
          26,
          55,
          45,
          23,
          28,
          143,
          1,
          27,
          32,
          51,
          62,
          30,
          18,
          29,
          1,
          38,
          65,
          19,
          23,
          23,
          36,
          23,
          41,
          27,
          1,
          74,
          29,
          136,
          23,
          24,
          36,
          30,
          39,
          1,
          33,
          52,
          1,
          45,
          39,
          25,
          36,
          20,
          21,
          42,
          42,
          31,
          31,
          1,
          36,
          27,
          128,
          23,
          55,
          30,
          23,
          20,
          20,
          1,
          151,
          127,
          42,
          38,
          25,
          50,
          1,
          20,
          61,
          1,
          37,
          85,
          137,
          20,
          35,
          1,
          37,
          53,
          20,
          1,
          54,
          34,
          120,
          1,
          34,
          30,
          36,
          25,
          138,
          95,
          26,
          31,
          36,
          31,
          22,
          28,
          79,
          25,
          33,
          35,
          24,
          27,
          106,
          36,
          29,
          38,
          25,
          110,
          24,
          19,
          26,
          31,
          34,
          27,
          106,
          63,
          33,
          33,
          31,
          31,
          30,
          164,
          31,
          1,
          29,
          31,
          31,
          19,
          39,
          31,
          26,
          26,
          37,
          51,
          30,
          53,
          1,
          27,
          33,
          78,
          65,
          35,
          26,
          1,
          34
         ]
        },
        {
         "marker": {
          "color": "#01DB8C"
         },
         "name": "One-Shot",
         "type": "histogram",
         "x": [
          69,
          115,
          146,
          79,
          131,
          160,
          121,
          71,
          113,
          119,
          39,
          155,
          62,
          30,
          40,
          20,
          110,
          154,
          106,
          126,
          159,
          23,
          32,
          110,
          24,
          135,
          128,
          23,
          143,
          104,
          38,
          67,
          85,
          129,
          63,
          78,
          153,
          65,
          57,
          117,
          33,
          112,
          136,
          143,
          110,
          36,
          22,
          83,
          110,
          122,
          124,
          153,
          158,
          80,
          131,
          78,
          123,
          35,
          152,
          133,
          109,
          28,
          159,
          142,
          119,
          85,
          149,
          131,
          202,
          114,
          139,
          148,
          113,
          125,
          100,
          124,
          69,
          24,
          80,
          104,
          98,
          133,
          28,
          90,
          82,
          137,
          23,
          157,
          44,
          138,
          25,
          23,
          73,
          141,
          165,
          140,
          46,
          91,
          132,
          24,
          104,
          142,
          98,
          170,
          115,
          172,
          40,
          138,
          68,
          113,
          97,
          100,
          143,
          96,
          107,
          108,
          134,
          103,
          135,
          29,
          142,
          134,
          131,
          143,
          67,
          162,
          99,
          48,
          145,
          101,
          141,
          24,
          141,
          137,
          138,
          100,
          161,
          110,
          38,
          108,
          83,
          156,
          121,
          51,
          92,
          133,
          115,
          146,
          31,
          122,
          127,
          32,
          26,
          105,
          139,
          75,
          24,
          161,
          23,
          31,
          32,
          137,
          28,
          127,
          105,
          23,
          147,
          44,
          123,
          124,
          25,
          37,
          140,
          128,
          25,
          117,
          25,
          31,
          54,
          25,
          25,
          89,
          123,
          23,
          118,
          125,
          161,
          109,
          69,
          123,
          27,
          90,
          120,
          152,
          106,
          37,
          115,
          175,
          70,
          96,
          140,
          95,
          126,
          67,
          69,
          132,
          31,
          40,
          121,
          47,
          147,
          152,
          106,
          125,
          114,
          96,
          133,
          33,
          153,
          66,
          123,
          98,
          85,
          24,
          63,
          147,
          81,
          116,
          110,
          21,
          113,
          92,
          54,
          31,
          25,
          128,
          29,
          71,
          123,
          23,
          30,
          104,
          112,
          101,
          95,
          129,
          27,
          96,
          149,
          72,
          24,
          26,
          25,
          110,
          116,
          86,
          88,
          140,
          131,
          146,
          24,
          143,
          95,
          24,
          147,
          118,
          106,
          97,
          48,
          22,
          129,
          28,
          27,
          138,
          44,
          130,
          103,
          155,
          138,
          102,
          113,
          131,
          141,
          114,
          35,
          52,
          122,
          136,
          100,
          34,
          36,
          54,
          110,
          113,
          126,
          134,
          97,
          104,
          123,
          67,
          126,
          27,
          139,
          122,
          95,
          139,
          93,
          139,
          116,
          104,
          27,
          26,
          149,
          131,
          106,
          139,
          121,
          97,
          100,
          181,
          127,
          27,
          147,
          26,
          151,
          99,
          28,
          108,
          28,
          94,
          110,
          118,
          116,
          108,
          40,
          132,
          90,
          29,
          161,
          88,
          122,
          31,
          42,
          53,
          152,
          101,
          136,
          26,
          99,
          85,
          124,
          97,
          128,
          26,
          156,
          118,
          98,
          51,
          81,
          73,
          175,
          136,
          160,
          116,
          110,
          22,
          138,
          101,
          64,
          122,
          76,
          111,
          145,
          134,
          107,
          113,
          57,
          98,
          30,
          25,
          134,
          26,
          74,
          83,
          91,
          84,
          133,
          36,
          75,
          95,
          108,
          104,
          91,
          86,
          26,
          147,
          136,
          188,
          151,
          151,
          99,
          105,
          85,
          68,
          49,
          28,
          114,
          99,
          66,
          34,
          194,
          37,
          81
         ]
        }
       ],
       "layout": {
        "template": {
         "data": {
          "bar": [
           {
            "error_x": {
             "color": "#2a3f5f"
            },
            "error_y": {
             "color": "#2a3f5f"
            },
            "marker": {
             "line": {
              "color": "#E5ECF6",
              "width": 0.5
             },
             "pattern": {
              "fillmode": "overlay",
              "size": 10,
              "solidity": 0.2
             }
            },
            "type": "bar"
           }
          ],
          "barpolar": [
           {
            "marker": {
             "line": {
              "color": "#E5ECF6",
              "width": 0.5
             },
             "pattern": {
              "fillmode": "overlay",
              "size": 10,
              "solidity": 0.2
             }
            },
            "type": "barpolar"
           }
          ],
          "carpet": [
           {
            "aaxis": {
             "endlinecolor": "#2a3f5f",
             "gridcolor": "white",
             "linecolor": "white",
             "minorgridcolor": "white",
             "startlinecolor": "#2a3f5f"
            },
            "baxis": {
             "endlinecolor": "#2a3f5f",
             "gridcolor": "white",
             "linecolor": "white",
             "minorgridcolor": "white",
             "startlinecolor": "#2a3f5f"
            },
            "type": "carpet"
           }
          ],
          "choropleth": [
           {
            "colorbar": {
             "outlinewidth": 0,
             "ticks": ""
            },
            "type": "choropleth"
           }
          ],
          "contour": [
           {
            "colorbar": {
             "outlinewidth": 0,
             "ticks": ""
            },
            "colorscale": [
             [
              0,
              "#0d0887"
             ],
             [
              0.1111111111111111,
              "#46039f"
             ],
             [
              0.2222222222222222,
              "#7201a8"
             ],
             [
              0.3333333333333333,
              "#9c179e"
             ],
             [
              0.4444444444444444,
              "#bd3786"
             ],
             [
              0.5555555555555556,
              "#d8576b"
             ],
             [
              0.6666666666666666,
              "#ed7953"
             ],
             [
              0.7777777777777778,
              "#fb9f3a"
             ],
             [
              0.8888888888888888,
              "#fdca26"
             ],
             [
              1,
              "#f0f921"
             ]
            ],
            "type": "contour"
           }
          ],
          "contourcarpet": [
           {
            "colorbar": {
             "outlinewidth": 0,
             "ticks": ""
            },
            "type": "contourcarpet"
           }
          ],
          "heatmap": [
           {
            "colorbar": {
             "outlinewidth": 0,
             "ticks": ""
            },
            "colorscale": [
             [
              0,
              "#0d0887"
             ],
             [
              0.1111111111111111,
              "#46039f"
             ],
             [
              0.2222222222222222,
              "#7201a8"
             ],
             [
              0.3333333333333333,
              "#9c179e"
             ],
             [
              0.4444444444444444,
              "#bd3786"
             ],
             [
              0.5555555555555556,
              "#d8576b"
             ],
             [
              0.6666666666666666,
              "#ed7953"
             ],
             [
              0.7777777777777778,
              "#fb9f3a"
             ],
             [
              0.8888888888888888,
              "#fdca26"
             ],
             [
              1,
              "#f0f921"
             ]
            ],
            "type": "heatmap"
           }
          ],
          "heatmapgl": [
           {
            "colorbar": {
             "outlinewidth": 0,
             "ticks": ""
            },
            "colorscale": [
             [
              0,
              "#0d0887"
             ],
             [
              0.1111111111111111,
              "#46039f"
             ],
             [
              0.2222222222222222,
              "#7201a8"
             ],
             [
              0.3333333333333333,
              "#9c179e"
             ],
             [
              0.4444444444444444,
              "#bd3786"
             ],
             [
              0.5555555555555556,
              "#d8576b"
             ],
             [
              0.6666666666666666,
              "#ed7953"
             ],
             [
              0.7777777777777778,
              "#fb9f3a"
             ],
             [
              0.8888888888888888,
              "#fdca26"
             ],
             [
              1,
              "#f0f921"
             ]
            ],
            "type": "heatmapgl"
           }
          ],
          "histogram": [
           {
            "marker": {
             "pattern": {
              "fillmode": "overlay",
              "size": 10,
              "solidity": 0.2
             }
            },
            "type": "histogram"
           }
          ],
          "histogram2d": [
           {
            "colorbar": {
             "outlinewidth": 0,
             "ticks": ""
            },
            "colorscale": [
             [
              0,
              "#0d0887"
             ],
             [
              0.1111111111111111,
              "#46039f"
             ],
             [
              0.2222222222222222,
              "#7201a8"
             ],
             [
              0.3333333333333333,
              "#9c179e"
             ],
             [
              0.4444444444444444,
              "#bd3786"
             ],
             [
              0.5555555555555556,
              "#d8576b"
             ],
             [
              0.6666666666666666,
              "#ed7953"
             ],
             [
              0.7777777777777778,
              "#fb9f3a"
             ],
             [
              0.8888888888888888,
              "#fdca26"
             ],
             [
              1,
              "#f0f921"
             ]
            ],
            "type": "histogram2d"
           }
          ],
          "histogram2dcontour": [
           {
            "colorbar": {
             "outlinewidth": 0,
             "ticks": ""
            },
            "colorscale": [
             [
              0,
              "#0d0887"
             ],
             [
              0.1111111111111111,
              "#46039f"
             ],
             [
              0.2222222222222222,
              "#7201a8"
             ],
             [
              0.3333333333333333,
              "#9c179e"
             ],
             [
              0.4444444444444444,
              "#bd3786"
             ],
             [
              0.5555555555555556,
              "#d8576b"
             ],
             [
              0.6666666666666666,
              "#ed7953"
             ],
             [
              0.7777777777777778,
              "#fb9f3a"
             ],
             [
              0.8888888888888888,
              "#fdca26"
             ],
             [
              1,
              "#f0f921"
             ]
            ],
            "type": "histogram2dcontour"
           }
          ],
          "mesh3d": [
           {
            "colorbar": {
             "outlinewidth": 0,
             "ticks": ""
            },
            "type": "mesh3d"
           }
          ],
          "parcoords": [
           {
            "line": {
             "colorbar": {
              "outlinewidth": 0,
              "ticks": ""
             }
            },
            "type": "parcoords"
           }
          ],
          "pie": [
           {
            "automargin": true,
            "type": "pie"
           }
          ],
          "scatter": [
           {
            "fillpattern": {
             "fillmode": "overlay",
             "size": 10,
             "solidity": 0.2
            },
            "type": "scatter"
           }
          ],
          "scatter3d": [
           {
            "line": {
             "colorbar": {
              "outlinewidth": 0,
              "ticks": ""
             }
            },
            "marker": {
             "colorbar": {
              "outlinewidth": 0,
              "ticks": ""
             }
            },
            "type": "scatter3d"
           }
          ],
          "scattercarpet": [
           {
            "marker": {
             "colorbar": {
              "outlinewidth": 0,
              "ticks": ""
             }
            },
            "type": "scattercarpet"
           }
          ],
          "scattergeo": [
           {
            "marker": {
             "colorbar": {
              "outlinewidth": 0,
              "ticks": ""
             }
            },
            "type": "scattergeo"
           }
          ],
          "scattergl": [
           {
            "marker": {
             "colorbar": {
              "outlinewidth": 0,
              "ticks": ""
             }
            },
            "type": "scattergl"
           }
          ],
          "scattermapbox": [
           {
            "marker": {
             "colorbar": {
              "outlinewidth": 0,
              "ticks": ""
             }
            },
            "type": "scattermapbox"
           }
          ],
          "scatterpolar": [
           {
            "marker": {
             "colorbar": {
              "outlinewidth": 0,
              "ticks": ""
             }
            },
            "type": "scatterpolar"
           }
          ],
          "scatterpolargl": [
           {
            "marker": {
             "colorbar": {
              "outlinewidth": 0,
              "ticks": ""
             }
            },
            "type": "scatterpolargl"
           }
          ],
          "scatterternary": [
           {
            "marker": {
             "colorbar": {
              "outlinewidth": 0,
              "ticks": ""
             }
            },
            "type": "scatterternary"
           }
          ],
          "surface": [
           {
            "colorbar": {
             "outlinewidth": 0,
             "ticks": ""
            },
            "colorscale": [
             [
              0,
              "#0d0887"
             ],
             [
              0.1111111111111111,
              "#46039f"
             ],
             [
              0.2222222222222222,
              "#7201a8"
             ],
             [
              0.3333333333333333,
              "#9c179e"
             ],
             [
              0.4444444444444444,
              "#bd3786"
             ],
             [
              0.5555555555555556,
              "#d8576b"
             ],
             [
              0.6666666666666666,
              "#ed7953"
             ],
             [
              0.7777777777777778,
              "#fb9f3a"
             ],
             [
              0.8888888888888888,
              "#fdca26"
             ],
             [
              1,
              "#f0f921"
             ]
            ],
            "type": "surface"
           }
          ],
          "table": [
           {
            "cells": {
             "fill": {
              "color": "#EBF0F8"
             },
             "line": {
              "color": "white"
             }
            },
            "header": {
             "fill": {
              "color": "#C8D4E3"
             },
             "line": {
              "color": "white"
             }
            },
            "type": "table"
           }
          ]
         },
         "layout": {
          "annotationdefaults": {
           "arrowcolor": "#2a3f5f",
           "arrowhead": 0,
           "arrowwidth": 1
          },
          "autotypenumbers": "strict",
          "coloraxis": {
           "colorbar": {
            "outlinewidth": 0,
            "ticks": ""
           }
          },
          "colorscale": {
           "diverging": [
            [
             0,
             "#8e0152"
            ],
            [
             0.1,
             "#c51b7d"
            ],
            [
             0.2,
             "#de77ae"
            ],
            [
             0.3,
             "#f1b6da"
            ],
            [
             0.4,
             "#fde0ef"
            ],
            [
             0.5,
             "#f7f7f7"
            ],
            [
             0.6,
             "#e6f5d0"
            ],
            [
             0.7,
             "#b8e186"
            ],
            [
             0.8,
             "#7fbc41"
            ],
            [
             0.9,
             "#4d9221"
            ],
            [
             1,
             "#276419"
            ]
           ],
           "sequential": [
            [
             0,
             "#0d0887"
            ],
            [
             0.1111111111111111,
             "#46039f"
            ],
            [
             0.2222222222222222,
             "#7201a8"
            ],
            [
             0.3333333333333333,
             "#9c179e"
            ],
            [
             0.4444444444444444,
             "#bd3786"
            ],
            [
             0.5555555555555556,
             "#d8576b"
            ],
            [
             0.6666666666666666,
             "#ed7953"
            ],
            [
             0.7777777777777778,
             "#fb9f3a"
            ],
            [
             0.8888888888888888,
             "#fdca26"
            ],
            [
             1,
             "#f0f921"
            ]
           ],
           "sequentialminus": [
            [
             0,
             "#0d0887"
            ],
            [
             0.1111111111111111,
             "#46039f"
            ],
            [
             0.2222222222222222,
             "#7201a8"
            ],
            [
             0.3333333333333333,
             "#9c179e"
            ],
            [
             0.4444444444444444,
             "#bd3786"
            ],
            [
             0.5555555555555556,
             "#d8576b"
            ],
            [
             0.6666666666666666,
             "#ed7953"
            ],
            [
             0.7777777777777778,
             "#fb9f3a"
            ],
            [
             0.8888888888888888,
             "#fdca26"
            ],
            [
             1,
             "#f0f921"
            ]
           ]
          },
          "colorway": [
           "#636efa",
           "#EF553B",
           "#00cc96",
           "#ab63fa",
           "#FFA15A",
           "#19d3f3",
           "#FF6692",
           "#B6E880",
           "#FF97FF",
           "#FECB52"
          ],
          "font": {
           "color": "#2a3f5f"
          },
          "geo": {
           "bgcolor": "white",
           "lakecolor": "white",
           "landcolor": "#E5ECF6",
           "showlakes": true,
           "showland": true,
           "subunitcolor": "white"
          },
          "hoverlabel": {
           "align": "left"
          },
          "hovermode": "closest",
          "mapbox": {
           "style": "light"
          },
          "paper_bgcolor": "white",
          "plot_bgcolor": "#E5ECF6",
          "polar": {
           "angularaxis": {
            "gridcolor": "white",
            "linecolor": "white",
            "ticks": ""
           },
           "bgcolor": "#E5ECF6",
           "radialaxis": {
            "gridcolor": "white",
            "linecolor": "white",
            "ticks": ""
           }
          },
          "scene": {
           "xaxis": {
            "backgroundcolor": "#E5ECF6",
            "gridcolor": "white",
            "gridwidth": 2,
            "linecolor": "white",
            "showbackground": true,
            "ticks": "",
            "zerolinecolor": "white"
           },
           "yaxis": {
            "backgroundcolor": "#E5ECF6",
            "gridcolor": "white",
            "gridwidth": 2,
            "linecolor": "white",
            "showbackground": true,
            "ticks": "",
            "zerolinecolor": "white"
           },
           "zaxis": {
            "backgroundcolor": "#E5ECF6",
            "gridcolor": "white",
            "gridwidth": 2,
            "linecolor": "white",
            "showbackground": true,
            "ticks": "",
            "zerolinecolor": "white"
           }
          },
          "shapedefaults": {
           "line": {
            "color": "#2a3f5f"
           }
          },
          "ternary": {
           "aaxis": {
            "gridcolor": "white",
            "linecolor": "white",
            "ticks": ""
           },
           "baxis": {
            "gridcolor": "white",
            "linecolor": "white",
            "ticks": ""
           },
           "bgcolor": "#E5ECF6",
           "caxis": {
            "gridcolor": "white",
            "linecolor": "white",
            "ticks": ""
           }
          },
          "title": {
           "x": 0.05
          },
          "xaxis": {
           "automargin": true,
           "gridcolor": "white",
           "linecolor": "white",
           "ticks": "",
           "title": {
            "standoff": 15
           },
           "zerolinecolor": "white",
           "zerolinewidth": 2
          },
          "yaxis": {
           "automargin": true,
           "gridcolor": "white",
           "linecolor": "white",
           "ticks": "",
           "title": {
            "standoff": 15
           },
           "zerolinecolor": "white",
           "zerolinewidth": 2
          }
         }
        },
        "title": {
         "text": "CDs_3_5_Movies_8_10 - Explanation length distribution"
        },
        "xaxis": {
         "title": {
          "text": "Length"
         }
        },
        "yaxis": {
         "title": {
          "text": "Frequency"
         }
        }
       }
      }
     },
     "metadata": {},
     "output_type": "display_data"
    }
   ],
   "source": [
    "plot_length_distribution_comparison(cds_35_movies_510_0s_preds, cds_35_movies_510_1s_preds, \"CDs_3_5_Movies_5_10\")\n",
    "plot_length_distribution_comparison(cds_35_movies_810_0s_preds, cds_35_movies_810_1s_preds, \"CDs_3_5_Movies_8_10\")"
   ]
  },
  {
   "cell_type": "code",
   "execution_count": 31,
   "metadata": {},
   "outputs": [
    {
     "data": {
      "application/vnd.plotly.v1+json": {
       "config": {
        "plotlyServerURL": "https://plot.ly"
       },
       "data": [
        {
         "marker": {
          "color": "#28A08C"
         },
         "name": "Zero-Shot",
         "type": "histogram",
         "x": [
          24,
          20,
          28,
          24,
          21,
          22,
          17,
          37,
          40,
          48,
          42,
          61,
          25,
          25,
          20,
          26,
          29,
          25,
          76,
          29,
          20,
          27,
          146,
          36,
          22,
          50,
          163,
          29,
          27,
          26,
          162,
          37,
          28,
          36,
          16,
          179,
          24,
          51,
          1,
          31,
          80,
          178,
          19,
          51,
          29,
          25,
          159,
          29,
          29,
          26,
          22,
          169,
          20,
          61,
          155,
          40,
          13,
          67,
          55,
          20,
          35,
          60,
          18,
          47,
          80,
          26,
          23,
          14,
          38,
          33,
          30,
          73,
          21,
          89,
          22,
          27,
          120,
          29,
          38,
          72,
          21,
          21,
          34,
          31,
          23,
          80,
          20,
          42,
          32,
          48,
          25,
          24,
          21,
          20,
          29,
          24,
          25,
          33,
          23,
          75,
          20,
          29,
          36,
          29,
          21,
          122,
          23,
          57,
          22,
          39,
          23,
          23,
          17,
          35,
          33,
          32,
          39,
          21,
          19,
          1,
          27,
          40,
          57,
          18,
          154,
          29,
          1,
          35,
          65,
          30,
          100,
          24,
          21,
          22,
          25,
          89,
          1,
          99,
          32,
          19,
          32,
          23,
          25,
          26,
          100,
          19,
          19,
          24,
          122,
          75,
          27,
          27,
          217,
          43,
          115,
          29,
          33,
          1,
          39,
          18,
          74,
          108,
          26,
          29,
          54,
          27,
          30,
          1,
          67,
          19,
          28,
          148,
          19,
          30,
          26,
          152,
          22,
          44,
          26,
          1,
          18,
          24,
          21,
          33,
          127,
          32,
          18,
          61,
          30,
          28,
          26,
          20,
          34,
          26,
          48,
          30,
          20,
          91,
          31,
          19,
          64,
          124,
          40,
          106,
          29,
          23,
          90,
          71,
          34,
          29,
          29,
          19,
          34,
          46,
          18,
          28,
          27,
          25,
          35,
          50,
          65,
          150,
          92,
          34,
          29,
          14,
          25,
          109,
          113,
          18,
          73,
          27,
          99,
          41,
          1,
          49,
          40,
          99,
          25,
          35,
          19,
          19,
          38,
          32,
          22,
          20,
          26,
          43,
          34,
          62,
          31,
          31,
          39,
          30,
          18,
          22,
          23,
          21,
          20,
          32,
          20,
          21,
          18,
          35,
          39,
          73,
          19,
          151,
          20,
          190,
          137,
          30,
          31,
          19,
          14,
          18,
          45,
          26,
          62,
          1,
          18,
          77,
          139,
          139,
          36,
          24,
          28,
          126,
          20,
          180,
          35,
          24,
          64,
          21,
          32,
          31,
          22,
          43,
          103,
          14,
          27,
          30,
          27,
          27,
          71,
          31,
          34,
          62,
          75,
          28,
          91,
          93,
          19,
          30,
          18,
          95,
          33,
          37,
          42,
          18,
          30,
          86,
          34,
          36,
          78,
          18,
          118,
          22,
          30,
          25,
          23,
          40,
          22,
          29,
          32,
          24,
          97,
          42,
          129,
          34,
          20,
          33,
          32,
          26,
          122,
          140,
          37,
          51,
          26,
          27,
          69,
          25,
          93,
          23,
          22,
          26,
          34,
          35,
          148,
          37,
          32,
          25,
          31,
          29,
          35,
          29,
          50,
          25,
          47,
          30,
          28,
          32,
          27,
          24,
          142,
          178,
          30,
          22,
          27,
          95,
          59,
          39,
          1,
          28,
          23,
          40,
          31,
          46,
          28,
          30,
          23,
          55,
          230,
          47,
          29,
          28,
          34,
          83,
          33,
          39,
          20,
          81,
          55,
          51,
          132,
          20,
          28,
          33,
          104,
          90,
          38,
          29,
          34,
          26,
          34,
          41,
          116,
          36,
          72,
          24,
          38,
          22,
          31,
          33,
          25,
          24,
          33,
          41,
          218,
          25,
          79,
          21,
          24,
          144,
          28,
          29,
          30,
          99,
          97,
          28,
          92,
          35,
          128,
          34,
          80,
          106,
          38,
          182,
          24,
          101,
          34,
          35,
          33,
          29,
          21,
          28,
          31,
          114,
          26,
          29,
          45,
          39,
          20,
          40,
          26,
          18,
          93,
          29,
          22,
          33,
          21,
          38,
          88,
          27,
          18,
          54,
          20,
          55,
          62,
          35,
          38,
          19,
          28,
          25,
          20,
          21,
          27,
          30,
          21,
          46,
          22,
          26,
          34,
          34,
          33,
          133,
          18,
          31,
          120,
          76,
          36,
          20,
          34,
          36,
          1,
          87,
          33,
          31,
          27,
          74,
          31,
          27,
          20,
          39,
          101,
          39,
          32,
          34,
          22,
          146,
          32,
          32,
          32,
          20,
          24,
          20,
          36,
          30,
          14,
          18,
          158,
          24,
          38,
          49,
          95,
          29,
          24,
          39,
          33,
          42,
          28,
          25,
          39,
          25,
          18,
          53,
          35,
          28,
          82,
          19,
          30,
          82,
          38,
          27,
          23,
          54,
          79,
          25,
          82,
          1,
          55,
          32,
          130,
          39,
          26,
          26,
          30,
          17,
          28,
          20,
          148,
          28,
          25,
          141,
          19,
          174,
          20,
          51,
          135,
          36,
          26,
          28,
          28,
          136,
          19,
          30,
          79,
          48,
          23,
          49,
          167,
          175,
          38,
          42,
          31,
          20,
          27,
          39,
          176,
          19,
          37,
          40,
          184,
          26,
          40,
          83,
          74,
          38,
          26,
          70,
          51,
          41,
          39,
          37,
          20,
          113,
          24,
          18,
          29,
          31,
          31,
          1,
          38,
          26,
          36,
          22,
          34,
          33,
          26,
          29,
          39,
          25,
          113,
          20,
          121,
          27,
          175,
          33,
          19,
          117,
          45,
          72,
          18,
          28,
          95,
          82,
          145,
          23,
          71,
          26,
          41,
          33,
          32,
          215,
          77,
          30,
          69,
          21,
          15,
          57,
          178,
          21,
          46,
          183,
          39,
          1,
          28,
          137,
          80,
          28,
          36,
          33,
          20,
          142,
          16,
          26,
          29,
          24,
          30,
          29,
          38,
          22,
          20,
          33,
          36,
          137,
          1,
          33,
          29,
          20,
          18,
          39,
          41,
          29,
          19,
          37,
          82,
          75,
          70,
          81,
          25,
          34,
          18,
          27,
          19,
          149,
          43,
          26,
          56,
          32,
          22,
          27,
          34,
          31,
          25,
          27,
          34,
          21,
          34,
          48,
          25,
          41,
          41,
          74,
          30,
          131,
          67,
          25,
          94,
          72,
          32,
          30,
          18,
          108,
          32,
          31,
          27,
          26,
          36,
          118,
          22,
          40,
          92,
          70,
          27,
          93,
          87,
          83,
          27,
          45,
          175,
          21,
          32,
          18,
          86,
          77,
          147,
          36,
          145,
          30,
          25,
          1,
          28,
          19,
          29,
          22,
          45,
          22,
          64,
          78,
          32,
          43,
          105,
          56,
          22,
          25,
          28,
          22,
          34,
          25,
          18,
          30,
          57,
          22,
          23,
          23,
          49,
          29,
          74,
          13,
          65,
          38,
          25,
          45,
          176,
          51,
          54,
          37,
          31,
          23,
          1,
          48,
          26,
          32,
          39,
          104,
          25,
          12,
          82,
          154,
          28,
          35,
          46,
          27,
          33,
          123,
          101,
          13,
          21,
          25,
          32,
          18,
          17,
          25,
          33,
          28,
          32,
          18,
          40,
          31,
          190,
          18,
          29,
          31,
          30,
          22,
          90,
          19,
          28,
          28,
          30,
          20,
          185,
          26,
          47,
          39,
          39,
          68,
          58,
          19,
          33,
          46,
          33,
          37,
          14,
          31,
          127,
          45,
          23,
          202,
          23,
          34,
          30,
          24,
          33,
          48,
          32,
          30,
          22,
          60,
          34,
          68,
          13,
          29,
          86,
          1,
          112,
          20,
          34,
          48,
          108,
          25,
          120,
          74,
          31,
          21,
          20,
          29,
          20,
          26,
          71,
          29,
          36,
          30,
          34,
          1,
          31,
          32,
          35,
          72,
          39,
          31,
          33,
          192,
          30,
          21,
          34,
          38,
          33,
          27,
          98,
          30,
          77,
          52,
          23,
          27,
          54,
          26,
          66,
          21,
          35,
          1,
          35,
          24,
          98,
          19,
          41,
          23,
          33,
          99,
          45,
          30,
          39,
          76,
          181,
          44,
          83,
          32,
          23,
          40,
          23,
          59,
          23,
          98,
          30,
          24,
          27,
          38,
          27,
          27,
          21,
          105,
          20,
          22,
          107,
          25,
          75,
          30,
          28,
          23,
          62,
          1,
          39,
          19,
          27,
          20,
          19,
          31,
          61,
          36,
          22,
          35,
          84,
          29,
          22,
          26,
          26,
          31,
          32,
          114,
          89,
          29,
          28,
          141,
          58,
          89,
          38,
          24,
          20,
          35,
          33,
          43,
          31,
          34,
          152,
          110,
          27,
          1,
          25,
          26,
          20,
          30,
          41,
          23,
          27,
          30,
          27,
          82,
          38,
          145,
          32,
          33,
          25,
          146,
          30,
          54,
          44,
          23,
          38,
          70,
          30,
          18,
          26,
          33,
          28,
          28,
          17,
          69,
          26,
          19,
          32,
          25,
          20,
          137,
          73,
          99,
          23,
          54,
          28,
          17,
          41,
          35,
          48,
          28,
          21,
          57,
          37,
          37,
          31,
          24,
          37,
          25,
          28,
          13,
          234,
          83,
          25,
          45,
          26,
          46,
          204,
          134,
          34,
          20,
          42,
          30,
          30,
          40,
          60,
          39,
          34,
          86,
          29,
          34,
          44,
          33,
          26,
          46,
          26,
          19,
          23,
          21,
          26,
          32,
          17,
          28,
          99,
          26,
          17,
          30,
          33,
          28,
          22,
          29,
          38,
          23,
          16,
          85,
          31,
          23,
          45,
          45,
          132,
          95,
          29,
          23,
          21,
          97,
          36,
          137,
          24,
          30,
          29,
          59,
          89,
          19,
          24,
          41,
          30,
          36,
          53,
          30,
          41,
          30,
          26,
          26,
          41,
          30,
          75,
          91,
          30,
          112,
          92,
          26,
          27,
          106,
          20,
          26,
          110,
          98,
          29,
          74,
          168,
          23,
          17,
          75,
          115,
          39,
          48,
          29,
          33,
          26,
          31,
          31,
          159,
          28,
          27,
          28,
          41,
          94,
          28,
          33,
          91,
          30,
          30,
          37,
          31,
          33,
          35,
          40,
          43,
          28,
          28,
          33,
          28,
          29,
          23,
          27,
          37,
          39,
          141,
          27,
          121,
          40,
          24,
          34,
          29,
          35,
          68,
          21,
          39,
          30,
          78,
          24,
          39,
          73,
          44,
          71,
          25,
          30,
          70,
          29,
          14,
          1,
          138,
          41,
          36,
          46,
          31,
          31,
          128,
          46,
          30,
          24,
          99,
          55,
          63,
          87,
          30,
          123,
          20,
          18,
          40,
          25,
          35,
          43,
          26,
          37,
          51,
          169,
          39,
          18,
          118,
          30,
          21,
          45,
          31,
          56,
          88,
          48,
          33,
          32,
          144,
          38,
          23,
          33,
          19
         ]
        },
        {
         "marker": {
          "color": "#01DB8C"
         },
         "name": "One-Shot",
         "type": "histogram",
         "x": [
          123,
          101,
          20,
          121,
          176,
          76,
          170,
          27,
          123,
          43,
          86,
          52,
          144,
          144,
          30,
          49,
          109,
          57,
          79,
          27,
          79,
          53,
          90,
          71,
          25,
          78,
          158,
          165,
          125,
          116,
          44,
          29,
          105,
          120,
          115,
          168,
          76,
          104,
          117,
          27,
          45,
          131,
          97,
          21,
          82,
          74,
          80,
          161,
          23,
          111,
          23,
          24,
          184,
          30,
          130,
          92,
          43,
          77,
          45,
          125,
          85,
          72,
          80,
          179,
          84,
          103,
          160,
          160,
          138,
          116,
          117,
          84,
          172,
          61,
          41,
          99,
          86,
          24,
          166,
          99,
          102,
          91,
          88,
          73,
          30,
          114,
          81,
          98,
          56,
          101,
          24,
          23,
          82,
          22,
          121,
          98,
          140,
          24,
          171,
          82,
          27,
          94,
          124,
          138,
          22,
          169,
          22,
          93,
          121,
          116,
          77,
          25,
          72,
          88,
          32,
          157,
          88,
          161,
          34,
          118,
          129,
          106,
          89,
          73,
          76,
          172,
          86,
          155,
          82,
          91,
          73,
          112,
          181,
          48,
          132,
          93,
          66,
          92,
          133,
          27,
          168,
          119,
          60,
          44,
          54,
          85,
          26,
          118,
          98,
          101,
          162,
          148,
          159,
          145,
          59,
          68,
          59,
          113,
          110,
          25,
          167,
          99,
          152,
          103,
          104,
          222,
          59,
          96,
          122,
          120,
          147,
          159,
          28,
          100,
          27,
          136,
          26,
          64,
          76,
          85,
          117,
          94,
          24,
          61,
          100,
          121,
          77,
          57,
          26,
          115,
          55,
          143,
          156,
          112,
          29,
          172,
          23,
          123,
          123,
          109,
          116,
          101,
          84,
          61,
          146,
          193,
          99,
          80,
          54,
          93,
          44,
          100,
          88,
          116,
          96,
          84,
          158,
          22,
          71,
          110,
          145,
          112,
          51,
          82,
          165,
          150,
          94,
          26,
          94,
          23,
          142,
          117,
          102,
          142,
          36,
          165,
          131,
          97,
          46,
          128,
          22,
          167,
          132,
          49,
          26,
          133,
          29,
          92,
          154,
          134,
          70,
          72,
          80,
          51,
          157,
          46,
          18,
          68,
          60,
          75,
          23,
          18,
          70,
          92,
          133,
          64,
          153,
          138,
          188,
          67,
          77,
          27,
          79,
          66,
          170,
          62,
          164,
          23,
          143,
          180,
          78,
          118,
          56,
          110,
          81,
          65,
          149,
          98,
          114,
          55,
          107,
          139,
          154,
          89,
          132,
          77,
          76,
          25,
          71,
          73,
          88,
          95,
          113,
          105,
          76,
          101,
          62,
          73,
          134,
          141,
          41,
          22,
          120,
          43,
          94,
          127,
          146,
          58,
          23,
          26,
          159,
          71,
          27,
          54,
          81,
          20,
          167,
          195,
          170,
          92,
          114,
          83,
          81,
          97,
          26,
          111,
          57,
          86,
          81,
          95,
          26,
          40,
          116,
          175,
          67,
          75,
          59,
          95,
          74,
          63,
          45,
          52,
          82,
          95,
          118,
          56,
          80,
          24,
          73,
          101,
          67,
          26,
          65,
          23,
          78,
          92,
          111,
          73,
          146,
          28,
          63,
          24,
          29,
          23,
          128,
          126,
          142,
          44,
          153,
          70,
          71,
          80,
          146,
          184,
          23,
          131,
          98,
          77,
          128,
          46,
          124,
          55,
          158,
          23,
          27,
          71,
          81,
          64,
          127,
          123,
          24,
          87,
          25,
          40,
          79,
          105,
          57,
          45,
          157,
          102,
          101,
          98,
          97,
          118,
          67,
          113,
          134,
          93,
          81,
          55,
          59,
          18,
          117,
          42,
          88,
          130,
          77,
          103,
          87,
          24,
          80,
          92,
          48,
          61,
          63,
          204,
          57,
          92,
          24,
          151,
          79,
          108,
          98,
          96,
          30,
          84,
          159,
          74,
          133,
          116,
          152,
          69,
          23,
          86,
          95,
          69,
          144,
          112,
          71,
          183,
          78,
          69,
          76,
          130,
          84,
          125,
          64,
          55,
          96,
          173,
          60,
          28,
          78,
          27,
          22,
          56,
          84,
          114,
          147,
          100,
          94,
          157,
          90,
          63,
          28,
          26,
          78,
          86,
          108,
          122,
          91,
          79,
          88,
          73,
          128,
          57,
          110,
          110,
          54,
          85,
          26,
          48,
          78,
          121,
          141,
          136,
          31,
          56,
          100,
          72,
          47,
          199,
          139,
          187,
          138,
          46,
          63,
          128,
          28,
          71,
          94,
          140,
          49,
          41,
          142,
          126,
          103,
          163,
          36,
          124,
          83,
          27,
          85,
          108,
          63,
          68,
          117,
          147,
          28,
          42,
          152,
          106,
          79,
          169,
          101,
          104,
          45,
          72,
          98,
          66,
          88,
          89,
          143,
          94,
          27,
          166,
          105,
          161,
          48,
          111,
          139,
          105,
          94,
          46,
          162,
          95,
          164,
          139,
          81,
          140,
          135,
          23,
          60,
          100,
          110,
          55,
          83,
          150,
          73,
          88,
          147,
          107,
          63,
          114,
          81,
          80,
          86,
          47,
          21,
          180,
          61,
          76,
          54,
          60,
          105,
          44,
          160,
          169,
          167,
          91,
          85,
          22,
          65,
          88,
          89,
          82,
          83,
          57,
          142,
          106,
          73,
          52,
          48,
          94,
          48,
          61,
          166,
          148,
          88,
          26,
          110,
          78,
          81,
          25,
          71,
          73,
          62,
          92,
          172,
          122,
          74,
          158,
          147,
          66,
          70,
          81,
          96,
          29,
          71,
          98,
          28,
          89,
          180,
          170,
          77,
          132,
          73,
          81,
          75,
          137,
          112,
          25,
          140,
          68,
          64,
          78,
          104,
          81,
          109,
          79,
          140,
          26,
          108,
          88,
          86,
          50,
          130,
          28,
          193,
          125,
          92,
          109,
          112,
          105,
          153,
          17,
          64,
          162,
          58,
          176,
          77,
          118,
          24,
          116,
          146,
          71,
          25,
          87,
          31,
          62,
          26,
          134,
          136,
          80,
          151,
          97,
          87,
          68,
          90,
          94,
          102,
          134,
          46,
          90,
          161,
          88,
          24,
          166,
          71,
          84,
          89,
          119,
          70,
          30,
          50,
          164,
          130,
          80,
          103,
          71,
          118,
          67,
          73,
          62,
          80,
          76,
          105,
          74,
          82,
          64,
          70,
          163,
          22,
          75,
          56,
          100,
          51,
          50,
          135,
          62,
          49,
          81,
          86,
          93,
          44,
          59,
          140,
          143,
          151,
          131,
          32,
          99,
          80,
          128,
          119,
          61,
          87,
          75,
          123,
          101,
          31,
          42,
          74,
          177,
          27,
          131,
          69,
          139,
          96,
          55,
          98,
          25,
          91,
          62,
          44,
          140,
          129,
          96,
          109,
          131,
          100,
          118,
          61,
          131,
          92,
          162,
          135,
          90,
          107,
          20,
          90,
          36,
          121,
          105,
          166,
          146,
          77,
          27,
          190,
          83,
          100,
          190,
          106,
          81,
          69,
          27,
          139,
          30,
          90,
          163,
          58,
          74,
          59,
          102,
          106,
          71,
          92,
          113,
          91,
          25,
          71,
          24,
          76,
          84,
          157,
          70,
          30,
          24,
          108,
          76,
          177,
          78,
          84,
          123,
          89,
          126,
          74,
          169,
          86,
          24,
          89,
          45,
          81,
          140,
          166,
          170,
          85,
          82,
          42,
          157,
          69,
          66,
          86,
          144,
          90,
          62,
          63,
          141,
          102,
          31,
          105,
          58,
          66,
          92,
          129,
          103,
          135,
          141,
          130,
          83,
          142,
          55,
          139,
          78,
          67,
          147,
          152,
          88,
          62,
          102,
          94,
          123,
          98,
          60,
          23,
          151,
          22,
          146,
          115,
          84,
          60,
          134,
          84,
          95,
          56,
          56,
          69,
          136,
          133,
          99,
          99,
          132,
          91,
          119,
          28,
          96,
          99,
          106,
          26,
          56,
          78,
          85,
          165,
          126,
          72,
          55,
          156,
          94,
          70,
          58,
          28,
          112,
          107,
          22,
          126,
          149,
          75,
          23,
          66,
          123,
          66,
          117,
          117,
          110,
          118,
          199,
          70,
          40,
          27,
          131,
          57,
          84,
          133,
          82,
          57,
          118,
          45,
          98,
          170,
          104,
          104,
          96,
          97,
          34,
          93,
          26,
          92,
          145,
          130,
          86,
          74,
          75,
          57,
          159,
          26,
          42,
          69,
          58,
          104,
          127,
          92,
          87,
          159,
          159,
          72,
          127,
          166,
          146,
          90,
          88,
          127,
          33,
          166,
          169,
          72,
          121,
          85,
          130,
          81,
          141,
          152,
          23,
          146,
          127,
          81,
          65,
          126,
          68,
          102,
          82,
          86,
          150,
          49,
          74,
          67,
          98,
          123,
          131,
          167,
          84,
          24,
          79,
          136,
          112,
          59,
          126,
          81,
          123,
          54,
          122,
          27,
          55,
          100,
          116,
          148,
          145,
          91,
          111,
          107,
          150,
          129,
          120,
          125,
          120,
          167,
          75,
          143,
          192,
          103,
          133,
          85,
          84,
          124,
          178,
          82,
          118,
          25,
          152,
          94,
          61,
          144,
          96,
          141,
          138,
          165,
          160,
          22,
          130,
          123,
          105,
          22,
          117,
          80,
          110,
          57,
          138,
          76,
          48,
          65,
          111,
          151,
          72,
          129,
          106,
          69,
          101,
          148,
          49,
          163,
          117,
          140,
          27,
          27,
          64,
          123,
          30,
          94,
          132,
          58,
          134,
          149,
          56,
          157,
          91,
          212,
          162,
          142,
          78,
          28,
          99,
          87,
          92,
          159,
          180,
          80,
          129,
          112,
          80,
          96,
          134,
          63,
          139,
          155,
          61,
          77,
          104,
          124,
          90,
          129,
          121,
          86,
          137,
          85,
          71,
          125,
          164,
          144,
          123,
          110,
          58,
          71,
          147,
          67,
          83,
          113,
          69,
          39,
          157,
          66,
          121,
          118,
          75,
          153,
          209,
          131,
          96,
          113,
          26,
          120,
          112,
          62,
          78,
          99,
          125,
          50,
          49,
          85,
          103,
          71,
          58,
          57,
          136,
          96,
          159,
          93,
          127,
          39,
          134,
          101,
          90,
          102,
          77,
          32,
          184,
          76,
          68,
          94,
          94,
          28,
          109,
          56,
          22,
          98,
          106,
          68,
          85,
          113,
          83,
          82,
          90,
          66,
          44,
          26,
          73,
          139,
          107,
          93,
          57,
          28,
          43,
          68,
          61,
          62,
          64,
          90,
          59,
          80,
          87,
          25,
          132,
          171,
          83,
          27,
          31,
          58,
          130,
          70,
          61,
          156,
          84,
          130,
          21,
          58,
          149,
          148,
          37,
          118,
          69,
          56,
          91,
          174,
          109,
          103,
          109,
          25,
          154,
          81,
          138,
          165,
          27,
          143,
          74,
          89,
          91,
          188,
          139,
          22
         ]
        }
       ],
       "layout": {
        "template": {
         "data": {
          "bar": [
           {
            "error_x": {
             "color": "#2a3f5f"
            },
            "error_y": {
             "color": "#2a3f5f"
            },
            "marker": {
             "line": {
              "color": "#E5ECF6",
              "width": 0.5
             },
             "pattern": {
              "fillmode": "overlay",
              "size": 10,
              "solidity": 0.2
             }
            },
            "type": "bar"
           }
          ],
          "barpolar": [
           {
            "marker": {
             "line": {
              "color": "#E5ECF6",
              "width": 0.5
             },
             "pattern": {
              "fillmode": "overlay",
              "size": 10,
              "solidity": 0.2
             }
            },
            "type": "barpolar"
           }
          ],
          "carpet": [
           {
            "aaxis": {
             "endlinecolor": "#2a3f5f",
             "gridcolor": "white",
             "linecolor": "white",
             "minorgridcolor": "white",
             "startlinecolor": "#2a3f5f"
            },
            "baxis": {
             "endlinecolor": "#2a3f5f",
             "gridcolor": "white",
             "linecolor": "white",
             "minorgridcolor": "white",
             "startlinecolor": "#2a3f5f"
            },
            "type": "carpet"
           }
          ],
          "choropleth": [
           {
            "colorbar": {
             "outlinewidth": 0,
             "ticks": ""
            },
            "type": "choropleth"
           }
          ],
          "contour": [
           {
            "colorbar": {
             "outlinewidth": 0,
             "ticks": ""
            },
            "colorscale": [
             [
              0,
              "#0d0887"
             ],
             [
              0.1111111111111111,
              "#46039f"
             ],
             [
              0.2222222222222222,
              "#7201a8"
             ],
             [
              0.3333333333333333,
              "#9c179e"
             ],
             [
              0.4444444444444444,
              "#bd3786"
             ],
             [
              0.5555555555555556,
              "#d8576b"
             ],
             [
              0.6666666666666666,
              "#ed7953"
             ],
             [
              0.7777777777777778,
              "#fb9f3a"
             ],
             [
              0.8888888888888888,
              "#fdca26"
             ],
             [
              1,
              "#f0f921"
             ]
            ],
            "type": "contour"
           }
          ],
          "contourcarpet": [
           {
            "colorbar": {
             "outlinewidth": 0,
             "ticks": ""
            },
            "type": "contourcarpet"
           }
          ],
          "heatmap": [
           {
            "colorbar": {
             "outlinewidth": 0,
             "ticks": ""
            },
            "colorscale": [
             [
              0,
              "#0d0887"
             ],
             [
              0.1111111111111111,
              "#46039f"
             ],
             [
              0.2222222222222222,
              "#7201a8"
             ],
             [
              0.3333333333333333,
              "#9c179e"
             ],
             [
              0.4444444444444444,
              "#bd3786"
             ],
             [
              0.5555555555555556,
              "#d8576b"
             ],
             [
              0.6666666666666666,
              "#ed7953"
             ],
             [
              0.7777777777777778,
              "#fb9f3a"
             ],
             [
              0.8888888888888888,
              "#fdca26"
             ],
             [
              1,
              "#f0f921"
             ]
            ],
            "type": "heatmap"
           }
          ],
          "heatmapgl": [
           {
            "colorbar": {
             "outlinewidth": 0,
             "ticks": ""
            },
            "colorscale": [
             [
              0,
              "#0d0887"
             ],
             [
              0.1111111111111111,
              "#46039f"
             ],
             [
              0.2222222222222222,
              "#7201a8"
             ],
             [
              0.3333333333333333,
              "#9c179e"
             ],
             [
              0.4444444444444444,
              "#bd3786"
             ],
             [
              0.5555555555555556,
              "#d8576b"
             ],
             [
              0.6666666666666666,
              "#ed7953"
             ],
             [
              0.7777777777777778,
              "#fb9f3a"
             ],
             [
              0.8888888888888888,
              "#fdca26"
             ],
             [
              1,
              "#f0f921"
             ]
            ],
            "type": "heatmapgl"
           }
          ],
          "histogram": [
           {
            "marker": {
             "pattern": {
              "fillmode": "overlay",
              "size": 10,
              "solidity": 0.2
             }
            },
            "type": "histogram"
           }
          ],
          "histogram2d": [
           {
            "colorbar": {
             "outlinewidth": 0,
             "ticks": ""
            },
            "colorscale": [
             [
              0,
              "#0d0887"
             ],
             [
              0.1111111111111111,
              "#46039f"
             ],
             [
              0.2222222222222222,
              "#7201a8"
             ],
             [
              0.3333333333333333,
              "#9c179e"
             ],
             [
              0.4444444444444444,
              "#bd3786"
             ],
             [
              0.5555555555555556,
              "#d8576b"
             ],
             [
              0.6666666666666666,
              "#ed7953"
             ],
             [
              0.7777777777777778,
              "#fb9f3a"
             ],
             [
              0.8888888888888888,
              "#fdca26"
             ],
             [
              1,
              "#f0f921"
             ]
            ],
            "type": "histogram2d"
           }
          ],
          "histogram2dcontour": [
           {
            "colorbar": {
             "outlinewidth": 0,
             "ticks": ""
            },
            "colorscale": [
             [
              0,
              "#0d0887"
             ],
             [
              0.1111111111111111,
              "#46039f"
             ],
             [
              0.2222222222222222,
              "#7201a8"
             ],
             [
              0.3333333333333333,
              "#9c179e"
             ],
             [
              0.4444444444444444,
              "#bd3786"
             ],
             [
              0.5555555555555556,
              "#d8576b"
             ],
             [
              0.6666666666666666,
              "#ed7953"
             ],
             [
              0.7777777777777778,
              "#fb9f3a"
             ],
             [
              0.8888888888888888,
              "#fdca26"
             ],
             [
              1,
              "#f0f921"
             ]
            ],
            "type": "histogram2dcontour"
           }
          ],
          "mesh3d": [
           {
            "colorbar": {
             "outlinewidth": 0,
             "ticks": ""
            },
            "type": "mesh3d"
           }
          ],
          "parcoords": [
           {
            "line": {
             "colorbar": {
              "outlinewidth": 0,
              "ticks": ""
             }
            },
            "type": "parcoords"
           }
          ],
          "pie": [
           {
            "automargin": true,
            "type": "pie"
           }
          ],
          "scatter": [
           {
            "fillpattern": {
             "fillmode": "overlay",
             "size": 10,
             "solidity": 0.2
            },
            "type": "scatter"
           }
          ],
          "scatter3d": [
           {
            "line": {
             "colorbar": {
              "outlinewidth": 0,
              "ticks": ""
             }
            },
            "marker": {
             "colorbar": {
              "outlinewidth": 0,
              "ticks": ""
             }
            },
            "type": "scatter3d"
           }
          ],
          "scattercarpet": [
           {
            "marker": {
             "colorbar": {
              "outlinewidth": 0,
              "ticks": ""
             }
            },
            "type": "scattercarpet"
           }
          ],
          "scattergeo": [
           {
            "marker": {
             "colorbar": {
              "outlinewidth": 0,
              "ticks": ""
             }
            },
            "type": "scattergeo"
           }
          ],
          "scattergl": [
           {
            "marker": {
             "colorbar": {
              "outlinewidth": 0,
              "ticks": ""
             }
            },
            "type": "scattergl"
           }
          ],
          "scattermapbox": [
           {
            "marker": {
             "colorbar": {
              "outlinewidth": 0,
              "ticks": ""
             }
            },
            "type": "scattermapbox"
           }
          ],
          "scatterpolar": [
           {
            "marker": {
             "colorbar": {
              "outlinewidth": 0,
              "ticks": ""
             }
            },
            "type": "scatterpolar"
           }
          ],
          "scatterpolargl": [
           {
            "marker": {
             "colorbar": {
              "outlinewidth": 0,
              "ticks": ""
             }
            },
            "type": "scatterpolargl"
           }
          ],
          "scatterternary": [
           {
            "marker": {
             "colorbar": {
              "outlinewidth": 0,
              "ticks": ""
             }
            },
            "type": "scatterternary"
           }
          ],
          "surface": [
           {
            "colorbar": {
             "outlinewidth": 0,
             "ticks": ""
            },
            "colorscale": [
             [
              0,
              "#0d0887"
             ],
             [
              0.1111111111111111,
              "#46039f"
             ],
             [
              0.2222222222222222,
              "#7201a8"
             ],
             [
              0.3333333333333333,
              "#9c179e"
             ],
             [
              0.4444444444444444,
              "#bd3786"
             ],
             [
              0.5555555555555556,
              "#d8576b"
             ],
             [
              0.6666666666666666,
              "#ed7953"
             ],
             [
              0.7777777777777778,
              "#fb9f3a"
             ],
             [
              0.8888888888888888,
              "#fdca26"
             ],
             [
              1,
              "#f0f921"
             ]
            ],
            "type": "surface"
           }
          ],
          "table": [
           {
            "cells": {
             "fill": {
              "color": "#EBF0F8"
             },
             "line": {
              "color": "white"
             }
            },
            "header": {
             "fill": {
              "color": "#C8D4E3"
             },
             "line": {
              "color": "white"
             }
            },
            "type": "table"
           }
          ]
         },
         "layout": {
          "annotationdefaults": {
           "arrowcolor": "#2a3f5f",
           "arrowhead": 0,
           "arrowwidth": 1
          },
          "autotypenumbers": "strict",
          "coloraxis": {
           "colorbar": {
            "outlinewidth": 0,
            "ticks": ""
           }
          },
          "colorscale": {
           "diverging": [
            [
             0,
             "#8e0152"
            ],
            [
             0.1,
             "#c51b7d"
            ],
            [
             0.2,
             "#de77ae"
            ],
            [
             0.3,
             "#f1b6da"
            ],
            [
             0.4,
             "#fde0ef"
            ],
            [
             0.5,
             "#f7f7f7"
            ],
            [
             0.6,
             "#e6f5d0"
            ],
            [
             0.7,
             "#b8e186"
            ],
            [
             0.8,
             "#7fbc41"
            ],
            [
             0.9,
             "#4d9221"
            ],
            [
             1,
             "#276419"
            ]
           ],
           "sequential": [
            [
             0,
             "#0d0887"
            ],
            [
             0.1111111111111111,
             "#46039f"
            ],
            [
             0.2222222222222222,
             "#7201a8"
            ],
            [
             0.3333333333333333,
             "#9c179e"
            ],
            [
             0.4444444444444444,
             "#bd3786"
            ],
            [
             0.5555555555555556,
             "#d8576b"
            ],
            [
             0.6666666666666666,
             "#ed7953"
            ],
            [
             0.7777777777777778,
             "#fb9f3a"
            ],
            [
             0.8888888888888888,
             "#fdca26"
            ],
            [
             1,
             "#f0f921"
            ]
           ],
           "sequentialminus": [
            [
             0,
             "#0d0887"
            ],
            [
             0.1111111111111111,
             "#46039f"
            ],
            [
             0.2222222222222222,
             "#7201a8"
            ],
            [
             0.3333333333333333,
             "#9c179e"
            ],
            [
             0.4444444444444444,
             "#bd3786"
            ],
            [
             0.5555555555555556,
             "#d8576b"
            ],
            [
             0.6666666666666666,
             "#ed7953"
            ],
            [
             0.7777777777777778,
             "#fb9f3a"
            ],
            [
             0.8888888888888888,
             "#fdca26"
            ],
            [
             1,
             "#f0f921"
            ]
           ]
          },
          "colorway": [
           "#636efa",
           "#EF553B",
           "#00cc96",
           "#ab63fa",
           "#FFA15A",
           "#19d3f3",
           "#FF6692",
           "#B6E880",
           "#FF97FF",
           "#FECB52"
          ],
          "font": {
           "color": "#2a3f5f"
          },
          "geo": {
           "bgcolor": "white",
           "lakecolor": "white",
           "landcolor": "#E5ECF6",
           "showlakes": true,
           "showland": true,
           "subunitcolor": "white"
          },
          "hoverlabel": {
           "align": "left"
          },
          "hovermode": "closest",
          "mapbox": {
           "style": "light"
          },
          "paper_bgcolor": "white",
          "plot_bgcolor": "#E5ECF6",
          "polar": {
           "angularaxis": {
            "gridcolor": "white",
            "linecolor": "white",
            "ticks": ""
           },
           "bgcolor": "#E5ECF6",
           "radialaxis": {
            "gridcolor": "white",
            "linecolor": "white",
            "ticks": ""
           }
          },
          "scene": {
           "xaxis": {
            "backgroundcolor": "#E5ECF6",
            "gridcolor": "white",
            "gridwidth": 2,
            "linecolor": "white",
            "showbackground": true,
            "ticks": "",
            "zerolinecolor": "white"
           },
           "yaxis": {
            "backgroundcolor": "#E5ECF6",
            "gridcolor": "white",
            "gridwidth": 2,
            "linecolor": "white",
            "showbackground": true,
            "ticks": "",
            "zerolinecolor": "white"
           },
           "zaxis": {
            "backgroundcolor": "#E5ECF6",
            "gridcolor": "white",
            "gridwidth": 2,
            "linecolor": "white",
            "showbackground": true,
            "ticks": "",
            "zerolinecolor": "white"
           }
          },
          "shapedefaults": {
           "line": {
            "color": "#2a3f5f"
           }
          },
          "ternary": {
           "aaxis": {
            "gridcolor": "white",
            "linecolor": "white",
            "ticks": ""
           },
           "baxis": {
            "gridcolor": "white",
            "linecolor": "white",
            "ticks": ""
           },
           "bgcolor": "#E5ECF6",
           "caxis": {
            "gridcolor": "white",
            "linecolor": "white",
            "ticks": ""
           }
          },
          "title": {
           "x": 0.05
          },
          "xaxis": {
           "automargin": true,
           "gridcolor": "white",
           "linecolor": "white",
           "ticks": "",
           "title": {
            "standoff": 15
           },
           "zerolinecolor": "white",
           "zerolinewidth": 2
          },
          "yaxis": {
           "automargin": true,
           "gridcolor": "white",
           "linecolor": "white",
           "ticks": "",
           "title": {
            "standoff": 15
           },
           "zerolinecolor": "white",
           "zerolinewidth": 2
          }
         }
        },
        "title": {
         "text": "CDs_3_5_Books_5_10 - Explanation length distribution"
        },
        "xaxis": {
         "title": {
          "text": "Length"
         }
        },
        "yaxis": {
         "title": {
          "text": "Frequency"
         }
        }
       }
      }
     },
     "metadata": {},
     "output_type": "display_data"
    },
    {
     "data": {
      "application/vnd.plotly.v1+json": {
       "config": {
        "plotlyServerURL": "https://plot.ly"
       },
       "data": [
        {
         "marker": {
          "color": "#28A08C"
         },
         "name": "Zero-Shot",
         "type": "histogram",
         "x": [
          24,
          28,
          24,
          37,
          48,
          25,
          25,
          20,
          29,
          29,
          36,
          50,
          36,
          16,
          24,
          51,
          1,
          31,
          80,
          178,
          19,
          29,
          29,
          29,
          169,
          20,
          61,
          40,
          55,
          20,
          35,
          60,
          47,
          23,
          33,
          29,
          38,
          21,
          21,
          31,
          80,
          48,
          21,
          24,
          29,
          57,
          23,
          17,
          33,
          39,
          21,
          19,
          1,
          40,
          154,
          1,
          65,
          24,
          19,
          32,
          25,
          27,
          217,
          43,
          115,
          29,
          26,
          30,
          1,
          19,
          22,
          1,
          18,
          24,
          21,
          33,
          32,
          20,
          34,
          20,
          64,
          40,
          90,
          71,
          34,
          19,
          18,
          35,
          50,
          34,
          29,
          41,
          49,
          40,
          25,
          35,
          19,
          19,
          38,
          20,
          34,
          62,
          39,
          30,
          18,
          22,
          20,
          35,
          19,
          30,
          18,
          26,
          62,
          1,
          18,
          77,
          139,
          36,
          28,
          35,
          64,
          22,
          27,
          71,
          34,
          28,
          93,
          18,
          37,
          18,
          30,
          34,
          78,
          18,
          40,
          29,
          32,
          24,
          20,
          33,
          37,
          26,
          27,
          25,
          93,
          23,
          22,
          35,
          148,
          37,
          31,
          29,
          29,
          25,
          30,
          142,
          39,
          28,
          46,
          23,
          28,
          39,
          20,
          81,
          55,
          90,
          34,
          41,
          116,
          41,
          24,
          144,
          28,
          92,
          35,
          128,
          34,
          24,
          34,
          35,
          33,
          29,
          39,
          20,
          26,
          18,
          54,
          20,
          55,
          62,
          35,
          38,
          22,
          34,
          34,
          33,
          18,
          1,
          87,
          33,
          27,
          74,
          22,
          32,
          32,
          32,
          36,
          95,
          39,
          33,
          42,
          39,
          28,
          82,
          19,
          30,
          38,
          27,
          23,
          54,
          82,
          1,
          26,
          26,
          25,
          141,
          36,
          26,
          20,
          176,
          37,
          184,
          74,
          26,
          70,
          41,
          37,
          29,
          31,
          31,
          1,
          26,
          36,
          33,
          121,
          27,
          19,
          145,
          71,
          32,
          215,
          77,
          69,
          1,
          28,
          36,
          24,
          22,
          1,
          39,
          19,
          25,
          34,
          27,
          31,
          41,
          131,
          94,
          30,
          18,
          27,
          22,
          40,
          70,
          93,
          83,
          27,
          147,
          30,
          25,
          1,
          29,
          45,
          78,
          105,
          22,
          25,
          23,
          49,
          38,
          25,
          45,
          1,
          48,
          32,
          12,
          35,
          33,
          123,
          33,
          28,
          32,
          40,
          31,
          30,
          28,
          30,
          26,
          39,
          58,
          46,
          33,
          37,
          14,
          31,
          45,
          34,
          30,
          33,
          60,
          29,
          86,
          112,
          20,
          34,
          74,
          20,
          29,
          20,
          71,
          29,
          30,
          34,
          1,
          31,
          39,
          31,
          33,
          30,
          34,
          38,
          33,
          27,
          52,
          27,
          54,
          35,
          1,
          24,
          33,
          30,
          59,
          98,
          30,
          27,
          38,
          27,
          105,
          107,
          75,
          23,
          62,
          61,
          35,
          84,
          26,
          31,
          114,
          29,
          28,
          89,
          38,
          35,
          43,
          110,
          1,
          27,
          30,
          27,
          32,
          25,
          44,
          38,
          26,
          28,
          17,
          26,
          25,
          48,
          28,
          57,
          37,
          24,
          37,
          25,
          28,
          25,
          134,
          20,
          30,
          40,
          60,
          39,
          29,
          33,
          26,
          26,
          99,
          33,
          22,
          23,
          29,
          36,
          137,
          59,
          30,
          36,
          30,
          30,
          26,
          30,
          110,
          98,
          115,
          48,
          159,
          27,
          91,
          31,
          33,
          40,
          28,
          29,
          27,
          37,
          141,
          27,
          40,
          34,
          29,
          39,
          30,
          39,
          73,
          71,
          25,
          1,
          36,
          31,
          46,
          99,
          87,
          123,
          20,
          40,
          18,
          144,
          38,
          33
         ]
        },
        {
         "marker": {
          "color": "#01DB8C"
         },
         "name": "One-Shot",
         "type": "histogram",
         "x": [
          123,
          20,
          121,
          27,
          43,
          144,
          144,
          30,
          109,
          27,
          71,
          78,
          120,
          115,
          76,
          104,
          117,
          27,
          45,
          131,
          97,
          82,
          161,
          23,
          24,
          184,
          30,
          92,
          45,
          125,
          85,
          72,
          179,
          160,
          116,
          24,
          166,
          102,
          91,
          73,
          114,
          101,
          82,
          98,
          94,
          93,
          25,
          72,
          32,
          88,
          161,
          34,
          118,
          106,
          76,
          86,
          82,
          112,
          27,
          168,
          60,
          162,
          159,
          145,
          59,
          68,
          152,
          59,
          96,
          28,
          26,
          85,
          117,
          94,
          24,
          61,
          121,
          143,
          156,
          23,
          116,
          84,
          99,
          80,
          54,
          100,
          96,
          71,
          110,
          82,
          165,
          142,
          165,
          131,
          46,
          128,
          22,
          167,
          132,
          133,
          154,
          134,
          80,
          51,
          157,
          46,
          23,
          92,
          153,
          27,
          62,
          23,
          143,
          180,
          78,
          118,
          110,
          81,
          149,
          107,
          154,
          76,
          88,
          76,
          62,
          141,
          22,
          94,
          58,
          26,
          159,
          27,
          81,
          20,
          83,
          97,
          26,
          111,
          26,
          40,
          59,
          74,
          63,
          52,
          82,
          95,
          118,
          24,
          73,
          101,
          65,
          23,
          92,
          73,
          28,
          128,
          80,
          184,
          77,
          124,
          71,
          123,
          24,
          87,
          25,
          102,
          67,
          113,
          134,
          103,
          48,
          61,
          151,
          79,
          108,
          98,
          96,
          133,
          152,
          69,
          23,
          86,
          69,
          76,
          84,
          22,
          56,
          84,
          114,
          147,
          100,
          94,
          91,
          88,
          73,
          128,
          110,
          141,
          136,
          31,
          100,
          72,
          28,
          94,
          140,
          49,
          103,
          63,
          147,
          28,
          42,
          79,
          72,
          98,
          66,
          88,
          143,
          94,
          27,
          166,
          48,
          111,
          162,
          95,
          60,
          100,
          88,
          147,
          44,
          167,
          85,
          65,
          83,
          142,
          106,
          52,
          94,
          88,
          26,
          110,
          78,
          25,
          71,
          92,
          70,
          81,
          71,
          73,
          75,
          140,
          68,
          64,
          104,
          50,
          125,
          92,
          162,
          118,
          25,
          134,
          151,
          102,
          134,
          90,
          30,
          73,
          76,
          82,
          163,
          22,
          51,
          49,
          81,
          93,
          59,
          143,
          151,
          87,
          101,
          31,
          42,
          27,
          69,
          55,
          91,
          96,
          131,
          92,
          135,
          36,
          121,
          105,
          100,
          190,
          81,
          30,
          74,
          106,
          71,
          157,
          70,
          30,
          108,
          76,
          89,
          24,
          89,
          140,
          85,
          42,
          66,
          86,
          144,
          90,
          62,
          141,
          58,
          66,
          129,
          83,
          78,
          67,
          152,
          88,
          62,
          60,
          22,
          146,
          115,
          60,
          134,
          95,
          56,
          56,
          69,
          99,
          132,
          91,
          28,
          99,
          106,
          26,
          56,
          126,
          55,
          156,
          28,
          112,
          22,
          66,
          117,
          84,
          82,
          57,
          45,
          98,
          104,
          96,
          93,
          92,
          86,
          74,
          104,
          87,
          159,
          166,
          146,
          88,
          33,
          166,
          121,
          85,
          141,
          23,
          65,
          68,
          67,
          98,
          123,
          24,
          136,
          81,
          54,
          100,
          145,
          91,
          107,
          120,
          124,
          178,
          118,
          152,
          61,
          144,
          96,
          141,
          22,
          117,
          110,
          76,
          48,
          65,
          111,
          129,
          101,
          163,
          27,
          94,
          149,
          157,
          99,
          80,
          96,
          134,
          61,
          129,
          121,
          137,
          71,
          164,
          71,
          66,
          121,
          113,
          120,
          50,
          85,
          96,
          39,
          134,
          90,
          76,
          68,
          94,
          28,
          56,
          22,
          106,
          85,
          113,
          66,
          44,
          139,
          107,
          57,
          28,
          64,
          80,
          25,
          83,
          58,
          61,
          84,
          130,
          58,
          109,
          89,
          91,
          139
         ]
        }
       ],
       "layout": {
        "template": {
         "data": {
          "bar": [
           {
            "error_x": {
             "color": "#2a3f5f"
            },
            "error_y": {
             "color": "#2a3f5f"
            },
            "marker": {
             "line": {
              "color": "#E5ECF6",
              "width": 0.5
             },
             "pattern": {
              "fillmode": "overlay",
              "size": 10,
              "solidity": 0.2
             }
            },
            "type": "bar"
           }
          ],
          "barpolar": [
           {
            "marker": {
             "line": {
              "color": "#E5ECF6",
              "width": 0.5
             },
             "pattern": {
              "fillmode": "overlay",
              "size": 10,
              "solidity": 0.2
             }
            },
            "type": "barpolar"
           }
          ],
          "carpet": [
           {
            "aaxis": {
             "endlinecolor": "#2a3f5f",
             "gridcolor": "white",
             "linecolor": "white",
             "minorgridcolor": "white",
             "startlinecolor": "#2a3f5f"
            },
            "baxis": {
             "endlinecolor": "#2a3f5f",
             "gridcolor": "white",
             "linecolor": "white",
             "minorgridcolor": "white",
             "startlinecolor": "#2a3f5f"
            },
            "type": "carpet"
           }
          ],
          "choropleth": [
           {
            "colorbar": {
             "outlinewidth": 0,
             "ticks": ""
            },
            "type": "choropleth"
           }
          ],
          "contour": [
           {
            "colorbar": {
             "outlinewidth": 0,
             "ticks": ""
            },
            "colorscale": [
             [
              0,
              "#0d0887"
             ],
             [
              0.1111111111111111,
              "#46039f"
             ],
             [
              0.2222222222222222,
              "#7201a8"
             ],
             [
              0.3333333333333333,
              "#9c179e"
             ],
             [
              0.4444444444444444,
              "#bd3786"
             ],
             [
              0.5555555555555556,
              "#d8576b"
             ],
             [
              0.6666666666666666,
              "#ed7953"
             ],
             [
              0.7777777777777778,
              "#fb9f3a"
             ],
             [
              0.8888888888888888,
              "#fdca26"
             ],
             [
              1,
              "#f0f921"
             ]
            ],
            "type": "contour"
           }
          ],
          "contourcarpet": [
           {
            "colorbar": {
             "outlinewidth": 0,
             "ticks": ""
            },
            "type": "contourcarpet"
           }
          ],
          "heatmap": [
           {
            "colorbar": {
             "outlinewidth": 0,
             "ticks": ""
            },
            "colorscale": [
             [
              0,
              "#0d0887"
             ],
             [
              0.1111111111111111,
              "#46039f"
             ],
             [
              0.2222222222222222,
              "#7201a8"
             ],
             [
              0.3333333333333333,
              "#9c179e"
             ],
             [
              0.4444444444444444,
              "#bd3786"
             ],
             [
              0.5555555555555556,
              "#d8576b"
             ],
             [
              0.6666666666666666,
              "#ed7953"
             ],
             [
              0.7777777777777778,
              "#fb9f3a"
             ],
             [
              0.8888888888888888,
              "#fdca26"
             ],
             [
              1,
              "#f0f921"
             ]
            ],
            "type": "heatmap"
           }
          ],
          "heatmapgl": [
           {
            "colorbar": {
             "outlinewidth": 0,
             "ticks": ""
            },
            "colorscale": [
             [
              0,
              "#0d0887"
             ],
             [
              0.1111111111111111,
              "#46039f"
             ],
             [
              0.2222222222222222,
              "#7201a8"
             ],
             [
              0.3333333333333333,
              "#9c179e"
             ],
             [
              0.4444444444444444,
              "#bd3786"
             ],
             [
              0.5555555555555556,
              "#d8576b"
             ],
             [
              0.6666666666666666,
              "#ed7953"
             ],
             [
              0.7777777777777778,
              "#fb9f3a"
             ],
             [
              0.8888888888888888,
              "#fdca26"
             ],
             [
              1,
              "#f0f921"
             ]
            ],
            "type": "heatmapgl"
           }
          ],
          "histogram": [
           {
            "marker": {
             "pattern": {
              "fillmode": "overlay",
              "size": 10,
              "solidity": 0.2
             }
            },
            "type": "histogram"
           }
          ],
          "histogram2d": [
           {
            "colorbar": {
             "outlinewidth": 0,
             "ticks": ""
            },
            "colorscale": [
             [
              0,
              "#0d0887"
             ],
             [
              0.1111111111111111,
              "#46039f"
             ],
             [
              0.2222222222222222,
              "#7201a8"
             ],
             [
              0.3333333333333333,
              "#9c179e"
             ],
             [
              0.4444444444444444,
              "#bd3786"
             ],
             [
              0.5555555555555556,
              "#d8576b"
             ],
             [
              0.6666666666666666,
              "#ed7953"
             ],
             [
              0.7777777777777778,
              "#fb9f3a"
             ],
             [
              0.8888888888888888,
              "#fdca26"
             ],
             [
              1,
              "#f0f921"
             ]
            ],
            "type": "histogram2d"
           }
          ],
          "histogram2dcontour": [
           {
            "colorbar": {
             "outlinewidth": 0,
             "ticks": ""
            },
            "colorscale": [
             [
              0,
              "#0d0887"
             ],
             [
              0.1111111111111111,
              "#46039f"
             ],
             [
              0.2222222222222222,
              "#7201a8"
             ],
             [
              0.3333333333333333,
              "#9c179e"
             ],
             [
              0.4444444444444444,
              "#bd3786"
             ],
             [
              0.5555555555555556,
              "#d8576b"
             ],
             [
              0.6666666666666666,
              "#ed7953"
             ],
             [
              0.7777777777777778,
              "#fb9f3a"
             ],
             [
              0.8888888888888888,
              "#fdca26"
             ],
             [
              1,
              "#f0f921"
             ]
            ],
            "type": "histogram2dcontour"
           }
          ],
          "mesh3d": [
           {
            "colorbar": {
             "outlinewidth": 0,
             "ticks": ""
            },
            "type": "mesh3d"
           }
          ],
          "parcoords": [
           {
            "line": {
             "colorbar": {
              "outlinewidth": 0,
              "ticks": ""
             }
            },
            "type": "parcoords"
           }
          ],
          "pie": [
           {
            "automargin": true,
            "type": "pie"
           }
          ],
          "scatter": [
           {
            "fillpattern": {
             "fillmode": "overlay",
             "size": 10,
             "solidity": 0.2
            },
            "type": "scatter"
           }
          ],
          "scatter3d": [
           {
            "line": {
             "colorbar": {
              "outlinewidth": 0,
              "ticks": ""
             }
            },
            "marker": {
             "colorbar": {
              "outlinewidth": 0,
              "ticks": ""
             }
            },
            "type": "scatter3d"
           }
          ],
          "scattercarpet": [
           {
            "marker": {
             "colorbar": {
              "outlinewidth": 0,
              "ticks": ""
             }
            },
            "type": "scattercarpet"
           }
          ],
          "scattergeo": [
           {
            "marker": {
             "colorbar": {
              "outlinewidth": 0,
              "ticks": ""
             }
            },
            "type": "scattergeo"
           }
          ],
          "scattergl": [
           {
            "marker": {
             "colorbar": {
              "outlinewidth": 0,
              "ticks": ""
             }
            },
            "type": "scattergl"
           }
          ],
          "scattermapbox": [
           {
            "marker": {
             "colorbar": {
              "outlinewidth": 0,
              "ticks": ""
             }
            },
            "type": "scattermapbox"
           }
          ],
          "scatterpolar": [
           {
            "marker": {
             "colorbar": {
              "outlinewidth": 0,
              "ticks": ""
             }
            },
            "type": "scatterpolar"
           }
          ],
          "scatterpolargl": [
           {
            "marker": {
             "colorbar": {
              "outlinewidth": 0,
              "ticks": ""
             }
            },
            "type": "scatterpolargl"
           }
          ],
          "scatterternary": [
           {
            "marker": {
             "colorbar": {
              "outlinewidth": 0,
              "ticks": ""
             }
            },
            "type": "scatterternary"
           }
          ],
          "surface": [
           {
            "colorbar": {
             "outlinewidth": 0,
             "ticks": ""
            },
            "colorscale": [
             [
              0,
              "#0d0887"
             ],
             [
              0.1111111111111111,
              "#46039f"
             ],
             [
              0.2222222222222222,
              "#7201a8"
             ],
             [
              0.3333333333333333,
              "#9c179e"
             ],
             [
              0.4444444444444444,
              "#bd3786"
             ],
             [
              0.5555555555555556,
              "#d8576b"
             ],
             [
              0.6666666666666666,
              "#ed7953"
             ],
             [
              0.7777777777777778,
              "#fb9f3a"
             ],
             [
              0.8888888888888888,
              "#fdca26"
             ],
             [
              1,
              "#f0f921"
             ]
            ],
            "type": "surface"
           }
          ],
          "table": [
           {
            "cells": {
             "fill": {
              "color": "#EBF0F8"
             },
             "line": {
              "color": "white"
             }
            },
            "header": {
             "fill": {
              "color": "#C8D4E3"
             },
             "line": {
              "color": "white"
             }
            },
            "type": "table"
           }
          ]
         },
         "layout": {
          "annotationdefaults": {
           "arrowcolor": "#2a3f5f",
           "arrowhead": 0,
           "arrowwidth": 1
          },
          "autotypenumbers": "strict",
          "coloraxis": {
           "colorbar": {
            "outlinewidth": 0,
            "ticks": ""
           }
          },
          "colorscale": {
           "diverging": [
            [
             0,
             "#8e0152"
            ],
            [
             0.1,
             "#c51b7d"
            ],
            [
             0.2,
             "#de77ae"
            ],
            [
             0.3,
             "#f1b6da"
            ],
            [
             0.4,
             "#fde0ef"
            ],
            [
             0.5,
             "#f7f7f7"
            ],
            [
             0.6,
             "#e6f5d0"
            ],
            [
             0.7,
             "#b8e186"
            ],
            [
             0.8,
             "#7fbc41"
            ],
            [
             0.9,
             "#4d9221"
            ],
            [
             1,
             "#276419"
            ]
           ],
           "sequential": [
            [
             0,
             "#0d0887"
            ],
            [
             0.1111111111111111,
             "#46039f"
            ],
            [
             0.2222222222222222,
             "#7201a8"
            ],
            [
             0.3333333333333333,
             "#9c179e"
            ],
            [
             0.4444444444444444,
             "#bd3786"
            ],
            [
             0.5555555555555556,
             "#d8576b"
            ],
            [
             0.6666666666666666,
             "#ed7953"
            ],
            [
             0.7777777777777778,
             "#fb9f3a"
            ],
            [
             0.8888888888888888,
             "#fdca26"
            ],
            [
             1,
             "#f0f921"
            ]
           ],
           "sequentialminus": [
            [
             0,
             "#0d0887"
            ],
            [
             0.1111111111111111,
             "#46039f"
            ],
            [
             0.2222222222222222,
             "#7201a8"
            ],
            [
             0.3333333333333333,
             "#9c179e"
            ],
            [
             0.4444444444444444,
             "#bd3786"
            ],
            [
             0.5555555555555556,
             "#d8576b"
            ],
            [
             0.6666666666666666,
             "#ed7953"
            ],
            [
             0.7777777777777778,
             "#fb9f3a"
            ],
            [
             0.8888888888888888,
             "#fdca26"
            ],
            [
             1,
             "#f0f921"
            ]
           ]
          },
          "colorway": [
           "#636efa",
           "#EF553B",
           "#00cc96",
           "#ab63fa",
           "#FFA15A",
           "#19d3f3",
           "#FF6692",
           "#B6E880",
           "#FF97FF",
           "#FECB52"
          ],
          "font": {
           "color": "#2a3f5f"
          },
          "geo": {
           "bgcolor": "white",
           "lakecolor": "white",
           "landcolor": "#E5ECF6",
           "showlakes": true,
           "showland": true,
           "subunitcolor": "white"
          },
          "hoverlabel": {
           "align": "left"
          },
          "hovermode": "closest",
          "mapbox": {
           "style": "light"
          },
          "paper_bgcolor": "white",
          "plot_bgcolor": "#E5ECF6",
          "polar": {
           "angularaxis": {
            "gridcolor": "white",
            "linecolor": "white",
            "ticks": ""
           },
           "bgcolor": "#E5ECF6",
           "radialaxis": {
            "gridcolor": "white",
            "linecolor": "white",
            "ticks": ""
           }
          },
          "scene": {
           "xaxis": {
            "backgroundcolor": "#E5ECF6",
            "gridcolor": "white",
            "gridwidth": 2,
            "linecolor": "white",
            "showbackground": true,
            "ticks": "",
            "zerolinecolor": "white"
           },
           "yaxis": {
            "backgroundcolor": "#E5ECF6",
            "gridcolor": "white",
            "gridwidth": 2,
            "linecolor": "white",
            "showbackground": true,
            "ticks": "",
            "zerolinecolor": "white"
           },
           "zaxis": {
            "backgroundcolor": "#E5ECF6",
            "gridcolor": "white",
            "gridwidth": 2,
            "linecolor": "white",
            "showbackground": true,
            "ticks": "",
            "zerolinecolor": "white"
           }
          },
          "shapedefaults": {
           "line": {
            "color": "#2a3f5f"
           }
          },
          "ternary": {
           "aaxis": {
            "gridcolor": "white",
            "linecolor": "white",
            "ticks": ""
           },
           "baxis": {
            "gridcolor": "white",
            "linecolor": "white",
            "ticks": ""
           },
           "bgcolor": "#E5ECF6",
           "caxis": {
            "gridcolor": "white",
            "linecolor": "white",
            "ticks": ""
           }
          },
          "title": {
           "x": 0.05
          },
          "xaxis": {
           "automargin": true,
           "gridcolor": "white",
           "linecolor": "white",
           "ticks": "",
           "title": {
            "standoff": 15
           },
           "zerolinecolor": "white",
           "zerolinewidth": 2
          },
          "yaxis": {
           "automargin": true,
           "gridcolor": "white",
           "linecolor": "white",
           "ticks": "",
           "title": {
            "standoff": 15
           },
           "zerolinecolor": "white",
           "zerolinewidth": 2
          }
         }
        },
        "title": {
         "text": "CDs_3_5_Books_8_10 - Explanation length distribution"
        },
        "xaxis": {
         "title": {
          "text": "Length"
         }
        },
        "yaxis": {
         "title": {
          "text": "Frequency"
         }
        }
       }
      }
     },
     "metadata": {},
     "output_type": "display_data"
    }
   ],
   "source": [
    "plot_length_distribution_comparison(cds_35_books_510_0s_preds, cds_35_books_510_1s_preds, \"CDs_3_5_Books_5_10\")\n",
    "plot_length_distribution_comparison(cds_35_books_810_0s_preds, cds_35_books_810_1s_preds, \"CDs_3_5_Books_8_10\")"
   ]
  },
  {
   "cell_type": "code",
   "execution_count": 32,
   "metadata": {},
   "outputs": [
    {
     "data": {
      "application/vnd.plotly.v1+json": {
       "config": {
        "plotlyServerURL": "https://plot.ly"
       },
       "data": [
        {
         "marker": {
          "color": "#28A08C"
         },
         "name": "Zero-Shot",
         "type": "histogram",
         "x": [
          31,
          31,
          93,
          47,
          31,
          40,
          40,
          28,
          41,
          46,
          21,
          18,
          14,
          41,
          125,
          145,
          21,
          54,
          19,
          59,
          82,
          27,
          21,
          24,
          30,
          19,
          51,
          38,
          57,
          21,
          26,
          118,
          34,
          46,
          74,
          90,
          14,
          45,
          25,
          29,
          22,
          17,
          39,
          30,
          19,
          24,
          128,
          31,
          105,
          51,
          27,
          46,
          34,
          30,
          14,
          27,
          27,
          28,
          19,
          20,
          40,
          44,
          29,
          21,
          41,
          83,
          160,
          38,
          27,
          161,
          18,
          27,
          30,
          123,
          34,
          22,
          34,
          40,
          40,
          28,
          17,
          15,
          44,
          24,
          20,
          43,
          22,
          36,
          26,
          99,
          53,
          39,
          39,
          43,
          25,
          44,
          22,
          53,
          25,
          41,
          57,
          25,
          32,
          20,
          32,
          31,
          43,
          19,
          36,
          52,
          43,
          108,
          17,
          19,
          105,
          33,
          48,
          21,
          20,
          20,
          39,
          22,
          47,
          31,
          66,
          17,
          23,
          17,
          41,
          49,
          102,
          39,
          46,
          55,
          19,
          39,
          53,
          26,
          17,
          32,
          20,
          33,
          35,
          35,
          36,
          61,
          45,
          41,
          49,
          19,
          49,
          22,
          50,
          37,
          166,
          39,
          28,
          32,
          17,
          14,
          37,
          32,
          19,
          27,
          37,
          33,
          30,
          39,
          42,
          34,
          18,
          22,
          28,
          35,
          19,
          26,
          36,
          19,
          21,
          28,
          156,
          25,
          29,
          38,
          17,
          59,
          26,
          24,
          33,
          31,
          40,
          55,
          17,
          14,
          21,
          102,
          20,
          54,
          17,
          71,
          33,
          37,
          35,
          29,
          23,
          29,
          37,
          14,
          29,
          21,
          19,
          20,
          19,
          95,
          158,
          34,
          89,
          33,
          23,
          27,
          41,
          62,
          17,
          13,
          164,
          17,
          21,
          103,
          26,
          80,
          20,
          30,
          25,
          169,
          22,
          14,
          71,
          25,
          40,
          23,
          74,
          14,
          30,
          32,
          23,
          27,
          97,
          26,
          80,
          37,
          17,
          41,
          29,
          29,
          52,
          30,
          26,
          85,
          32,
          42,
          29,
          102,
          46,
          37,
          46,
          26,
          29,
          28,
          33,
          28,
          45,
          45,
          31,
          78,
          21,
          20,
          30,
          41,
          44,
          25,
          124,
          19,
          14,
          59,
          59,
          14,
          78,
          19,
          21,
          30,
          21,
          98,
          22,
          96,
          15,
          24,
          38,
          25,
          34,
          14,
          33,
          112,
          21,
          34,
          48,
          53,
          19,
          30,
          101,
          22,
          113,
          18,
          53,
          38,
          26,
          41,
          31,
          29,
          31,
          35,
          19,
          27,
          31,
          120,
          32,
          84,
          61,
          74,
          22,
          36,
          73,
          22,
          21,
          46,
          40,
          18,
          75,
          51,
          35,
          35,
          37,
          36,
          39,
          36,
          17,
          21,
          43,
          55,
          24,
          64,
          34,
          48,
          35,
          40,
          41,
          23,
          140,
          39,
          21,
          38,
          54,
          44,
          18,
          32,
          23,
          56,
          166,
          82,
          38,
          44,
          47,
          82,
          33,
          55,
          33,
          144,
          155,
          37,
          50,
          34,
          34,
          39,
          91,
          20,
          48,
          31,
          126,
          26,
          60,
          33,
          26,
          43,
          28,
          85,
          34,
          48,
          44,
          68,
          18,
          132,
          57,
          41,
          28,
          33,
          20,
          84,
          20,
          61,
          19,
          34,
          23,
          65,
          46,
          42,
          18,
          39,
          14,
          32,
          17,
          44,
          29,
          27,
          145,
          46,
          44,
          27,
          34,
          73,
          57,
          27,
          89,
          33,
          14,
          41,
          22,
          27,
          55,
          20,
          51,
          28,
          21,
          22,
          46,
          40,
          40,
          20,
          221,
          77,
          44,
          21,
          51,
          50,
          24,
          21,
          175,
          40,
          100,
          43,
          30,
          34,
          34,
          32,
          23,
          52,
          29,
          14,
          38,
          19,
          18,
          47,
          22,
          18,
          57,
          22,
          50,
          44,
          32,
          44,
          40,
          95,
          42,
          29,
          27,
          28,
          101,
          39,
          49,
          96,
          35,
          34,
          41,
          70,
          58,
          21,
          32,
          33,
          39,
          59,
          39,
          108,
          15,
          103,
          38,
          34,
          19,
          21,
          167,
          28,
          48,
          25,
          29,
          31,
          66,
          29,
          21,
          25,
          31,
          27,
          39,
          23,
          40,
          39,
          34,
          35,
          85,
          25,
          37,
          14,
          25,
          19,
          48,
          14,
          30,
          60,
          43,
          45,
          168,
          31,
          80,
          48,
          38,
          21,
          30,
          14,
          21,
          29,
          53,
          18,
          144,
          27,
          34,
          26,
          23,
          12,
          32,
          48,
          19,
          43,
          31,
          31,
          49,
          27,
          14,
          99,
          17,
          35,
          161,
          55,
          45,
          72,
          56,
          28,
          32,
          45,
          35,
          81,
          14,
          89,
          33,
          33,
          31,
          26,
          64,
          44,
          19,
          62,
          28,
          22,
          21,
          38,
          22,
          19,
          53,
          42,
          41,
          48,
          34,
          14,
          17,
          17,
          33,
          44,
          14,
          31,
          20,
          95,
          51,
          14,
          38,
          21,
          20,
          33,
          41,
          37,
          59,
          12,
          82,
          38,
          33,
          32,
          17,
          19,
          25,
          21,
          29,
          114,
          48,
          14,
          36,
          59,
          30,
          64,
          41,
          19,
          16,
          29,
          19,
          40,
          33,
          160,
          19,
          43,
          39,
          31,
          51,
          43,
          46,
          29,
          28,
          148,
          21,
          39,
          29,
          19,
          69,
          20,
          81,
          36,
          21,
          19,
          101,
          21,
          20,
          14,
          45,
          64,
          19,
          35,
          14,
          32,
          47,
          53,
          24,
          169,
          20,
          50,
          30,
          25,
          19,
          34,
          42,
          19,
          17,
          31,
          146,
          38,
          21,
          76,
          78,
          45,
          34,
          23,
          95,
          82,
          19,
          29,
          237,
          21,
          40,
          44,
          22,
          26,
          14,
          49,
          91,
          40,
          46,
          43,
          171,
          56,
          27,
          47,
          17,
          157,
          45,
          27,
          20,
          26,
          184,
          135,
          33,
          21,
          14,
          43,
          48,
          40,
          48,
          21,
          48,
          28,
          29,
          36,
          52,
          38,
          50,
          25,
          46,
          42,
          18,
          41,
          29,
          32,
          29,
          41,
          19,
          39,
          45,
          36,
          84,
          40,
          46,
          31,
          20,
          23,
          32,
          96,
          40,
          37,
          17,
          48,
          26,
          32,
          19,
          167,
          55,
          18,
          36,
          150,
          26,
          94,
          20,
          23,
          30,
          39,
          14,
          45,
          31,
          66,
          30,
          27,
          100,
          21,
          20,
          19,
          36,
          181,
          44,
          28,
          48,
          35,
          106,
          36,
          1,
          14,
          20,
          70,
          46,
          52,
          19,
          19,
          29,
          199,
          26,
          46,
          40,
          82,
          14,
          38,
          29,
          23,
          40,
          99,
          33,
          24,
          44,
          44,
          33,
          20,
          31,
          20,
          62,
          23,
          34,
          42,
          29,
          18,
          20,
          24,
          92,
          47,
          44,
          30,
          31,
          42,
          21,
          35,
          52,
          79,
          43,
          25,
          14,
          23,
          100,
          94,
          80,
          45,
          21,
          21,
          18,
          17,
          45,
          25,
          31,
          26,
          26,
          64,
          65,
          17,
          39,
          36,
          17,
          19,
          30,
          47,
          19,
          32,
          35,
          28,
          32,
          33,
          29,
          29,
          35,
          53,
          25,
          42,
          25,
          43,
          25,
          21,
          29,
          23,
          18,
          21,
          30,
          33,
          23,
          54,
          27,
          35,
          96,
          29,
          19,
          135,
          87,
          43,
          127,
          23,
          17,
          114,
          31,
          44,
          18,
          33,
          34,
          106,
          28,
          64,
          21,
          99,
          46,
          18,
          20,
          27,
          33,
          30,
          37,
          46,
          17,
          35,
          38,
          27,
          27,
          22,
          45,
          36,
          19,
          38,
          29,
          26,
          18,
          33,
          27,
          18,
          26,
          42,
          25,
          19,
          59,
          49,
          19,
          19,
          31,
          34,
          47,
          30,
          25,
          27,
          30,
          54,
          33,
          32,
          19,
          25,
          42,
          23,
          17,
          35,
          31,
          29,
          22,
          36,
          26,
          28,
          33,
          19,
          19,
          21,
          48,
          14,
          21,
          15,
          29,
          19,
          100,
          45,
          33,
          71,
          39,
          65,
          34,
          43,
          34,
          29,
          30,
          52,
          52,
          21,
          165,
          112,
          18,
          25,
          31,
          17,
          196,
          28,
          36,
          98,
          109,
          19,
          17,
          33,
          101,
          18,
          54,
          21,
          21,
          52,
          41,
          43,
          105,
          33,
          38,
          17,
          25,
          36,
          91,
          29,
          76,
          29,
          25,
          27,
          38,
          46,
          35,
          22,
          95,
          21,
          44,
          41,
          101,
          37,
          34,
          43,
          19,
          1,
          24,
          41,
          45,
          41,
          99,
          37,
          19,
          23,
          40,
          18,
          105,
          41,
          54,
          38,
          32,
          31,
          26,
          119,
          89,
          32,
          32,
          27,
          21,
          19,
          44,
          30,
          29,
          34,
          24,
          38,
          110,
          83,
          21,
          54,
          14,
          14,
          26,
          110,
          38,
          107,
          27,
          107,
          36,
          36,
          92,
          37,
          11,
          40,
          19,
          25,
          83,
          18,
          20,
          26,
          40,
          22,
          45,
          20,
          24,
          24,
          34,
          15,
          34,
          22,
          92,
          122,
          17,
          18,
          32,
          54,
          29,
          34,
          36,
          19,
          29,
          32,
          20,
          28,
          41,
          17,
          41,
          29,
          61,
          16,
          30,
          43,
          44,
          40,
          34,
          41,
          36,
          14,
          28,
          188,
          139,
          34,
          160,
          19,
          24,
          79,
          85,
          61,
          32,
          36,
          35,
          47,
          71,
          43,
          24,
          25,
          38,
          34,
          18,
          47,
          31,
          32,
          195,
          19,
          20,
          36,
          31,
          22,
          30,
          19,
          19,
          26,
          83,
          27,
          77,
          33,
          19,
          30,
          32,
          96,
          43
         ]
        },
        {
         "marker": {
          "color": "#01DB8C"
         },
         "name": "One-Shot",
         "type": "histogram",
         "x": [
          127,
          58,
          89,
          168,
          57,
          93,
          114,
          85,
          105,
          65,
          109,
          30,
          78,
          29,
          41,
          64,
          116,
          71,
          163,
          125,
          62,
          116,
          57,
          191,
          91,
          55,
          16,
          34,
          158,
          125,
          110,
          112,
          71,
          136,
          100,
          139,
          129,
          52,
          53,
          111,
          83,
          97,
          57,
          161,
          115,
          20,
          120,
          75,
          39,
          75,
          121,
          125,
          136,
          145,
          112,
          98,
          106,
          45,
          43,
          114,
          89,
          131,
          125,
          69,
          160,
          76,
          150,
          90,
          44,
          95,
          46,
          22,
          152,
          68,
          36,
          33,
          120,
          154,
          57,
          138,
          21,
          63,
          111,
          104,
          150,
          38,
          130,
          111,
          117,
          72,
          170,
          160,
          134,
          129,
          144,
          30,
          108,
          111,
          168,
          124,
          60,
          58,
          113,
          181,
          126,
          50,
          145,
          179,
          52,
          95,
          97,
          61,
          101,
          32,
          155,
          110,
          118,
          82,
          55,
          105,
          75,
          43,
          27,
          90,
          118,
          139,
          142,
          54,
          169,
          119,
          59,
          101,
          115,
          102,
          138,
          65,
          109,
          120,
          150,
          95,
          149,
          121,
          89,
          123,
          173,
          123,
          79,
          81,
          101,
          22,
          107,
          80,
          105,
          37,
          77,
          121,
          56,
          51,
          125,
          63,
          132,
          74,
          125,
          161,
          103,
          50,
          156,
          75,
          111,
          75,
          123,
          79,
          59,
          78,
          42,
          41,
          68,
          139,
          47,
          52,
          75,
          74,
          66,
          74,
          117,
          36,
          81,
          24,
          159,
          152,
          87,
          140,
          139,
          24,
          133,
          25,
          91,
          60,
          57,
          77,
          128,
          66,
          78,
          78,
          32,
          102,
          121,
          25,
          82,
          89,
          122,
          61,
          29,
          126,
          174,
          138,
          89,
          40,
          150,
          113,
          40,
          108,
          60,
          148,
          148,
          125,
          71,
          24,
          58,
          102,
          90,
          102,
          166,
          108,
          38,
          86,
          110,
          87,
          16,
          57,
          129,
          134,
          78,
          23,
          101,
          169,
          144,
          158,
          108,
          111,
          91,
          70,
          119,
          162,
          48,
          161,
          137,
          91,
          169,
          143,
          119,
          154,
          46,
          148,
          85,
          35,
          21,
          81,
          92,
          74,
          91,
          157,
          115,
          109,
          83,
          157,
          81,
          119,
          61,
          28,
          24,
          138,
          71,
          84,
          50,
          126,
          111,
          113,
          27,
          146,
          73,
          45,
          123,
          29,
          149,
          134,
          131,
          121,
          176,
          73,
          45,
          152,
          59,
          23,
          29,
          100,
          54,
          47,
          145,
          132,
          96,
          48,
          187,
          72,
          68,
          52,
          71,
          71,
          71,
          18,
          156,
          125,
          88,
          77,
          119,
          49,
          47,
          50,
          166,
          92,
          179,
          127,
          67,
          153,
          154,
          82,
          121,
          20,
          31,
          29,
          232,
          38,
          126,
          101,
          141,
          44,
          97,
          23,
          49,
          159,
          100,
          93,
          129,
          74,
          173,
          23,
          81,
          135,
          48,
          101,
          130,
          131,
          48,
          108,
          188,
          137,
          116,
          156,
          22,
          126,
          137,
          65,
          108,
          132,
          95,
          137,
          82,
          150,
          103,
          83,
          110,
          58,
          94,
          98,
          95,
          116,
          69,
          116,
          124,
          178,
          134,
          61,
          76,
          54,
          75,
          77,
          58,
          130,
          191,
          156,
          181,
          134,
          37,
          148,
          154,
          49,
          32,
          38,
          143,
          107,
          42,
          83,
          178,
          51,
          91,
          101,
          68,
          55,
          105,
          94,
          47,
          85,
          38,
          48,
          22,
          93,
          104,
          38,
          97,
          113,
          148,
          58,
          75,
          30,
          66,
          114,
          120,
          112,
          103,
          102,
          140,
          93,
          47,
          143,
          144,
          27,
          75,
          139,
          151,
          124,
          40,
          61,
          18,
          64,
          48,
          191,
          97,
          95,
          50,
          99,
          139,
          73,
          142,
          62,
          16,
          121,
          140,
          46,
          65,
          115,
          128,
          46,
          156,
          45,
          106,
          139,
          127,
          148,
          96,
          95,
          160,
          126,
          155,
          115,
          71,
          113,
          190,
          150,
          129,
          130,
          110,
          186,
          103,
          79,
          144,
          54,
          126,
          48,
          103,
          24,
          81,
          102,
          105,
          74,
          78,
          110,
          141,
          60,
          159,
          148,
          95,
          53,
          68,
          90,
          42,
          41,
          18,
          86,
          41,
          160,
          92,
          102,
          57,
          156,
          36,
          137,
          87,
          69,
          44,
          23,
          120,
          67,
          154,
          46,
          98,
          76,
          100,
          100,
          146,
          132,
          42,
          76,
          89,
          111,
          142,
          77,
          85,
          33,
          147,
          199,
          71,
          115,
          104,
          94,
          56,
          107,
          86,
          62,
          180,
          116,
          113,
          157,
          103,
          139,
          160,
          108,
          131,
          147,
          72,
          27,
          107,
          97,
          116,
          28,
          101,
          96,
          131,
          43,
          110,
          158,
          111,
          145,
          88,
          53,
          108,
          175,
          116,
          31,
          157,
          94,
          24,
          172,
          78,
          81,
          160,
          124,
          90,
          162,
          125,
          155,
          58,
          119,
          21,
          73,
          113,
          133,
          89,
          120,
          67,
          38,
          23,
          114,
          45,
          100,
          111,
          83,
          154,
          147,
          94,
          87,
          112,
          112,
          89,
          83,
          120,
          172,
          58,
          118,
          103,
          71,
          51,
          53,
          29,
          160,
          87,
          23,
          104,
          128,
          101,
          88,
          59,
          109,
          72,
          68,
          41,
          73,
          76,
          38,
          102,
          142,
          47,
          51,
          96,
          59,
          51,
          62,
          44,
          132,
          21,
          91,
          140,
          46,
          31,
          102,
          25,
          80,
          156,
          86,
          111,
          20,
          118,
          160,
          155,
          42,
          70,
          52,
          41,
          136,
          116,
          48,
          176,
          165,
          100,
          153,
          114,
          140,
          170,
          80,
          141,
          116,
          139,
          46,
          139,
          149,
          154,
          76,
          62,
          46,
          44,
          131,
          131,
          109,
          67,
          176,
          29,
          154,
          87,
          54,
          67,
          118,
          122,
          25,
          77,
          112,
          63,
          120,
          194,
          108,
          44,
          178,
          116,
          56,
          121,
          34,
          93,
          73,
          118,
          175,
          109,
          26,
          38,
          25,
          61,
          115,
          89,
          86,
          92,
          175,
          57,
          116,
          103,
          109,
          31,
          155,
          25,
          131,
          146,
          86,
          73,
          119,
          34,
          66,
          125,
          130,
          44,
          137,
          114,
          70,
          62,
          64,
          78,
          149,
          142,
          57,
          128,
          129,
          30,
          91,
          136,
          156,
          159,
          128,
          156,
          147,
          110,
          90,
          81,
          17,
          170,
          59,
          44,
          85,
          102,
          149,
          145,
          73,
          121,
          156,
          87,
          83,
          72,
          109,
          61,
          128,
          60,
          104,
          97,
          142,
          83,
          141,
          34,
          116,
          90,
          48,
          122,
          122,
          81,
          87,
          123,
          93,
          147,
          57,
          92,
          95,
          154,
          33,
          66,
          129,
          78,
          65,
          136,
          90,
          112,
          112,
          100,
          144,
          169,
          140,
          101,
          47,
          117,
          117,
          79,
          135,
          96,
          85,
          54,
          163,
          157,
          62,
          129,
          67,
          150,
          81,
          119,
          39,
          26,
          25,
          51,
          104,
          66,
          52,
          17,
          143,
          152,
          32,
          111,
          98,
          85,
          174,
          96,
          29,
          79,
          103,
          72,
          95,
          147,
          146,
          58,
          117,
          124,
          136,
          161,
          137,
          55,
          71,
          62,
          103,
          27,
          109,
          94,
          131,
          124,
          78,
          94,
          77,
          45,
          125,
          61,
          134,
          68,
          110,
          70,
          175,
          59,
          143,
          64,
          136,
          111,
          172,
          100,
          52,
          69,
          151,
          82,
          48,
          77,
          139,
          83,
          82,
          80,
          140,
          140,
          125,
          31,
          71,
          84,
          136,
          47,
          26,
          76,
          135,
          138,
          148,
          55,
          92,
          114,
          135,
          66,
          110,
          74,
          118,
          164,
          60,
          124,
          106,
          188,
          173,
          25,
          108,
          124,
          63,
          70,
          84,
          146,
          170,
          27,
          72,
          147,
          98,
          65,
          68,
          150,
          105,
          38,
          65,
          102,
          87,
          33,
          120,
          155,
          103,
          81,
          45,
          140,
          61,
          40,
          108,
          78,
          149,
          61,
          25,
          127,
          34,
          107,
          151,
          32,
          28,
          34,
          155,
          92,
          84,
          63,
          70,
          103,
          82,
          44,
          84,
          125,
          164,
          32,
          113,
          71,
          131,
          156,
          57,
          50,
          61,
          92,
          146,
          87,
          110,
          68,
          141,
          67,
          60,
          167,
          61,
          79,
          47,
          107,
          27,
          64,
          76,
          88,
          45,
          70,
          77,
          142,
          162,
          81,
          82,
          62,
          129,
          119,
          68,
          148,
          66,
          210,
          40,
          108,
          158,
          191,
          79,
          86,
          86,
          40,
          111,
          116,
          130,
          118,
          44,
          59,
          72,
          68,
          76,
          133,
          23,
          73,
          80,
          26,
          22,
          64,
          82,
          104,
          158,
          46,
          76,
          45,
          135,
          104,
          71,
          150,
          132,
          78,
          121,
          95,
          92,
          136,
          81,
          57,
          104,
          98,
          92,
          160,
          112,
          75,
          50,
          45,
          21,
          77,
          97,
          93,
          41,
          135,
          75,
          31,
          57,
          134,
          97,
          61,
          129,
          28,
          20,
          134,
          110,
          111,
          82,
          108,
          125,
          35,
          71,
          87,
          81,
          105,
          150,
          94,
          114,
          164,
          63,
          91,
          127,
          108,
          56,
          95,
          183,
          94,
          87,
          62,
          59,
          39,
          76,
          97,
          144,
          56,
          61,
          140,
          124,
          150,
          56,
          137,
          91,
          142,
          42,
          53,
          93,
          152,
          80,
          118,
          25,
          91,
          142,
          80,
          70,
          37,
          18,
          42,
          92,
          77,
          44,
          71,
          105,
          93,
          23,
          93,
          68,
          67,
          135,
          105,
          78,
          86,
          187,
          36,
          17,
          44,
          158,
          51,
          84,
          137,
          146,
          72,
          137,
          76,
          160,
          97,
          46,
          119,
          114,
          104,
          127,
          91,
          40,
          40,
          67,
          88,
          60,
          56,
          165,
          71,
          50,
          140,
          62,
          67,
          147,
          113,
          112,
          22,
          112,
          140,
          142,
          95,
          142,
          146,
          93,
          32,
          24,
          140,
          64,
          69,
          118,
          144,
          131,
          82,
          39,
          53,
          25,
          90,
          68,
          62,
          108,
          42,
          83,
          96,
          69,
          80
         ]
        }
       ],
       "layout": {
        "template": {
         "data": {
          "bar": [
           {
            "error_x": {
             "color": "#2a3f5f"
            },
            "error_y": {
             "color": "#2a3f5f"
            },
            "marker": {
             "line": {
              "color": "#E5ECF6",
              "width": 0.5
             },
             "pattern": {
              "fillmode": "overlay",
              "size": 10,
              "solidity": 0.2
             }
            },
            "type": "bar"
           }
          ],
          "barpolar": [
           {
            "marker": {
             "line": {
              "color": "#E5ECF6",
              "width": 0.5
             },
             "pattern": {
              "fillmode": "overlay",
              "size": 10,
              "solidity": 0.2
             }
            },
            "type": "barpolar"
           }
          ],
          "carpet": [
           {
            "aaxis": {
             "endlinecolor": "#2a3f5f",
             "gridcolor": "white",
             "linecolor": "white",
             "minorgridcolor": "white",
             "startlinecolor": "#2a3f5f"
            },
            "baxis": {
             "endlinecolor": "#2a3f5f",
             "gridcolor": "white",
             "linecolor": "white",
             "minorgridcolor": "white",
             "startlinecolor": "#2a3f5f"
            },
            "type": "carpet"
           }
          ],
          "choropleth": [
           {
            "colorbar": {
             "outlinewidth": 0,
             "ticks": ""
            },
            "type": "choropleth"
           }
          ],
          "contour": [
           {
            "colorbar": {
             "outlinewidth": 0,
             "ticks": ""
            },
            "colorscale": [
             [
              0,
              "#0d0887"
             ],
             [
              0.1111111111111111,
              "#46039f"
             ],
             [
              0.2222222222222222,
              "#7201a8"
             ],
             [
              0.3333333333333333,
              "#9c179e"
             ],
             [
              0.4444444444444444,
              "#bd3786"
             ],
             [
              0.5555555555555556,
              "#d8576b"
             ],
             [
              0.6666666666666666,
              "#ed7953"
             ],
             [
              0.7777777777777778,
              "#fb9f3a"
             ],
             [
              0.8888888888888888,
              "#fdca26"
             ],
             [
              1,
              "#f0f921"
             ]
            ],
            "type": "contour"
           }
          ],
          "contourcarpet": [
           {
            "colorbar": {
             "outlinewidth": 0,
             "ticks": ""
            },
            "type": "contourcarpet"
           }
          ],
          "heatmap": [
           {
            "colorbar": {
             "outlinewidth": 0,
             "ticks": ""
            },
            "colorscale": [
             [
              0,
              "#0d0887"
             ],
             [
              0.1111111111111111,
              "#46039f"
             ],
             [
              0.2222222222222222,
              "#7201a8"
             ],
             [
              0.3333333333333333,
              "#9c179e"
             ],
             [
              0.4444444444444444,
              "#bd3786"
             ],
             [
              0.5555555555555556,
              "#d8576b"
             ],
             [
              0.6666666666666666,
              "#ed7953"
             ],
             [
              0.7777777777777778,
              "#fb9f3a"
             ],
             [
              0.8888888888888888,
              "#fdca26"
             ],
             [
              1,
              "#f0f921"
             ]
            ],
            "type": "heatmap"
           }
          ],
          "heatmapgl": [
           {
            "colorbar": {
             "outlinewidth": 0,
             "ticks": ""
            },
            "colorscale": [
             [
              0,
              "#0d0887"
             ],
             [
              0.1111111111111111,
              "#46039f"
             ],
             [
              0.2222222222222222,
              "#7201a8"
             ],
             [
              0.3333333333333333,
              "#9c179e"
             ],
             [
              0.4444444444444444,
              "#bd3786"
             ],
             [
              0.5555555555555556,
              "#d8576b"
             ],
             [
              0.6666666666666666,
              "#ed7953"
             ],
             [
              0.7777777777777778,
              "#fb9f3a"
             ],
             [
              0.8888888888888888,
              "#fdca26"
             ],
             [
              1,
              "#f0f921"
             ]
            ],
            "type": "heatmapgl"
           }
          ],
          "histogram": [
           {
            "marker": {
             "pattern": {
              "fillmode": "overlay",
              "size": 10,
              "solidity": 0.2
             }
            },
            "type": "histogram"
           }
          ],
          "histogram2d": [
           {
            "colorbar": {
             "outlinewidth": 0,
             "ticks": ""
            },
            "colorscale": [
             [
              0,
              "#0d0887"
             ],
             [
              0.1111111111111111,
              "#46039f"
             ],
             [
              0.2222222222222222,
              "#7201a8"
             ],
             [
              0.3333333333333333,
              "#9c179e"
             ],
             [
              0.4444444444444444,
              "#bd3786"
             ],
             [
              0.5555555555555556,
              "#d8576b"
             ],
             [
              0.6666666666666666,
              "#ed7953"
             ],
             [
              0.7777777777777778,
              "#fb9f3a"
             ],
             [
              0.8888888888888888,
              "#fdca26"
             ],
             [
              1,
              "#f0f921"
             ]
            ],
            "type": "histogram2d"
           }
          ],
          "histogram2dcontour": [
           {
            "colorbar": {
             "outlinewidth": 0,
             "ticks": ""
            },
            "colorscale": [
             [
              0,
              "#0d0887"
             ],
             [
              0.1111111111111111,
              "#46039f"
             ],
             [
              0.2222222222222222,
              "#7201a8"
             ],
             [
              0.3333333333333333,
              "#9c179e"
             ],
             [
              0.4444444444444444,
              "#bd3786"
             ],
             [
              0.5555555555555556,
              "#d8576b"
             ],
             [
              0.6666666666666666,
              "#ed7953"
             ],
             [
              0.7777777777777778,
              "#fb9f3a"
             ],
             [
              0.8888888888888888,
              "#fdca26"
             ],
             [
              1,
              "#f0f921"
             ]
            ],
            "type": "histogram2dcontour"
           }
          ],
          "mesh3d": [
           {
            "colorbar": {
             "outlinewidth": 0,
             "ticks": ""
            },
            "type": "mesh3d"
           }
          ],
          "parcoords": [
           {
            "line": {
             "colorbar": {
              "outlinewidth": 0,
              "ticks": ""
             }
            },
            "type": "parcoords"
           }
          ],
          "pie": [
           {
            "automargin": true,
            "type": "pie"
           }
          ],
          "scatter": [
           {
            "fillpattern": {
             "fillmode": "overlay",
             "size": 10,
             "solidity": 0.2
            },
            "type": "scatter"
           }
          ],
          "scatter3d": [
           {
            "line": {
             "colorbar": {
              "outlinewidth": 0,
              "ticks": ""
             }
            },
            "marker": {
             "colorbar": {
              "outlinewidth": 0,
              "ticks": ""
             }
            },
            "type": "scatter3d"
           }
          ],
          "scattercarpet": [
           {
            "marker": {
             "colorbar": {
              "outlinewidth": 0,
              "ticks": ""
             }
            },
            "type": "scattercarpet"
           }
          ],
          "scattergeo": [
           {
            "marker": {
             "colorbar": {
              "outlinewidth": 0,
              "ticks": ""
             }
            },
            "type": "scattergeo"
           }
          ],
          "scattergl": [
           {
            "marker": {
             "colorbar": {
              "outlinewidth": 0,
              "ticks": ""
             }
            },
            "type": "scattergl"
           }
          ],
          "scattermapbox": [
           {
            "marker": {
             "colorbar": {
              "outlinewidth": 0,
              "ticks": ""
             }
            },
            "type": "scattermapbox"
           }
          ],
          "scatterpolar": [
           {
            "marker": {
             "colorbar": {
              "outlinewidth": 0,
              "ticks": ""
             }
            },
            "type": "scatterpolar"
           }
          ],
          "scatterpolargl": [
           {
            "marker": {
             "colorbar": {
              "outlinewidth": 0,
              "ticks": ""
             }
            },
            "type": "scatterpolargl"
           }
          ],
          "scatterternary": [
           {
            "marker": {
             "colorbar": {
              "outlinewidth": 0,
              "ticks": ""
             }
            },
            "type": "scatterternary"
           }
          ],
          "surface": [
           {
            "colorbar": {
             "outlinewidth": 0,
             "ticks": ""
            },
            "colorscale": [
             [
              0,
              "#0d0887"
             ],
             [
              0.1111111111111111,
              "#46039f"
             ],
             [
              0.2222222222222222,
              "#7201a8"
             ],
             [
              0.3333333333333333,
              "#9c179e"
             ],
             [
              0.4444444444444444,
              "#bd3786"
             ],
             [
              0.5555555555555556,
              "#d8576b"
             ],
             [
              0.6666666666666666,
              "#ed7953"
             ],
             [
              0.7777777777777778,
              "#fb9f3a"
             ],
             [
              0.8888888888888888,
              "#fdca26"
             ],
             [
              1,
              "#f0f921"
             ]
            ],
            "type": "surface"
           }
          ],
          "table": [
           {
            "cells": {
             "fill": {
              "color": "#EBF0F8"
             },
             "line": {
              "color": "white"
             }
            },
            "header": {
             "fill": {
              "color": "#C8D4E3"
             },
             "line": {
              "color": "white"
             }
            },
            "type": "table"
           }
          ]
         },
         "layout": {
          "annotationdefaults": {
           "arrowcolor": "#2a3f5f",
           "arrowhead": 0,
           "arrowwidth": 1
          },
          "autotypenumbers": "strict",
          "coloraxis": {
           "colorbar": {
            "outlinewidth": 0,
            "ticks": ""
           }
          },
          "colorscale": {
           "diverging": [
            [
             0,
             "#8e0152"
            ],
            [
             0.1,
             "#c51b7d"
            ],
            [
             0.2,
             "#de77ae"
            ],
            [
             0.3,
             "#f1b6da"
            ],
            [
             0.4,
             "#fde0ef"
            ],
            [
             0.5,
             "#f7f7f7"
            ],
            [
             0.6,
             "#e6f5d0"
            ],
            [
             0.7,
             "#b8e186"
            ],
            [
             0.8,
             "#7fbc41"
            ],
            [
             0.9,
             "#4d9221"
            ],
            [
             1,
             "#276419"
            ]
           ],
           "sequential": [
            [
             0,
             "#0d0887"
            ],
            [
             0.1111111111111111,
             "#46039f"
            ],
            [
             0.2222222222222222,
             "#7201a8"
            ],
            [
             0.3333333333333333,
             "#9c179e"
            ],
            [
             0.4444444444444444,
             "#bd3786"
            ],
            [
             0.5555555555555556,
             "#d8576b"
            ],
            [
             0.6666666666666666,
             "#ed7953"
            ],
            [
             0.7777777777777778,
             "#fb9f3a"
            ],
            [
             0.8888888888888888,
             "#fdca26"
            ],
            [
             1,
             "#f0f921"
            ]
           ],
           "sequentialminus": [
            [
             0,
             "#0d0887"
            ],
            [
             0.1111111111111111,
             "#46039f"
            ],
            [
             0.2222222222222222,
             "#7201a8"
            ],
            [
             0.3333333333333333,
             "#9c179e"
            ],
            [
             0.4444444444444444,
             "#bd3786"
            ],
            [
             0.5555555555555556,
             "#d8576b"
            ],
            [
             0.6666666666666666,
             "#ed7953"
            ],
            [
             0.7777777777777778,
             "#fb9f3a"
            ],
            [
             0.8888888888888888,
             "#fdca26"
            ],
            [
             1,
             "#f0f921"
            ]
           ]
          },
          "colorway": [
           "#636efa",
           "#EF553B",
           "#00cc96",
           "#ab63fa",
           "#FFA15A",
           "#19d3f3",
           "#FF6692",
           "#B6E880",
           "#FF97FF",
           "#FECB52"
          ],
          "font": {
           "color": "#2a3f5f"
          },
          "geo": {
           "bgcolor": "white",
           "lakecolor": "white",
           "landcolor": "#E5ECF6",
           "showlakes": true,
           "showland": true,
           "subunitcolor": "white"
          },
          "hoverlabel": {
           "align": "left"
          },
          "hovermode": "closest",
          "mapbox": {
           "style": "light"
          },
          "paper_bgcolor": "white",
          "plot_bgcolor": "#E5ECF6",
          "polar": {
           "angularaxis": {
            "gridcolor": "white",
            "linecolor": "white",
            "ticks": ""
           },
           "bgcolor": "#E5ECF6",
           "radialaxis": {
            "gridcolor": "white",
            "linecolor": "white",
            "ticks": ""
           }
          },
          "scene": {
           "xaxis": {
            "backgroundcolor": "#E5ECF6",
            "gridcolor": "white",
            "gridwidth": 2,
            "linecolor": "white",
            "showbackground": true,
            "ticks": "",
            "zerolinecolor": "white"
           },
           "yaxis": {
            "backgroundcolor": "#E5ECF6",
            "gridcolor": "white",
            "gridwidth": 2,
            "linecolor": "white",
            "showbackground": true,
            "ticks": "",
            "zerolinecolor": "white"
           },
           "zaxis": {
            "backgroundcolor": "#E5ECF6",
            "gridcolor": "white",
            "gridwidth": 2,
            "linecolor": "white",
            "showbackground": true,
            "ticks": "",
            "zerolinecolor": "white"
           }
          },
          "shapedefaults": {
           "line": {
            "color": "#2a3f5f"
           }
          },
          "ternary": {
           "aaxis": {
            "gridcolor": "white",
            "linecolor": "white",
            "ticks": ""
           },
           "baxis": {
            "gridcolor": "white",
            "linecolor": "white",
            "ticks": ""
           },
           "bgcolor": "#E5ECF6",
           "caxis": {
            "gridcolor": "white",
            "linecolor": "white",
            "ticks": ""
           }
          },
          "title": {
           "x": 0.05
          },
          "xaxis": {
           "automargin": true,
           "gridcolor": "white",
           "linecolor": "white",
           "ticks": "",
           "title": {
            "standoff": 15
           },
           "zerolinecolor": "white",
           "zerolinewidth": 2
          },
          "yaxis": {
           "automargin": true,
           "gridcolor": "white",
           "linecolor": "white",
           "ticks": "",
           "title": {
            "standoff": 15
           },
           "zerolinecolor": "white",
           "zerolinewidth": 2
          }
         }
        },
        "title": {
         "text": "Movies_3_5_Books_5_10 - Explanation length distribution"
        },
        "xaxis": {
         "title": {
          "text": "Length"
         }
        },
        "yaxis": {
         "title": {
          "text": "Frequency"
         }
        }
       }
      }
     },
     "metadata": {},
     "output_type": "display_data"
    },
    {
     "data": {
      "application/vnd.plotly.v1+json": {
       "config": {
        "plotlyServerURL": "https://plot.ly"
       },
       "data": [
        {
         "marker": {
          "color": "#28A08C"
         },
         "name": "Zero-Shot",
         "type": "histogram",
         "x": [
          31,
          31,
          40,
          40,
          41,
          46,
          14,
          41,
          145,
          54,
          59,
          51,
          26,
          45,
          25,
          29,
          17,
          30,
          24,
          128,
          51,
          27,
          46,
          34,
          30,
          27,
          27,
          19,
          40,
          38,
          27,
          30,
          34,
          15,
          43,
          36,
          39,
          25,
          53,
          25,
          41,
          43,
          43,
          20,
          20,
          39,
          47,
          31,
          17,
          39,
          46,
          55,
          39,
          61,
          41,
          49,
          39,
          28,
          14,
          37,
          19,
          27,
          37,
          34,
          18,
          19,
          21,
          28,
          25,
          38,
          24,
          40,
          21,
          20,
          54,
          33,
          37,
          35,
          29,
          29,
          19,
          19,
          158,
          34,
          33,
          23,
          27,
          41,
          26,
          20,
          169,
          22,
          71,
          25,
          14,
          32,
          97,
          80,
          37,
          17,
          41,
          29,
          29,
          30,
          29,
          28,
          33,
          28,
          45,
          21,
          41,
          124,
          19,
          59,
          78,
          21,
          30,
          22,
          96,
          15,
          38,
          14,
          33,
          48,
          30,
          18,
          53,
          38,
          26,
          41,
          31,
          31,
          35,
          31,
          84,
          74,
          22,
          40,
          18,
          35,
          36,
          36,
          43,
          35,
          41,
          23,
          39,
          38,
          54,
          44,
          23,
          166,
          82,
          38,
          44,
          82,
          33,
          37,
          34,
          91,
          60,
          43,
          28,
          44,
          18,
          132,
          57,
          28,
          33,
          20,
          19,
          65,
          18,
          39,
          32,
          44,
          73,
          27,
          33,
          14,
          41,
          22,
          55,
          20,
          51,
          20,
          221,
          24,
          21,
          100,
          43,
          34,
          38,
          22,
          22,
          50,
          44,
          44,
          42,
          29,
          28,
          35,
          58,
          32,
          39,
          34,
          167,
          48,
          31,
          66,
          29,
          31,
          39,
          34,
          25,
          37,
          80,
          48,
          38,
          21,
          30,
          29,
          144,
          26,
          23,
          12,
          31,
          31,
          99,
          17,
          35,
          45,
          72,
          32,
          45,
          31,
          64,
          62,
          28,
          21,
          38,
          53,
          48,
          17,
          14,
          31,
          95,
          51,
          38,
          33,
          41,
          21,
          48,
          36,
          59,
          30,
          64,
          16,
          29,
          19,
          40,
          39,
          31,
          43,
          39,
          20,
          14,
          64,
          35,
          24,
          25,
          19,
          17,
          45,
          82,
          19,
          40,
          44,
          14,
          46,
          47,
          184,
          135,
          33,
          43,
          48,
          52,
          25,
          42,
          32,
          41,
          19,
          39,
          45,
          40,
          31,
          20,
          23,
          32,
          40,
          32,
          55,
          18,
          36,
          20,
          30,
          19,
          48,
          36,
          1,
          14,
          70,
          46,
          19,
          29,
          46,
          40,
          38,
          29,
          23,
          99,
          20,
          62,
          23,
          29,
          92,
          44,
          31,
          42,
          35,
          52,
          25,
          14,
          80,
          45,
          21,
          45,
          25,
          31,
          26,
          64,
          36,
          17,
          30,
          47,
          35,
          28,
          29,
          25,
          43,
          29,
          23,
          27,
          29,
          135,
          43,
          23,
          21,
          18,
          20,
          33,
          46,
          17,
          35,
          27,
          29,
          18,
          33,
          27,
          30,
          33,
          32,
          19,
          42,
          23,
          31,
          29,
          36,
          19,
          21,
          29,
          71,
          39,
          34,
          29,
          52,
          21,
          112,
          31,
          28,
          98,
          109,
          33,
          101,
          18,
          21,
          21,
          52,
          91,
          29,
          25,
          44,
          37,
          1,
          45,
          41,
          37,
          18,
          119,
          89,
          32,
          19,
          30,
          24,
          38,
          110,
          36,
          36,
          92,
          25,
          83,
          18,
          40,
          22,
          24,
          34,
          92,
          122,
          17,
          29,
          34,
          36,
          29,
          61,
          40,
          36,
          35,
          47,
          71,
          24,
          18,
          19,
          31,
          30,
          26,
          27,
          33,
          96
         ]
        },
        {
         "marker": {
          "color": "#01DB8C"
         },
         "name": "One-Shot",
         "type": "histogram",
         "x": [
          58,
          57,
          93,
          114,
          105,
          65,
          78,
          29,
          64,
          71,
          125,
          16,
          110,
          52,
          53,
          111,
          97,
          161,
          20,
          120,
          75,
          121,
          125,
          136,
          145,
          98,
          106,
          43,
          89,
          90,
          22,
          152,
          120,
          63,
          38,
          111,
          134,
          144,
          111,
          168,
          124,
          145,
          97,
          55,
          105,
          75,
          27,
          90,
          139,
          101,
          115,
          102,
          65,
          123,
          81,
          107,
          37,
          125,
          75,
          123,
          59,
          41,
          47,
          52,
          117,
          152,
          139,
          77,
          32,
          102,
          82,
          89,
          61,
          29,
          126,
          150,
          113,
          148,
          24,
          58,
          90,
          166,
          110,
          57,
          23,
          169,
          144,
          111,
          91,
          70,
          119,
          48,
          143,
          154,
          148,
          85,
          21,
          81,
          92,
          74,
          119,
          28,
          71,
          84,
          126,
          111,
          73,
          123,
          134,
          121,
          176,
          73,
          45,
          152,
          59,
          29,
          132,
          71,
          71,
          71,
          156,
          77,
          47,
          92,
          179,
          67,
          82,
          20,
          31,
          38,
          126,
          101,
          44,
          49,
          159,
          74,
          81,
          130,
          131,
          48,
          108,
          188,
          137,
          156,
          22,
          65,
          95,
          82,
          150,
          98,
          95,
          116,
          134,
          76,
          77,
          181,
          32,
          143,
          107,
          83,
          51,
          91,
          101,
          105,
          47,
          85,
          38,
          48,
          93,
          104,
          58,
          66,
          120,
          47,
          27,
          75,
          40,
          18,
          64,
          48,
          97,
          95,
          50,
          142,
          121,
          65,
          115,
          46,
          96,
          126,
          115,
          113,
          190,
          150,
          129,
          110,
          186,
          103,
          24,
          81,
          141,
          60,
          95,
          53,
          90,
          92,
          36,
          69,
          44,
          23,
          67,
          98,
          76,
          100,
          89,
          85,
          147,
          71,
          62,
          113,
          103,
          108,
          131,
          147,
          107,
          96,
          131,
          158,
          111,
          78,
          81,
          160,
          124,
          90,
          155,
          21,
          133,
          89,
          120,
          45,
          100,
          147,
          94,
          87,
          89,
          83,
          58,
          118,
          87,
          104,
          88,
          59,
          72,
          68,
          76,
          142,
          96,
          44,
          132,
          91,
          140,
          31,
          80,
          156,
          136,
          176,
          100,
          153,
          114,
          140,
          141,
          116,
          139,
          46,
          62,
          46,
          131,
          154,
          118,
          108,
          178,
          56,
          118,
          25,
          61,
          92,
          155,
          86,
          73,
          125,
          130,
          114,
          78,
          129,
          156,
          147,
          110,
          17,
          102,
          121,
          83,
          109,
          104,
          142,
          83,
          141,
          34,
          48,
          122,
          81,
          87,
          123,
          147,
          33,
          78,
          65,
          136,
          100,
          169,
          163,
          150,
          39,
          26,
          25,
          104,
          66,
          17,
          152,
          98,
          85,
          29,
          79,
          103,
          95,
          136,
          55,
          71,
          27,
          124,
          94,
          45,
          125,
          134,
          68,
          175,
          59,
          111,
          172,
          52,
          82,
          48,
          77,
          83,
          82,
          125,
          31,
          84,
          136,
          76,
          135,
          55,
          74,
          118,
          124,
          124,
          70,
          170,
          72,
          98,
          68,
          81,
          61,
          40,
          78,
          25,
          127,
          34,
          32,
          63,
          103,
          82,
          110,
          68,
          67,
          60,
          167,
          79,
          47,
          64,
          76,
          45,
          81,
          119,
          148,
          158,
          191,
          40,
          111,
          130,
          44,
          72,
          133,
          80,
          22,
          64,
          158,
          46,
          76,
          135,
          104,
          71,
          57,
          92,
          160,
          93,
          75,
          97,
          28,
          20,
          110,
          125,
          114,
          164,
          91,
          56,
          183,
          62,
          59,
          39,
          142,
          42,
          53,
          25,
          91,
          142,
          37,
          18,
          77,
          71,
          93,
          68,
          67,
          86,
          187,
          36,
          44,
          76,
          114,
          147,
          113,
          112,
          22,
          140,
          146,
          64,
          144,
          82,
          25,
          68,
          108,
          69
         ]
        }
       ],
       "layout": {
        "template": {
         "data": {
          "bar": [
           {
            "error_x": {
             "color": "#2a3f5f"
            },
            "error_y": {
             "color": "#2a3f5f"
            },
            "marker": {
             "line": {
              "color": "#E5ECF6",
              "width": 0.5
             },
             "pattern": {
              "fillmode": "overlay",
              "size": 10,
              "solidity": 0.2
             }
            },
            "type": "bar"
           }
          ],
          "barpolar": [
           {
            "marker": {
             "line": {
              "color": "#E5ECF6",
              "width": 0.5
             },
             "pattern": {
              "fillmode": "overlay",
              "size": 10,
              "solidity": 0.2
             }
            },
            "type": "barpolar"
           }
          ],
          "carpet": [
           {
            "aaxis": {
             "endlinecolor": "#2a3f5f",
             "gridcolor": "white",
             "linecolor": "white",
             "minorgridcolor": "white",
             "startlinecolor": "#2a3f5f"
            },
            "baxis": {
             "endlinecolor": "#2a3f5f",
             "gridcolor": "white",
             "linecolor": "white",
             "minorgridcolor": "white",
             "startlinecolor": "#2a3f5f"
            },
            "type": "carpet"
           }
          ],
          "choropleth": [
           {
            "colorbar": {
             "outlinewidth": 0,
             "ticks": ""
            },
            "type": "choropleth"
           }
          ],
          "contour": [
           {
            "colorbar": {
             "outlinewidth": 0,
             "ticks": ""
            },
            "colorscale": [
             [
              0,
              "#0d0887"
             ],
             [
              0.1111111111111111,
              "#46039f"
             ],
             [
              0.2222222222222222,
              "#7201a8"
             ],
             [
              0.3333333333333333,
              "#9c179e"
             ],
             [
              0.4444444444444444,
              "#bd3786"
             ],
             [
              0.5555555555555556,
              "#d8576b"
             ],
             [
              0.6666666666666666,
              "#ed7953"
             ],
             [
              0.7777777777777778,
              "#fb9f3a"
             ],
             [
              0.8888888888888888,
              "#fdca26"
             ],
             [
              1,
              "#f0f921"
             ]
            ],
            "type": "contour"
           }
          ],
          "contourcarpet": [
           {
            "colorbar": {
             "outlinewidth": 0,
             "ticks": ""
            },
            "type": "contourcarpet"
           }
          ],
          "heatmap": [
           {
            "colorbar": {
             "outlinewidth": 0,
             "ticks": ""
            },
            "colorscale": [
             [
              0,
              "#0d0887"
             ],
             [
              0.1111111111111111,
              "#46039f"
             ],
             [
              0.2222222222222222,
              "#7201a8"
             ],
             [
              0.3333333333333333,
              "#9c179e"
             ],
             [
              0.4444444444444444,
              "#bd3786"
             ],
             [
              0.5555555555555556,
              "#d8576b"
             ],
             [
              0.6666666666666666,
              "#ed7953"
             ],
             [
              0.7777777777777778,
              "#fb9f3a"
             ],
             [
              0.8888888888888888,
              "#fdca26"
             ],
             [
              1,
              "#f0f921"
             ]
            ],
            "type": "heatmap"
           }
          ],
          "heatmapgl": [
           {
            "colorbar": {
             "outlinewidth": 0,
             "ticks": ""
            },
            "colorscale": [
             [
              0,
              "#0d0887"
             ],
             [
              0.1111111111111111,
              "#46039f"
             ],
             [
              0.2222222222222222,
              "#7201a8"
             ],
             [
              0.3333333333333333,
              "#9c179e"
             ],
             [
              0.4444444444444444,
              "#bd3786"
             ],
             [
              0.5555555555555556,
              "#d8576b"
             ],
             [
              0.6666666666666666,
              "#ed7953"
             ],
             [
              0.7777777777777778,
              "#fb9f3a"
             ],
             [
              0.8888888888888888,
              "#fdca26"
             ],
             [
              1,
              "#f0f921"
             ]
            ],
            "type": "heatmapgl"
           }
          ],
          "histogram": [
           {
            "marker": {
             "pattern": {
              "fillmode": "overlay",
              "size": 10,
              "solidity": 0.2
             }
            },
            "type": "histogram"
           }
          ],
          "histogram2d": [
           {
            "colorbar": {
             "outlinewidth": 0,
             "ticks": ""
            },
            "colorscale": [
             [
              0,
              "#0d0887"
             ],
             [
              0.1111111111111111,
              "#46039f"
             ],
             [
              0.2222222222222222,
              "#7201a8"
             ],
             [
              0.3333333333333333,
              "#9c179e"
             ],
             [
              0.4444444444444444,
              "#bd3786"
             ],
             [
              0.5555555555555556,
              "#d8576b"
             ],
             [
              0.6666666666666666,
              "#ed7953"
             ],
             [
              0.7777777777777778,
              "#fb9f3a"
             ],
             [
              0.8888888888888888,
              "#fdca26"
             ],
             [
              1,
              "#f0f921"
             ]
            ],
            "type": "histogram2d"
           }
          ],
          "histogram2dcontour": [
           {
            "colorbar": {
             "outlinewidth": 0,
             "ticks": ""
            },
            "colorscale": [
             [
              0,
              "#0d0887"
             ],
             [
              0.1111111111111111,
              "#46039f"
             ],
             [
              0.2222222222222222,
              "#7201a8"
             ],
             [
              0.3333333333333333,
              "#9c179e"
             ],
             [
              0.4444444444444444,
              "#bd3786"
             ],
             [
              0.5555555555555556,
              "#d8576b"
             ],
             [
              0.6666666666666666,
              "#ed7953"
             ],
             [
              0.7777777777777778,
              "#fb9f3a"
             ],
             [
              0.8888888888888888,
              "#fdca26"
             ],
             [
              1,
              "#f0f921"
             ]
            ],
            "type": "histogram2dcontour"
           }
          ],
          "mesh3d": [
           {
            "colorbar": {
             "outlinewidth": 0,
             "ticks": ""
            },
            "type": "mesh3d"
           }
          ],
          "parcoords": [
           {
            "line": {
             "colorbar": {
              "outlinewidth": 0,
              "ticks": ""
             }
            },
            "type": "parcoords"
           }
          ],
          "pie": [
           {
            "automargin": true,
            "type": "pie"
           }
          ],
          "scatter": [
           {
            "fillpattern": {
             "fillmode": "overlay",
             "size": 10,
             "solidity": 0.2
            },
            "type": "scatter"
           }
          ],
          "scatter3d": [
           {
            "line": {
             "colorbar": {
              "outlinewidth": 0,
              "ticks": ""
             }
            },
            "marker": {
             "colorbar": {
              "outlinewidth": 0,
              "ticks": ""
             }
            },
            "type": "scatter3d"
           }
          ],
          "scattercarpet": [
           {
            "marker": {
             "colorbar": {
              "outlinewidth": 0,
              "ticks": ""
             }
            },
            "type": "scattercarpet"
           }
          ],
          "scattergeo": [
           {
            "marker": {
             "colorbar": {
              "outlinewidth": 0,
              "ticks": ""
             }
            },
            "type": "scattergeo"
           }
          ],
          "scattergl": [
           {
            "marker": {
             "colorbar": {
              "outlinewidth": 0,
              "ticks": ""
             }
            },
            "type": "scattergl"
           }
          ],
          "scattermapbox": [
           {
            "marker": {
             "colorbar": {
              "outlinewidth": 0,
              "ticks": ""
             }
            },
            "type": "scattermapbox"
           }
          ],
          "scatterpolar": [
           {
            "marker": {
             "colorbar": {
              "outlinewidth": 0,
              "ticks": ""
             }
            },
            "type": "scatterpolar"
           }
          ],
          "scatterpolargl": [
           {
            "marker": {
             "colorbar": {
              "outlinewidth": 0,
              "ticks": ""
             }
            },
            "type": "scatterpolargl"
           }
          ],
          "scatterternary": [
           {
            "marker": {
             "colorbar": {
              "outlinewidth": 0,
              "ticks": ""
             }
            },
            "type": "scatterternary"
           }
          ],
          "surface": [
           {
            "colorbar": {
             "outlinewidth": 0,
             "ticks": ""
            },
            "colorscale": [
             [
              0,
              "#0d0887"
             ],
             [
              0.1111111111111111,
              "#46039f"
             ],
             [
              0.2222222222222222,
              "#7201a8"
             ],
             [
              0.3333333333333333,
              "#9c179e"
             ],
             [
              0.4444444444444444,
              "#bd3786"
             ],
             [
              0.5555555555555556,
              "#d8576b"
             ],
             [
              0.6666666666666666,
              "#ed7953"
             ],
             [
              0.7777777777777778,
              "#fb9f3a"
             ],
             [
              0.8888888888888888,
              "#fdca26"
             ],
             [
              1,
              "#f0f921"
             ]
            ],
            "type": "surface"
           }
          ],
          "table": [
           {
            "cells": {
             "fill": {
              "color": "#EBF0F8"
             },
             "line": {
              "color": "white"
             }
            },
            "header": {
             "fill": {
              "color": "#C8D4E3"
             },
             "line": {
              "color": "white"
             }
            },
            "type": "table"
           }
          ]
         },
         "layout": {
          "annotationdefaults": {
           "arrowcolor": "#2a3f5f",
           "arrowhead": 0,
           "arrowwidth": 1
          },
          "autotypenumbers": "strict",
          "coloraxis": {
           "colorbar": {
            "outlinewidth": 0,
            "ticks": ""
           }
          },
          "colorscale": {
           "diverging": [
            [
             0,
             "#8e0152"
            ],
            [
             0.1,
             "#c51b7d"
            ],
            [
             0.2,
             "#de77ae"
            ],
            [
             0.3,
             "#f1b6da"
            ],
            [
             0.4,
             "#fde0ef"
            ],
            [
             0.5,
             "#f7f7f7"
            ],
            [
             0.6,
             "#e6f5d0"
            ],
            [
             0.7,
             "#b8e186"
            ],
            [
             0.8,
             "#7fbc41"
            ],
            [
             0.9,
             "#4d9221"
            ],
            [
             1,
             "#276419"
            ]
           ],
           "sequential": [
            [
             0,
             "#0d0887"
            ],
            [
             0.1111111111111111,
             "#46039f"
            ],
            [
             0.2222222222222222,
             "#7201a8"
            ],
            [
             0.3333333333333333,
             "#9c179e"
            ],
            [
             0.4444444444444444,
             "#bd3786"
            ],
            [
             0.5555555555555556,
             "#d8576b"
            ],
            [
             0.6666666666666666,
             "#ed7953"
            ],
            [
             0.7777777777777778,
             "#fb9f3a"
            ],
            [
             0.8888888888888888,
             "#fdca26"
            ],
            [
             1,
             "#f0f921"
            ]
           ],
           "sequentialminus": [
            [
             0,
             "#0d0887"
            ],
            [
             0.1111111111111111,
             "#46039f"
            ],
            [
             0.2222222222222222,
             "#7201a8"
            ],
            [
             0.3333333333333333,
             "#9c179e"
            ],
            [
             0.4444444444444444,
             "#bd3786"
            ],
            [
             0.5555555555555556,
             "#d8576b"
            ],
            [
             0.6666666666666666,
             "#ed7953"
            ],
            [
             0.7777777777777778,
             "#fb9f3a"
            ],
            [
             0.8888888888888888,
             "#fdca26"
            ],
            [
             1,
             "#f0f921"
            ]
           ]
          },
          "colorway": [
           "#636efa",
           "#EF553B",
           "#00cc96",
           "#ab63fa",
           "#FFA15A",
           "#19d3f3",
           "#FF6692",
           "#B6E880",
           "#FF97FF",
           "#FECB52"
          ],
          "font": {
           "color": "#2a3f5f"
          },
          "geo": {
           "bgcolor": "white",
           "lakecolor": "white",
           "landcolor": "#E5ECF6",
           "showlakes": true,
           "showland": true,
           "subunitcolor": "white"
          },
          "hoverlabel": {
           "align": "left"
          },
          "hovermode": "closest",
          "mapbox": {
           "style": "light"
          },
          "paper_bgcolor": "white",
          "plot_bgcolor": "#E5ECF6",
          "polar": {
           "angularaxis": {
            "gridcolor": "white",
            "linecolor": "white",
            "ticks": ""
           },
           "bgcolor": "#E5ECF6",
           "radialaxis": {
            "gridcolor": "white",
            "linecolor": "white",
            "ticks": ""
           }
          },
          "scene": {
           "xaxis": {
            "backgroundcolor": "#E5ECF6",
            "gridcolor": "white",
            "gridwidth": 2,
            "linecolor": "white",
            "showbackground": true,
            "ticks": "",
            "zerolinecolor": "white"
           },
           "yaxis": {
            "backgroundcolor": "#E5ECF6",
            "gridcolor": "white",
            "gridwidth": 2,
            "linecolor": "white",
            "showbackground": true,
            "ticks": "",
            "zerolinecolor": "white"
           },
           "zaxis": {
            "backgroundcolor": "#E5ECF6",
            "gridcolor": "white",
            "gridwidth": 2,
            "linecolor": "white",
            "showbackground": true,
            "ticks": "",
            "zerolinecolor": "white"
           }
          },
          "shapedefaults": {
           "line": {
            "color": "#2a3f5f"
           }
          },
          "ternary": {
           "aaxis": {
            "gridcolor": "white",
            "linecolor": "white",
            "ticks": ""
           },
           "baxis": {
            "gridcolor": "white",
            "linecolor": "white",
            "ticks": ""
           },
           "bgcolor": "#E5ECF6",
           "caxis": {
            "gridcolor": "white",
            "linecolor": "white",
            "ticks": ""
           }
          },
          "title": {
           "x": 0.05
          },
          "xaxis": {
           "automargin": true,
           "gridcolor": "white",
           "linecolor": "white",
           "ticks": "",
           "title": {
            "standoff": 15
           },
           "zerolinecolor": "white",
           "zerolinewidth": 2
          },
          "yaxis": {
           "automargin": true,
           "gridcolor": "white",
           "linecolor": "white",
           "ticks": "",
           "title": {
            "standoff": 15
           },
           "zerolinecolor": "white",
           "zerolinewidth": 2
          }
         }
        },
        "title": {
         "text": "Movies_3_5_Books_8_10 - Explanation length distribution"
        },
        "xaxis": {
         "title": {
          "text": "Length"
         }
        },
        "yaxis": {
         "title": {
          "text": "Frequency"
         }
        }
       }
      }
     },
     "metadata": {},
     "output_type": "display_data"
    }
   ],
   "source": [
    "plot_length_distribution_comparison(movies_35_books_510_0s_preds, movies_35_books_510_1s_preds, \"Movies_3_5_Books_5_10\")\n",
    "plot_length_distribution_comparison(movies_35_books_810_0s_preds, movies_35_books_810_1s_preds, \"Movies_3_5_Books_8_10\")"
   ]
  },
  {
   "cell_type": "code",
   "execution_count": 33,
   "metadata": {},
   "outputs": [
    {
     "data": {
      "application/vnd.plotly.v1+json": {
       "config": {
        "plotlyServerURL": "https://plot.ly"
       },
       "data": [
        {
         "marker": {
          "color": "#28A08C"
         },
         "name": "Zero-Shot",
         "type": "histogram",
         "x": [
          32,
          104,
          25,
          63,
          27,
          18,
          60,
          36,
          38,
          50,
          65,
          109,
          40,
          39,
          65,
          28,
          65,
          18,
          14,
          47,
          39,
          49,
          46,
          32,
          38,
          28,
          18,
          112,
          55,
          42,
          38,
          43,
          43,
          20,
          19,
          39,
          36,
          66,
          30,
          20,
          37,
          150,
          39,
          41,
          54,
          38,
          34,
          62,
          44,
          103,
          19,
          21,
          93,
          41,
          19,
          42,
          43,
          72,
          31,
          18,
          38,
          50,
          49,
          38,
          69,
          32,
          21,
          32,
          39,
          45,
          141,
          37,
          57,
          51,
          31,
          37,
          45,
          39,
          45,
          39,
          129,
          160,
          33,
          32,
          17,
          22,
          21,
          122,
          102,
          29,
          19,
          29,
          45,
          19,
          92,
          42,
          95,
          19,
          40,
          40,
          42,
          31,
          128,
          50,
          20,
          64,
          20,
          85,
          37,
          89,
          41,
          20,
          22,
          18,
          84,
          29,
          33,
          27,
          50,
          24,
          37,
          46,
          48,
          18,
          20,
          20,
          50,
          94,
          31,
          58,
          20,
          14,
          31,
          34,
          42,
          56,
          53,
          1,
          47,
          19,
          21,
          19,
          24,
          42,
          20,
          44,
          48,
          61,
          43,
          20,
          19,
          36,
          133,
          39,
          32,
          35,
          65,
          39,
          38,
          20,
          74,
          53,
          86,
          125,
          142,
          37,
          26,
          32,
          47,
          31,
          60,
          53,
          108,
          173,
          70,
          39,
          23,
          37,
          15,
          33,
          19,
          20,
          62,
          77,
          35,
          36,
          60,
          35,
          141,
          47,
          35,
          35,
          142,
          26,
          19,
          124,
          167,
          58,
          82,
          44,
          41,
          19,
          44,
          55,
          32,
          26,
          20,
          38,
          130,
          35,
          85,
          45,
          33,
          17,
          89,
          36,
          33,
          94,
          20,
          19,
          57,
          122,
          17,
          169,
          49,
          29,
          33,
          147,
          34,
          189,
          46,
          28,
          103,
          38,
          28,
          46,
          21,
          68,
          112,
          39,
          23,
          39,
          158,
          32,
          46,
          51,
          118,
          14,
          46,
          63,
          31,
          182,
          72,
          35,
          96,
          35,
          27,
          154,
          42,
          16,
          50,
          41,
          37,
          45,
          44,
          41,
          36,
          19,
          28,
          92,
          30,
          17,
          43,
          127,
          104,
          32,
          36,
          29,
          71,
          31,
          108,
          57,
          19,
          20,
          20,
          24,
          50,
          50,
          91,
          36,
          29,
          48,
          48,
          136,
          46,
          50,
          18,
          65,
          40,
          23,
          180,
          37,
          94,
          19,
          48,
          30,
          30,
          119,
          111,
          134,
          17,
          30,
          45,
          24,
          38,
          34,
          20,
          107,
          105,
          28,
          20,
          84,
          20,
          28,
          46,
          55,
          48,
          32,
          27,
          122,
          104,
          17,
          56,
          19,
          89,
          75,
          33,
          25,
          39,
          60,
          41,
          17,
          23,
          29,
          28,
          29,
          48,
          125,
          14,
          39,
          47,
          14,
          20,
          109,
          52,
          52,
          39,
          108,
          134,
          32,
          34,
          84,
          53,
          39,
          20,
          32,
          20,
          22,
          75,
          40,
          66,
          45,
          47,
          52,
          28,
          20,
          40,
          59,
          29,
          35,
          140,
          80,
          29,
          133,
          35,
          132,
          35,
          46,
          49,
          32,
          72,
          37,
          28,
          48,
          45,
          22,
          41,
          27,
          38,
          25,
          30,
          37,
          37,
          84,
          51,
          74,
          38,
          51,
          24,
          72,
          143,
          39,
          165,
          44,
          29,
          48,
          34,
          166,
          31,
          52,
          38,
          45,
          167,
          20,
          31,
          44,
          30,
          44,
          41,
          39,
          33,
          147,
          27,
          51,
          36,
          31,
          31,
          84,
          25,
          63,
          75,
          20,
          42,
          27,
          141,
          109,
          53,
          51,
          38,
          38,
          46,
          54,
          77,
          19,
          20,
          23,
          25,
          63,
          19,
          50,
          43,
          29,
          32,
          36,
          26,
          36,
          19,
          47,
          25,
          32,
          51,
          29,
          52,
          54,
          83,
          98,
          31,
          32,
          19,
          27,
          60,
          73,
          46,
          77,
          35,
          53,
          46,
          41,
          38,
          14,
          31,
          17,
          45,
          32,
          20,
          115,
          179,
          21,
          43,
          19,
          45,
          77,
          36,
          71,
          146,
          32,
          40,
          18,
          29,
          164,
          94,
          158,
          93,
          20,
          32,
          114,
          1,
          28,
          53,
          55,
          135,
          67,
          25,
          93,
          22,
          33,
          26,
          43,
          30,
          24,
          29,
          30,
          14,
          24,
          22,
          23,
          25,
          49,
          47,
          34,
          30,
          93,
          24,
          145,
          25,
          70,
          20,
          80,
          20,
          29,
          40,
          36,
          86,
          21,
          35,
          43,
          18,
          118,
          29,
          48,
          29,
          22,
          19,
          48,
          70,
          20,
          122,
          171,
          32,
          18,
          54,
          20,
          188,
          93,
          24,
          21,
          27,
          40,
          163,
          53,
          127,
          33,
          25,
          22,
          161,
          19,
          88,
          33,
          22,
          91,
          117,
          27,
          28,
          20,
          145,
          37,
          26,
          32,
          20,
          102,
          62,
          34,
          28,
          49,
          37,
          106,
          36,
          124,
          34,
          112,
          27,
          19,
          30,
          57,
          27,
          23,
          34,
          51,
          29,
          92,
          42,
          117,
          111,
          32,
          26,
          20,
          53,
          28,
          93,
          26,
          120,
          53,
          36,
          21,
          58,
          17,
          170,
          109,
          96,
          17,
          93,
          44,
          88,
          20,
          41,
          36,
          22,
          48,
          19,
          38,
          18,
          45,
          43,
          25,
          25,
          20,
          167,
          43,
          79,
          1,
          81,
          35,
          29,
          117,
          51,
          29,
          35,
          28,
          96,
          98,
          60,
          37,
          49,
          51,
          47,
          19,
          95,
          43,
          43,
          157,
          57,
          141,
          23,
          41,
          18,
          52,
          22,
          38,
          19,
          100,
          53,
          133,
          43,
          73,
          77,
          30,
          35,
          28,
          30,
          53,
          119,
          122,
          34,
          25,
          75,
          30,
          33,
          152,
          39,
          47,
          38,
          24,
          34,
          48,
          28,
          32,
          45,
          21,
          50,
          34,
          175,
          44,
          48,
          28,
          30,
          104,
          75,
          23,
          63,
          59,
          18,
          38,
          48,
          87,
          41,
          85,
          22,
          39,
          121,
          169,
          91,
          14,
          38,
          20,
          41,
          43,
          190,
          42,
          43,
          46,
          96,
          60,
          39,
          25,
          69,
          21,
          26,
          47,
          54,
          95,
          35,
          58,
          144,
          20,
          53,
          30,
          28,
          45,
          43,
          46,
          56,
          139,
          20,
          73,
          22,
          45,
          28,
          34,
          14,
          65,
          21,
          44,
          20,
          51,
          51,
          94,
          42,
          36,
          37,
          21,
          40,
          50,
          19,
          49,
          42,
          98,
          141,
          42,
          14,
          30,
          55,
          52,
          42,
          25,
          86,
          25,
          39,
          34,
          35,
          43,
          14,
          84,
          38,
          44,
          36,
          58,
          51,
          32,
          35,
          66,
          47,
          164,
          86,
          32,
          39,
          34,
          29,
          53,
          35,
          27,
          31,
          52,
          39,
          32,
          35,
          139,
          88,
          39,
          38,
          29,
          47,
          65,
          45,
          101,
          34,
          39,
          22,
          86,
          19,
          20,
          34,
          23,
          79,
          20,
          17,
          36,
          83,
          22,
          118,
          105,
          36,
          26,
          29,
          48,
          59,
          47,
          28,
          33,
          32,
          72,
          36,
          19,
          19,
          27,
          100,
          32,
          34,
          42,
          103,
          31,
          147,
          35,
          115,
          33,
          150,
          18,
          37,
          35,
          77,
          48,
          43,
          34,
          45,
          47,
          26,
          35,
          29,
          141,
          41,
          30,
          28,
          37,
          39,
          36,
          44,
          44,
          18,
          63,
          38,
          64,
          41,
          19,
          28,
          32,
          26,
          43,
          39,
          36,
          47,
          99,
          64,
          16,
          36,
          50,
          44,
          46,
          31,
          164,
          53,
          36,
          135,
          159,
          67,
          18,
          31,
          66,
          140,
          80,
          25,
          54,
          55,
          84,
          30,
          43,
          108,
          30,
          26,
          23,
          20,
          40,
          17,
          37,
          43,
          89,
          18,
          107,
          154,
          29,
          35,
          170,
          46,
          36,
          112,
          141,
          33,
          37,
          54,
          91,
          43,
          29,
          50,
          52,
          36,
          119,
          33,
          27,
          44,
          164,
          52,
          40,
          31,
          115,
          120,
          19,
          19,
          39,
          25,
          39,
          156,
          155,
          33,
          120,
          28,
          163,
          38,
          52,
          69,
          43,
          21,
          39,
          90,
          51,
          28,
          26,
          37,
          83,
          37,
          19,
          26,
          42,
          38,
          162,
          153,
          20,
          39,
          17,
          90,
          28,
          63,
          22,
          17,
          31,
          67,
          65,
          43,
          24,
          33,
          46,
          98,
          20,
          29,
          44,
          25,
          28,
          174,
          37,
          63,
          37,
          26,
          24,
          45,
          115,
          34,
          69,
          73,
          32,
          25,
          17,
          105,
          76,
          35,
          36,
          63,
          37,
          16,
          43,
          112,
          1,
          85,
          19,
          18,
          28,
          18,
          84,
          124,
          31,
          97,
          19,
          110,
          36,
          44,
          178,
          30,
          38,
          40,
          47,
          36,
          35,
          26,
          35,
          99,
          46,
          40,
          19,
          20,
          27,
          51,
          42,
          21,
          23,
          47,
          146,
          46,
          83,
          32,
          98,
          87,
          44,
          36,
          42,
          37,
          37,
          47,
          32,
          20,
          20,
          69,
          109,
          1,
          126,
          21,
          35,
          28,
          54,
          87,
          97,
          22,
          19,
          40,
          39,
          37,
          59,
          64,
          47,
          41,
          27,
          81,
          20,
          42,
          38,
          26,
          37,
          55,
          14,
          43,
          41,
          32,
          87,
          34,
          26,
          52,
          23,
          31,
          30,
          39,
          40,
          47,
          42,
          130,
          44,
          23,
          35,
          76,
          77,
          42,
          46,
          88,
          155,
          41,
          92,
          84,
          20,
          37,
          95,
          146,
          60,
          43,
          127,
          178,
          40,
          112,
          50,
          17,
          40,
          39,
          14,
          41,
          47,
          81,
          32,
          28,
          114,
          78,
          103,
          72,
          35,
          32,
          111,
          125,
          100,
          20,
          57,
          29,
          39,
          43,
          35,
          39,
          47,
          18,
          91,
          84,
          46,
          30,
          39,
          17,
          92,
          18,
          129,
          53,
          44,
          21,
          70,
          19,
          38,
          80,
          111,
          48,
          125,
          34,
          42,
          23,
          22,
          28,
          29,
          36
         ]
        },
        {
         "marker": {
          "color": "#01DB8C"
         },
         "name": "One-Shot",
         "type": "histogram",
         "x": [
          16,
          30,
          132,
          91,
          108,
          95,
          98,
          189,
          50,
          176,
          88,
          120,
          88,
          109,
          86,
          95,
          42,
          32,
          145,
          41,
          69,
          135,
          59,
          87,
          111,
          184,
          104,
          68,
          104,
          48,
          134,
          86,
          72,
          112,
          77,
          125,
          41,
          37,
          100,
          171,
          124,
          24,
          50,
          145,
          85,
          150,
          113,
          77,
          110,
          113,
          171,
          18,
          88,
          117,
          114,
          120,
          149,
          81,
          17,
          21,
          123,
          127,
          127,
          116,
          37,
          119,
          72,
          68,
          93,
          91,
          118,
          155,
          142,
          152,
          132,
          112,
          128,
          143,
          87,
          131,
          106,
          111,
          86,
          163,
          25,
          149,
          139,
          106,
          107,
          115,
          130,
          140,
          47,
          86,
          134,
          81,
          163,
          18,
          122,
          127,
          69,
          105,
          57,
          22,
          49,
          115,
          121,
          46,
          99,
          107,
          104,
          76,
          134,
          101,
          80,
          127,
          114,
          73,
          170,
          111,
          34,
          85,
          166,
          134,
          126,
          76,
          102,
          120,
          95,
          151,
          47,
          101,
          53,
          158,
          118,
          133,
          112,
          45,
          90,
          140,
          37,
          77,
          146,
          114,
          111,
          101,
          178,
          63,
          16,
          67,
          103,
          47,
          127,
          108,
          137,
          125,
          123,
          43,
          75,
          164,
          71,
          169,
          125,
          65,
          161,
          180,
          79,
          103,
          126,
          119,
          93,
          46,
          71,
          97,
          117,
          157,
          35,
          108,
          33,
          74,
          123,
          179,
          86,
          97,
          142,
          157,
          106,
          174,
          37,
          91,
          130,
          48,
          92,
          39,
          86,
          102,
          101,
          93,
          97,
          54,
          50,
          147,
          83,
          69,
          156,
          162,
          68,
          124,
          37,
          55,
          114,
          130,
          60,
          108,
          154,
          149,
          60,
          94,
          137,
          174,
          46,
          51,
          82,
          63,
          68,
          154,
          77,
          172,
          89,
          78,
          123,
          75,
          75,
          91,
          69,
          78,
          18,
          88,
          66,
          46,
          97,
          208,
          61,
          94,
          127,
          117,
          45,
          97,
          63,
          99,
          111,
          85,
          171,
          24,
          98,
          133,
          84,
          74,
          42,
          88,
          130,
          21,
          82,
          95,
          166,
          137,
          121,
          39,
          73,
          146,
          76,
          38,
          81,
          67,
          80,
          90,
          97,
          62,
          54,
          137,
          70,
          115,
          160,
          97,
          103,
          173,
          39,
          39,
          139,
          65,
          91,
          73,
          168,
          133,
          42,
          60,
          112,
          88,
          172,
          38,
          96,
          29,
          64,
          41,
          149,
          64,
          125,
          133,
          148,
          127,
          160,
          136,
          146,
          32,
          144,
          142,
          71,
          123,
          72,
          80,
          28,
          89,
          177,
          36,
          92,
          90,
          176,
          157,
          203,
          98,
          142,
          156,
          45,
          17,
          95,
          100,
          60,
          82,
          151,
          63,
          143,
          129,
          119,
          123,
          122,
          33,
          52,
          112,
          175,
          53,
          99,
          30,
          94,
          110,
          161,
          46,
          45,
          83,
          144,
          40,
          152,
          48,
          45,
          81,
          88,
          23,
          88,
          94,
          163,
          162,
          24,
          170,
          42,
          47,
          146,
          80,
          104,
          99,
          130,
          77,
          41,
          76,
          107,
          163,
          64,
          157,
          106,
          121,
          78,
          91,
          136,
          189,
          106,
          39,
          146,
          155,
          70,
          163,
          129,
          168,
          120,
          172,
          166,
          41,
          91,
          61,
          100,
          139,
          34,
          135,
          36,
          104,
          110,
          88,
          156,
          129,
          65,
          66,
          107,
          43,
          103,
          142,
          90,
          85,
          180,
          118,
          99,
          54,
          117,
          40,
          48,
          135,
          153,
          39,
          92,
          80,
          118,
          90,
          30,
          120,
          121,
          54,
          73,
          115,
          41,
          129,
          138,
          46,
          45,
          33,
          47,
          87,
          148,
          58,
          137,
          99,
          114,
          70,
          139,
          35,
          90,
          156,
          82,
          46,
          151,
          120,
          170,
          70,
          65,
          100,
          67,
          86,
          120,
          35,
          178,
          129,
          141,
          139,
          80,
          104,
          60,
          55,
          137,
          98,
          142,
          128,
          36,
          92,
          123,
          140,
          85,
          89,
          90,
          22,
          19,
          111,
          47,
          137,
          47,
          37,
          75,
          40,
          33,
          82,
          39,
          119,
          77,
          79,
          97,
          166,
          148,
          181,
          80,
          113,
          34,
          36,
          67,
          145,
          173,
          135,
          143,
          58,
          69,
          88,
          98,
          156,
          30,
          137,
          20,
          38,
          87,
          113,
          13,
          147,
          20,
          21,
          143,
          76,
          86,
          79,
          179,
          27,
          137,
          99,
          124,
          16,
          25,
          65,
          21,
          108,
          37,
          94,
          60,
          42,
          31,
          122,
          86,
          90,
          75,
          33,
          77,
          123,
          167,
          116,
          78,
          127,
          33,
          138,
          78,
          85,
          87,
          91,
          24,
          114,
          103,
          82,
          38,
          27,
          116,
          101,
          170,
          34,
          30,
          119,
          136,
          202,
          91,
          40,
          153,
          68,
          144,
          151,
          23,
          122,
          138,
          34,
          99,
          78,
          92,
          103,
          110,
          180,
          157,
          149,
          94,
          77,
          92,
          134,
          152,
          54,
          24,
          128,
          87,
          97,
          36,
          100,
          62,
          64,
          31,
          175,
          97,
          134,
          142,
          168,
          120,
          122,
          141,
          68,
          78,
          83,
          114,
          43,
          39,
          155,
          146,
          36,
          125,
          47,
          75,
          138,
          138,
          77,
          92,
          27,
          75,
          46,
          41,
          98,
          29,
          56,
          103,
          91,
          37,
          157,
          113,
          29,
          112,
          65,
          75,
          162,
          86,
          119,
          38,
          66,
          128,
          122,
          115,
          65,
          103,
          66,
          137,
          115,
          145,
          149,
          84,
          37,
          45,
          131,
          88,
          38,
          23,
          123,
          38,
          32,
          21,
          27,
          30,
          127,
          175,
          61,
          103,
          122,
          99,
          76,
          77,
          134,
          18,
          133,
          115,
          83,
          97,
          138,
          83,
          101,
          88,
          114,
          158,
          113,
          105,
          61,
          128,
          97,
          92,
          160,
          150,
          102,
          77,
          148,
          110,
          149,
          63,
          174,
          25,
          27,
          24,
          113,
          27,
          39,
          57,
          91,
          22,
          60,
          53,
          52,
          20,
          46,
          181,
          137,
          165,
          110,
          66,
          156,
          39,
          89,
          71,
          50,
          126,
          72,
          54,
          138,
          83,
          64,
          73,
          137,
          136,
          39,
          33,
          69,
          89,
          66,
          142,
          72,
          83,
          62,
          88,
          130,
          43,
          103,
          129,
          29,
          95,
          133,
          111,
          176,
          103,
          88,
          155,
          95,
          118,
          45,
          103,
          36,
          22,
          44,
          84,
          134,
          81,
          74,
          157,
          154,
          140,
          41,
          94,
          48,
          109,
          60,
          168,
          164,
          38,
          133,
          114,
          144,
          102,
          97,
          80,
          132,
          83,
          31,
          114,
          93,
          158,
          110,
          94,
          112,
          156,
          57,
          120,
          70,
          98,
          139,
          162,
          98,
          138,
          77,
          130,
          113,
          56,
          106,
          69,
          176,
          28,
          85,
          46,
          27,
          81,
          131,
          66,
          76,
          148,
          97,
          100,
          91,
          167,
          92,
          41,
          119,
          95,
          74,
          88,
          140,
          32,
          93,
          88,
          81,
          79,
          110,
          107,
          92,
          115,
          133,
          32,
          106,
          146,
          147,
          46,
          119,
          79,
          170,
          129,
          85,
          86,
          98,
          175,
          40,
          125,
          70,
          70,
          133,
          77,
          86,
          77,
          176,
          99,
          30,
          112,
          154,
          109,
          109,
          69,
          83,
          108,
          36,
          132,
          70,
          127,
          98,
          81,
          94,
          82,
          94,
          162,
          135,
          57,
          82,
          142,
          86,
          167,
          83,
          81,
          103,
          76,
          102,
          141,
          114,
          65,
          41,
          92,
          78,
          45,
          124,
          45,
          92,
          138,
          88,
          46,
          84,
          67,
          139,
          110,
          28,
          71,
          26,
          85,
          61,
          16,
          112,
          117,
          118,
          28,
          41,
          125,
          121,
          145,
          111,
          31,
          83,
          24,
          119,
          110,
          21,
          24,
          69,
          49,
          65,
          52,
          146,
          143,
          94,
          117,
          104,
          69,
          110,
          75,
          97,
          95,
          127,
          76,
          57,
          114,
          80,
          76,
          139,
          86,
          26,
          78,
          144,
          86,
          191,
          38,
          114,
          68,
          63,
          117,
          75,
          143,
          87,
          75,
          39,
          81,
          33,
          43,
          69,
          206,
          96,
          139,
          63,
          63,
          70,
          113,
          109,
          100,
          98,
          103,
          121,
          117,
          77,
          55,
          30,
          143,
          67,
          154,
          76,
          116,
          44,
          128,
          65,
          85,
          28,
          129,
          65,
          227,
          19,
          125,
          147,
          106,
          132,
          117,
          102,
          93,
          28,
          149,
          70,
          43,
          97,
          171,
          112,
          133,
          102,
          166,
          110,
          95,
          76,
          82,
          121,
          78,
          94,
          134,
          120,
          112,
          41,
          90,
          78,
          152,
          89,
          44,
          147,
          69,
          129,
          69,
          27,
          56,
          100,
          102,
          68,
          62,
          71,
          71,
          184,
          80,
          155,
          156,
          153,
          73,
          134,
          91,
          159,
          80,
          147,
          108,
          42,
          84,
          87,
          97,
          65,
          136,
          129,
          30,
          120,
          142,
          41,
          78,
          135,
          147,
          70,
          72,
          56,
          58,
          116,
          41,
          104,
          55,
          92,
          39,
          167,
          18,
          183,
          93,
          62,
          141,
          84,
          89,
          83,
          27,
          79,
          130,
          159,
          146,
          145,
          69,
          119,
          74,
          163,
          105,
          44,
          182,
          156,
          98,
          100,
          101,
          86,
          127,
          76,
          125,
          80,
          73,
          123,
          58,
          145,
          86,
          99,
          113,
          137,
          75,
          59,
          78,
          53,
          120,
          48,
          125,
          149,
          30,
          31,
          77,
          95,
          35,
          17,
          95,
          105,
          68,
          82,
          146,
          89,
          156,
          35,
          103,
          110,
          94,
          38,
          131,
          131,
          192,
          105,
          91,
          69,
          71,
          75,
          154,
          116,
          41,
          95,
          118,
          72,
          168,
          115,
          103,
          17,
          69,
          102,
          146,
          101,
          66,
          91,
          87,
          103,
          22,
          173,
          33,
          105,
          76,
          114,
          126,
          87,
          150,
          88,
          105,
          89,
          114,
          145,
          113,
          164,
          171,
          96,
          98,
          22,
          120,
          79,
          131,
          130,
          67,
          144,
          31,
          60,
          129,
          169,
          46
         ]
        }
       ],
       "layout": {
        "template": {
         "data": {
          "bar": [
           {
            "error_x": {
             "color": "#2a3f5f"
            },
            "error_y": {
             "color": "#2a3f5f"
            },
            "marker": {
             "line": {
              "color": "#E5ECF6",
              "width": 0.5
             },
             "pattern": {
              "fillmode": "overlay",
              "size": 10,
              "solidity": 0.2
             }
            },
            "type": "bar"
           }
          ],
          "barpolar": [
           {
            "marker": {
             "line": {
              "color": "#E5ECF6",
              "width": 0.5
             },
             "pattern": {
              "fillmode": "overlay",
              "size": 10,
              "solidity": 0.2
             }
            },
            "type": "barpolar"
           }
          ],
          "carpet": [
           {
            "aaxis": {
             "endlinecolor": "#2a3f5f",
             "gridcolor": "white",
             "linecolor": "white",
             "minorgridcolor": "white",
             "startlinecolor": "#2a3f5f"
            },
            "baxis": {
             "endlinecolor": "#2a3f5f",
             "gridcolor": "white",
             "linecolor": "white",
             "minorgridcolor": "white",
             "startlinecolor": "#2a3f5f"
            },
            "type": "carpet"
           }
          ],
          "choropleth": [
           {
            "colorbar": {
             "outlinewidth": 0,
             "ticks": ""
            },
            "type": "choropleth"
           }
          ],
          "contour": [
           {
            "colorbar": {
             "outlinewidth": 0,
             "ticks": ""
            },
            "colorscale": [
             [
              0,
              "#0d0887"
             ],
             [
              0.1111111111111111,
              "#46039f"
             ],
             [
              0.2222222222222222,
              "#7201a8"
             ],
             [
              0.3333333333333333,
              "#9c179e"
             ],
             [
              0.4444444444444444,
              "#bd3786"
             ],
             [
              0.5555555555555556,
              "#d8576b"
             ],
             [
              0.6666666666666666,
              "#ed7953"
             ],
             [
              0.7777777777777778,
              "#fb9f3a"
             ],
             [
              0.8888888888888888,
              "#fdca26"
             ],
             [
              1,
              "#f0f921"
             ]
            ],
            "type": "contour"
           }
          ],
          "contourcarpet": [
           {
            "colorbar": {
             "outlinewidth": 0,
             "ticks": ""
            },
            "type": "contourcarpet"
           }
          ],
          "heatmap": [
           {
            "colorbar": {
             "outlinewidth": 0,
             "ticks": ""
            },
            "colorscale": [
             [
              0,
              "#0d0887"
             ],
             [
              0.1111111111111111,
              "#46039f"
             ],
             [
              0.2222222222222222,
              "#7201a8"
             ],
             [
              0.3333333333333333,
              "#9c179e"
             ],
             [
              0.4444444444444444,
              "#bd3786"
             ],
             [
              0.5555555555555556,
              "#d8576b"
             ],
             [
              0.6666666666666666,
              "#ed7953"
             ],
             [
              0.7777777777777778,
              "#fb9f3a"
             ],
             [
              0.8888888888888888,
              "#fdca26"
             ],
             [
              1,
              "#f0f921"
             ]
            ],
            "type": "heatmap"
           }
          ],
          "heatmapgl": [
           {
            "colorbar": {
             "outlinewidth": 0,
             "ticks": ""
            },
            "colorscale": [
             [
              0,
              "#0d0887"
             ],
             [
              0.1111111111111111,
              "#46039f"
             ],
             [
              0.2222222222222222,
              "#7201a8"
             ],
             [
              0.3333333333333333,
              "#9c179e"
             ],
             [
              0.4444444444444444,
              "#bd3786"
             ],
             [
              0.5555555555555556,
              "#d8576b"
             ],
             [
              0.6666666666666666,
              "#ed7953"
             ],
             [
              0.7777777777777778,
              "#fb9f3a"
             ],
             [
              0.8888888888888888,
              "#fdca26"
             ],
             [
              1,
              "#f0f921"
             ]
            ],
            "type": "heatmapgl"
           }
          ],
          "histogram": [
           {
            "marker": {
             "pattern": {
              "fillmode": "overlay",
              "size": 10,
              "solidity": 0.2
             }
            },
            "type": "histogram"
           }
          ],
          "histogram2d": [
           {
            "colorbar": {
             "outlinewidth": 0,
             "ticks": ""
            },
            "colorscale": [
             [
              0,
              "#0d0887"
             ],
             [
              0.1111111111111111,
              "#46039f"
             ],
             [
              0.2222222222222222,
              "#7201a8"
             ],
             [
              0.3333333333333333,
              "#9c179e"
             ],
             [
              0.4444444444444444,
              "#bd3786"
             ],
             [
              0.5555555555555556,
              "#d8576b"
             ],
             [
              0.6666666666666666,
              "#ed7953"
             ],
             [
              0.7777777777777778,
              "#fb9f3a"
             ],
             [
              0.8888888888888888,
              "#fdca26"
             ],
             [
              1,
              "#f0f921"
             ]
            ],
            "type": "histogram2d"
           }
          ],
          "histogram2dcontour": [
           {
            "colorbar": {
             "outlinewidth": 0,
             "ticks": ""
            },
            "colorscale": [
             [
              0,
              "#0d0887"
             ],
             [
              0.1111111111111111,
              "#46039f"
             ],
             [
              0.2222222222222222,
              "#7201a8"
             ],
             [
              0.3333333333333333,
              "#9c179e"
             ],
             [
              0.4444444444444444,
              "#bd3786"
             ],
             [
              0.5555555555555556,
              "#d8576b"
             ],
             [
              0.6666666666666666,
              "#ed7953"
             ],
             [
              0.7777777777777778,
              "#fb9f3a"
             ],
             [
              0.8888888888888888,
              "#fdca26"
             ],
             [
              1,
              "#f0f921"
             ]
            ],
            "type": "histogram2dcontour"
           }
          ],
          "mesh3d": [
           {
            "colorbar": {
             "outlinewidth": 0,
             "ticks": ""
            },
            "type": "mesh3d"
           }
          ],
          "parcoords": [
           {
            "line": {
             "colorbar": {
              "outlinewidth": 0,
              "ticks": ""
             }
            },
            "type": "parcoords"
           }
          ],
          "pie": [
           {
            "automargin": true,
            "type": "pie"
           }
          ],
          "scatter": [
           {
            "fillpattern": {
             "fillmode": "overlay",
             "size": 10,
             "solidity": 0.2
            },
            "type": "scatter"
           }
          ],
          "scatter3d": [
           {
            "line": {
             "colorbar": {
              "outlinewidth": 0,
              "ticks": ""
             }
            },
            "marker": {
             "colorbar": {
              "outlinewidth": 0,
              "ticks": ""
             }
            },
            "type": "scatter3d"
           }
          ],
          "scattercarpet": [
           {
            "marker": {
             "colorbar": {
              "outlinewidth": 0,
              "ticks": ""
             }
            },
            "type": "scattercarpet"
           }
          ],
          "scattergeo": [
           {
            "marker": {
             "colorbar": {
              "outlinewidth": 0,
              "ticks": ""
             }
            },
            "type": "scattergeo"
           }
          ],
          "scattergl": [
           {
            "marker": {
             "colorbar": {
              "outlinewidth": 0,
              "ticks": ""
             }
            },
            "type": "scattergl"
           }
          ],
          "scattermapbox": [
           {
            "marker": {
             "colorbar": {
              "outlinewidth": 0,
              "ticks": ""
             }
            },
            "type": "scattermapbox"
           }
          ],
          "scatterpolar": [
           {
            "marker": {
             "colorbar": {
              "outlinewidth": 0,
              "ticks": ""
             }
            },
            "type": "scatterpolar"
           }
          ],
          "scatterpolargl": [
           {
            "marker": {
             "colorbar": {
              "outlinewidth": 0,
              "ticks": ""
             }
            },
            "type": "scatterpolargl"
           }
          ],
          "scatterternary": [
           {
            "marker": {
             "colorbar": {
              "outlinewidth": 0,
              "ticks": ""
             }
            },
            "type": "scatterternary"
           }
          ],
          "surface": [
           {
            "colorbar": {
             "outlinewidth": 0,
             "ticks": ""
            },
            "colorscale": [
             [
              0,
              "#0d0887"
             ],
             [
              0.1111111111111111,
              "#46039f"
             ],
             [
              0.2222222222222222,
              "#7201a8"
             ],
             [
              0.3333333333333333,
              "#9c179e"
             ],
             [
              0.4444444444444444,
              "#bd3786"
             ],
             [
              0.5555555555555556,
              "#d8576b"
             ],
             [
              0.6666666666666666,
              "#ed7953"
             ],
             [
              0.7777777777777778,
              "#fb9f3a"
             ],
             [
              0.8888888888888888,
              "#fdca26"
             ],
             [
              1,
              "#f0f921"
             ]
            ],
            "type": "surface"
           }
          ],
          "table": [
           {
            "cells": {
             "fill": {
              "color": "#EBF0F8"
             },
             "line": {
              "color": "white"
             }
            },
            "header": {
             "fill": {
              "color": "#C8D4E3"
             },
             "line": {
              "color": "white"
             }
            },
            "type": "table"
           }
          ]
         },
         "layout": {
          "annotationdefaults": {
           "arrowcolor": "#2a3f5f",
           "arrowhead": 0,
           "arrowwidth": 1
          },
          "autotypenumbers": "strict",
          "coloraxis": {
           "colorbar": {
            "outlinewidth": 0,
            "ticks": ""
           }
          },
          "colorscale": {
           "diverging": [
            [
             0,
             "#8e0152"
            ],
            [
             0.1,
             "#c51b7d"
            ],
            [
             0.2,
             "#de77ae"
            ],
            [
             0.3,
             "#f1b6da"
            ],
            [
             0.4,
             "#fde0ef"
            ],
            [
             0.5,
             "#f7f7f7"
            ],
            [
             0.6,
             "#e6f5d0"
            ],
            [
             0.7,
             "#b8e186"
            ],
            [
             0.8,
             "#7fbc41"
            ],
            [
             0.9,
             "#4d9221"
            ],
            [
             1,
             "#276419"
            ]
           ],
           "sequential": [
            [
             0,
             "#0d0887"
            ],
            [
             0.1111111111111111,
             "#46039f"
            ],
            [
             0.2222222222222222,
             "#7201a8"
            ],
            [
             0.3333333333333333,
             "#9c179e"
            ],
            [
             0.4444444444444444,
             "#bd3786"
            ],
            [
             0.5555555555555556,
             "#d8576b"
            ],
            [
             0.6666666666666666,
             "#ed7953"
            ],
            [
             0.7777777777777778,
             "#fb9f3a"
            ],
            [
             0.8888888888888888,
             "#fdca26"
            ],
            [
             1,
             "#f0f921"
            ]
           ],
           "sequentialminus": [
            [
             0,
             "#0d0887"
            ],
            [
             0.1111111111111111,
             "#46039f"
            ],
            [
             0.2222222222222222,
             "#7201a8"
            ],
            [
             0.3333333333333333,
             "#9c179e"
            ],
            [
             0.4444444444444444,
             "#bd3786"
            ],
            [
             0.5555555555555556,
             "#d8576b"
            ],
            [
             0.6666666666666666,
             "#ed7953"
            ],
            [
             0.7777777777777778,
             "#fb9f3a"
            ],
            [
             0.8888888888888888,
             "#fdca26"
            ],
            [
             1,
             "#f0f921"
            ]
           ]
          },
          "colorway": [
           "#636efa",
           "#EF553B",
           "#00cc96",
           "#ab63fa",
           "#FFA15A",
           "#19d3f3",
           "#FF6692",
           "#B6E880",
           "#FF97FF",
           "#FECB52"
          ],
          "font": {
           "color": "#2a3f5f"
          },
          "geo": {
           "bgcolor": "white",
           "lakecolor": "white",
           "landcolor": "#E5ECF6",
           "showlakes": true,
           "showland": true,
           "subunitcolor": "white"
          },
          "hoverlabel": {
           "align": "left"
          },
          "hovermode": "closest",
          "mapbox": {
           "style": "light"
          },
          "paper_bgcolor": "white",
          "plot_bgcolor": "#E5ECF6",
          "polar": {
           "angularaxis": {
            "gridcolor": "white",
            "linecolor": "white",
            "ticks": ""
           },
           "bgcolor": "#E5ECF6",
           "radialaxis": {
            "gridcolor": "white",
            "linecolor": "white",
            "ticks": ""
           }
          },
          "scene": {
           "xaxis": {
            "backgroundcolor": "#E5ECF6",
            "gridcolor": "white",
            "gridwidth": 2,
            "linecolor": "white",
            "showbackground": true,
            "ticks": "",
            "zerolinecolor": "white"
           },
           "yaxis": {
            "backgroundcolor": "#E5ECF6",
            "gridcolor": "white",
            "gridwidth": 2,
            "linecolor": "white",
            "showbackground": true,
            "ticks": "",
            "zerolinecolor": "white"
           },
           "zaxis": {
            "backgroundcolor": "#E5ECF6",
            "gridcolor": "white",
            "gridwidth": 2,
            "linecolor": "white",
            "showbackground": true,
            "ticks": "",
            "zerolinecolor": "white"
           }
          },
          "shapedefaults": {
           "line": {
            "color": "#2a3f5f"
           }
          },
          "ternary": {
           "aaxis": {
            "gridcolor": "white",
            "linecolor": "white",
            "ticks": ""
           },
           "baxis": {
            "gridcolor": "white",
            "linecolor": "white",
            "ticks": ""
           },
           "bgcolor": "#E5ECF6",
           "caxis": {
            "gridcolor": "white",
            "linecolor": "white",
            "ticks": ""
           }
          },
          "title": {
           "x": 0.05
          },
          "xaxis": {
           "automargin": true,
           "gridcolor": "white",
           "linecolor": "white",
           "ticks": "",
           "title": {
            "standoff": 15
           },
           "zerolinecolor": "white",
           "zerolinewidth": 2
          },
          "yaxis": {
           "automargin": true,
           "gridcolor": "white",
           "linecolor": "white",
           "ticks": "",
           "title": {
            "standoff": 15
           },
           "zerolinecolor": "white",
           "zerolinewidth": 2
          }
         }
        },
        "title": {
         "text": "Movies_3_5_CDs_5_10 - Explanation length distribution"
        },
        "xaxis": {
         "title": {
          "text": "Length"
         }
        },
        "yaxis": {
         "title": {
          "text": "Frequency"
         }
        }
       }
      }
     },
     "metadata": {},
     "output_type": "display_data"
    },
    {
     "data": {
      "application/vnd.plotly.v1+json": {
       "config": {
        "plotlyServerURL": "https://plot.ly"
       },
       "data": [
        {
         "marker": {
          "color": "#28A08C"
         },
         "name": "Zero-Shot",
         "type": "histogram",
         "x": [
          63,
          27,
          36,
          50,
          65,
          28,
          39,
          32,
          18,
          112,
          43,
          19,
          36,
          30,
          19,
          21,
          41,
          42,
          18,
          49,
          69,
          21,
          37,
          160,
          22,
          29,
          19,
          29,
          19,
          92,
          19,
          40,
          20,
          20,
          89,
          84,
          27,
          24,
          46,
          48,
          20,
          50,
          31,
          14,
          31,
          56,
          53,
          1,
          19,
          42,
          61,
          20,
          36,
          39,
          32,
          35,
          65,
          26,
          47,
          53,
          70,
          19,
          36,
          47,
          35,
          19,
          19,
          55,
          33,
          36,
          33,
          20,
          122,
          189,
          28,
          103,
          39,
          32,
          14,
          46,
          63,
          31,
          154,
          50,
          41,
          36,
          30,
          17,
          104,
          71,
          31,
          24,
          50,
          91,
          29,
          37,
          30,
          17,
          45,
          84,
          48,
          27,
          104,
          56,
          19,
          89,
          17,
          23,
          29,
          48,
          14,
          109,
          134,
          84,
          53,
          20,
          20,
          28,
          20,
          29,
          35,
          80,
          29,
          35,
          38,
          74,
          143,
          44,
          48,
          31,
          44,
          41,
          33,
          51,
          84,
          42,
          27,
          141,
          53,
          46,
          19,
          32,
          51,
          29,
          54,
          83,
          31,
          35,
          41,
          14,
          31,
          45,
          19,
          77,
          32,
          18,
          29,
          93,
          1,
          55,
          67,
          22,
          33,
          26,
          24,
          29,
          22,
          47,
          34,
          24,
          25,
          29,
          40,
          21,
          118,
          22,
          18,
          21,
          27,
          25,
          22,
          161,
          33,
          117,
          37,
          20,
          34,
          37,
          36,
          34,
          27,
          57,
          23,
          34,
          92,
          93,
          53,
          17,
          109,
          96,
          88,
          25,
          43,
          51,
          35,
          28,
          96,
          60,
          47,
          19,
          43,
          141,
          41,
          52,
          30,
          53,
          122,
          34,
          30,
          28,
          45,
          34,
          175,
          48,
          18,
          38,
          87,
          41,
          169,
          38,
          43,
          42,
          60,
          95,
          58,
          20,
          28,
          46,
          56,
          20,
          34,
          44,
          51,
          36,
          40,
          49,
          52,
          86,
          39,
          84,
          38,
          35,
          39,
          53,
          32,
          88,
          38,
          29,
          47,
          65,
          34,
          20,
          23,
          20,
          118,
          36,
          26,
          29,
          48,
          32,
          34,
          37,
          45,
          47,
          141,
          41,
          30,
          36,
          44,
          64,
          19,
          28,
          39,
          47,
          64,
          46,
          31,
          18,
          140,
          54,
          84,
          26,
          23,
          40,
          18,
          170,
          37,
          54,
          119,
          27,
          44,
          52,
          40,
          31,
          39,
          120,
          52,
          43,
          51,
          83,
          162,
          39,
          90,
          65,
          43,
          24,
          20,
          44,
          25,
          37,
          73,
          25,
          63,
          16,
          1,
          31,
          44,
          26,
          40,
          19,
          47,
          32,
          98,
          37,
          37,
          20,
          109,
          1,
          21,
          35,
          28,
          19,
          40,
          47,
          38,
          55,
          14,
          43,
          32,
          87,
          30,
          40,
          35,
          77,
          95,
          146,
          60,
          50,
          14,
          81,
          32,
          35,
          100,
          20,
          39,
          30,
          92,
          53,
          48,
          23,
          22
         ]
        },
        {
         "marker": {
          "color": "#01DB8C"
         },
         "name": "One-Shot",
         "type": "histogram",
         "x": [
          91,
          108,
          189,
          176,
          88,
          95,
          69,
          87,
          104,
          68,
          86,
          77,
          41,
          100,
          171,
          18,
          117,
          120,
          21,
          127,
          37,
          72,
          112,
          111,
          149,
          115,
          130,
          140,
          86,
          134,
          18,
          127,
          49,
          121,
          107,
          80,
          73,
          111,
          85,
          166,
          76,
          102,
          95,
          101,
          53,
          133,
          112,
          45,
          77,
          114,
          63,
          67,
          47,
          108,
          137,
          125,
          123,
          79,
          126,
          46,
          117,
          123,
          157,
          91,
          48,
          86,
          147,
          69,
          60,
          149,
          60,
          137,
          51,
          78,
          75,
          75,
          46,
          94,
          97,
          63,
          99,
          111,
          74,
          130,
          137,
          121,
          76,
          38,
          80,
          54,
          137,
          173,
          39,
          139,
          91,
          29,
          64,
          160,
          146,
          89,
          176,
          203,
          142,
          45,
          17,
          95,
          129,
          119,
          33,
          52,
          30,
          110,
          144,
          48,
          45,
          88,
          88,
          146,
          80,
          130,
          77,
          76,
          107,
          64,
          129,
          61,
          36,
          88,
          129,
          180,
          118,
          117,
          48,
          39,
          90,
          73,
          115,
          41,
          138,
          47,
          139,
          100,
          67,
          86,
          35,
          178,
          141,
          142,
          92,
          140,
          85,
          90,
          37,
          40,
          119,
          79,
          97,
          80,
          67,
          135,
          58,
          98,
          156,
          30,
          38,
          87,
          20,
          86,
          79,
          137,
          124,
          108,
          37,
          42,
          90,
          123,
          85,
          82,
          38,
          30,
          119,
          136,
          40,
          144,
          34,
          92,
          180,
          94,
          92,
          152,
          24,
          97,
          100,
          62,
          175,
          78,
          43,
          36,
          47,
          75,
          92,
          157,
          65,
          128,
          115,
          65,
          103,
          137,
          84,
          37,
          88,
          123,
          32,
          27,
          115,
          83,
          138,
          83,
          114,
          150,
          77,
          149,
          63,
          25,
          22,
          60,
          52,
          20,
          110,
          39,
          50,
          72,
          64,
          66,
          72,
          62,
          43,
          29,
          95,
          111,
          95,
          36,
          44,
          74,
          140,
          48,
          144,
          80,
          83,
          110,
          94,
          98,
          130,
          106,
          27,
          66,
          148,
          97,
          100,
          91,
          41,
          140,
          93,
          81,
          115,
          32,
          106,
          146,
          147,
          129,
          70,
          109,
          132,
          70,
          94,
          82,
          94,
          82,
          86,
          103,
          102,
          141,
          92,
          45,
          45,
          84,
          67,
          61,
          117,
          41,
          121,
          24,
          119,
          21,
          52,
          104,
          127,
          76,
          26,
          144,
          86,
          38,
          114,
          68,
          39,
          69,
          63,
          70,
          98,
          77,
          76,
          128,
          85,
          147,
          106,
          132,
          28,
          70,
          43,
          112,
          78,
          134,
          152,
          44,
          129,
          71,
          156,
          108,
          97,
          65,
          78,
          72,
          56,
          55,
          92,
          183,
          62,
          141,
          89,
          83,
          27,
          145,
          69,
          44,
          86,
          125,
          80,
          73,
          58,
          145,
          59,
          53,
          31,
          95,
          35,
          103,
          110,
          105,
          75,
          41,
          95,
          17,
          101,
          66,
          103,
          150,
          89,
          113,
          131,
          31,
          60
         ]
        }
       ],
       "layout": {
        "template": {
         "data": {
          "bar": [
           {
            "error_x": {
             "color": "#2a3f5f"
            },
            "error_y": {
             "color": "#2a3f5f"
            },
            "marker": {
             "line": {
              "color": "#E5ECF6",
              "width": 0.5
             },
             "pattern": {
              "fillmode": "overlay",
              "size": 10,
              "solidity": 0.2
             }
            },
            "type": "bar"
           }
          ],
          "barpolar": [
           {
            "marker": {
             "line": {
              "color": "#E5ECF6",
              "width": 0.5
             },
             "pattern": {
              "fillmode": "overlay",
              "size": 10,
              "solidity": 0.2
             }
            },
            "type": "barpolar"
           }
          ],
          "carpet": [
           {
            "aaxis": {
             "endlinecolor": "#2a3f5f",
             "gridcolor": "white",
             "linecolor": "white",
             "minorgridcolor": "white",
             "startlinecolor": "#2a3f5f"
            },
            "baxis": {
             "endlinecolor": "#2a3f5f",
             "gridcolor": "white",
             "linecolor": "white",
             "minorgridcolor": "white",
             "startlinecolor": "#2a3f5f"
            },
            "type": "carpet"
           }
          ],
          "choropleth": [
           {
            "colorbar": {
             "outlinewidth": 0,
             "ticks": ""
            },
            "type": "choropleth"
           }
          ],
          "contour": [
           {
            "colorbar": {
             "outlinewidth": 0,
             "ticks": ""
            },
            "colorscale": [
             [
              0,
              "#0d0887"
             ],
             [
              0.1111111111111111,
              "#46039f"
             ],
             [
              0.2222222222222222,
              "#7201a8"
             ],
             [
              0.3333333333333333,
              "#9c179e"
             ],
             [
              0.4444444444444444,
              "#bd3786"
             ],
             [
              0.5555555555555556,
              "#d8576b"
             ],
             [
              0.6666666666666666,
              "#ed7953"
             ],
             [
              0.7777777777777778,
              "#fb9f3a"
             ],
             [
              0.8888888888888888,
              "#fdca26"
             ],
             [
              1,
              "#f0f921"
             ]
            ],
            "type": "contour"
           }
          ],
          "contourcarpet": [
           {
            "colorbar": {
             "outlinewidth": 0,
             "ticks": ""
            },
            "type": "contourcarpet"
           }
          ],
          "heatmap": [
           {
            "colorbar": {
             "outlinewidth": 0,
             "ticks": ""
            },
            "colorscale": [
             [
              0,
              "#0d0887"
             ],
             [
              0.1111111111111111,
              "#46039f"
             ],
             [
              0.2222222222222222,
              "#7201a8"
             ],
             [
              0.3333333333333333,
              "#9c179e"
             ],
             [
              0.4444444444444444,
              "#bd3786"
             ],
             [
              0.5555555555555556,
              "#d8576b"
             ],
             [
              0.6666666666666666,
              "#ed7953"
             ],
             [
              0.7777777777777778,
              "#fb9f3a"
             ],
             [
              0.8888888888888888,
              "#fdca26"
             ],
             [
              1,
              "#f0f921"
             ]
            ],
            "type": "heatmap"
           }
          ],
          "heatmapgl": [
           {
            "colorbar": {
             "outlinewidth": 0,
             "ticks": ""
            },
            "colorscale": [
             [
              0,
              "#0d0887"
             ],
             [
              0.1111111111111111,
              "#46039f"
             ],
             [
              0.2222222222222222,
              "#7201a8"
             ],
             [
              0.3333333333333333,
              "#9c179e"
             ],
             [
              0.4444444444444444,
              "#bd3786"
             ],
             [
              0.5555555555555556,
              "#d8576b"
             ],
             [
              0.6666666666666666,
              "#ed7953"
             ],
             [
              0.7777777777777778,
              "#fb9f3a"
             ],
             [
              0.8888888888888888,
              "#fdca26"
             ],
             [
              1,
              "#f0f921"
             ]
            ],
            "type": "heatmapgl"
           }
          ],
          "histogram": [
           {
            "marker": {
             "pattern": {
              "fillmode": "overlay",
              "size": 10,
              "solidity": 0.2
             }
            },
            "type": "histogram"
           }
          ],
          "histogram2d": [
           {
            "colorbar": {
             "outlinewidth": 0,
             "ticks": ""
            },
            "colorscale": [
             [
              0,
              "#0d0887"
             ],
             [
              0.1111111111111111,
              "#46039f"
             ],
             [
              0.2222222222222222,
              "#7201a8"
             ],
             [
              0.3333333333333333,
              "#9c179e"
             ],
             [
              0.4444444444444444,
              "#bd3786"
             ],
             [
              0.5555555555555556,
              "#d8576b"
             ],
             [
              0.6666666666666666,
              "#ed7953"
             ],
             [
              0.7777777777777778,
              "#fb9f3a"
             ],
             [
              0.8888888888888888,
              "#fdca26"
             ],
             [
              1,
              "#f0f921"
             ]
            ],
            "type": "histogram2d"
           }
          ],
          "histogram2dcontour": [
           {
            "colorbar": {
             "outlinewidth": 0,
             "ticks": ""
            },
            "colorscale": [
             [
              0,
              "#0d0887"
             ],
             [
              0.1111111111111111,
              "#46039f"
             ],
             [
              0.2222222222222222,
              "#7201a8"
             ],
             [
              0.3333333333333333,
              "#9c179e"
             ],
             [
              0.4444444444444444,
              "#bd3786"
             ],
             [
              0.5555555555555556,
              "#d8576b"
             ],
             [
              0.6666666666666666,
              "#ed7953"
             ],
             [
              0.7777777777777778,
              "#fb9f3a"
             ],
             [
              0.8888888888888888,
              "#fdca26"
             ],
             [
              1,
              "#f0f921"
             ]
            ],
            "type": "histogram2dcontour"
           }
          ],
          "mesh3d": [
           {
            "colorbar": {
             "outlinewidth": 0,
             "ticks": ""
            },
            "type": "mesh3d"
           }
          ],
          "parcoords": [
           {
            "line": {
             "colorbar": {
              "outlinewidth": 0,
              "ticks": ""
             }
            },
            "type": "parcoords"
           }
          ],
          "pie": [
           {
            "automargin": true,
            "type": "pie"
           }
          ],
          "scatter": [
           {
            "fillpattern": {
             "fillmode": "overlay",
             "size": 10,
             "solidity": 0.2
            },
            "type": "scatter"
           }
          ],
          "scatter3d": [
           {
            "line": {
             "colorbar": {
              "outlinewidth": 0,
              "ticks": ""
             }
            },
            "marker": {
             "colorbar": {
              "outlinewidth": 0,
              "ticks": ""
             }
            },
            "type": "scatter3d"
           }
          ],
          "scattercarpet": [
           {
            "marker": {
             "colorbar": {
              "outlinewidth": 0,
              "ticks": ""
             }
            },
            "type": "scattercarpet"
           }
          ],
          "scattergeo": [
           {
            "marker": {
             "colorbar": {
              "outlinewidth": 0,
              "ticks": ""
             }
            },
            "type": "scattergeo"
           }
          ],
          "scattergl": [
           {
            "marker": {
             "colorbar": {
              "outlinewidth": 0,
              "ticks": ""
             }
            },
            "type": "scattergl"
           }
          ],
          "scattermapbox": [
           {
            "marker": {
             "colorbar": {
              "outlinewidth": 0,
              "ticks": ""
             }
            },
            "type": "scattermapbox"
           }
          ],
          "scatterpolar": [
           {
            "marker": {
             "colorbar": {
              "outlinewidth": 0,
              "ticks": ""
             }
            },
            "type": "scatterpolar"
           }
          ],
          "scatterpolargl": [
           {
            "marker": {
             "colorbar": {
              "outlinewidth": 0,
              "ticks": ""
             }
            },
            "type": "scatterpolargl"
           }
          ],
          "scatterternary": [
           {
            "marker": {
             "colorbar": {
              "outlinewidth": 0,
              "ticks": ""
             }
            },
            "type": "scatterternary"
           }
          ],
          "surface": [
           {
            "colorbar": {
             "outlinewidth": 0,
             "ticks": ""
            },
            "colorscale": [
             [
              0,
              "#0d0887"
             ],
             [
              0.1111111111111111,
              "#46039f"
             ],
             [
              0.2222222222222222,
              "#7201a8"
             ],
             [
              0.3333333333333333,
              "#9c179e"
             ],
             [
              0.4444444444444444,
              "#bd3786"
             ],
             [
              0.5555555555555556,
              "#d8576b"
             ],
             [
              0.6666666666666666,
              "#ed7953"
             ],
             [
              0.7777777777777778,
              "#fb9f3a"
             ],
             [
              0.8888888888888888,
              "#fdca26"
             ],
             [
              1,
              "#f0f921"
             ]
            ],
            "type": "surface"
           }
          ],
          "table": [
           {
            "cells": {
             "fill": {
              "color": "#EBF0F8"
             },
             "line": {
              "color": "white"
             }
            },
            "header": {
             "fill": {
              "color": "#C8D4E3"
             },
             "line": {
              "color": "white"
             }
            },
            "type": "table"
           }
          ]
         },
         "layout": {
          "annotationdefaults": {
           "arrowcolor": "#2a3f5f",
           "arrowhead": 0,
           "arrowwidth": 1
          },
          "autotypenumbers": "strict",
          "coloraxis": {
           "colorbar": {
            "outlinewidth": 0,
            "ticks": ""
           }
          },
          "colorscale": {
           "diverging": [
            [
             0,
             "#8e0152"
            ],
            [
             0.1,
             "#c51b7d"
            ],
            [
             0.2,
             "#de77ae"
            ],
            [
             0.3,
             "#f1b6da"
            ],
            [
             0.4,
             "#fde0ef"
            ],
            [
             0.5,
             "#f7f7f7"
            ],
            [
             0.6,
             "#e6f5d0"
            ],
            [
             0.7,
             "#b8e186"
            ],
            [
             0.8,
             "#7fbc41"
            ],
            [
             0.9,
             "#4d9221"
            ],
            [
             1,
             "#276419"
            ]
           ],
           "sequential": [
            [
             0,
             "#0d0887"
            ],
            [
             0.1111111111111111,
             "#46039f"
            ],
            [
             0.2222222222222222,
             "#7201a8"
            ],
            [
             0.3333333333333333,
             "#9c179e"
            ],
            [
             0.4444444444444444,
             "#bd3786"
            ],
            [
             0.5555555555555556,
             "#d8576b"
            ],
            [
             0.6666666666666666,
             "#ed7953"
            ],
            [
             0.7777777777777778,
             "#fb9f3a"
            ],
            [
             0.8888888888888888,
             "#fdca26"
            ],
            [
             1,
             "#f0f921"
            ]
           ],
           "sequentialminus": [
            [
             0,
             "#0d0887"
            ],
            [
             0.1111111111111111,
             "#46039f"
            ],
            [
             0.2222222222222222,
             "#7201a8"
            ],
            [
             0.3333333333333333,
             "#9c179e"
            ],
            [
             0.4444444444444444,
             "#bd3786"
            ],
            [
             0.5555555555555556,
             "#d8576b"
            ],
            [
             0.6666666666666666,
             "#ed7953"
            ],
            [
             0.7777777777777778,
             "#fb9f3a"
            ],
            [
             0.8888888888888888,
             "#fdca26"
            ],
            [
             1,
             "#f0f921"
            ]
           ]
          },
          "colorway": [
           "#636efa",
           "#EF553B",
           "#00cc96",
           "#ab63fa",
           "#FFA15A",
           "#19d3f3",
           "#FF6692",
           "#B6E880",
           "#FF97FF",
           "#FECB52"
          ],
          "font": {
           "color": "#2a3f5f"
          },
          "geo": {
           "bgcolor": "white",
           "lakecolor": "white",
           "landcolor": "#E5ECF6",
           "showlakes": true,
           "showland": true,
           "subunitcolor": "white"
          },
          "hoverlabel": {
           "align": "left"
          },
          "hovermode": "closest",
          "mapbox": {
           "style": "light"
          },
          "paper_bgcolor": "white",
          "plot_bgcolor": "#E5ECF6",
          "polar": {
           "angularaxis": {
            "gridcolor": "white",
            "linecolor": "white",
            "ticks": ""
           },
           "bgcolor": "#E5ECF6",
           "radialaxis": {
            "gridcolor": "white",
            "linecolor": "white",
            "ticks": ""
           }
          },
          "scene": {
           "xaxis": {
            "backgroundcolor": "#E5ECF6",
            "gridcolor": "white",
            "gridwidth": 2,
            "linecolor": "white",
            "showbackground": true,
            "ticks": "",
            "zerolinecolor": "white"
           },
           "yaxis": {
            "backgroundcolor": "#E5ECF6",
            "gridcolor": "white",
            "gridwidth": 2,
            "linecolor": "white",
            "showbackground": true,
            "ticks": "",
            "zerolinecolor": "white"
           },
           "zaxis": {
            "backgroundcolor": "#E5ECF6",
            "gridcolor": "white",
            "gridwidth": 2,
            "linecolor": "white",
            "showbackground": true,
            "ticks": "",
            "zerolinecolor": "white"
           }
          },
          "shapedefaults": {
           "line": {
            "color": "#2a3f5f"
           }
          },
          "ternary": {
           "aaxis": {
            "gridcolor": "white",
            "linecolor": "white",
            "ticks": ""
           },
           "baxis": {
            "gridcolor": "white",
            "linecolor": "white",
            "ticks": ""
           },
           "bgcolor": "#E5ECF6",
           "caxis": {
            "gridcolor": "white",
            "linecolor": "white",
            "ticks": ""
           }
          },
          "title": {
           "x": 0.05
          },
          "xaxis": {
           "automargin": true,
           "gridcolor": "white",
           "linecolor": "white",
           "ticks": "",
           "title": {
            "standoff": 15
           },
           "zerolinecolor": "white",
           "zerolinewidth": 2
          },
          "yaxis": {
           "automargin": true,
           "gridcolor": "white",
           "linecolor": "white",
           "ticks": "",
           "title": {
            "standoff": 15
           },
           "zerolinecolor": "white",
           "zerolinewidth": 2
          }
         }
        },
        "title": {
         "text": "Movies_3_5_CDs_8_10 - Explanation length distribution"
        },
        "xaxis": {
         "title": {
          "text": "Length"
         }
        },
        "yaxis": {
         "title": {
          "text": "Frequency"
         }
        }
       }
      }
     },
     "metadata": {},
     "output_type": "display_data"
    }
   ],
   "source": [
    "plot_length_distribution_comparison(movies_35_cds_510_0s_preds, movies_35_cds_510_1s_preds, \"Movies_3_5_CDs_5_10\")\n",
    "plot_length_distribution_comparison(movies_35_cds_810_0s_preds, movies_35_cds_810_1s_preds, \"Movies_3_5_CDs_8_10\")"
   ]
  },
  {
   "cell_type": "markdown",
   "metadata": {},
   "source": [
    "### Statistics"
   ]
  },
  {
   "cell_type": "code",
   "execution_count": 34,
   "metadata": {},
   "outputs": [],
   "source": [
    "# ------------------\n",
    "# Base domain: Books\n",
    "# ------------------\n",
    "books_35_cds_510_0s_stats = compute_statistics_explanations(books_35_cds_510_0s_preds)\n",
    "books_35_cds_510_1s_stats = compute_statistics_explanations(books_35_cds_510_1s_preds)\n",
    "books_35_cds_810_0s_stats = compute_statistics_explanations(books_35_cds_810_0s_preds)\n",
    "books_35_cds_810_1s_stats = compute_statistics_explanations(books_35_cds_810_1s_preds)\n",
    "\n",
    "books_35_movies_510_0s_stats = compute_statistics_explanations(books_35_movies_510_0s_preds)\n",
    "books_35_movies_510_1s_stats = compute_statistics_explanations(books_35_movies_510_1s_preds)\n",
    "books_35_movies_810_0s_stats = compute_statistics_explanations(books_35_movies_810_0s_preds)\n",
    "books_35_movies_810_1s_stats = compute_statistics_explanations(books_35_movies_810_1s_preds)"
   ]
  },
  {
   "cell_type": "code",
   "execution_count": 35,
   "metadata": {},
   "outputs": [
    {
     "data": {
      "text/html": [
       "<div>\n",
       "<style scoped>\n",
       "    .dataframe tbody tr th:only-of-type {\n",
       "        vertical-align: middle;\n",
       "    }\n",
       "\n",
       "    .dataframe tbody tr th {\n",
       "        vertical-align: top;\n",
       "    }\n",
       "\n",
       "    .dataframe thead th {\n",
       "        text-align: right;\n",
       "    }\n",
       "</style>\n",
       "<table border=\"1\" class=\"dataframe\">\n",
       "  <thead>\n",
       "    <tr style=\"text-align: right;\">\n",
       "      <th></th>\n",
       "      <th>Property</th>\n",
       "      <th>Zero-shot</th>\n",
       "      <th>One-shot</th>\n",
       "      <th>Shift</th>\n",
       "    </tr>\n",
       "  </thead>\n",
       "  <tbody>\n",
       "    <tr>\n",
       "      <th>0</th>\n",
       "      <td>Range_max</td>\n",
       "      <td>1</td>\n",
       "      <td>2</td>\n",
       "      <td>1</td>\n",
       "    </tr>\n",
       "    <tr>\n",
       "      <th>1</th>\n",
       "      <td>Below_mean</td>\n",
       "      <td>532</td>\n",
       "      <td>408</td>\n",
       "      <td>-124</td>\n",
       "    </tr>\n",
       "    <tr>\n",
       "      <th>2</th>\n",
       "      <td>Max</td>\n",
       "      <td>275</td>\n",
       "      <td>236</td>\n",
       "      <td>-39</td>\n",
       "    </tr>\n",
       "    <tr>\n",
       "      <th>3</th>\n",
       "      <td>Min</td>\n",
       "      <td>16</td>\n",
       "      <td>15</td>\n",
       "      <td>-1</td>\n",
       "    </tr>\n",
       "    <tr>\n",
       "      <th>4</th>\n",
       "      <td>Mean</td>\n",
       "      <td>61</td>\n",
       "      <td>100</td>\n",
       "      <td>39</td>\n",
       "    </tr>\n",
       "    <tr>\n",
       "      <th>5</th>\n",
       "      <td>Short</td>\n",
       "      <td>0</td>\n",
       "      <td>0</td>\n",
       "      <td>0</td>\n",
       "    </tr>\n",
       "    <tr>\n",
       "      <th>6</th>\n",
       "      <td>One_word</td>\n",
       "      <td>0</td>\n",
       "      <td>0</td>\n",
       "      <td>0</td>\n",
       "    </tr>\n",
       "    <tr>\n",
       "      <th>7</th>\n",
       "      <td>Range_10_20</td>\n",
       "      <td>91</td>\n",
       "      <td>21</td>\n",
       "      <td>-70</td>\n",
       "    </tr>\n",
       "    <tr>\n",
       "      <th>8</th>\n",
       "      <td>Above_mean</td>\n",
       "      <td>293</td>\n",
       "      <td>417</td>\n",
       "      <td>124</td>\n",
       "    </tr>\n",
       "  </tbody>\n",
       "</table>\n",
       "</div>"
      ],
      "text/plain": [
       "      Property  Zero-shot  One-shot  Shift\n",
       "0    Range_max          1         2      1\n",
       "1   Below_mean        532       408   -124\n",
       "2          Max        275       236    -39\n",
       "3          Min         16        15     -1\n",
       "4         Mean         61       100     39\n",
       "5        Short          0         0      0\n",
       "6     One_word          0         0      0\n",
       "7  Range_10_20         91        21    -70\n",
       "8   Above_mean        293       417    124"
      ]
     },
     "execution_count": 35,
     "metadata": {},
     "output_type": "execute_result"
    }
   ],
   "source": [
    "compare_statistics(books_35_cds_510_0s_stats, books_35_cds_510_1s_stats)"
   ]
  },
  {
   "cell_type": "code",
   "execution_count": 36,
   "metadata": {},
   "outputs": [
    {
     "data": {
      "text/html": [
       "<div>\n",
       "<style scoped>\n",
       "    .dataframe tbody tr th:only-of-type {\n",
       "        vertical-align: middle;\n",
       "    }\n",
       "\n",
       "    .dataframe tbody tr th {\n",
       "        vertical-align: top;\n",
       "    }\n",
       "\n",
       "    .dataframe thead th {\n",
       "        text-align: right;\n",
       "    }\n",
       "</style>\n",
       "<table border=\"1\" class=\"dataframe\">\n",
       "  <thead>\n",
       "    <tr style=\"text-align: right;\">\n",
       "      <th></th>\n",
       "      <th>Property</th>\n",
       "      <th>Zero-shot</th>\n",
       "      <th>One-shot</th>\n",
       "      <th>Shift</th>\n",
       "    </tr>\n",
       "  </thead>\n",
       "  <tbody>\n",
       "    <tr>\n",
       "      <th>0</th>\n",
       "      <td>Range_max</td>\n",
       "      <td>1</td>\n",
       "      <td>1</td>\n",
       "      <td>0</td>\n",
       "    </tr>\n",
       "    <tr>\n",
       "      <th>1</th>\n",
       "      <td>Below_mean</td>\n",
       "      <td>182</td>\n",
       "      <td>137</td>\n",
       "      <td>-45</td>\n",
       "    </tr>\n",
       "    <tr>\n",
       "      <th>2</th>\n",
       "      <td>Max</td>\n",
       "      <td>223</td>\n",
       "      <td>221</td>\n",
       "      <td>-2</td>\n",
       "    </tr>\n",
       "    <tr>\n",
       "      <th>3</th>\n",
       "      <td>Min</td>\n",
       "      <td>16</td>\n",
       "      <td>17</td>\n",
       "      <td>1</td>\n",
       "    </tr>\n",
       "    <tr>\n",
       "      <th>4</th>\n",
       "      <td>Mean</td>\n",
       "      <td>54</td>\n",
       "      <td>98</td>\n",
       "      <td>43</td>\n",
       "    </tr>\n",
       "    <tr>\n",
       "      <th>5</th>\n",
       "      <td>Short</td>\n",
       "      <td>0</td>\n",
       "      <td>0</td>\n",
       "      <td>0</td>\n",
       "    </tr>\n",
       "    <tr>\n",
       "      <th>6</th>\n",
       "      <td>One_word</td>\n",
       "      <td>0</td>\n",
       "      <td>0</td>\n",
       "      <td>0</td>\n",
       "    </tr>\n",
       "    <tr>\n",
       "      <th>7</th>\n",
       "      <td>Range_10_20</td>\n",
       "      <td>28</td>\n",
       "      <td>4</td>\n",
       "      <td>-24</td>\n",
       "    </tr>\n",
       "    <tr>\n",
       "      <th>8</th>\n",
       "      <td>Above_mean</td>\n",
       "      <td>80</td>\n",
       "      <td>125</td>\n",
       "      <td>45</td>\n",
       "    </tr>\n",
       "  </tbody>\n",
       "</table>\n",
       "</div>"
      ],
      "text/plain": [
       "      Property  Zero-shot  One-shot  Shift\n",
       "0    Range_max          1         1      0\n",
       "1   Below_mean        182       137    -45\n",
       "2          Max        223       221     -2\n",
       "3          Min         16        17      1\n",
       "4         Mean         54        98     43\n",
       "5        Short          0         0      0\n",
       "6     One_word          0         0      0\n",
       "7  Range_10_20         28         4    -24\n",
       "8   Above_mean         80       125     45"
      ]
     },
     "execution_count": 36,
     "metadata": {},
     "output_type": "execute_result"
    }
   ],
   "source": [
    "compare_statistics(books_35_cds_810_0s_stats, books_35_cds_810_1s_stats)"
   ]
  },
  {
   "cell_type": "code",
   "execution_count": 37,
   "metadata": {},
   "outputs": [
    {
     "data": {
      "text/html": [
       "<div>\n",
       "<style scoped>\n",
       "    .dataframe tbody tr th:only-of-type {\n",
       "        vertical-align: middle;\n",
       "    }\n",
       "\n",
       "    .dataframe tbody tr th {\n",
       "        vertical-align: top;\n",
       "    }\n",
       "\n",
       "    .dataframe thead th {\n",
       "        text-align: right;\n",
       "    }\n",
       "</style>\n",
       "<table border=\"1\" class=\"dataframe\">\n",
       "  <thead>\n",
       "    <tr style=\"text-align: right;\">\n",
       "      <th></th>\n",
       "      <th>Property</th>\n",
       "      <th>Zero-shot</th>\n",
       "      <th>One-shot</th>\n",
       "      <th>Shift</th>\n",
       "    </tr>\n",
       "  </thead>\n",
       "  <tbody>\n",
       "    <tr>\n",
       "      <th>0</th>\n",
       "      <td>Range_max</td>\n",
       "      <td>4</td>\n",
       "      <td>6</td>\n",
       "      <td>2</td>\n",
       "    </tr>\n",
       "    <tr>\n",
       "      <th>1</th>\n",
       "      <td>Below_mean</td>\n",
       "      <td>544</td>\n",
       "      <td>304</td>\n",
       "      <td>-240</td>\n",
       "    </tr>\n",
       "    <tr>\n",
       "      <th>2</th>\n",
       "      <td>Max</td>\n",
       "      <td>209</td>\n",
       "      <td>197</td>\n",
       "      <td>-12</td>\n",
       "    </tr>\n",
       "    <tr>\n",
       "      <th>3</th>\n",
       "      <td>Min</td>\n",
       "      <td>1</td>\n",
       "      <td>11</td>\n",
       "      <td>10</td>\n",
       "    </tr>\n",
       "    <tr>\n",
       "      <th>4</th>\n",
       "      <td>Mean</td>\n",
       "      <td>42</td>\n",
       "      <td>98</td>\n",
       "      <td>56</td>\n",
       "    </tr>\n",
       "    <tr>\n",
       "      <th>5</th>\n",
       "      <td>Short</td>\n",
       "      <td>8</td>\n",
       "      <td>0</td>\n",
       "      <td>-8</td>\n",
       "    </tr>\n",
       "    <tr>\n",
       "      <th>6</th>\n",
       "      <td>One_word</td>\n",
       "      <td>8</td>\n",
       "      <td>0</td>\n",
       "      <td>-8</td>\n",
       "    </tr>\n",
       "    <tr>\n",
       "      <th>7</th>\n",
       "      <td>Range_10_20</td>\n",
       "      <td>75</td>\n",
       "      <td>10</td>\n",
       "      <td>-65</td>\n",
       "    </tr>\n",
       "    <tr>\n",
       "      <th>8</th>\n",
       "      <td>Above_mean</td>\n",
       "      <td>185</td>\n",
       "      <td>425</td>\n",
       "      <td>240</td>\n",
       "    </tr>\n",
       "  </tbody>\n",
       "</table>\n",
       "</div>"
      ],
      "text/plain": [
       "      Property  Zero-shot  One-shot  Shift\n",
       "0    Range_max          4         6      2\n",
       "1   Below_mean        544       304   -240\n",
       "2          Max        209       197    -12\n",
       "3          Min          1        11     10\n",
       "4         Mean         42        98     56\n",
       "5        Short          8         0     -8\n",
       "6     One_word          8         0     -8\n",
       "7  Range_10_20         75        10    -65\n",
       "8   Above_mean        185       425    240"
      ]
     },
     "execution_count": 37,
     "metadata": {},
     "output_type": "execute_result"
    }
   ],
   "source": [
    "compare_statistics(books_35_movies_510_0s_stats, books_35_movies_510_1s_stats)"
   ]
  },
  {
   "cell_type": "code",
   "execution_count": 38,
   "metadata": {},
   "outputs": [
    {
     "data": {
      "text/html": [
       "<div>\n",
       "<style scoped>\n",
       "    .dataframe tbody tr th:only-of-type {\n",
       "        vertical-align: middle;\n",
       "    }\n",
       "\n",
       "    .dataframe tbody tr th {\n",
       "        vertical-align: top;\n",
       "    }\n",
       "\n",
       "    .dataframe thead th {\n",
       "        text-align: right;\n",
       "    }\n",
       "</style>\n",
       "<table border=\"1\" class=\"dataframe\">\n",
       "  <thead>\n",
       "    <tr style=\"text-align: right;\">\n",
       "      <th></th>\n",
       "      <th>Property</th>\n",
       "      <th>Zero-shot</th>\n",
       "      <th>One-shot</th>\n",
       "      <th>Shift</th>\n",
       "    </tr>\n",
       "  </thead>\n",
       "  <tbody>\n",
       "    <tr>\n",
       "      <th>0</th>\n",
       "      <td>Range_max</td>\n",
       "      <td>4</td>\n",
       "      <td>13</td>\n",
       "      <td>9</td>\n",
       "    </tr>\n",
       "    <tr>\n",
       "      <th>1</th>\n",
       "      <td>Below_mean</td>\n",
       "      <td>173</td>\n",
       "      <td>98</td>\n",
       "      <td>-75</td>\n",
       "    </tr>\n",
       "    <tr>\n",
       "      <th>2</th>\n",
       "      <td>Max</td>\n",
       "      <td>197</td>\n",
       "      <td>166</td>\n",
       "      <td>-31</td>\n",
       "    </tr>\n",
       "    <tr>\n",
       "      <th>3</th>\n",
       "      <td>Min</td>\n",
       "      <td>1</td>\n",
       "      <td>18</td>\n",
       "      <td>17</td>\n",
       "    </tr>\n",
       "    <tr>\n",
       "      <th>4</th>\n",
       "      <td>Mean</td>\n",
       "      <td>39</td>\n",
       "      <td>97</td>\n",
       "      <td>57</td>\n",
       "    </tr>\n",
       "    <tr>\n",
       "      <th>5</th>\n",
       "      <td>Short</td>\n",
       "      <td>7</td>\n",
       "      <td>0</td>\n",
       "      <td>-7</td>\n",
       "    </tr>\n",
       "    <tr>\n",
       "      <th>6</th>\n",
       "      <td>One_word</td>\n",
       "      <td>7</td>\n",
       "      <td>0</td>\n",
       "      <td>-7</td>\n",
       "    </tr>\n",
       "    <tr>\n",
       "      <th>7</th>\n",
       "      <td>Range_10_20</td>\n",
       "      <td>35</td>\n",
       "      <td>5</td>\n",
       "      <td>-30</td>\n",
       "    </tr>\n",
       "    <tr>\n",
       "      <th>8</th>\n",
       "      <td>Above_mean</td>\n",
       "      <td>73</td>\n",
       "      <td>148</td>\n",
       "      <td>75</td>\n",
       "    </tr>\n",
       "  </tbody>\n",
       "</table>\n",
       "</div>"
      ],
      "text/plain": [
       "      Property  Zero-shot  One-shot  Shift\n",
       "0    Range_max          4        13      9\n",
       "1   Below_mean        173        98    -75\n",
       "2          Max        197       166    -31\n",
       "3          Min          1        18     17\n",
       "4         Mean         39        97     57\n",
       "5        Short          7         0     -7\n",
       "6     One_word          7         0     -7\n",
       "7  Range_10_20         35         5    -30\n",
       "8   Above_mean         73       148     75"
      ]
     },
     "execution_count": 38,
     "metadata": {},
     "output_type": "execute_result"
    }
   ],
   "source": [
    "compare_statistics(books_35_movies_810_0s_stats, books_35_movies_810_1s_stats)"
   ]
  },
  {
   "cell_type": "code",
   "execution_count": 39,
   "metadata": {},
   "outputs": [
    {
     "data": {
      "application/vnd.plotly.v1+json": {
       "config": {
        "plotlyServerURL": "https://plot.ly"
       },
       "data": [
        {
         "marker": {
          "color": "#28A08C"
         },
         "name": "Zero-Shot",
         "type": "bar",
         "x": [
          "One_word",
          "Short",
          "Below_mean",
          "Range_10_20",
          "Above_mean",
          "Range_max"
         ],
         "y": [
          0,
          0,
          532,
          91,
          293,
          1
         ]
        },
        {
         "marker": {
          "color": "#01DB8C"
         },
         "name": "One-Shot",
         "type": "bar",
         "x": [
          "One_word",
          "Short",
          "Below_mean",
          "Range_10_20",
          "Above_mean",
          "Range_max"
         ],
         "y": [
          0,
          0,
          408,
          21,
          417,
          2
         ]
        }
       ],
       "layout": {
        "template": {
         "data": {
          "bar": [
           {
            "error_x": {
             "color": "#2a3f5f"
            },
            "error_y": {
             "color": "#2a3f5f"
            },
            "marker": {
             "line": {
              "color": "#E5ECF6",
              "width": 0.5
             },
             "pattern": {
              "fillmode": "overlay",
              "size": 10,
              "solidity": 0.2
             }
            },
            "type": "bar"
           }
          ],
          "barpolar": [
           {
            "marker": {
             "line": {
              "color": "#E5ECF6",
              "width": 0.5
             },
             "pattern": {
              "fillmode": "overlay",
              "size": 10,
              "solidity": 0.2
             }
            },
            "type": "barpolar"
           }
          ],
          "carpet": [
           {
            "aaxis": {
             "endlinecolor": "#2a3f5f",
             "gridcolor": "white",
             "linecolor": "white",
             "minorgridcolor": "white",
             "startlinecolor": "#2a3f5f"
            },
            "baxis": {
             "endlinecolor": "#2a3f5f",
             "gridcolor": "white",
             "linecolor": "white",
             "minorgridcolor": "white",
             "startlinecolor": "#2a3f5f"
            },
            "type": "carpet"
           }
          ],
          "choropleth": [
           {
            "colorbar": {
             "outlinewidth": 0,
             "ticks": ""
            },
            "type": "choropleth"
           }
          ],
          "contour": [
           {
            "colorbar": {
             "outlinewidth": 0,
             "ticks": ""
            },
            "colorscale": [
             [
              0,
              "#0d0887"
             ],
             [
              0.1111111111111111,
              "#46039f"
             ],
             [
              0.2222222222222222,
              "#7201a8"
             ],
             [
              0.3333333333333333,
              "#9c179e"
             ],
             [
              0.4444444444444444,
              "#bd3786"
             ],
             [
              0.5555555555555556,
              "#d8576b"
             ],
             [
              0.6666666666666666,
              "#ed7953"
             ],
             [
              0.7777777777777778,
              "#fb9f3a"
             ],
             [
              0.8888888888888888,
              "#fdca26"
             ],
             [
              1,
              "#f0f921"
             ]
            ],
            "type": "contour"
           }
          ],
          "contourcarpet": [
           {
            "colorbar": {
             "outlinewidth": 0,
             "ticks": ""
            },
            "type": "contourcarpet"
           }
          ],
          "heatmap": [
           {
            "colorbar": {
             "outlinewidth": 0,
             "ticks": ""
            },
            "colorscale": [
             [
              0,
              "#0d0887"
             ],
             [
              0.1111111111111111,
              "#46039f"
             ],
             [
              0.2222222222222222,
              "#7201a8"
             ],
             [
              0.3333333333333333,
              "#9c179e"
             ],
             [
              0.4444444444444444,
              "#bd3786"
             ],
             [
              0.5555555555555556,
              "#d8576b"
             ],
             [
              0.6666666666666666,
              "#ed7953"
             ],
             [
              0.7777777777777778,
              "#fb9f3a"
             ],
             [
              0.8888888888888888,
              "#fdca26"
             ],
             [
              1,
              "#f0f921"
             ]
            ],
            "type": "heatmap"
           }
          ],
          "heatmapgl": [
           {
            "colorbar": {
             "outlinewidth": 0,
             "ticks": ""
            },
            "colorscale": [
             [
              0,
              "#0d0887"
             ],
             [
              0.1111111111111111,
              "#46039f"
             ],
             [
              0.2222222222222222,
              "#7201a8"
             ],
             [
              0.3333333333333333,
              "#9c179e"
             ],
             [
              0.4444444444444444,
              "#bd3786"
             ],
             [
              0.5555555555555556,
              "#d8576b"
             ],
             [
              0.6666666666666666,
              "#ed7953"
             ],
             [
              0.7777777777777778,
              "#fb9f3a"
             ],
             [
              0.8888888888888888,
              "#fdca26"
             ],
             [
              1,
              "#f0f921"
             ]
            ],
            "type": "heatmapgl"
           }
          ],
          "histogram": [
           {
            "marker": {
             "pattern": {
              "fillmode": "overlay",
              "size": 10,
              "solidity": 0.2
             }
            },
            "type": "histogram"
           }
          ],
          "histogram2d": [
           {
            "colorbar": {
             "outlinewidth": 0,
             "ticks": ""
            },
            "colorscale": [
             [
              0,
              "#0d0887"
             ],
             [
              0.1111111111111111,
              "#46039f"
             ],
             [
              0.2222222222222222,
              "#7201a8"
             ],
             [
              0.3333333333333333,
              "#9c179e"
             ],
             [
              0.4444444444444444,
              "#bd3786"
             ],
             [
              0.5555555555555556,
              "#d8576b"
             ],
             [
              0.6666666666666666,
              "#ed7953"
             ],
             [
              0.7777777777777778,
              "#fb9f3a"
             ],
             [
              0.8888888888888888,
              "#fdca26"
             ],
             [
              1,
              "#f0f921"
             ]
            ],
            "type": "histogram2d"
           }
          ],
          "histogram2dcontour": [
           {
            "colorbar": {
             "outlinewidth": 0,
             "ticks": ""
            },
            "colorscale": [
             [
              0,
              "#0d0887"
             ],
             [
              0.1111111111111111,
              "#46039f"
             ],
             [
              0.2222222222222222,
              "#7201a8"
             ],
             [
              0.3333333333333333,
              "#9c179e"
             ],
             [
              0.4444444444444444,
              "#bd3786"
             ],
             [
              0.5555555555555556,
              "#d8576b"
             ],
             [
              0.6666666666666666,
              "#ed7953"
             ],
             [
              0.7777777777777778,
              "#fb9f3a"
             ],
             [
              0.8888888888888888,
              "#fdca26"
             ],
             [
              1,
              "#f0f921"
             ]
            ],
            "type": "histogram2dcontour"
           }
          ],
          "mesh3d": [
           {
            "colorbar": {
             "outlinewidth": 0,
             "ticks": ""
            },
            "type": "mesh3d"
           }
          ],
          "parcoords": [
           {
            "line": {
             "colorbar": {
              "outlinewidth": 0,
              "ticks": ""
             }
            },
            "type": "parcoords"
           }
          ],
          "pie": [
           {
            "automargin": true,
            "type": "pie"
           }
          ],
          "scatter": [
           {
            "fillpattern": {
             "fillmode": "overlay",
             "size": 10,
             "solidity": 0.2
            },
            "type": "scatter"
           }
          ],
          "scatter3d": [
           {
            "line": {
             "colorbar": {
              "outlinewidth": 0,
              "ticks": ""
             }
            },
            "marker": {
             "colorbar": {
              "outlinewidth": 0,
              "ticks": ""
             }
            },
            "type": "scatter3d"
           }
          ],
          "scattercarpet": [
           {
            "marker": {
             "colorbar": {
              "outlinewidth": 0,
              "ticks": ""
             }
            },
            "type": "scattercarpet"
           }
          ],
          "scattergeo": [
           {
            "marker": {
             "colorbar": {
              "outlinewidth": 0,
              "ticks": ""
             }
            },
            "type": "scattergeo"
           }
          ],
          "scattergl": [
           {
            "marker": {
             "colorbar": {
              "outlinewidth": 0,
              "ticks": ""
             }
            },
            "type": "scattergl"
           }
          ],
          "scattermapbox": [
           {
            "marker": {
             "colorbar": {
              "outlinewidth": 0,
              "ticks": ""
             }
            },
            "type": "scattermapbox"
           }
          ],
          "scatterpolar": [
           {
            "marker": {
             "colorbar": {
              "outlinewidth": 0,
              "ticks": ""
             }
            },
            "type": "scatterpolar"
           }
          ],
          "scatterpolargl": [
           {
            "marker": {
             "colorbar": {
              "outlinewidth": 0,
              "ticks": ""
             }
            },
            "type": "scatterpolargl"
           }
          ],
          "scatterternary": [
           {
            "marker": {
             "colorbar": {
              "outlinewidth": 0,
              "ticks": ""
             }
            },
            "type": "scatterternary"
           }
          ],
          "surface": [
           {
            "colorbar": {
             "outlinewidth": 0,
             "ticks": ""
            },
            "colorscale": [
             [
              0,
              "#0d0887"
             ],
             [
              0.1111111111111111,
              "#46039f"
             ],
             [
              0.2222222222222222,
              "#7201a8"
             ],
             [
              0.3333333333333333,
              "#9c179e"
             ],
             [
              0.4444444444444444,
              "#bd3786"
             ],
             [
              0.5555555555555556,
              "#d8576b"
             ],
             [
              0.6666666666666666,
              "#ed7953"
             ],
             [
              0.7777777777777778,
              "#fb9f3a"
             ],
             [
              0.8888888888888888,
              "#fdca26"
             ],
             [
              1,
              "#f0f921"
             ]
            ],
            "type": "surface"
           }
          ],
          "table": [
           {
            "cells": {
             "fill": {
              "color": "#EBF0F8"
             },
             "line": {
              "color": "white"
             }
            },
            "header": {
             "fill": {
              "color": "#C8D4E3"
             },
             "line": {
              "color": "white"
             }
            },
            "type": "table"
           }
          ]
         },
         "layout": {
          "annotationdefaults": {
           "arrowcolor": "#2a3f5f",
           "arrowhead": 0,
           "arrowwidth": 1
          },
          "autotypenumbers": "strict",
          "coloraxis": {
           "colorbar": {
            "outlinewidth": 0,
            "ticks": ""
           }
          },
          "colorscale": {
           "diverging": [
            [
             0,
             "#8e0152"
            ],
            [
             0.1,
             "#c51b7d"
            ],
            [
             0.2,
             "#de77ae"
            ],
            [
             0.3,
             "#f1b6da"
            ],
            [
             0.4,
             "#fde0ef"
            ],
            [
             0.5,
             "#f7f7f7"
            ],
            [
             0.6,
             "#e6f5d0"
            ],
            [
             0.7,
             "#b8e186"
            ],
            [
             0.8,
             "#7fbc41"
            ],
            [
             0.9,
             "#4d9221"
            ],
            [
             1,
             "#276419"
            ]
           ],
           "sequential": [
            [
             0,
             "#0d0887"
            ],
            [
             0.1111111111111111,
             "#46039f"
            ],
            [
             0.2222222222222222,
             "#7201a8"
            ],
            [
             0.3333333333333333,
             "#9c179e"
            ],
            [
             0.4444444444444444,
             "#bd3786"
            ],
            [
             0.5555555555555556,
             "#d8576b"
            ],
            [
             0.6666666666666666,
             "#ed7953"
            ],
            [
             0.7777777777777778,
             "#fb9f3a"
            ],
            [
             0.8888888888888888,
             "#fdca26"
            ],
            [
             1,
             "#f0f921"
            ]
           ],
           "sequentialminus": [
            [
             0,
             "#0d0887"
            ],
            [
             0.1111111111111111,
             "#46039f"
            ],
            [
             0.2222222222222222,
             "#7201a8"
            ],
            [
             0.3333333333333333,
             "#9c179e"
            ],
            [
             0.4444444444444444,
             "#bd3786"
            ],
            [
             0.5555555555555556,
             "#d8576b"
            ],
            [
             0.6666666666666666,
             "#ed7953"
            ],
            [
             0.7777777777777778,
             "#fb9f3a"
            ],
            [
             0.8888888888888888,
             "#fdca26"
            ],
            [
             1,
             "#f0f921"
            ]
           ]
          },
          "colorway": [
           "#636efa",
           "#EF553B",
           "#00cc96",
           "#ab63fa",
           "#FFA15A",
           "#19d3f3",
           "#FF6692",
           "#B6E880",
           "#FF97FF",
           "#FECB52"
          ],
          "font": {
           "color": "#2a3f5f"
          },
          "geo": {
           "bgcolor": "white",
           "lakecolor": "white",
           "landcolor": "#E5ECF6",
           "showlakes": true,
           "showland": true,
           "subunitcolor": "white"
          },
          "hoverlabel": {
           "align": "left"
          },
          "hovermode": "closest",
          "mapbox": {
           "style": "light"
          },
          "paper_bgcolor": "white",
          "plot_bgcolor": "#E5ECF6",
          "polar": {
           "angularaxis": {
            "gridcolor": "white",
            "linecolor": "white",
            "ticks": ""
           },
           "bgcolor": "#E5ECF6",
           "radialaxis": {
            "gridcolor": "white",
            "linecolor": "white",
            "ticks": ""
           }
          },
          "scene": {
           "xaxis": {
            "backgroundcolor": "#E5ECF6",
            "gridcolor": "white",
            "gridwidth": 2,
            "linecolor": "white",
            "showbackground": true,
            "ticks": "",
            "zerolinecolor": "white"
           },
           "yaxis": {
            "backgroundcolor": "#E5ECF6",
            "gridcolor": "white",
            "gridwidth": 2,
            "linecolor": "white",
            "showbackground": true,
            "ticks": "",
            "zerolinecolor": "white"
           },
           "zaxis": {
            "backgroundcolor": "#E5ECF6",
            "gridcolor": "white",
            "gridwidth": 2,
            "linecolor": "white",
            "showbackground": true,
            "ticks": "",
            "zerolinecolor": "white"
           }
          },
          "shapedefaults": {
           "line": {
            "color": "#2a3f5f"
           }
          },
          "ternary": {
           "aaxis": {
            "gridcolor": "white",
            "linecolor": "white",
            "ticks": ""
           },
           "baxis": {
            "gridcolor": "white",
            "linecolor": "white",
            "ticks": ""
           },
           "bgcolor": "#E5ECF6",
           "caxis": {
            "gridcolor": "white",
            "linecolor": "white",
            "ticks": ""
           }
          },
          "title": {
           "x": 0.05
          },
          "xaxis": {
           "automargin": true,
           "gridcolor": "white",
           "linecolor": "white",
           "ticks": "",
           "title": {
            "standoff": 15
           },
           "zerolinecolor": "white",
           "zerolinewidth": 2
          },
          "yaxis": {
           "automargin": true,
           "gridcolor": "white",
           "linecolor": "white",
           "ticks": "",
           "title": {
            "standoff": 15
           },
           "zerolinecolor": "white",
           "zerolinewidth": 2
          }
         }
        },
        "title": {
         "text": "Books_3_5_CDs_5_10 - Statistics comparison"
        }
       }
      }
     },
     "metadata": {},
     "output_type": "display_data"
    },
    {
     "data": {
      "application/vnd.plotly.v1+json": {
       "config": {
        "plotlyServerURL": "https://plot.ly"
       },
       "data": [
        {
         "marker": {
          "color": "#28A08C"
         },
         "name": "Zero-Shot",
         "type": "bar",
         "x": [
          "One_word",
          "Short",
          "Below_mean",
          "Range_10_20",
          "Above_mean",
          "Range_max"
         ],
         "y": [
          0,
          0,
          182,
          28,
          80,
          1
         ]
        },
        {
         "marker": {
          "color": "#01DB8C"
         },
         "name": "One-Shot",
         "type": "bar",
         "x": [
          "One_word",
          "Short",
          "Below_mean",
          "Range_10_20",
          "Above_mean",
          "Range_max"
         ],
         "y": [
          0,
          0,
          137,
          4,
          125,
          1
         ]
        }
       ],
       "layout": {
        "template": {
         "data": {
          "bar": [
           {
            "error_x": {
             "color": "#2a3f5f"
            },
            "error_y": {
             "color": "#2a3f5f"
            },
            "marker": {
             "line": {
              "color": "#E5ECF6",
              "width": 0.5
             },
             "pattern": {
              "fillmode": "overlay",
              "size": 10,
              "solidity": 0.2
             }
            },
            "type": "bar"
           }
          ],
          "barpolar": [
           {
            "marker": {
             "line": {
              "color": "#E5ECF6",
              "width": 0.5
             },
             "pattern": {
              "fillmode": "overlay",
              "size": 10,
              "solidity": 0.2
             }
            },
            "type": "barpolar"
           }
          ],
          "carpet": [
           {
            "aaxis": {
             "endlinecolor": "#2a3f5f",
             "gridcolor": "white",
             "linecolor": "white",
             "minorgridcolor": "white",
             "startlinecolor": "#2a3f5f"
            },
            "baxis": {
             "endlinecolor": "#2a3f5f",
             "gridcolor": "white",
             "linecolor": "white",
             "minorgridcolor": "white",
             "startlinecolor": "#2a3f5f"
            },
            "type": "carpet"
           }
          ],
          "choropleth": [
           {
            "colorbar": {
             "outlinewidth": 0,
             "ticks": ""
            },
            "type": "choropleth"
           }
          ],
          "contour": [
           {
            "colorbar": {
             "outlinewidth": 0,
             "ticks": ""
            },
            "colorscale": [
             [
              0,
              "#0d0887"
             ],
             [
              0.1111111111111111,
              "#46039f"
             ],
             [
              0.2222222222222222,
              "#7201a8"
             ],
             [
              0.3333333333333333,
              "#9c179e"
             ],
             [
              0.4444444444444444,
              "#bd3786"
             ],
             [
              0.5555555555555556,
              "#d8576b"
             ],
             [
              0.6666666666666666,
              "#ed7953"
             ],
             [
              0.7777777777777778,
              "#fb9f3a"
             ],
             [
              0.8888888888888888,
              "#fdca26"
             ],
             [
              1,
              "#f0f921"
             ]
            ],
            "type": "contour"
           }
          ],
          "contourcarpet": [
           {
            "colorbar": {
             "outlinewidth": 0,
             "ticks": ""
            },
            "type": "contourcarpet"
           }
          ],
          "heatmap": [
           {
            "colorbar": {
             "outlinewidth": 0,
             "ticks": ""
            },
            "colorscale": [
             [
              0,
              "#0d0887"
             ],
             [
              0.1111111111111111,
              "#46039f"
             ],
             [
              0.2222222222222222,
              "#7201a8"
             ],
             [
              0.3333333333333333,
              "#9c179e"
             ],
             [
              0.4444444444444444,
              "#bd3786"
             ],
             [
              0.5555555555555556,
              "#d8576b"
             ],
             [
              0.6666666666666666,
              "#ed7953"
             ],
             [
              0.7777777777777778,
              "#fb9f3a"
             ],
             [
              0.8888888888888888,
              "#fdca26"
             ],
             [
              1,
              "#f0f921"
             ]
            ],
            "type": "heatmap"
           }
          ],
          "heatmapgl": [
           {
            "colorbar": {
             "outlinewidth": 0,
             "ticks": ""
            },
            "colorscale": [
             [
              0,
              "#0d0887"
             ],
             [
              0.1111111111111111,
              "#46039f"
             ],
             [
              0.2222222222222222,
              "#7201a8"
             ],
             [
              0.3333333333333333,
              "#9c179e"
             ],
             [
              0.4444444444444444,
              "#bd3786"
             ],
             [
              0.5555555555555556,
              "#d8576b"
             ],
             [
              0.6666666666666666,
              "#ed7953"
             ],
             [
              0.7777777777777778,
              "#fb9f3a"
             ],
             [
              0.8888888888888888,
              "#fdca26"
             ],
             [
              1,
              "#f0f921"
             ]
            ],
            "type": "heatmapgl"
           }
          ],
          "histogram": [
           {
            "marker": {
             "pattern": {
              "fillmode": "overlay",
              "size": 10,
              "solidity": 0.2
             }
            },
            "type": "histogram"
           }
          ],
          "histogram2d": [
           {
            "colorbar": {
             "outlinewidth": 0,
             "ticks": ""
            },
            "colorscale": [
             [
              0,
              "#0d0887"
             ],
             [
              0.1111111111111111,
              "#46039f"
             ],
             [
              0.2222222222222222,
              "#7201a8"
             ],
             [
              0.3333333333333333,
              "#9c179e"
             ],
             [
              0.4444444444444444,
              "#bd3786"
             ],
             [
              0.5555555555555556,
              "#d8576b"
             ],
             [
              0.6666666666666666,
              "#ed7953"
             ],
             [
              0.7777777777777778,
              "#fb9f3a"
             ],
             [
              0.8888888888888888,
              "#fdca26"
             ],
             [
              1,
              "#f0f921"
             ]
            ],
            "type": "histogram2d"
           }
          ],
          "histogram2dcontour": [
           {
            "colorbar": {
             "outlinewidth": 0,
             "ticks": ""
            },
            "colorscale": [
             [
              0,
              "#0d0887"
             ],
             [
              0.1111111111111111,
              "#46039f"
             ],
             [
              0.2222222222222222,
              "#7201a8"
             ],
             [
              0.3333333333333333,
              "#9c179e"
             ],
             [
              0.4444444444444444,
              "#bd3786"
             ],
             [
              0.5555555555555556,
              "#d8576b"
             ],
             [
              0.6666666666666666,
              "#ed7953"
             ],
             [
              0.7777777777777778,
              "#fb9f3a"
             ],
             [
              0.8888888888888888,
              "#fdca26"
             ],
             [
              1,
              "#f0f921"
             ]
            ],
            "type": "histogram2dcontour"
           }
          ],
          "mesh3d": [
           {
            "colorbar": {
             "outlinewidth": 0,
             "ticks": ""
            },
            "type": "mesh3d"
           }
          ],
          "parcoords": [
           {
            "line": {
             "colorbar": {
              "outlinewidth": 0,
              "ticks": ""
             }
            },
            "type": "parcoords"
           }
          ],
          "pie": [
           {
            "automargin": true,
            "type": "pie"
           }
          ],
          "scatter": [
           {
            "fillpattern": {
             "fillmode": "overlay",
             "size": 10,
             "solidity": 0.2
            },
            "type": "scatter"
           }
          ],
          "scatter3d": [
           {
            "line": {
             "colorbar": {
              "outlinewidth": 0,
              "ticks": ""
             }
            },
            "marker": {
             "colorbar": {
              "outlinewidth": 0,
              "ticks": ""
             }
            },
            "type": "scatter3d"
           }
          ],
          "scattercarpet": [
           {
            "marker": {
             "colorbar": {
              "outlinewidth": 0,
              "ticks": ""
             }
            },
            "type": "scattercarpet"
           }
          ],
          "scattergeo": [
           {
            "marker": {
             "colorbar": {
              "outlinewidth": 0,
              "ticks": ""
             }
            },
            "type": "scattergeo"
           }
          ],
          "scattergl": [
           {
            "marker": {
             "colorbar": {
              "outlinewidth": 0,
              "ticks": ""
             }
            },
            "type": "scattergl"
           }
          ],
          "scattermapbox": [
           {
            "marker": {
             "colorbar": {
              "outlinewidth": 0,
              "ticks": ""
             }
            },
            "type": "scattermapbox"
           }
          ],
          "scatterpolar": [
           {
            "marker": {
             "colorbar": {
              "outlinewidth": 0,
              "ticks": ""
             }
            },
            "type": "scatterpolar"
           }
          ],
          "scatterpolargl": [
           {
            "marker": {
             "colorbar": {
              "outlinewidth": 0,
              "ticks": ""
             }
            },
            "type": "scatterpolargl"
           }
          ],
          "scatterternary": [
           {
            "marker": {
             "colorbar": {
              "outlinewidth": 0,
              "ticks": ""
             }
            },
            "type": "scatterternary"
           }
          ],
          "surface": [
           {
            "colorbar": {
             "outlinewidth": 0,
             "ticks": ""
            },
            "colorscale": [
             [
              0,
              "#0d0887"
             ],
             [
              0.1111111111111111,
              "#46039f"
             ],
             [
              0.2222222222222222,
              "#7201a8"
             ],
             [
              0.3333333333333333,
              "#9c179e"
             ],
             [
              0.4444444444444444,
              "#bd3786"
             ],
             [
              0.5555555555555556,
              "#d8576b"
             ],
             [
              0.6666666666666666,
              "#ed7953"
             ],
             [
              0.7777777777777778,
              "#fb9f3a"
             ],
             [
              0.8888888888888888,
              "#fdca26"
             ],
             [
              1,
              "#f0f921"
             ]
            ],
            "type": "surface"
           }
          ],
          "table": [
           {
            "cells": {
             "fill": {
              "color": "#EBF0F8"
             },
             "line": {
              "color": "white"
             }
            },
            "header": {
             "fill": {
              "color": "#C8D4E3"
             },
             "line": {
              "color": "white"
             }
            },
            "type": "table"
           }
          ]
         },
         "layout": {
          "annotationdefaults": {
           "arrowcolor": "#2a3f5f",
           "arrowhead": 0,
           "arrowwidth": 1
          },
          "autotypenumbers": "strict",
          "coloraxis": {
           "colorbar": {
            "outlinewidth": 0,
            "ticks": ""
           }
          },
          "colorscale": {
           "diverging": [
            [
             0,
             "#8e0152"
            ],
            [
             0.1,
             "#c51b7d"
            ],
            [
             0.2,
             "#de77ae"
            ],
            [
             0.3,
             "#f1b6da"
            ],
            [
             0.4,
             "#fde0ef"
            ],
            [
             0.5,
             "#f7f7f7"
            ],
            [
             0.6,
             "#e6f5d0"
            ],
            [
             0.7,
             "#b8e186"
            ],
            [
             0.8,
             "#7fbc41"
            ],
            [
             0.9,
             "#4d9221"
            ],
            [
             1,
             "#276419"
            ]
           ],
           "sequential": [
            [
             0,
             "#0d0887"
            ],
            [
             0.1111111111111111,
             "#46039f"
            ],
            [
             0.2222222222222222,
             "#7201a8"
            ],
            [
             0.3333333333333333,
             "#9c179e"
            ],
            [
             0.4444444444444444,
             "#bd3786"
            ],
            [
             0.5555555555555556,
             "#d8576b"
            ],
            [
             0.6666666666666666,
             "#ed7953"
            ],
            [
             0.7777777777777778,
             "#fb9f3a"
            ],
            [
             0.8888888888888888,
             "#fdca26"
            ],
            [
             1,
             "#f0f921"
            ]
           ],
           "sequentialminus": [
            [
             0,
             "#0d0887"
            ],
            [
             0.1111111111111111,
             "#46039f"
            ],
            [
             0.2222222222222222,
             "#7201a8"
            ],
            [
             0.3333333333333333,
             "#9c179e"
            ],
            [
             0.4444444444444444,
             "#bd3786"
            ],
            [
             0.5555555555555556,
             "#d8576b"
            ],
            [
             0.6666666666666666,
             "#ed7953"
            ],
            [
             0.7777777777777778,
             "#fb9f3a"
            ],
            [
             0.8888888888888888,
             "#fdca26"
            ],
            [
             1,
             "#f0f921"
            ]
           ]
          },
          "colorway": [
           "#636efa",
           "#EF553B",
           "#00cc96",
           "#ab63fa",
           "#FFA15A",
           "#19d3f3",
           "#FF6692",
           "#B6E880",
           "#FF97FF",
           "#FECB52"
          ],
          "font": {
           "color": "#2a3f5f"
          },
          "geo": {
           "bgcolor": "white",
           "lakecolor": "white",
           "landcolor": "#E5ECF6",
           "showlakes": true,
           "showland": true,
           "subunitcolor": "white"
          },
          "hoverlabel": {
           "align": "left"
          },
          "hovermode": "closest",
          "mapbox": {
           "style": "light"
          },
          "paper_bgcolor": "white",
          "plot_bgcolor": "#E5ECF6",
          "polar": {
           "angularaxis": {
            "gridcolor": "white",
            "linecolor": "white",
            "ticks": ""
           },
           "bgcolor": "#E5ECF6",
           "radialaxis": {
            "gridcolor": "white",
            "linecolor": "white",
            "ticks": ""
           }
          },
          "scene": {
           "xaxis": {
            "backgroundcolor": "#E5ECF6",
            "gridcolor": "white",
            "gridwidth": 2,
            "linecolor": "white",
            "showbackground": true,
            "ticks": "",
            "zerolinecolor": "white"
           },
           "yaxis": {
            "backgroundcolor": "#E5ECF6",
            "gridcolor": "white",
            "gridwidth": 2,
            "linecolor": "white",
            "showbackground": true,
            "ticks": "",
            "zerolinecolor": "white"
           },
           "zaxis": {
            "backgroundcolor": "#E5ECF6",
            "gridcolor": "white",
            "gridwidth": 2,
            "linecolor": "white",
            "showbackground": true,
            "ticks": "",
            "zerolinecolor": "white"
           }
          },
          "shapedefaults": {
           "line": {
            "color": "#2a3f5f"
           }
          },
          "ternary": {
           "aaxis": {
            "gridcolor": "white",
            "linecolor": "white",
            "ticks": ""
           },
           "baxis": {
            "gridcolor": "white",
            "linecolor": "white",
            "ticks": ""
           },
           "bgcolor": "#E5ECF6",
           "caxis": {
            "gridcolor": "white",
            "linecolor": "white",
            "ticks": ""
           }
          },
          "title": {
           "x": 0.05
          },
          "xaxis": {
           "automargin": true,
           "gridcolor": "white",
           "linecolor": "white",
           "ticks": "",
           "title": {
            "standoff": 15
           },
           "zerolinecolor": "white",
           "zerolinewidth": 2
          },
          "yaxis": {
           "automargin": true,
           "gridcolor": "white",
           "linecolor": "white",
           "ticks": "",
           "title": {
            "standoff": 15
           },
           "zerolinecolor": "white",
           "zerolinewidth": 2
          }
         }
        },
        "title": {
         "text": "Books_3_5_CDs_8_10 - Statistics comparison"
        }
       }
      }
     },
     "metadata": {},
     "output_type": "display_data"
    }
   ],
   "source": [
    "plot_statistics_comparison(books_35_cds_510_0s_stats, books_35_cds_510_1s_stats, \"Books_3_5_CDs_5_10\", skip_keys=SKIP_KEYS)\n",
    "plot_statistics_comparison(books_35_cds_810_0s_stats, books_35_cds_810_1s_stats, \"Books_3_5_CDs_8_10\", skip_keys=SKIP_KEYS)"
   ]
  },
  {
   "cell_type": "code",
   "execution_count": 40,
   "metadata": {},
   "outputs": [
    {
     "data": {
      "application/vnd.plotly.v1+json": {
       "config": {
        "plotlyServerURL": "https://plot.ly"
       },
       "data": [
        {
         "marker": {
          "color": "#28A08C"
         },
         "name": "Zero-Shot",
         "type": "bar",
         "x": [
          "One_word",
          "Short",
          "Below_mean",
          "Range_10_20",
          "Above_mean",
          "Range_max"
         ],
         "y": [
          8,
          8,
          544,
          75,
          185,
          4
         ]
        },
        {
         "marker": {
          "color": "#01DB8C"
         },
         "name": "One-Shot",
         "type": "bar",
         "x": [
          "One_word",
          "Short",
          "Below_mean",
          "Range_10_20",
          "Above_mean",
          "Range_max"
         ],
         "y": [
          0,
          0,
          304,
          10,
          425,
          6
         ]
        }
       ],
       "layout": {
        "template": {
         "data": {
          "bar": [
           {
            "error_x": {
             "color": "#2a3f5f"
            },
            "error_y": {
             "color": "#2a3f5f"
            },
            "marker": {
             "line": {
              "color": "#E5ECF6",
              "width": 0.5
             },
             "pattern": {
              "fillmode": "overlay",
              "size": 10,
              "solidity": 0.2
             }
            },
            "type": "bar"
           }
          ],
          "barpolar": [
           {
            "marker": {
             "line": {
              "color": "#E5ECF6",
              "width": 0.5
             },
             "pattern": {
              "fillmode": "overlay",
              "size": 10,
              "solidity": 0.2
             }
            },
            "type": "barpolar"
           }
          ],
          "carpet": [
           {
            "aaxis": {
             "endlinecolor": "#2a3f5f",
             "gridcolor": "white",
             "linecolor": "white",
             "minorgridcolor": "white",
             "startlinecolor": "#2a3f5f"
            },
            "baxis": {
             "endlinecolor": "#2a3f5f",
             "gridcolor": "white",
             "linecolor": "white",
             "minorgridcolor": "white",
             "startlinecolor": "#2a3f5f"
            },
            "type": "carpet"
           }
          ],
          "choropleth": [
           {
            "colorbar": {
             "outlinewidth": 0,
             "ticks": ""
            },
            "type": "choropleth"
           }
          ],
          "contour": [
           {
            "colorbar": {
             "outlinewidth": 0,
             "ticks": ""
            },
            "colorscale": [
             [
              0,
              "#0d0887"
             ],
             [
              0.1111111111111111,
              "#46039f"
             ],
             [
              0.2222222222222222,
              "#7201a8"
             ],
             [
              0.3333333333333333,
              "#9c179e"
             ],
             [
              0.4444444444444444,
              "#bd3786"
             ],
             [
              0.5555555555555556,
              "#d8576b"
             ],
             [
              0.6666666666666666,
              "#ed7953"
             ],
             [
              0.7777777777777778,
              "#fb9f3a"
             ],
             [
              0.8888888888888888,
              "#fdca26"
             ],
             [
              1,
              "#f0f921"
             ]
            ],
            "type": "contour"
           }
          ],
          "contourcarpet": [
           {
            "colorbar": {
             "outlinewidth": 0,
             "ticks": ""
            },
            "type": "contourcarpet"
           }
          ],
          "heatmap": [
           {
            "colorbar": {
             "outlinewidth": 0,
             "ticks": ""
            },
            "colorscale": [
             [
              0,
              "#0d0887"
             ],
             [
              0.1111111111111111,
              "#46039f"
             ],
             [
              0.2222222222222222,
              "#7201a8"
             ],
             [
              0.3333333333333333,
              "#9c179e"
             ],
             [
              0.4444444444444444,
              "#bd3786"
             ],
             [
              0.5555555555555556,
              "#d8576b"
             ],
             [
              0.6666666666666666,
              "#ed7953"
             ],
             [
              0.7777777777777778,
              "#fb9f3a"
             ],
             [
              0.8888888888888888,
              "#fdca26"
             ],
             [
              1,
              "#f0f921"
             ]
            ],
            "type": "heatmap"
           }
          ],
          "heatmapgl": [
           {
            "colorbar": {
             "outlinewidth": 0,
             "ticks": ""
            },
            "colorscale": [
             [
              0,
              "#0d0887"
             ],
             [
              0.1111111111111111,
              "#46039f"
             ],
             [
              0.2222222222222222,
              "#7201a8"
             ],
             [
              0.3333333333333333,
              "#9c179e"
             ],
             [
              0.4444444444444444,
              "#bd3786"
             ],
             [
              0.5555555555555556,
              "#d8576b"
             ],
             [
              0.6666666666666666,
              "#ed7953"
             ],
             [
              0.7777777777777778,
              "#fb9f3a"
             ],
             [
              0.8888888888888888,
              "#fdca26"
             ],
             [
              1,
              "#f0f921"
             ]
            ],
            "type": "heatmapgl"
           }
          ],
          "histogram": [
           {
            "marker": {
             "pattern": {
              "fillmode": "overlay",
              "size": 10,
              "solidity": 0.2
             }
            },
            "type": "histogram"
           }
          ],
          "histogram2d": [
           {
            "colorbar": {
             "outlinewidth": 0,
             "ticks": ""
            },
            "colorscale": [
             [
              0,
              "#0d0887"
             ],
             [
              0.1111111111111111,
              "#46039f"
             ],
             [
              0.2222222222222222,
              "#7201a8"
             ],
             [
              0.3333333333333333,
              "#9c179e"
             ],
             [
              0.4444444444444444,
              "#bd3786"
             ],
             [
              0.5555555555555556,
              "#d8576b"
             ],
             [
              0.6666666666666666,
              "#ed7953"
             ],
             [
              0.7777777777777778,
              "#fb9f3a"
             ],
             [
              0.8888888888888888,
              "#fdca26"
             ],
             [
              1,
              "#f0f921"
             ]
            ],
            "type": "histogram2d"
           }
          ],
          "histogram2dcontour": [
           {
            "colorbar": {
             "outlinewidth": 0,
             "ticks": ""
            },
            "colorscale": [
             [
              0,
              "#0d0887"
             ],
             [
              0.1111111111111111,
              "#46039f"
             ],
             [
              0.2222222222222222,
              "#7201a8"
             ],
             [
              0.3333333333333333,
              "#9c179e"
             ],
             [
              0.4444444444444444,
              "#bd3786"
             ],
             [
              0.5555555555555556,
              "#d8576b"
             ],
             [
              0.6666666666666666,
              "#ed7953"
             ],
             [
              0.7777777777777778,
              "#fb9f3a"
             ],
             [
              0.8888888888888888,
              "#fdca26"
             ],
             [
              1,
              "#f0f921"
             ]
            ],
            "type": "histogram2dcontour"
           }
          ],
          "mesh3d": [
           {
            "colorbar": {
             "outlinewidth": 0,
             "ticks": ""
            },
            "type": "mesh3d"
           }
          ],
          "parcoords": [
           {
            "line": {
             "colorbar": {
              "outlinewidth": 0,
              "ticks": ""
             }
            },
            "type": "parcoords"
           }
          ],
          "pie": [
           {
            "automargin": true,
            "type": "pie"
           }
          ],
          "scatter": [
           {
            "fillpattern": {
             "fillmode": "overlay",
             "size": 10,
             "solidity": 0.2
            },
            "type": "scatter"
           }
          ],
          "scatter3d": [
           {
            "line": {
             "colorbar": {
              "outlinewidth": 0,
              "ticks": ""
             }
            },
            "marker": {
             "colorbar": {
              "outlinewidth": 0,
              "ticks": ""
             }
            },
            "type": "scatter3d"
           }
          ],
          "scattercarpet": [
           {
            "marker": {
             "colorbar": {
              "outlinewidth": 0,
              "ticks": ""
             }
            },
            "type": "scattercarpet"
           }
          ],
          "scattergeo": [
           {
            "marker": {
             "colorbar": {
              "outlinewidth": 0,
              "ticks": ""
             }
            },
            "type": "scattergeo"
           }
          ],
          "scattergl": [
           {
            "marker": {
             "colorbar": {
              "outlinewidth": 0,
              "ticks": ""
             }
            },
            "type": "scattergl"
           }
          ],
          "scattermapbox": [
           {
            "marker": {
             "colorbar": {
              "outlinewidth": 0,
              "ticks": ""
             }
            },
            "type": "scattermapbox"
           }
          ],
          "scatterpolar": [
           {
            "marker": {
             "colorbar": {
              "outlinewidth": 0,
              "ticks": ""
             }
            },
            "type": "scatterpolar"
           }
          ],
          "scatterpolargl": [
           {
            "marker": {
             "colorbar": {
              "outlinewidth": 0,
              "ticks": ""
             }
            },
            "type": "scatterpolargl"
           }
          ],
          "scatterternary": [
           {
            "marker": {
             "colorbar": {
              "outlinewidth": 0,
              "ticks": ""
             }
            },
            "type": "scatterternary"
           }
          ],
          "surface": [
           {
            "colorbar": {
             "outlinewidth": 0,
             "ticks": ""
            },
            "colorscale": [
             [
              0,
              "#0d0887"
             ],
             [
              0.1111111111111111,
              "#46039f"
             ],
             [
              0.2222222222222222,
              "#7201a8"
             ],
             [
              0.3333333333333333,
              "#9c179e"
             ],
             [
              0.4444444444444444,
              "#bd3786"
             ],
             [
              0.5555555555555556,
              "#d8576b"
             ],
             [
              0.6666666666666666,
              "#ed7953"
             ],
             [
              0.7777777777777778,
              "#fb9f3a"
             ],
             [
              0.8888888888888888,
              "#fdca26"
             ],
             [
              1,
              "#f0f921"
             ]
            ],
            "type": "surface"
           }
          ],
          "table": [
           {
            "cells": {
             "fill": {
              "color": "#EBF0F8"
             },
             "line": {
              "color": "white"
             }
            },
            "header": {
             "fill": {
              "color": "#C8D4E3"
             },
             "line": {
              "color": "white"
             }
            },
            "type": "table"
           }
          ]
         },
         "layout": {
          "annotationdefaults": {
           "arrowcolor": "#2a3f5f",
           "arrowhead": 0,
           "arrowwidth": 1
          },
          "autotypenumbers": "strict",
          "coloraxis": {
           "colorbar": {
            "outlinewidth": 0,
            "ticks": ""
           }
          },
          "colorscale": {
           "diverging": [
            [
             0,
             "#8e0152"
            ],
            [
             0.1,
             "#c51b7d"
            ],
            [
             0.2,
             "#de77ae"
            ],
            [
             0.3,
             "#f1b6da"
            ],
            [
             0.4,
             "#fde0ef"
            ],
            [
             0.5,
             "#f7f7f7"
            ],
            [
             0.6,
             "#e6f5d0"
            ],
            [
             0.7,
             "#b8e186"
            ],
            [
             0.8,
             "#7fbc41"
            ],
            [
             0.9,
             "#4d9221"
            ],
            [
             1,
             "#276419"
            ]
           ],
           "sequential": [
            [
             0,
             "#0d0887"
            ],
            [
             0.1111111111111111,
             "#46039f"
            ],
            [
             0.2222222222222222,
             "#7201a8"
            ],
            [
             0.3333333333333333,
             "#9c179e"
            ],
            [
             0.4444444444444444,
             "#bd3786"
            ],
            [
             0.5555555555555556,
             "#d8576b"
            ],
            [
             0.6666666666666666,
             "#ed7953"
            ],
            [
             0.7777777777777778,
             "#fb9f3a"
            ],
            [
             0.8888888888888888,
             "#fdca26"
            ],
            [
             1,
             "#f0f921"
            ]
           ],
           "sequentialminus": [
            [
             0,
             "#0d0887"
            ],
            [
             0.1111111111111111,
             "#46039f"
            ],
            [
             0.2222222222222222,
             "#7201a8"
            ],
            [
             0.3333333333333333,
             "#9c179e"
            ],
            [
             0.4444444444444444,
             "#bd3786"
            ],
            [
             0.5555555555555556,
             "#d8576b"
            ],
            [
             0.6666666666666666,
             "#ed7953"
            ],
            [
             0.7777777777777778,
             "#fb9f3a"
            ],
            [
             0.8888888888888888,
             "#fdca26"
            ],
            [
             1,
             "#f0f921"
            ]
           ]
          },
          "colorway": [
           "#636efa",
           "#EF553B",
           "#00cc96",
           "#ab63fa",
           "#FFA15A",
           "#19d3f3",
           "#FF6692",
           "#B6E880",
           "#FF97FF",
           "#FECB52"
          ],
          "font": {
           "color": "#2a3f5f"
          },
          "geo": {
           "bgcolor": "white",
           "lakecolor": "white",
           "landcolor": "#E5ECF6",
           "showlakes": true,
           "showland": true,
           "subunitcolor": "white"
          },
          "hoverlabel": {
           "align": "left"
          },
          "hovermode": "closest",
          "mapbox": {
           "style": "light"
          },
          "paper_bgcolor": "white",
          "plot_bgcolor": "#E5ECF6",
          "polar": {
           "angularaxis": {
            "gridcolor": "white",
            "linecolor": "white",
            "ticks": ""
           },
           "bgcolor": "#E5ECF6",
           "radialaxis": {
            "gridcolor": "white",
            "linecolor": "white",
            "ticks": ""
           }
          },
          "scene": {
           "xaxis": {
            "backgroundcolor": "#E5ECF6",
            "gridcolor": "white",
            "gridwidth": 2,
            "linecolor": "white",
            "showbackground": true,
            "ticks": "",
            "zerolinecolor": "white"
           },
           "yaxis": {
            "backgroundcolor": "#E5ECF6",
            "gridcolor": "white",
            "gridwidth": 2,
            "linecolor": "white",
            "showbackground": true,
            "ticks": "",
            "zerolinecolor": "white"
           },
           "zaxis": {
            "backgroundcolor": "#E5ECF6",
            "gridcolor": "white",
            "gridwidth": 2,
            "linecolor": "white",
            "showbackground": true,
            "ticks": "",
            "zerolinecolor": "white"
           }
          },
          "shapedefaults": {
           "line": {
            "color": "#2a3f5f"
           }
          },
          "ternary": {
           "aaxis": {
            "gridcolor": "white",
            "linecolor": "white",
            "ticks": ""
           },
           "baxis": {
            "gridcolor": "white",
            "linecolor": "white",
            "ticks": ""
           },
           "bgcolor": "#E5ECF6",
           "caxis": {
            "gridcolor": "white",
            "linecolor": "white",
            "ticks": ""
           }
          },
          "title": {
           "x": 0.05
          },
          "xaxis": {
           "automargin": true,
           "gridcolor": "white",
           "linecolor": "white",
           "ticks": "",
           "title": {
            "standoff": 15
           },
           "zerolinecolor": "white",
           "zerolinewidth": 2
          },
          "yaxis": {
           "automargin": true,
           "gridcolor": "white",
           "linecolor": "white",
           "ticks": "",
           "title": {
            "standoff": 15
           },
           "zerolinecolor": "white",
           "zerolinewidth": 2
          }
         }
        },
        "title": {
         "text": "Books_3_5_Movies_5_10 - Statistics comparison"
        }
       }
      }
     },
     "metadata": {},
     "output_type": "display_data"
    },
    {
     "data": {
      "application/vnd.plotly.v1+json": {
       "config": {
        "plotlyServerURL": "https://plot.ly"
       },
       "data": [
        {
         "marker": {
          "color": "#28A08C"
         },
         "name": "Zero-Shot",
         "type": "bar",
         "x": [
          "One_word",
          "Short",
          "Below_mean",
          "Range_10_20",
          "Above_mean",
          "Range_max"
         ],
         "y": [
          7,
          7,
          173,
          35,
          73,
          4
         ]
        },
        {
         "marker": {
          "color": "#01DB8C"
         },
         "name": "One-Shot",
         "type": "bar",
         "x": [
          "One_word",
          "Short",
          "Below_mean",
          "Range_10_20",
          "Above_mean",
          "Range_max"
         ],
         "y": [
          0,
          0,
          98,
          5,
          148,
          13
         ]
        }
       ],
       "layout": {
        "template": {
         "data": {
          "bar": [
           {
            "error_x": {
             "color": "#2a3f5f"
            },
            "error_y": {
             "color": "#2a3f5f"
            },
            "marker": {
             "line": {
              "color": "#E5ECF6",
              "width": 0.5
             },
             "pattern": {
              "fillmode": "overlay",
              "size": 10,
              "solidity": 0.2
             }
            },
            "type": "bar"
           }
          ],
          "barpolar": [
           {
            "marker": {
             "line": {
              "color": "#E5ECF6",
              "width": 0.5
             },
             "pattern": {
              "fillmode": "overlay",
              "size": 10,
              "solidity": 0.2
             }
            },
            "type": "barpolar"
           }
          ],
          "carpet": [
           {
            "aaxis": {
             "endlinecolor": "#2a3f5f",
             "gridcolor": "white",
             "linecolor": "white",
             "minorgridcolor": "white",
             "startlinecolor": "#2a3f5f"
            },
            "baxis": {
             "endlinecolor": "#2a3f5f",
             "gridcolor": "white",
             "linecolor": "white",
             "minorgridcolor": "white",
             "startlinecolor": "#2a3f5f"
            },
            "type": "carpet"
           }
          ],
          "choropleth": [
           {
            "colorbar": {
             "outlinewidth": 0,
             "ticks": ""
            },
            "type": "choropleth"
           }
          ],
          "contour": [
           {
            "colorbar": {
             "outlinewidth": 0,
             "ticks": ""
            },
            "colorscale": [
             [
              0,
              "#0d0887"
             ],
             [
              0.1111111111111111,
              "#46039f"
             ],
             [
              0.2222222222222222,
              "#7201a8"
             ],
             [
              0.3333333333333333,
              "#9c179e"
             ],
             [
              0.4444444444444444,
              "#bd3786"
             ],
             [
              0.5555555555555556,
              "#d8576b"
             ],
             [
              0.6666666666666666,
              "#ed7953"
             ],
             [
              0.7777777777777778,
              "#fb9f3a"
             ],
             [
              0.8888888888888888,
              "#fdca26"
             ],
             [
              1,
              "#f0f921"
             ]
            ],
            "type": "contour"
           }
          ],
          "contourcarpet": [
           {
            "colorbar": {
             "outlinewidth": 0,
             "ticks": ""
            },
            "type": "contourcarpet"
           }
          ],
          "heatmap": [
           {
            "colorbar": {
             "outlinewidth": 0,
             "ticks": ""
            },
            "colorscale": [
             [
              0,
              "#0d0887"
             ],
             [
              0.1111111111111111,
              "#46039f"
             ],
             [
              0.2222222222222222,
              "#7201a8"
             ],
             [
              0.3333333333333333,
              "#9c179e"
             ],
             [
              0.4444444444444444,
              "#bd3786"
             ],
             [
              0.5555555555555556,
              "#d8576b"
             ],
             [
              0.6666666666666666,
              "#ed7953"
             ],
             [
              0.7777777777777778,
              "#fb9f3a"
             ],
             [
              0.8888888888888888,
              "#fdca26"
             ],
             [
              1,
              "#f0f921"
             ]
            ],
            "type": "heatmap"
           }
          ],
          "heatmapgl": [
           {
            "colorbar": {
             "outlinewidth": 0,
             "ticks": ""
            },
            "colorscale": [
             [
              0,
              "#0d0887"
             ],
             [
              0.1111111111111111,
              "#46039f"
             ],
             [
              0.2222222222222222,
              "#7201a8"
             ],
             [
              0.3333333333333333,
              "#9c179e"
             ],
             [
              0.4444444444444444,
              "#bd3786"
             ],
             [
              0.5555555555555556,
              "#d8576b"
             ],
             [
              0.6666666666666666,
              "#ed7953"
             ],
             [
              0.7777777777777778,
              "#fb9f3a"
             ],
             [
              0.8888888888888888,
              "#fdca26"
             ],
             [
              1,
              "#f0f921"
             ]
            ],
            "type": "heatmapgl"
           }
          ],
          "histogram": [
           {
            "marker": {
             "pattern": {
              "fillmode": "overlay",
              "size": 10,
              "solidity": 0.2
             }
            },
            "type": "histogram"
           }
          ],
          "histogram2d": [
           {
            "colorbar": {
             "outlinewidth": 0,
             "ticks": ""
            },
            "colorscale": [
             [
              0,
              "#0d0887"
             ],
             [
              0.1111111111111111,
              "#46039f"
             ],
             [
              0.2222222222222222,
              "#7201a8"
             ],
             [
              0.3333333333333333,
              "#9c179e"
             ],
             [
              0.4444444444444444,
              "#bd3786"
             ],
             [
              0.5555555555555556,
              "#d8576b"
             ],
             [
              0.6666666666666666,
              "#ed7953"
             ],
             [
              0.7777777777777778,
              "#fb9f3a"
             ],
             [
              0.8888888888888888,
              "#fdca26"
             ],
             [
              1,
              "#f0f921"
             ]
            ],
            "type": "histogram2d"
           }
          ],
          "histogram2dcontour": [
           {
            "colorbar": {
             "outlinewidth": 0,
             "ticks": ""
            },
            "colorscale": [
             [
              0,
              "#0d0887"
             ],
             [
              0.1111111111111111,
              "#46039f"
             ],
             [
              0.2222222222222222,
              "#7201a8"
             ],
             [
              0.3333333333333333,
              "#9c179e"
             ],
             [
              0.4444444444444444,
              "#bd3786"
             ],
             [
              0.5555555555555556,
              "#d8576b"
             ],
             [
              0.6666666666666666,
              "#ed7953"
             ],
             [
              0.7777777777777778,
              "#fb9f3a"
             ],
             [
              0.8888888888888888,
              "#fdca26"
             ],
             [
              1,
              "#f0f921"
             ]
            ],
            "type": "histogram2dcontour"
           }
          ],
          "mesh3d": [
           {
            "colorbar": {
             "outlinewidth": 0,
             "ticks": ""
            },
            "type": "mesh3d"
           }
          ],
          "parcoords": [
           {
            "line": {
             "colorbar": {
              "outlinewidth": 0,
              "ticks": ""
             }
            },
            "type": "parcoords"
           }
          ],
          "pie": [
           {
            "automargin": true,
            "type": "pie"
           }
          ],
          "scatter": [
           {
            "fillpattern": {
             "fillmode": "overlay",
             "size": 10,
             "solidity": 0.2
            },
            "type": "scatter"
           }
          ],
          "scatter3d": [
           {
            "line": {
             "colorbar": {
              "outlinewidth": 0,
              "ticks": ""
             }
            },
            "marker": {
             "colorbar": {
              "outlinewidth": 0,
              "ticks": ""
             }
            },
            "type": "scatter3d"
           }
          ],
          "scattercarpet": [
           {
            "marker": {
             "colorbar": {
              "outlinewidth": 0,
              "ticks": ""
             }
            },
            "type": "scattercarpet"
           }
          ],
          "scattergeo": [
           {
            "marker": {
             "colorbar": {
              "outlinewidth": 0,
              "ticks": ""
             }
            },
            "type": "scattergeo"
           }
          ],
          "scattergl": [
           {
            "marker": {
             "colorbar": {
              "outlinewidth": 0,
              "ticks": ""
             }
            },
            "type": "scattergl"
           }
          ],
          "scattermapbox": [
           {
            "marker": {
             "colorbar": {
              "outlinewidth": 0,
              "ticks": ""
             }
            },
            "type": "scattermapbox"
           }
          ],
          "scatterpolar": [
           {
            "marker": {
             "colorbar": {
              "outlinewidth": 0,
              "ticks": ""
             }
            },
            "type": "scatterpolar"
           }
          ],
          "scatterpolargl": [
           {
            "marker": {
             "colorbar": {
              "outlinewidth": 0,
              "ticks": ""
             }
            },
            "type": "scatterpolargl"
           }
          ],
          "scatterternary": [
           {
            "marker": {
             "colorbar": {
              "outlinewidth": 0,
              "ticks": ""
             }
            },
            "type": "scatterternary"
           }
          ],
          "surface": [
           {
            "colorbar": {
             "outlinewidth": 0,
             "ticks": ""
            },
            "colorscale": [
             [
              0,
              "#0d0887"
             ],
             [
              0.1111111111111111,
              "#46039f"
             ],
             [
              0.2222222222222222,
              "#7201a8"
             ],
             [
              0.3333333333333333,
              "#9c179e"
             ],
             [
              0.4444444444444444,
              "#bd3786"
             ],
             [
              0.5555555555555556,
              "#d8576b"
             ],
             [
              0.6666666666666666,
              "#ed7953"
             ],
             [
              0.7777777777777778,
              "#fb9f3a"
             ],
             [
              0.8888888888888888,
              "#fdca26"
             ],
             [
              1,
              "#f0f921"
             ]
            ],
            "type": "surface"
           }
          ],
          "table": [
           {
            "cells": {
             "fill": {
              "color": "#EBF0F8"
             },
             "line": {
              "color": "white"
             }
            },
            "header": {
             "fill": {
              "color": "#C8D4E3"
             },
             "line": {
              "color": "white"
             }
            },
            "type": "table"
           }
          ]
         },
         "layout": {
          "annotationdefaults": {
           "arrowcolor": "#2a3f5f",
           "arrowhead": 0,
           "arrowwidth": 1
          },
          "autotypenumbers": "strict",
          "coloraxis": {
           "colorbar": {
            "outlinewidth": 0,
            "ticks": ""
           }
          },
          "colorscale": {
           "diverging": [
            [
             0,
             "#8e0152"
            ],
            [
             0.1,
             "#c51b7d"
            ],
            [
             0.2,
             "#de77ae"
            ],
            [
             0.3,
             "#f1b6da"
            ],
            [
             0.4,
             "#fde0ef"
            ],
            [
             0.5,
             "#f7f7f7"
            ],
            [
             0.6,
             "#e6f5d0"
            ],
            [
             0.7,
             "#b8e186"
            ],
            [
             0.8,
             "#7fbc41"
            ],
            [
             0.9,
             "#4d9221"
            ],
            [
             1,
             "#276419"
            ]
           ],
           "sequential": [
            [
             0,
             "#0d0887"
            ],
            [
             0.1111111111111111,
             "#46039f"
            ],
            [
             0.2222222222222222,
             "#7201a8"
            ],
            [
             0.3333333333333333,
             "#9c179e"
            ],
            [
             0.4444444444444444,
             "#bd3786"
            ],
            [
             0.5555555555555556,
             "#d8576b"
            ],
            [
             0.6666666666666666,
             "#ed7953"
            ],
            [
             0.7777777777777778,
             "#fb9f3a"
            ],
            [
             0.8888888888888888,
             "#fdca26"
            ],
            [
             1,
             "#f0f921"
            ]
           ],
           "sequentialminus": [
            [
             0,
             "#0d0887"
            ],
            [
             0.1111111111111111,
             "#46039f"
            ],
            [
             0.2222222222222222,
             "#7201a8"
            ],
            [
             0.3333333333333333,
             "#9c179e"
            ],
            [
             0.4444444444444444,
             "#bd3786"
            ],
            [
             0.5555555555555556,
             "#d8576b"
            ],
            [
             0.6666666666666666,
             "#ed7953"
            ],
            [
             0.7777777777777778,
             "#fb9f3a"
            ],
            [
             0.8888888888888888,
             "#fdca26"
            ],
            [
             1,
             "#f0f921"
            ]
           ]
          },
          "colorway": [
           "#636efa",
           "#EF553B",
           "#00cc96",
           "#ab63fa",
           "#FFA15A",
           "#19d3f3",
           "#FF6692",
           "#B6E880",
           "#FF97FF",
           "#FECB52"
          ],
          "font": {
           "color": "#2a3f5f"
          },
          "geo": {
           "bgcolor": "white",
           "lakecolor": "white",
           "landcolor": "#E5ECF6",
           "showlakes": true,
           "showland": true,
           "subunitcolor": "white"
          },
          "hoverlabel": {
           "align": "left"
          },
          "hovermode": "closest",
          "mapbox": {
           "style": "light"
          },
          "paper_bgcolor": "white",
          "plot_bgcolor": "#E5ECF6",
          "polar": {
           "angularaxis": {
            "gridcolor": "white",
            "linecolor": "white",
            "ticks": ""
           },
           "bgcolor": "#E5ECF6",
           "radialaxis": {
            "gridcolor": "white",
            "linecolor": "white",
            "ticks": ""
           }
          },
          "scene": {
           "xaxis": {
            "backgroundcolor": "#E5ECF6",
            "gridcolor": "white",
            "gridwidth": 2,
            "linecolor": "white",
            "showbackground": true,
            "ticks": "",
            "zerolinecolor": "white"
           },
           "yaxis": {
            "backgroundcolor": "#E5ECF6",
            "gridcolor": "white",
            "gridwidth": 2,
            "linecolor": "white",
            "showbackground": true,
            "ticks": "",
            "zerolinecolor": "white"
           },
           "zaxis": {
            "backgroundcolor": "#E5ECF6",
            "gridcolor": "white",
            "gridwidth": 2,
            "linecolor": "white",
            "showbackground": true,
            "ticks": "",
            "zerolinecolor": "white"
           }
          },
          "shapedefaults": {
           "line": {
            "color": "#2a3f5f"
           }
          },
          "ternary": {
           "aaxis": {
            "gridcolor": "white",
            "linecolor": "white",
            "ticks": ""
           },
           "baxis": {
            "gridcolor": "white",
            "linecolor": "white",
            "ticks": ""
           },
           "bgcolor": "#E5ECF6",
           "caxis": {
            "gridcolor": "white",
            "linecolor": "white",
            "ticks": ""
           }
          },
          "title": {
           "x": 0.05
          },
          "xaxis": {
           "automargin": true,
           "gridcolor": "white",
           "linecolor": "white",
           "ticks": "",
           "title": {
            "standoff": 15
           },
           "zerolinecolor": "white",
           "zerolinewidth": 2
          },
          "yaxis": {
           "automargin": true,
           "gridcolor": "white",
           "linecolor": "white",
           "ticks": "",
           "title": {
            "standoff": 15
           },
           "zerolinecolor": "white",
           "zerolinewidth": 2
          }
         }
        },
        "title": {
         "text": "Books_3_5_Movies_8_10 - Statistics comparison"
        }
       }
      }
     },
     "metadata": {},
     "output_type": "display_data"
    }
   ],
   "source": [
    "plot_statistics_comparison(books_35_movies_510_0s_stats, books_35_movies_510_1s_stats, \"Books_3_5_Movies_5_10\", skip_keys=SKIP_KEYS)\n",
    "plot_statistics_comparison(books_35_movies_810_0s_stats, books_35_movies_810_1s_stats, \"Books_3_5_Movies_8_10\", skip_keys=SKIP_KEYS)"
   ]
  },
  {
   "cell_type": "code",
   "execution_count": 41,
   "metadata": {},
   "outputs": [],
   "source": [
    "# ----------------\n",
    "# Base domain: CDs\n",
    "# ----------------\n",
    "cds_35_books_510_0s_stats = compute_statistics_explanations(cds_35_books_510_0s_preds)\n",
    "cds_35_books_510_1s_stats = compute_statistics_explanations(cds_35_books_510_1s_preds)\n",
    "cds_35_books_810_0s_stats = compute_statistics_explanations(cds_35_books_810_0s_preds)\n",
    "cds_35_books_810_1s_stats = compute_statistics_explanations(cds_35_books_810_1s_preds)\n",
    "\n",
    "cds_35_movies_510_0s_stats = compute_statistics_explanations(cds_35_movies_510_0s_preds)\n",
    "cds_35_movies_510_1s_stats = compute_statistics_explanations(cds_35_movies_510_1s_preds)\n",
    "cds_35_movies_810_0s_stats = compute_statistics_explanations(cds_35_movies_810_0s_preds)\n",
    "cds_35_movies_810_1s_stats = compute_statistics_explanations(cds_35_movies_810_1s_preds)"
   ]
  },
  {
   "cell_type": "code",
   "execution_count": 42,
   "metadata": {},
   "outputs": [
    {
     "data": {
      "text/html": [
       "<div>\n",
       "<style scoped>\n",
       "    .dataframe tbody tr th:only-of-type {\n",
       "        vertical-align: middle;\n",
       "    }\n",
       "\n",
       "    .dataframe tbody tr th {\n",
       "        vertical-align: top;\n",
       "    }\n",
       "\n",
       "    .dataframe thead th {\n",
       "        text-align: right;\n",
       "    }\n",
       "</style>\n",
       "<table border=\"1\" class=\"dataframe\">\n",
       "  <thead>\n",
       "    <tr style=\"text-align: right;\">\n",
       "      <th></th>\n",
       "      <th>Property</th>\n",
       "      <th>Zero-shot</th>\n",
       "      <th>One-shot</th>\n",
       "      <th>Shift</th>\n",
       "    </tr>\n",
       "  </thead>\n",
       "  <tbody>\n",
       "    <tr>\n",
       "      <th>0</th>\n",
       "      <td>Range_max</td>\n",
       "      <td>5</td>\n",
       "      <td>4</td>\n",
       "      <td>-1</td>\n",
       "    </tr>\n",
       "    <tr>\n",
       "      <th>1</th>\n",
       "      <td>Below_mean</td>\n",
       "      <td>916</td>\n",
       "      <td>669</td>\n",
       "      <td>-247</td>\n",
       "    </tr>\n",
       "    <tr>\n",
       "      <th>2</th>\n",
       "      <td>Max</td>\n",
       "      <td>234</td>\n",
       "      <td>222</td>\n",
       "      <td>-12</td>\n",
       "    </tr>\n",
       "    <tr>\n",
       "      <th>3</th>\n",
       "      <td>Min</td>\n",
       "      <td>1</td>\n",
       "      <td>17</td>\n",
       "      <td>16</td>\n",
       "    </tr>\n",
       "    <tr>\n",
       "      <th>4</th>\n",
       "      <td>Mean</td>\n",
       "      <td>47</td>\n",
       "      <td>93</td>\n",
       "      <td>46</td>\n",
       "    </tr>\n",
       "    <tr>\n",
       "      <th>5</th>\n",
       "      <td>Short</td>\n",
       "      <td>23</td>\n",
       "      <td>0</td>\n",
       "      <td>-23</td>\n",
       "    </tr>\n",
       "    <tr>\n",
       "      <th>6</th>\n",
       "      <td>One_word</td>\n",
       "      <td>23</td>\n",
       "      <td>0</td>\n",
       "      <td>-23</td>\n",
       "    </tr>\n",
       "    <tr>\n",
       "      <th>7</th>\n",
       "      <td>Range_10_20</td>\n",
       "      <td>135</td>\n",
       "      <td>7</td>\n",
       "      <td>-128</td>\n",
       "    </tr>\n",
       "    <tr>\n",
       "      <th>8</th>\n",
       "      <td>Above_mean</td>\n",
       "      <td>331</td>\n",
       "      <td>578</td>\n",
       "      <td>247</td>\n",
       "    </tr>\n",
       "  </tbody>\n",
       "</table>\n",
       "</div>"
      ],
      "text/plain": [
       "      Property  Zero-shot  One-shot  Shift\n",
       "0    Range_max          5         4     -1\n",
       "1   Below_mean        916       669   -247\n",
       "2          Max        234       222    -12\n",
       "3          Min          1        17     16\n",
       "4         Mean         47        93     46\n",
       "5        Short         23         0    -23\n",
       "6     One_word         23         0    -23\n",
       "7  Range_10_20        135         7   -128\n",
       "8   Above_mean        331       578    247"
      ]
     },
     "execution_count": 42,
     "metadata": {},
     "output_type": "execute_result"
    }
   ],
   "source": [
    "compare_statistics(cds_35_books_510_0s_stats, cds_35_books_510_1s_stats)"
   ]
  },
  {
   "cell_type": "code",
   "execution_count": 43,
   "metadata": {},
   "outputs": [
    {
     "data": {
      "text/html": [
       "<div>\n",
       "<style scoped>\n",
       "    .dataframe tbody tr th:only-of-type {\n",
       "        vertical-align: middle;\n",
       "    }\n",
       "\n",
       "    .dataframe tbody tr th {\n",
       "        vertical-align: top;\n",
       "    }\n",
       "\n",
       "    .dataframe thead th {\n",
       "        text-align: right;\n",
       "    }\n",
       "</style>\n",
       "<table border=\"1\" class=\"dataframe\">\n",
       "  <thead>\n",
       "    <tr style=\"text-align: right;\">\n",
       "      <th></th>\n",
       "      <th>Property</th>\n",
       "      <th>Zero-shot</th>\n",
       "      <th>One-shot</th>\n",
       "      <th>Shift</th>\n",
       "    </tr>\n",
       "  </thead>\n",
       "  <tbody>\n",
       "    <tr>\n",
       "      <th>0</th>\n",
       "      <td>Range_max</td>\n",
       "      <td>2</td>\n",
       "      <td>6</td>\n",
       "      <td>4</td>\n",
       "    </tr>\n",
       "    <tr>\n",
       "      <th>1</th>\n",
       "      <td>Below_mean</td>\n",
       "      <td>342</td>\n",
       "      <td>236</td>\n",
       "      <td>-106</td>\n",
       "    </tr>\n",
       "    <tr>\n",
       "      <th>2</th>\n",
       "      <td>Max</td>\n",
       "      <td>217</td>\n",
       "      <td>190</td>\n",
       "      <td>-27</td>\n",
       "    </tr>\n",
       "    <tr>\n",
       "      <th>3</th>\n",
       "      <td>Min</td>\n",
       "      <td>1</td>\n",
       "      <td>20</td>\n",
       "      <td>19</td>\n",
       "    </tr>\n",
       "    <tr>\n",
       "      <th>4</th>\n",
       "      <td>Mean</td>\n",
       "      <td>43</td>\n",
       "      <td>89</td>\n",
       "      <td>46</td>\n",
       "    </tr>\n",
       "    <tr>\n",
       "      <th>5</th>\n",
       "      <td>Short</td>\n",
       "      <td>17</td>\n",
       "      <td>0</td>\n",
       "      <td>-17</td>\n",
       "    </tr>\n",
       "    <tr>\n",
       "      <th>6</th>\n",
       "      <td>One_word</td>\n",
       "      <td>17</td>\n",
       "      <td>0</td>\n",
       "      <td>-17</td>\n",
       "    </tr>\n",
       "    <tr>\n",
       "      <th>7</th>\n",
       "      <td>Range_10_20</td>\n",
       "      <td>45</td>\n",
       "      <td>2</td>\n",
       "      <td>-43</td>\n",
       "    </tr>\n",
       "    <tr>\n",
       "      <th>8</th>\n",
       "      <td>Above_mean</td>\n",
       "      <td>117</td>\n",
       "      <td>223</td>\n",
       "      <td>106</td>\n",
       "    </tr>\n",
       "  </tbody>\n",
       "</table>\n",
       "</div>"
      ],
      "text/plain": [
       "      Property  Zero-shot  One-shot  Shift\n",
       "0    Range_max          2         6      4\n",
       "1   Below_mean        342       236   -106\n",
       "2          Max        217       190    -27\n",
       "3          Min          1        20     19\n",
       "4         Mean         43        89     46\n",
       "5        Short         17         0    -17\n",
       "6     One_word         17         0    -17\n",
       "7  Range_10_20         45         2    -43\n",
       "8   Above_mean        117       223    106"
      ]
     },
     "execution_count": 43,
     "metadata": {},
     "output_type": "execute_result"
    }
   ],
   "source": [
    "compare_statistics(cds_35_books_810_0s_stats, cds_35_books_810_1s_stats)"
   ]
  },
  {
   "cell_type": "code",
   "execution_count": 44,
   "metadata": {},
   "outputs": [
    {
     "data": {
      "text/html": [
       "<div>\n",
       "<style scoped>\n",
       "    .dataframe tbody tr th:only-of-type {\n",
       "        vertical-align: middle;\n",
       "    }\n",
       "\n",
       "    .dataframe tbody tr th {\n",
       "        vertical-align: top;\n",
       "    }\n",
       "\n",
       "    .dataframe thead th {\n",
       "        text-align: right;\n",
       "    }\n",
       "</style>\n",
       "<table border=\"1\" class=\"dataframe\">\n",
       "  <thead>\n",
       "    <tr style=\"text-align: right;\">\n",
       "      <th></th>\n",
       "      <th>Property</th>\n",
       "      <th>Zero-shot</th>\n",
       "      <th>One-shot</th>\n",
       "      <th>Shift</th>\n",
       "    </tr>\n",
       "  </thead>\n",
       "  <tbody>\n",
       "    <tr>\n",
       "      <th>0</th>\n",
       "      <td>Range_max</td>\n",
       "      <td>1</td>\n",
       "      <td>1</td>\n",
       "      <td>0</td>\n",
       "    </tr>\n",
       "    <tr>\n",
       "      <th>1</th>\n",
       "      <td>Below_mean</td>\n",
       "      <td>917</td>\n",
       "      <td>490</td>\n",
       "      <td>-427</td>\n",
       "    </tr>\n",
       "    <tr>\n",
       "      <th>2</th>\n",
       "      <td>Max</td>\n",
       "      <td>221</td>\n",
       "      <td>236</td>\n",
       "      <td>15</td>\n",
       "    </tr>\n",
       "    <tr>\n",
       "      <th>3</th>\n",
       "      <td>Min</td>\n",
       "      <td>1</td>\n",
       "      <td>17</td>\n",
       "      <td>16</td>\n",
       "    </tr>\n",
       "    <tr>\n",
       "      <th>4</th>\n",
       "      <td>Mean</td>\n",
       "      <td>41</td>\n",
       "      <td>100</td>\n",
       "      <td>59</td>\n",
       "    </tr>\n",
       "    <tr>\n",
       "      <th>5</th>\n",
       "      <td>Short</td>\n",
       "      <td>37</td>\n",
       "      <td>0</td>\n",
       "      <td>-37</td>\n",
       "    </tr>\n",
       "    <tr>\n",
       "      <th>6</th>\n",
       "      <td>One_word</td>\n",
       "      <td>37</td>\n",
       "      <td>0</td>\n",
       "      <td>-37</td>\n",
       "    </tr>\n",
       "    <tr>\n",
       "      <th>7</th>\n",
       "      <td>Range_10_20</td>\n",
       "      <td>124</td>\n",
       "      <td>5</td>\n",
       "      <td>-119</td>\n",
       "    </tr>\n",
       "    <tr>\n",
       "      <th>8</th>\n",
       "      <td>Above_mean</td>\n",
       "      <td>298</td>\n",
       "      <td>725</td>\n",
       "      <td>427</td>\n",
       "    </tr>\n",
       "  </tbody>\n",
       "</table>\n",
       "</div>"
      ],
      "text/plain": [
       "      Property  Zero-shot  One-shot  Shift\n",
       "0    Range_max          1         1      0\n",
       "1   Below_mean        917       490   -427\n",
       "2          Max        221       236     15\n",
       "3          Min          1        17     16\n",
       "4         Mean         41       100     59\n",
       "5        Short         37         0    -37\n",
       "6     One_word         37         0    -37\n",
       "7  Range_10_20        124         5   -119\n",
       "8   Above_mean        298       725    427"
      ]
     },
     "execution_count": 44,
     "metadata": {},
     "output_type": "execute_result"
    }
   ],
   "source": [
    "compare_statistics(cds_35_movies_510_0s_stats, cds_35_movies_510_1s_stats)"
   ]
  },
  {
   "cell_type": "code",
   "execution_count": 45,
   "metadata": {},
   "outputs": [
    {
     "data": {
      "text/html": [
       "<div>\n",
       "<style scoped>\n",
       "    .dataframe tbody tr th:only-of-type {\n",
       "        vertical-align: middle;\n",
       "    }\n",
       "\n",
       "    .dataframe tbody tr th {\n",
       "        vertical-align: top;\n",
       "    }\n",
       "\n",
       "    .dataframe thead th {\n",
       "        text-align: right;\n",
       "    }\n",
       "</style>\n",
       "<table border=\"1\" class=\"dataframe\">\n",
       "  <thead>\n",
       "    <tr style=\"text-align: right;\">\n",
       "      <th></th>\n",
       "      <th>Property</th>\n",
       "      <th>Zero-shot</th>\n",
       "      <th>One-shot</th>\n",
       "      <th>Shift</th>\n",
       "    </tr>\n",
       "  </thead>\n",
       "  <tbody>\n",
       "    <tr>\n",
       "      <th>0</th>\n",
       "      <td>Range_max</td>\n",
       "      <td>1</td>\n",
       "      <td>3</td>\n",
       "      <td>2</td>\n",
       "    </tr>\n",
       "    <tr>\n",
       "      <th>1</th>\n",
       "      <td>Below_mean</td>\n",
       "      <td>308</td>\n",
       "      <td>169</td>\n",
       "      <td>-139</td>\n",
       "    </tr>\n",
       "    <tr>\n",
       "      <th>2</th>\n",
       "      <td>Max</td>\n",
       "      <td>221</td>\n",
       "      <td>202</td>\n",
       "      <td>-19</td>\n",
       "    </tr>\n",
       "    <tr>\n",
       "      <th>3</th>\n",
       "      <td>Min</td>\n",
       "      <td>1</td>\n",
       "      <td>20</td>\n",
       "      <td>19</td>\n",
       "    </tr>\n",
       "    <tr>\n",
       "      <th>4</th>\n",
       "      <td>Mean</td>\n",
       "      <td>37</td>\n",
       "      <td>95</td>\n",
       "      <td>58</td>\n",
       "    </tr>\n",
       "    <tr>\n",
       "      <th>5</th>\n",
       "      <td>Short</td>\n",
       "      <td>32</td>\n",
       "      <td>0</td>\n",
       "      <td>-32</td>\n",
       "    </tr>\n",
       "    <tr>\n",
       "      <th>6</th>\n",
       "      <td>One_word</td>\n",
       "      <td>32</td>\n",
       "      <td>0</td>\n",
       "      <td>-32</td>\n",
       "    </tr>\n",
       "    <tr>\n",
       "      <th>7</th>\n",
       "      <td>Range_10_20</td>\n",
       "      <td>39</td>\n",
       "      <td>1</td>\n",
       "      <td>-38</td>\n",
       "    </tr>\n",
       "    <tr>\n",
       "      <th>8</th>\n",
       "      <td>Above_mean</td>\n",
       "      <td>105</td>\n",
       "      <td>244</td>\n",
       "      <td>139</td>\n",
       "    </tr>\n",
       "  </tbody>\n",
       "</table>\n",
       "</div>"
      ],
      "text/plain": [
       "      Property  Zero-shot  One-shot  Shift\n",
       "0    Range_max          1         3      2\n",
       "1   Below_mean        308       169   -139\n",
       "2          Max        221       202    -19\n",
       "3          Min          1        20     19\n",
       "4         Mean         37        95     58\n",
       "5        Short         32         0    -32\n",
       "6     One_word         32         0    -32\n",
       "7  Range_10_20         39         1    -38\n",
       "8   Above_mean        105       244    139"
      ]
     },
     "execution_count": 45,
     "metadata": {},
     "output_type": "execute_result"
    }
   ],
   "source": [
    "compare_statistics(cds_35_movies_810_0s_stats, cds_35_movies_810_1s_stats)"
   ]
  },
  {
   "cell_type": "code",
   "execution_count": 46,
   "metadata": {},
   "outputs": [
    {
     "data": {
      "application/vnd.plotly.v1+json": {
       "config": {
        "plotlyServerURL": "https://plot.ly"
       },
       "data": [
        {
         "marker": {
          "color": "#28A08C"
         },
         "name": "Zero-Shot",
         "type": "bar",
         "x": [
          "One_word",
          "Short",
          "Below_mean",
          "Range_10_20",
          "Above_mean",
          "Range_max"
         ],
         "y": [
          23,
          23,
          916,
          135,
          331,
          5
         ]
        },
        {
         "marker": {
          "color": "#01DB8C"
         },
         "name": "One-Shot",
         "type": "bar",
         "x": [
          "One_word",
          "Short",
          "Below_mean",
          "Range_10_20",
          "Above_mean",
          "Range_max"
         ],
         "y": [
          0,
          0,
          669,
          7,
          578,
          4
         ]
        }
       ],
       "layout": {
        "template": {
         "data": {
          "bar": [
           {
            "error_x": {
             "color": "#2a3f5f"
            },
            "error_y": {
             "color": "#2a3f5f"
            },
            "marker": {
             "line": {
              "color": "#E5ECF6",
              "width": 0.5
             },
             "pattern": {
              "fillmode": "overlay",
              "size": 10,
              "solidity": 0.2
             }
            },
            "type": "bar"
           }
          ],
          "barpolar": [
           {
            "marker": {
             "line": {
              "color": "#E5ECF6",
              "width": 0.5
             },
             "pattern": {
              "fillmode": "overlay",
              "size": 10,
              "solidity": 0.2
             }
            },
            "type": "barpolar"
           }
          ],
          "carpet": [
           {
            "aaxis": {
             "endlinecolor": "#2a3f5f",
             "gridcolor": "white",
             "linecolor": "white",
             "minorgridcolor": "white",
             "startlinecolor": "#2a3f5f"
            },
            "baxis": {
             "endlinecolor": "#2a3f5f",
             "gridcolor": "white",
             "linecolor": "white",
             "minorgridcolor": "white",
             "startlinecolor": "#2a3f5f"
            },
            "type": "carpet"
           }
          ],
          "choropleth": [
           {
            "colorbar": {
             "outlinewidth": 0,
             "ticks": ""
            },
            "type": "choropleth"
           }
          ],
          "contour": [
           {
            "colorbar": {
             "outlinewidth": 0,
             "ticks": ""
            },
            "colorscale": [
             [
              0,
              "#0d0887"
             ],
             [
              0.1111111111111111,
              "#46039f"
             ],
             [
              0.2222222222222222,
              "#7201a8"
             ],
             [
              0.3333333333333333,
              "#9c179e"
             ],
             [
              0.4444444444444444,
              "#bd3786"
             ],
             [
              0.5555555555555556,
              "#d8576b"
             ],
             [
              0.6666666666666666,
              "#ed7953"
             ],
             [
              0.7777777777777778,
              "#fb9f3a"
             ],
             [
              0.8888888888888888,
              "#fdca26"
             ],
             [
              1,
              "#f0f921"
             ]
            ],
            "type": "contour"
           }
          ],
          "contourcarpet": [
           {
            "colorbar": {
             "outlinewidth": 0,
             "ticks": ""
            },
            "type": "contourcarpet"
           }
          ],
          "heatmap": [
           {
            "colorbar": {
             "outlinewidth": 0,
             "ticks": ""
            },
            "colorscale": [
             [
              0,
              "#0d0887"
             ],
             [
              0.1111111111111111,
              "#46039f"
             ],
             [
              0.2222222222222222,
              "#7201a8"
             ],
             [
              0.3333333333333333,
              "#9c179e"
             ],
             [
              0.4444444444444444,
              "#bd3786"
             ],
             [
              0.5555555555555556,
              "#d8576b"
             ],
             [
              0.6666666666666666,
              "#ed7953"
             ],
             [
              0.7777777777777778,
              "#fb9f3a"
             ],
             [
              0.8888888888888888,
              "#fdca26"
             ],
             [
              1,
              "#f0f921"
             ]
            ],
            "type": "heatmap"
           }
          ],
          "heatmapgl": [
           {
            "colorbar": {
             "outlinewidth": 0,
             "ticks": ""
            },
            "colorscale": [
             [
              0,
              "#0d0887"
             ],
             [
              0.1111111111111111,
              "#46039f"
             ],
             [
              0.2222222222222222,
              "#7201a8"
             ],
             [
              0.3333333333333333,
              "#9c179e"
             ],
             [
              0.4444444444444444,
              "#bd3786"
             ],
             [
              0.5555555555555556,
              "#d8576b"
             ],
             [
              0.6666666666666666,
              "#ed7953"
             ],
             [
              0.7777777777777778,
              "#fb9f3a"
             ],
             [
              0.8888888888888888,
              "#fdca26"
             ],
             [
              1,
              "#f0f921"
             ]
            ],
            "type": "heatmapgl"
           }
          ],
          "histogram": [
           {
            "marker": {
             "pattern": {
              "fillmode": "overlay",
              "size": 10,
              "solidity": 0.2
             }
            },
            "type": "histogram"
           }
          ],
          "histogram2d": [
           {
            "colorbar": {
             "outlinewidth": 0,
             "ticks": ""
            },
            "colorscale": [
             [
              0,
              "#0d0887"
             ],
             [
              0.1111111111111111,
              "#46039f"
             ],
             [
              0.2222222222222222,
              "#7201a8"
             ],
             [
              0.3333333333333333,
              "#9c179e"
             ],
             [
              0.4444444444444444,
              "#bd3786"
             ],
             [
              0.5555555555555556,
              "#d8576b"
             ],
             [
              0.6666666666666666,
              "#ed7953"
             ],
             [
              0.7777777777777778,
              "#fb9f3a"
             ],
             [
              0.8888888888888888,
              "#fdca26"
             ],
             [
              1,
              "#f0f921"
             ]
            ],
            "type": "histogram2d"
           }
          ],
          "histogram2dcontour": [
           {
            "colorbar": {
             "outlinewidth": 0,
             "ticks": ""
            },
            "colorscale": [
             [
              0,
              "#0d0887"
             ],
             [
              0.1111111111111111,
              "#46039f"
             ],
             [
              0.2222222222222222,
              "#7201a8"
             ],
             [
              0.3333333333333333,
              "#9c179e"
             ],
             [
              0.4444444444444444,
              "#bd3786"
             ],
             [
              0.5555555555555556,
              "#d8576b"
             ],
             [
              0.6666666666666666,
              "#ed7953"
             ],
             [
              0.7777777777777778,
              "#fb9f3a"
             ],
             [
              0.8888888888888888,
              "#fdca26"
             ],
             [
              1,
              "#f0f921"
             ]
            ],
            "type": "histogram2dcontour"
           }
          ],
          "mesh3d": [
           {
            "colorbar": {
             "outlinewidth": 0,
             "ticks": ""
            },
            "type": "mesh3d"
           }
          ],
          "parcoords": [
           {
            "line": {
             "colorbar": {
              "outlinewidth": 0,
              "ticks": ""
             }
            },
            "type": "parcoords"
           }
          ],
          "pie": [
           {
            "automargin": true,
            "type": "pie"
           }
          ],
          "scatter": [
           {
            "fillpattern": {
             "fillmode": "overlay",
             "size": 10,
             "solidity": 0.2
            },
            "type": "scatter"
           }
          ],
          "scatter3d": [
           {
            "line": {
             "colorbar": {
              "outlinewidth": 0,
              "ticks": ""
             }
            },
            "marker": {
             "colorbar": {
              "outlinewidth": 0,
              "ticks": ""
             }
            },
            "type": "scatter3d"
           }
          ],
          "scattercarpet": [
           {
            "marker": {
             "colorbar": {
              "outlinewidth": 0,
              "ticks": ""
             }
            },
            "type": "scattercarpet"
           }
          ],
          "scattergeo": [
           {
            "marker": {
             "colorbar": {
              "outlinewidth": 0,
              "ticks": ""
             }
            },
            "type": "scattergeo"
           }
          ],
          "scattergl": [
           {
            "marker": {
             "colorbar": {
              "outlinewidth": 0,
              "ticks": ""
             }
            },
            "type": "scattergl"
           }
          ],
          "scattermapbox": [
           {
            "marker": {
             "colorbar": {
              "outlinewidth": 0,
              "ticks": ""
             }
            },
            "type": "scattermapbox"
           }
          ],
          "scatterpolar": [
           {
            "marker": {
             "colorbar": {
              "outlinewidth": 0,
              "ticks": ""
             }
            },
            "type": "scatterpolar"
           }
          ],
          "scatterpolargl": [
           {
            "marker": {
             "colorbar": {
              "outlinewidth": 0,
              "ticks": ""
             }
            },
            "type": "scatterpolargl"
           }
          ],
          "scatterternary": [
           {
            "marker": {
             "colorbar": {
              "outlinewidth": 0,
              "ticks": ""
             }
            },
            "type": "scatterternary"
           }
          ],
          "surface": [
           {
            "colorbar": {
             "outlinewidth": 0,
             "ticks": ""
            },
            "colorscale": [
             [
              0,
              "#0d0887"
             ],
             [
              0.1111111111111111,
              "#46039f"
             ],
             [
              0.2222222222222222,
              "#7201a8"
             ],
             [
              0.3333333333333333,
              "#9c179e"
             ],
             [
              0.4444444444444444,
              "#bd3786"
             ],
             [
              0.5555555555555556,
              "#d8576b"
             ],
             [
              0.6666666666666666,
              "#ed7953"
             ],
             [
              0.7777777777777778,
              "#fb9f3a"
             ],
             [
              0.8888888888888888,
              "#fdca26"
             ],
             [
              1,
              "#f0f921"
             ]
            ],
            "type": "surface"
           }
          ],
          "table": [
           {
            "cells": {
             "fill": {
              "color": "#EBF0F8"
             },
             "line": {
              "color": "white"
             }
            },
            "header": {
             "fill": {
              "color": "#C8D4E3"
             },
             "line": {
              "color": "white"
             }
            },
            "type": "table"
           }
          ]
         },
         "layout": {
          "annotationdefaults": {
           "arrowcolor": "#2a3f5f",
           "arrowhead": 0,
           "arrowwidth": 1
          },
          "autotypenumbers": "strict",
          "coloraxis": {
           "colorbar": {
            "outlinewidth": 0,
            "ticks": ""
           }
          },
          "colorscale": {
           "diverging": [
            [
             0,
             "#8e0152"
            ],
            [
             0.1,
             "#c51b7d"
            ],
            [
             0.2,
             "#de77ae"
            ],
            [
             0.3,
             "#f1b6da"
            ],
            [
             0.4,
             "#fde0ef"
            ],
            [
             0.5,
             "#f7f7f7"
            ],
            [
             0.6,
             "#e6f5d0"
            ],
            [
             0.7,
             "#b8e186"
            ],
            [
             0.8,
             "#7fbc41"
            ],
            [
             0.9,
             "#4d9221"
            ],
            [
             1,
             "#276419"
            ]
           ],
           "sequential": [
            [
             0,
             "#0d0887"
            ],
            [
             0.1111111111111111,
             "#46039f"
            ],
            [
             0.2222222222222222,
             "#7201a8"
            ],
            [
             0.3333333333333333,
             "#9c179e"
            ],
            [
             0.4444444444444444,
             "#bd3786"
            ],
            [
             0.5555555555555556,
             "#d8576b"
            ],
            [
             0.6666666666666666,
             "#ed7953"
            ],
            [
             0.7777777777777778,
             "#fb9f3a"
            ],
            [
             0.8888888888888888,
             "#fdca26"
            ],
            [
             1,
             "#f0f921"
            ]
           ],
           "sequentialminus": [
            [
             0,
             "#0d0887"
            ],
            [
             0.1111111111111111,
             "#46039f"
            ],
            [
             0.2222222222222222,
             "#7201a8"
            ],
            [
             0.3333333333333333,
             "#9c179e"
            ],
            [
             0.4444444444444444,
             "#bd3786"
            ],
            [
             0.5555555555555556,
             "#d8576b"
            ],
            [
             0.6666666666666666,
             "#ed7953"
            ],
            [
             0.7777777777777778,
             "#fb9f3a"
            ],
            [
             0.8888888888888888,
             "#fdca26"
            ],
            [
             1,
             "#f0f921"
            ]
           ]
          },
          "colorway": [
           "#636efa",
           "#EF553B",
           "#00cc96",
           "#ab63fa",
           "#FFA15A",
           "#19d3f3",
           "#FF6692",
           "#B6E880",
           "#FF97FF",
           "#FECB52"
          ],
          "font": {
           "color": "#2a3f5f"
          },
          "geo": {
           "bgcolor": "white",
           "lakecolor": "white",
           "landcolor": "#E5ECF6",
           "showlakes": true,
           "showland": true,
           "subunitcolor": "white"
          },
          "hoverlabel": {
           "align": "left"
          },
          "hovermode": "closest",
          "mapbox": {
           "style": "light"
          },
          "paper_bgcolor": "white",
          "plot_bgcolor": "#E5ECF6",
          "polar": {
           "angularaxis": {
            "gridcolor": "white",
            "linecolor": "white",
            "ticks": ""
           },
           "bgcolor": "#E5ECF6",
           "radialaxis": {
            "gridcolor": "white",
            "linecolor": "white",
            "ticks": ""
           }
          },
          "scene": {
           "xaxis": {
            "backgroundcolor": "#E5ECF6",
            "gridcolor": "white",
            "gridwidth": 2,
            "linecolor": "white",
            "showbackground": true,
            "ticks": "",
            "zerolinecolor": "white"
           },
           "yaxis": {
            "backgroundcolor": "#E5ECF6",
            "gridcolor": "white",
            "gridwidth": 2,
            "linecolor": "white",
            "showbackground": true,
            "ticks": "",
            "zerolinecolor": "white"
           },
           "zaxis": {
            "backgroundcolor": "#E5ECF6",
            "gridcolor": "white",
            "gridwidth": 2,
            "linecolor": "white",
            "showbackground": true,
            "ticks": "",
            "zerolinecolor": "white"
           }
          },
          "shapedefaults": {
           "line": {
            "color": "#2a3f5f"
           }
          },
          "ternary": {
           "aaxis": {
            "gridcolor": "white",
            "linecolor": "white",
            "ticks": ""
           },
           "baxis": {
            "gridcolor": "white",
            "linecolor": "white",
            "ticks": ""
           },
           "bgcolor": "#E5ECF6",
           "caxis": {
            "gridcolor": "white",
            "linecolor": "white",
            "ticks": ""
           }
          },
          "title": {
           "x": 0.05
          },
          "xaxis": {
           "automargin": true,
           "gridcolor": "white",
           "linecolor": "white",
           "ticks": "",
           "title": {
            "standoff": 15
           },
           "zerolinecolor": "white",
           "zerolinewidth": 2
          },
          "yaxis": {
           "automargin": true,
           "gridcolor": "white",
           "linecolor": "white",
           "ticks": "",
           "title": {
            "standoff": 15
           },
           "zerolinecolor": "white",
           "zerolinewidth": 2
          }
         }
        },
        "title": {
         "text": "CDs_3_5_Books_5_10 - Statistics comparison"
        }
       }
      }
     },
     "metadata": {},
     "output_type": "display_data"
    },
    {
     "data": {
      "application/vnd.plotly.v1+json": {
       "config": {
        "plotlyServerURL": "https://plot.ly"
       },
       "data": [
        {
         "marker": {
          "color": "#28A08C"
         },
         "name": "Zero-Shot",
         "type": "bar",
         "x": [
          "One_word",
          "Short",
          "Below_mean",
          "Range_10_20",
          "Above_mean",
          "Range_max"
         ],
         "y": [
          17,
          17,
          342,
          45,
          117,
          2
         ]
        },
        {
         "marker": {
          "color": "#01DB8C"
         },
         "name": "One-Shot",
         "type": "bar",
         "x": [
          "One_word",
          "Short",
          "Below_mean",
          "Range_10_20",
          "Above_mean",
          "Range_max"
         ],
         "y": [
          0,
          0,
          236,
          2,
          223,
          6
         ]
        }
       ],
       "layout": {
        "template": {
         "data": {
          "bar": [
           {
            "error_x": {
             "color": "#2a3f5f"
            },
            "error_y": {
             "color": "#2a3f5f"
            },
            "marker": {
             "line": {
              "color": "#E5ECF6",
              "width": 0.5
             },
             "pattern": {
              "fillmode": "overlay",
              "size": 10,
              "solidity": 0.2
             }
            },
            "type": "bar"
           }
          ],
          "barpolar": [
           {
            "marker": {
             "line": {
              "color": "#E5ECF6",
              "width": 0.5
             },
             "pattern": {
              "fillmode": "overlay",
              "size": 10,
              "solidity": 0.2
             }
            },
            "type": "barpolar"
           }
          ],
          "carpet": [
           {
            "aaxis": {
             "endlinecolor": "#2a3f5f",
             "gridcolor": "white",
             "linecolor": "white",
             "minorgridcolor": "white",
             "startlinecolor": "#2a3f5f"
            },
            "baxis": {
             "endlinecolor": "#2a3f5f",
             "gridcolor": "white",
             "linecolor": "white",
             "minorgridcolor": "white",
             "startlinecolor": "#2a3f5f"
            },
            "type": "carpet"
           }
          ],
          "choropleth": [
           {
            "colorbar": {
             "outlinewidth": 0,
             "ticks": ""
            },
            "type": "choropleth"
           }
          ],
          "contour": [
           {
            "colorbar": {
             "outlinewidth": 0,
             "ticks": ""
            },
            "colorscale": [
             [
              0,
              "#0d0887"
             ],
             [
              0.1111111111111111,
              "#46039f"
             ],
             [
              0.2222222222222222,
              "#7201a8"
             ],
             [
              0.3333333333333333,
              "#9c179e"
             ],
             [
              0.4444444444444444,
              "#bd3786"
             ],
             [
              0.5555555555555556,
              "#d8576b"
             ],
             [
              0.6666666666666666,
              "#ed7953"
             ],
             [
              0.7777777777777778,
              "#fb9f3a"
             ],
             [
              0.8888888888888888,
              "#fdca26"
             ],
             [
              1,
              "#f0f921"
             ]
            ],
            "type": "contour"
           }
          ],
          "contourcarpet": [
           {
            "colorbar": {
             "outlinewidth": 0,
             "ticks": ""
            },
            "type": "contourcarpet"
           }
          ],
          "heatmap": [
           {
            "colorbar": {
             "outlinewidth": 0,
             "ticks": ""
            },
            "colorscale": [
             [
              0,
              "#0d0887"
             ],
             [
              0.1111111111111111,
              "#46039f"
             ],
             [
              0.2222222222222222,
              "#7201a8"
             ],
             [
              0.3333333333333333,
              "#9c179e"
             ],
             [
              0.4444444444444444,
              "#bd3786"
             ],
             [
              0.5555555555555556,
              "#d8576b"
             ],
             [
              0.6666666666666666,
              "#ed7953"
             ],
             [
              0.7777777777777778,
              "#fb9f3a"
             ],
             [
              0.8888888888888888,
              "#fdca26"
             ],
             [
              1,
              "#f0f921"
             ]
            ],
            "type": "heatmap"
           }
          ],
          "heatmapgl": [
           {
            "colorbar": {
             "outlinewidth": 0,
             "ticks": ""
            },
            "colorscale": [
             [
              0,
              "#0d0887"
             ],
             [
              0.1111111111111111,
              "#46039f"
             ],
             [
              0.2222222222222222,
              "#7201a8"
             ],
             [
              0.3333333333333333,
              "#9c179e"
             ],
             [
              0.4444444444444444,
              "#bd3786"
             ],
             [
              0.5555555555555556,
              "#d8576b"
             ],
             [
              0.6666666666666666,
              "#ed7953"
             ],
             [
              0.7777777777777778,
              "#fb9f3a"
             ],
             [
              0.8888888888888888,
              "#fdca26"
             ],
             [
              1,
              "#f0f921"
             ]
            ],
            "type": "heatmapgl"
           }
          ],
          "histogram": [
           {
            "marker": {
             "pattern": {
              "fillmode": "overlay",
              "size": 10,
              "solidity": 0.2
             }
            },
            "type": "histogram"
           }
          ],
          "histogram2d": [
           {
            "colorbar": {
             "outlinewidth": 0,
             "ticks": ""
            },
            "colorscale": [
             [
              0,
              "#0d0887"
             ],
             [
              0.1111111111111111,
              "#46039f"
             ],
             [
              0.2222222222222222,
              "#7201a8"
             ],
             [
              0.3333333333333333,
              "#9c179e"
             ],
             [
              0.4444444444444444,
              "#bd3786"
             ],
             [
              0.5555555555555556,
              "#d8576b"
             ],
             [
              0.6666666666666666,
              "#ed7953"
             ],
             [
              0.7777777777777778,
              "#fb9f3a"
             ],
             [
              0.8888888888888888,
              "#fdca26"
             ],
             [
              1,
              "#f0f921"
             ]
            ],
            "type": "histogram2d"
           }
          ],
          "histogram2dcontour": [
           {
            "colorbar": {
             "outlinewidth": 0,
             "ticks": ""
            },
            "colorscale": [
             [
              0,
              "#0d0887"
             ],
             [
              0.1111111111111111,
              "#46039f"
             ],
             [
              0.2222222222222222,
              "#7201a8"
             ],
             [
              0.3333333333333333,
              "#9c179e"
             ],
             [
              0.4444444444444444,
              "#bd3786"
             ],
             [
              0.5555555555555556,
              "#d8576b"
             ],
             [
              0.6666666666666666,
              "#ed7953"
             ],
             [
              0.7777777777777778,
              "#fb9f3a"
             ],
             [
              0.8888888888888888,
              "#fdca26"
             ],
             [
              1,
              "#f0f921"
             ]
            ],
            "type": "histogram2dcontour"
           }
          ],
          "mesh3d": [
           {
            "colorbar": {
             "outlinewidth": 0,
             "ticks": ""
            },
            "type": "mesh3d"
           }
          ],
          "parcoords": [
           {
            "line": {
             "colorbar": {
              "outlinewidth": 0,
              "ticks": ""
             }
            },
            "type": "parcoords"
           }
          ],
          "pie": [
           {
            "automargin": true,
            "type": "pie"
           }
          ],
          "scatter": [
           {
            "fillpattern": {
             "fillmode": "overlay",
             "size": 10,
             "solidity": 0.2
            },
            "type": "scatter"
           }
          ],
          "scatter3d": [
           {
            "line": {
             "colorbar": {
              "outlinewidth": 0,
              "ticks": ""
             }
            },
            "marker": {
             "colorbar": {
              "outlinewidth": 0,
              "ticks": ""
             }
            },
            "type": "scatter3d"
           }
          ],
          "scattercarpet": [
           {
            "marker": {
             "colorbar": {
              "outlinewidth": 0,
              "ticks": ""
             }
            },
            "type": "scattercarpet"
           }
          ],
          "scattergeo": [
           {
            "marker": {
             "colorbar": {
              "outlinewidth": 0,
              "ticks": ""
             }
            },
            "type": "scattergeo"
           }
          ],
          "scattergl": [
           {
            "marker": {
             "colorbar": {
              "outlinewidth": 0,
              "ticks": ""
             }
            },
            "type": "scattergl"
           }
          ],
          "scattermapbox": [
           {
            "marker": {
             "colorbar": {
              "outlinewidth": 0,
              "ticks": ""
             }
            },
            "type": "scattermapbox"
           }
          ],
          "scatterpolar": [
           {
            "marker": {
             "colorbar": {
              "outlinewidth": 0,
              "ticks": ""
             }
            },
            "type": "scatterpolar"
           }
          ],
          "scatterpolargl": [
           {
            "marker": {
             "colorbar": {
              "outlinewidth": 0,
              "ticks": ""
             }
            },
            "type": "scatterpolargl"
           }
          ],
          "scatterternary": [
           {
            "marker": {
             "colorbar": {
              "outlinewidth": 0,
              "ticks": ""
             }
            },
            "type": "scatterternary"
           }
          ],
          "surface": [
           {
            "colorbar": {
             "outlinewidth": 0,
             "ticks": ""
            },
            "colorscale": [
             [
              0,
              "#0d0887"
             ],
             [
              0.1111111111111111,
              "#46039f"
             ],
             [
              0.2222222222222222,
              "#7201a8"
             ],
             [
              0.3333333333333333,
              "#9c179e"
             ],
             [
              0.4444444444444444,
              "#bd3786"
             ],
             [
              0.5555555555555556,
              "#d8576b"
             ],
             [
              0.6666666666666666,
              "#ed7953"
             ],
             [
              0.7777777777777778,
              "#fb9f3a"
             ],
             [
              0.8888888888888888,
              "#fdca26"
             ],
             [
              1,
              "#f0f921"
             ]
            ],
            "type": "surface"
           }
          ],
          "table": [
           {
            "cells": {
             "fill": {
              "color": "#EBF0F8"
             },
             "line": {
              "color": "white"
             }
            },
            "header": {
             "fill": {
              "color": "#C8D4E3"
             },
             "line": {
              "color": "white"
             }
            },
            "type": "table"
           }
          ]
         },
         "layout": {
          "annotationdefaults": {
           "arrowcolor": "#2a3f5f",
           "arrowhead": 0,
           "arrowwidth": 1
          },
          "autotypenumbers": "strict",
          "coloraxis": {
           "colorbar": {
            "outlinewidth": 0,
            "ticks": ""
           }
          },
          "colorscale": {
           "diverging": [
            [
             0,
             "#8e0152"
            ],
            [
             0.1,
             "#c51b7d"
            ],
            [
             0.2,
             "#de77ae"
            ],
            [
             0.3,
             "#f1b6da"
            ],
            [
             0.4,
             "#fde0ef"
            ],
            [
             0.5,
             "#f7f7f7"
            ],
            [
             0.6,
             "#e6f5d0"
            ],
            [
             0.7,
             "#b8e186"
            ],
            [
             0.8,
             "#7fbc41"
            ],
            [
             0.9,
             "#4d9221"
            ],
            [
             1,
             "#276419"
            ]
           ],
           "sequential": [
            [
             0,
             "#0d0887"
            ],
            [
             0.1111111111111111,
             "#46039f"
            ],
            [
             0.2222222222222222,
             "#7201a8"
            ],
            [
             0.3333333333333333,
             "#9c179e"
            ],
            [
             0.4444444444444444,
             "#bd3786"
            ],
            [
             0.5555555555555556,
             "#d8576b"
            ],
            [
             0.6666666666666666,
             "#ed7953"
            ],
            [
             0.7777777777777778,
             "#fb9f3a"
            ],
            [
             0.8888888888888888,
             "#fdca26"
            ],
            [
             1,
             "#f0f921"
            ]
           ],
           "sequentialminus": [
            [
             0,
             "#0d0887"
            ],
            [
             0.1111111111111111,
             "#46039f"
            ],
            [
             0.2222222222222222,
             "#7201a8"
            ],
            [
             0.3333333333333333,
             "#9c179e"
            ],
            [
             0.4444444444444444,
             "#bd3786"
            ],
            [
             0.5555555555555556,
             "#d8576b"
            ],
            [
             0.6666666666666666,
             "#ed7953"
            ],
            [
             0.7777777777777778,
             "#fb9f3a"
            ],
            [
             0.8888888888888888,
             "#fdca26"
            ],
            [
             1,
             "#f0f921"
            ]
           ]
          },
          "colorway": [
           "#636efa",
           "#EF553B",
           "#00cc96",
           "#ab63fa",
           "#FFA15A",
           "#19d3f3",
           "#FF6692",
           "#B6E880",
           "#FF97FF",
           "#FECB52"
          ],
          "font": {
           "color": "#2a3f5f"
          },
          "geo": {
           "bgcolor": "white",
           "lakecolor": "white",
           "landcolor": "#E5ECF6",
           "showlakes": true,
           "showland": true,
           "subunitcolor": "white"
          },
          "hoverlabel": {
           "align": "left"
          },
          "hovermode": "closest",
          "mapbox": {
           "style": "light"
          },
          "paper_bgcolor": "white",
          "plot_bgcolor": "#E5ECF6",
          "polar": {
           "angularaxis": {
            "gridcolor": "white",
            "linecolor": "white",
            "ticks": ""
           },
           "bgcolor": "#E5ECF6",
           "radialaxis": {
            "gridcolor": "white",
            "linecolor": "white",
            "ticks": ""
           }
          },
          "scene": {
           "xaxis": {
            "backgroundcolor": "#E5ECF6",
            "gridcolor": "white",
            "gridwidth": 2,
            "linecolor": "white",
            "showbackground": true,
            "ticks": "",
            "zerolinecolor": "white"
           },
           "yaxis": {
            "backgroundcolor": "#E5ECF6",
            "gridcolor": "white",
            "gridwidth": 2,
            "linecolor": "white",
            "showbackground": true,
            "ticks": "",
            "zerolinecolor": "white"
           },
           "zaxis": {
            "backgroundcolor": "#E5ECF6",
            "gridcolor": "white",
            "gridwidth": 2,
            "linecolor": "white",
            "showbackground": true,
            "ticks": "",
            "zerolinecolor": "white"
           }
          },
          "shapedefaults": {
           "line": {
            "color": "#2a3f5f"
           }
          },
          "ternary": {
           "aaxis": {
            "gridcolor": "white",
            "linecolor": "white",
            "ticks": ""
           },
           "baxis": {
            "gridcolor": "white",
            "linecolor": "white",
            "ticks": ""
           },
           "bgcolor": "#E5ECF6",
           "caxis": {
            "gridcolor": "white",
            "linecolor": "white",
            "ticks": ""
           }
          },
          "title": {
           "x": 0.05
          },
          "xaxis": {
           "automargin": true,
           "gridcolor": "white",
           "linecolor": "white",
           "ticks": "",
           "title": {
            "standoff": 15
           },
           "zerolinecolor": "white",
           "zerolinewidth": 2
          },
          "yaxis": {
           "automargin": true,
           "gridcolor": "white",
           "linecolor": "white",
           "ticks": "",
           "title": {
            "standoff": 15
           },
           "zerolinecolor": "white",
           "zerolinewidth": 2
          }
         }
        },
        "title": {
         "text": "CDs_3_5_Books_8_10 - Statistics comparison"
        }
       }
      }
     },
     "metadata": {},
     "output_type": "display_data"
    }
   ],
   "source": [
    "plot_statistics_comparison(cds_35_books_510_0s_stats, cds_35_books_510_1s_stats, \"CDs_3_5_Books_5_10\", skip_keys=SKIP_KEYS)\n",
    "plot_statistics_comparison(cds_35_books_810_0s_stats, cds_35_books_810_1s_stats, \"CDs_3_5_Books_8_10\", skip_keys=SKIP_KEYS)"
   ]
  },
  {
   "cell_type": "code",
   "execution_count": 47,
   "metadata": {},
   "outputs": [
    {
     "data": {
      "application/vnd.plotly.v1+json": {
       "config": {
        "plotlyServerURL": "https://plot.ly"
       },
       "data": [
        {
         "marker": {
          "color": "#28A08C"
         },
         "name": "Zero-Shot",
         "type": "bar",
         "x": [
          "One_word",
          "Short",
          "Below_mean",
          "Range_10_20",
          "Above_mean",
          "Range_max"
         ],
         "y": [
          37,
          37,
          917,
          124,
          298,
          1
         ]
        },
        {
         "marker": {
          "color": "#01DB8C"
         },
         "name": "One-Shot",
         "type": "bar",
         "x": [
          "One_word",
          "Short",
          "Below_mean",
          "Range_10_20",
          "Above_mean",
          "Range_max"
         ],
         "y": [
          0,
          0,
          490,
          5,
          725,
          1
         ]
        }
       ],
       "layout": {
        "template": {
         "data": {
          "bar": [
           {
            "error_x": {
             "color": "#2a3f5f"
            },
            "error_y": {
             "color": "#2a3f5f"
            },
            "marker": {
             "line": {
              "color": "#E5ECF6",
              "width": 0.5
             },
             "pattern": {
              "fillmode": "overlay",
              "size": 10,
              "solidity": 0.2
             }
            },
            "type": "bar"
           }
          ],
          "barpolar": [
           {
            "marker": {
             "line": {
              "color": "#E5ECF6",
              "width": 0.5
             },
             "pattern": {
              "fillmode": "overlay",
              "size": 10,
              "solidity": 0.2
             }
            },
            "type": "barpolar"
           }
          ],
          "carpet": [
           {
            "aaxis": {
             "endlinecolor": "#2a3f5f",
             "gridcolor": "white",
             "linecolor": "white",
             "minorgridcolor": "white",
             "startlinecolor": "#2a3f5f"
            },
            "baxis": {
             "endlinecolor": "#2a3f5f",
             "gridcolor": "white",
             "linecolor": "white",
             "minorgridcolor": "white",
             "startlinecolor": "#2a3f5f"
            },
            "type": "carpet"
           }
          ],
          "choropleth": [
           {
            "colorbar": {
             "outlinewidth": 0,
             "ticks": ""
            },
            "type": "choropleth"
           }
          ],
          "contour": [
           {
            "colorbar": {
             "outlinewidth": 0,
             "ticks": ""
            },
            "colorscale": [
             [
              0,
              "#0d0887"
             ],
             [
              0.1111111111111111,
              "#46039f"
             ],
             [
              0.2222222222222222,
              "#7201a8"
             ],
             [
              0.3333333333333333,
              "#9c179e"
             ],
             [
              0.4444444444444444,
              "#bd3786"
             ],
             [
              0.5555555555555556,
              "#d8576b"
             ],
             [
              0.6666666666666666,
              "#ed7953"
             ],
             [
              0.7777777777777778,
              "#fb9f3a"
             ],
             [
              0.8888888888888888,
              "#fdca26"
             ],
             [
              1,
              "#f0f921"
             ]
            ],
            "type": "contour"
           }
          ],
          "contourcarpet": [
           {
            "colorbar": {
             "outlinewidth": 0,
             "ticks": ""
            },
            "type": "contourcarpet"
           }
          ],
          "heatmap": [
           {
            "colorbar": {
             "outlinewidth": 0,
             "ticks": ""
            },
            "colorscale": [
             [
              0,
              "#0d0887"
             ],
             [
              0.1111111111111111,
              "#46039f"
             ],
             [
              0.2222222222222222,
              "#7201a8"
             ],
             [
              0.3333333333333333,
              "#9c179e"
             ],
             [
              0.4444444444444444,
              "#bd3786"
             ],
             [
              0.5555555555555556,
              "#d8576b"
             ],
             [
              0.6666666666666666,
              "#ed7953"
             ],
             [
              0.7777777777777778,
              "#fb9f3a"
             ],
             [
              0.8888888888888888,
              "#fdca26"
             ],
             [
              1,
              "#f0f921"
             ]
            ],
            "type": "heatmap"
           }
          ],
          "heatmapgl": [
           {
            "colorbar": {
             "outlinewidth": 0,
             "ticks": ""
            },
            "colorscale": [
             [
              0,
              "#0d0887"
             ],
             [
              0.1111111111111111,
              "#46039f"
             ],
             [
              0.2222222222222222,
              "#7201a8"
             ],
             [
              0.3333333333333333,
              "#9c179e"
             ],
             [
              0.4444444444444444,
              "#bd3786"
             ],
             [
              0.5555555555555556,
              "#d8576b"
             ],
             [
              0.6666666666666666,
              "#ed7953"
             ],
             [
              0.7777777777777778,
              "#fb9f3a"
             ],
             [
              0.8888888888888888,
              "#fdca26"
             ],
             [
              1,
              "#f0f921"
             ]
            ],
            "type": "heatmapgl"
           }
          ],
          "histogram": [
           {
            "marker": {
             "pattern": {
              "fillmode": "overlay",
              "size": 10,
              "solidity": 0.2
             }
            },
            "type": "histogram"
           }
          ],
          "histogram2d": [
           {
            "colorbar": {
             "outlinewidth": 0,
             "ticks": ""
            },
            "colorscale": [
             [
              0,
              "#0d0887"
             ],
             [
              0.1111111111111111,
              "#46039f"
             ],
             [
              0.2222222222222222,
              "#7201a8"
             ],
             [
              0.3333333333333333,
              "#9c179e"
             ],
             [
              0.4444444444444444,
              "#bd3786"
             ],
             [
              0.5555555555555556,
              "#d8576b"
             ],
             [
              0.6666666666666666,
              "#ed7953"
             ],
             [
              0.7777777777777778,
              "#fb9f3a"
             ],
             [
              0.8888888888888888,
              "#fdca26"
             ],
             [
              1,
              "#f0f921"
             ]
            ],
            "type": "histogram2d"
           }
          ],
          "histogram2dcontour": [
           {
            "colorbar": {
             "outlinewidth": 0,
             "ticks": ""
            },
            "colorscale": [
             [
              0,
              "#0d0887"
             ],
             [
              0.1111111111111111,
              "#46039f"
             ],
             [
              0.2222222222222222,
              "#7201a8"
             ],
             [
              0.3333333333333333,
              "#9c179e"
             ],
             [
              0.4444444444444444,
              "#bd3786"
             ],
             [
              0.5555555555555556,
              "#d8576b"
             ],
             [
              0.6666666666666666,
              "#ed7953"
             ],
             [
              0.7777777777777778,
              "#fb9f3a"
             ],
             [
              0.8888888888888888,
              "#fdca26"
             ],
             [
              1,
              "#f0f921"
             ]
            ],
            "type": "histogram2dcontour"
           }
          ],
          "mesh3d": [
           {
            "colorbar": {
             "outlinewidth": 0,
             "ticks": ""
            },
            "type": "mesh3d"
           }
          ],
          "parcoords": [
           {
            "line": {
             "colorbar": {
              "outlinewidth": 0,
              "ticks": ""
             }
            },
            "type": "parcoords"
           }
          ],
          "pie": [
           {
            "automargin": true,
            "type": "pie"
           }
          ],
          "scatter": [
           {
            "fillpattern": {
             "fillmode": "overlay",
             "size": 10,
             "solidity": 0.2
            },
            "type": "scatter"
           }
          ],
          "scatter3d": [
           {
            "line": {
             "colorbar": {
              "outlinewidth": 0,
              "ticks": ""
             }
            },
            "marker": {
             "colorbar": {
              "outlinewidth": 0,
              "ticks": ""
             }
            },
            "type": "scatter3d"
           }
          ],
          "scattercarpet": [
           {
            "marker": {
             "colorbar": {
              "outlinewidth": 0,
              "ticks": ""
             }
            },
            "type": "scattercarpet"
           }
          ],
          "scattergeo": [
           {
            "marker": {
             "colorbar": {
              "outlinewidth": 0,
              "ticks": ""
             }
            },
            "type": "scattergeo"
           }
          ],
          "scattergl": [
           {
            "marker": {
             "colorbar": {
              "outlinewidth": 0,
              "ticks": ""
             }
            },
            "type": "scattergl"
           }
          ],
          "scattermapbox": [
           {
            "marker": {
             "colorbar": {
              "outlinewidth": 0,
              "ticks": ""
             }
            },
            "type": "scattermapbox"
           }
          ],
          "scatterpolar": [
           {
            "marker": {
             "colorbar": {
              "outlinewidth": 0,
              "ticks": ""
             }
            },
            "type": "scatterpolar"
           }
          ],
          "scatterpolargl": [
           {
            "marker": {
             "colorbar": {
              "outlinewidth": 0,
              "ticks": ""
             }
            },
            "type": "scatterpolargl"
           }
          ],
          "scatterternary": [
           {
            "marker": {
             "colorbar": {
              "outlinewidth": 0,
              "ticks": ""
             }
            },
            "type": "scatterternary"
           }
          ],
          "surface": [
           {
            "colorbar": {
             "outlinewidth": 0,
             "ticks": ""
            },
            "colorscale": [
             [
              0,
              "#0d0887"
             ],
             [
              0.1111111111111111,
              "#46039f"
             ],
             [
              0.2222222222222222,
              "#7201a8"
             ],
             [
              0.3333333333333333,
              "#9c179e"
             ],
             [
              0.4444444444444444,
              "#bd3786"
             ],
             [
              0.5555555555555556,
              "#d8576b"
             ],
             [
              0.6666666666666666,
              "#ed7953"
             ],
             [
              0.7777777777777778,
              "#fb9f3a"
             ],
             [
              0.8888888888888888,
              "#fdca26"
             ],
             [
              1,
              "#f0f921"
             ]
            ],
            "type": "surface"
           }
          ],
          "table": [
           {
            "cells": {
             "fill": {
              "color": "#EBF0F8"
             },
             "line": {
              "color": "white"
             }
            },
            "header": {
             "fill": {
              "color": "#C8D4E3"
             },
             "line": {
              "color": "white"
             }
            },
            "type": "table"
           }
          ]
         },
         "layout": {
          "annotationdefaults": {
           "arrowcolor": "#2a3f5f",
           "arrowhead": 0,
           "arrowwidth": 1
          },
          "autotypenumbers": "strict",
          "coloraxis": {
           "colorbar": {
            "outlinewidth": 0,
            "ticks": ""
           }
          },
          "colorscale": {
           "diverging": [
            [
             0,
             "#8e0152"
            ],
            [
             0.1,
             "#c51b7d"
            ],
            [
             0.2,
             "#de77ae"
            ],
            [
             0.3,
             "#f1b6da"
            ],
            [
             0.4,
             "#fde0ef"
            ],
            [
             0.5,
             "#f7f7f7"
            ],
            [
             0.6,
             "#e6f5d0"
            ],
            [
             0.7,
             "#b8e186"
            ],
            [
             0.8,
             "#7fbc41"
            ],
            [
             0.9,
             "#4d9221"
            ],
            [
             1,
             "#276419"
            ]
           ],
           "sequential": [
            [
             0,
             "#0d0887"
            ],
            [
             0.1111111111111111,
             "#46039f"
            ],
            [
             0.2222222222222222,
             "#7201a8"
            ],
            [
             0.3333333333333333,
             "#9c179e"
            ],
            [
             0.4444444444444444,
             "#bd3786"
            ],
            [
             0.5555555555555556,
             "#d8576b"
            ],
            [
             0.6666666666666666,
             "#ed7953"
            ],
            [
             0.7777777777777778,
             "#fb9f3a"
            ],
            [
             0.8888888888888888,
             "#fdca26"
            ],
            [
             1,
             "#f0f921"
            ]
           ],
           "sequentialminus": [
            [
             0,
             "#0d0887"
            ],
            [
             0.1111111111111111,
             "#46039f"
            ],
            [
             0.2222222222222222,
             "#7201a8"
            ],
            [
             0.3333333333333333,
             "#9c179e"
            ],
            [
             0.4444444444444444,
             "#bd3786"
            ],
            [
             0.5555555555555556,
             "#d8576b"
            ],
            [
             0.6666666666666666,
             "#ed7953"
            ],
            [
             0.7777777777777778,
             "#fb9f3a"
            ],
            [
             0.8888888888888888,
             "#fdca26"
            ],
            [
             1,
             "#f0f921"
            ]
           ]
          },
          "colorway": [
           "#636efa",
           "#EF553B",
           "#00cc96",
           "#ab63fa",
           "#FFA15A",
           "#19d3f3",
           "#FF6692",
           "#B6E880",
           "#FF97FF",
           "#FECB52"
          ],
          "font": {
           "color": "#2a3f5f"
          },
          "geo": {
           "bgcolor": "white",
           "lakecolor": "white",
           "landcolor": "#E5ECF6",
           "showlakes": true,
           "showland": true,
           "subunitcolor": "white"
          },
          "hoverlabel": {
           "align": "left"
          },
          "hovermode": "closest",
          "mapbox": {
           "style": "light"
          },
          "paper_bgcolor": "white",
          "plot_bgcolor": "#E5ECF6",
          "polar": {
           "angularaxis": {
            "gridcolor": "white",
            "linecolor": "white",
            "ticks": ""
           },
           "bgcolor": "#E5ECF6",
           "radialaxis": {
            "gridcolor": "white",
            "linecolor": "white",
            "ticks": ""
           }
          },
          "scene": {
           "xaxis": {
            "backgroundcolor": "#E5ECF6",
            "gridcolor": "white",
            "gridwidth": 2,
            "linecolor": "white",
            "showbackground": true,
            "ticks": "",
            "zerolinecolor": "white"
           },
           "yaxis": {
            "backgroundcolor": "#E5ECF6",
            "gridcolor": "white",
            "gridwidth": 2,
            "linecolor": "white",
            "showbackground": true,
            "ticks": "",
            "zerolinecolor": "white"
           },
           "zaxis": {
            "backgroundcolor": "#E5ECF6",
            "gridcolor": "white",
            "gridwidth": 2,
            "linecolor": "white",
            "showbackground": true,
            "ticks": "",
            "zerolinecolor": "white"
           }
          },
          "shapedefaults": {
           "line": {
            "color": "#2a3f5f"
           }
          },
          "ternary": {
           "aaxis": {
            "gridcolor": "white",
            "linecolor": "white",
            "ticks": ""
           },
           "baxis": {
            "gridcolor": "white",
            "linecolor": "white",
            "ticks": ""
           },
           "bgcolor": "#E5ECF6",
           "caxis": {
            "gridcolor": "white",
            "linecolor": "white",
            "ticks": ""
           }
          },
          "title": {
           "x": 0.05
          },
          "xaxis": {
           "automargin": true,
           "gridcolor": "white",
           "linecolor": "white",
           "ticks": "",
           "title": {
            "standoff": 15
           },
           "zerolinecolor": "white",
           "zerolinewidth": 2
          },
          "yaxis": {
           "automargin": true,
           "gridcolor": "white",
           "linecolor": "white",
           "ticks": "",
           "title": {
            "standoff": 15
           },
           "zerolinecolor": "white",
           "zerolinewidth": 2
          }
         }
        },
        "title": {
         "text": "CDs_3_5_Movies_5_10 - Statistics comparison"
        }
       }
      }
     },
     "metadata": {},
     "output_type": "display_data"
    },
    {
     "data": {
      "application/vnd.plotly.v1+json": {
       "config": {
        "plotlyServerURL": "https://plot.ly"
       },
       "data": [
        {
         "marker": {
          "color": "#28A08C"
         },
         "name": "Zero-Shot",
         "type": "bar",
         "x": [
          "One_word",
          "Short",
          "Below_mean",
          "Range_10_20",
          "Above_mean",
          "Range_max"
         ],
         "y": [
          32,
          32,
          308,
          39,
          105,
          1
         ]
        },
        {
         "marker": {
          "color": "#01DB8C"
         },
         "name": "One-Shot",
         "type": "bar",
         "x": [
          "One_word",
          "Short",
          "Below_mean",
          "Range_10_20",
          "Above_mean",
          "Range_max"
         ],
         "y": [
          0,
          0,
          169,
          1,
          244,
          3
         ]
        }
       ],
       "layout": {
        "template": {
         "data": {
          "bar": [
           {
            "error_x": {
             "color": "#2a3f5f"
            },
            "error_y": {
             "color": "#2a3f5f"
            },
            "marker": {
             "line": {
              "color": "#E5ECF6",
              "width": 0.5
             },
             "pattern": {
              "fillmode": "overlay",
              "size": 10,
              "solidity": 0.2
             }
            },
            "type": "bar"
           }
          ],
          "barpolar": [
           {
            "marker": {
             "line": {
              "color": "#E5ECF6",
              "width": 0.5
             },
             "pattern": {
              "fillmode": "overlay",
              "size": 10,
              "solidity": 0.2
             }
            },
            "type": "barpolar"
           }
          ],
          "carpet": [
           {
            "aaxis": {
             "endlinecolor": "#2a3f5f",
             "gridcolor": "white",
             "linecolor": "white",
             "minorgridcolor": "white",
             "startlinecolor": "#2a3f5f"
            },
            "baxis": {
             "endlinecolor": "#2a3f5f",
             "gridcolor": "white",
             "linecolor": "white",
             "minorgridcolor": "white",
             "startlinecolor": "#2a3f5f"
            },
            "type": "carpet"
           }
          ],
          "choropleth": [
           {
            "colorbar": {
             "outlinewidth": 0,
             "ticks": ""
            },
            "type": "choropleth"
           }
          ],
          "contour": [
           {
            "colorbar": {
             "outlinewidth": 0,
             "ticks": ""
            },
            "colorscale": [
             [
              0,
              "#0d0887"
             ],
             [
              0.1111111111111111,
              "#46039f"
             ],
             [
              0.2222222222222222,
              "#7201a8"
             ],
             [
              0.3333333333333333,
              "#9c179e"
             ],
             [
              0.4444444444444444,
              "#bd3786"
             ],
             [
              0.5555555555555556,
              "#d8576b"
             ],
             [
              0.6666666666666666,
              "#ed7953"
             ],
             [
              0.7777777777777778,
              "#fb9f3a"
             ],
             [
              0.8888888888888888,
              "#fdca26"
             ],
             [
              1,
              "#f0f921"
             ]
            ],
            "type": "contour"
           }
          ],
          "contourcarpet": [
           {
            "colorbar": {
             "outlinewidth": 0,
             "ticks": ""
            },
            "type": "contourcarpet"
           }
          ],
          "heatmap": [
           {
            "colorbar": {
             "outlinewidth": 0,
             "ticks": ""
            },
            "colorscale": [
             [
              0,
              "#0d0887"
             ],
             [
              0.1111111111111111,
              "#46039f"
             ],
             [
              0.2222222222222222,
              "#7201a8"
             ],
             [
              0.3333333333333333,
              "#9c179e"
             ],
             [
              0.4444444444444444,
              "#bd3786"
             ],
             [
              0.5555555555555556,
              "#d8576b"
             ],
             [
              0.6666666666666666,
              "#ed7953"
             ],
             [
              0.7777777777777778,
              "#fb9f3a"
             ],
             [
              0.8888888888888888,
              "#fdca26"
             ],
             [
              1,
              "#f0f921"
             ]
            ],
            "type": "heatmap"
           }
          ],
          "heatmapgl": [
           {
            "colorbar": {
             "outlinewidth": 0,
             "ticks": ""
            },
            "colorscale": [
             [
              0,
              "#0d0887"
             ],
             [
              0.1111111111111111,
              "#46039f"
             ],
             [
              0.2222222222222222,
              "#7201a8"
             ],
             [
              0.3333333333333333,
              "#9c179e"
             ],
             [
              0.4444444444444444,
              "#bd3786"
             ],
             [
              0.5555555555555556,
              "#d8576b"
             ],
             [
              0.6666666666666666,
              "#ed7953"
             ],
             [
              0.7777777777777778,
              "#fb9f3a"
             ],
             [
              0.8888888888888888,
              "#fdca26"
             ],
             [
              1,
              "#f0f921"
             ]
            ],
            "type": "heatmapgl"
           }
          ],
          "histogram": [
           {
            "marker": {
             "pattern": {
              "fillmode": "overlay",
              "size": 10,
              "solidity": 0.2
             }
            },
            "type": "histogram"
           }
          ],
          "histogram2d": [
           {
            "colorbar": {
             "outlinewidth": 0,
             "ticks": ""
            },
            "colorscale": [
             [
              0,
              "#0d0887"
             ],
             [
              0.1111111111111111,
              "#46039f"
             ],
             [
              0.2222222222222222,
              "#7201a8"
             ],
             [
              0.3333333333333333,
              "#9c179e"
             ],
             [
              0.4444444444444444,
              "#bd3786"
             ],
             [
              0.5555555555555556,
              "#d8576b"
             ],
             [
              0.6666666666666666,
              "#ed7953"
             ],
             [
              0.7777777777777778,
              "#fb9f3a"
             ],
             [
              0.8888888888888888,
              "#fdca26"
             ],
             [
              1,
              "#f0f921"
             ]
            ],
            "type": "histogram2d"
           }
          ],
          "histogram2dcontour": [
           {
            "colorbar": {
             "outlinewidth": 0,
             "ticks": ""
            },
            "colorscale": [
             [
              0,
              "#0d0887"
             ],
             [
              0.1111111111111111,
              "#46039f"
             ],
             [
              0.2222222222222222,
              "#7201a8"
             ],
             [
              0.3333333333333333,
              "#9c179e"
             ],
             [
              0.4444444444444444,
              "#bd3786"
             ],
             [
              0.5555555555555556,
              "#d8576b"
             ],
             [
              0.6666666666666666,
              "#ed7953"
             ],
             [
              0.7777777777777778,
              "#fb9f3a"
             ],
             [
              0.8888888888888888,
              "#fdca26"
             ],
             [
              1,
              "#f0f921"
             ]
            ],
            "type": "histogram2dcontour"
           }
          ],
          "mesh3d": [
           {
            "colorbar": {
             "outlinewidth": 0,
             "ticks": ""
            },
            "type": "mesh3d"
           }
          ],
          "parcoords": [
           {
            "line": {
             "colorbar": {
              "outlinewidth": 0,
              "ticks": ""
             }
            },
            "type": "parcoords"
           }
          ],
          "pie": [
           {
            "automargin": true,
            "type": "pie"
           }
          ],
          "scatter": [
           {
            "fillpattern": {
             "fillmode": "overlay",
             "size": 10,
             "solidity": 0.2
            },
            "type": "scatter"
           }
          ],
          "scatter3d": [
           {
            "line": {
             "colorbar": {
              "outlinewidth": 0,
              "ticks": ""
             }
            },
            "marker": {
             "colorbar": {
              "outlinewidth": 0,
              "ticks": ""
             }
            },
            "type": "scatter3d"
           }
          ],
          "scattercarpet": [
           {
            "marker": {
             "colorbar": {
              "outlinewidth": 0,
              "ticks": ""
             }
            },
            "type": "scattercarpet"
           }
          ],
          "scattergeo": [
           {
            "marker": {
             "colorbar": {
              "outlinewidth": 0,
              "ticks": ""
             }
            },
            "type": "scattergeo"
           }
          ],
          "scattergl": [
           {
            "marker": {
             "colorbar": {
              "outlinewidth": 0,
              "ticks": ""
             }
            },
            "type": "scattergl"
           }
          ],
          "scattermapbox": [
           {
            "marker": {
             "colorbar": {
              "outlinewidth": 0,
              "ticks": ""
             }
            },
            "type": "scattermapbox"
           }
          ],
          "scatterpolar": [
           {
            "marker": {
             "colorbar": {
              "outlinewidth": 0,
              "ticks": ""
             }
            },
            "type": "scatterpolar"
           }
          ],
          "scatterpolargl": [
           {
            "marker": {
             "colorbar": {
              "outlinewidth": 0,
              "ticks": ""
             }
            },
            "type": "scatterpolargl"
           }
          ],
          "scatterternary": [
           {
            "marker": {
             "colorbar": {
              "outlinewidth": 0,
              "ticks": ""
             }
            },
            "type": "scatterternary"
           }
          ],
          "surface": [
           {
            "colorbar": {
             "outlinewidth": 0,
             "ticks": ""
            },
            "colorscale": [
             [
              0,
              "#0d0887"
             ],
             [
              0.1111111111111111,
              "#46039f"
             ],
             [
              0.2222222222222222,
              "#7201a8"
             ],
             [
              0.3333333333333333,
              "#9c179e"
             ],
             [
              0.4444444444444444,
              "#bd3786"
             ],
             [
              0.5555555555555556,
              "#d8576b"
             ],
             [
              0.6666666666666666,
              "#ed7953"
             ],
             [
              0.7777777777777778,
              "#fb9f3a"
             ],
             [
              0.8888888888888888,
              "#fdca26"
             ],
             [
              1,
              "#f0f921"
             ]
            ],
            "type": "surface"
           }
          ],
          "table": [
           {
            "cells": {
             "fill": {
              "color": "#EBF0F8"
             },
             "line": {
              "color": "white"
             }
            },
            "header": {
             "fill": {
              "color": "#C8D4E3"
             },
             "line": {
              "color": "white"
             }
            },
            "type": "table"
           }
          ]
         },
         "layout": {
          "annotationdefaults": {
           "arrowcolor": "#2a3f5f",
           "arrowhead": 0,
           "arrowwidth": 1
          },
          "autotypenumbers": "strict",
          "coloraxis": {
           "colorbar": {
            "outlinewidth": 0,
            "ticks": ""
           }
          },
          "colorscale": {
           "diverging": [
            [
             0,
             "#8e0152"
            ],
            [
             0.1,
             "#c51b7d"
            ],
            [
             0.2,
             "#de77ae"
            ],
            [
             0.3,
             "#f1b6da"
            ],
            [
             0.4,
             "#fde0ef"
            ],
            [
             0.5,
             "#f7f7f7"
            ],
            [
             0.6,
             "#e6f5d0"
            ],
            [
             0.7,
             "#b8e186"
            ],
            [
             0.8,
             "#7fbc41"
            ],
            [
             0.9,
             "#4d9221"
            ],
            [
             1,
             "#276419"
            ]
           ],
           "sequential": [
            [
             0,
             "#0d0887"
            ],
            [
             0.1111111111111111,
             "#46039f"
            ],
            [
             0.2222222222222222,
             "#7201a8"
            ],
            [
             0.3333333333333333,
             "#9c179e"
            ],
            [
             0.4444444444444444,
             "#bd3786"
            ],
            [
             0.5555555555555556,
             "#d8576b"
            ],
            [
             0.6666666666666666,
             "#ed7953"
            ],
            [
             0.7777777777777778,
             "#fb9f3a"
            ],
            [
             0.8888888888888888,
             "#fdca26"
            ],
            [
             1,
             "#f0f921"
            ]
           ],
           "sequentialminus": [
            [
             0,
             "#0d0887"
            ],
            [
             0.1111111111111111,
             "#46039f"
            ],
            [
             0.2222222222222222,
             "#7201a8"
            ],
            [
             0.3333333333333333,
             "#9c179e"
            ],
            [
             0.4444444444444444,
             "#bd3786"
            ],
            [
             0.5555555555555556,
             "#d8576b"
            ],
            [
             0.6666666666666666,
             "#ed7953"
            ],
            [
             0.7777777777777778,
             "#fb9f3a"
            ],
            [
             0.8888888888888888,
             "#fdca26"
            ],
            [
             1,
             "#f0f921"
            ]
           ]
          },
          "colorway": [
           "#636efa",
           "#EF553B",
           "#00cc96",
           "#ab63fa",
           "#FFA15A",
           "#19d3f3",
           "#FF6692",
           "#B6E880",
           "#FF97FF",
           "#FECB52"
          ],
          "font": {
           "color": "#2a3f5f"
          },
          "geo": {
           "bgcolor": "white",
           "lakecolor": "white",
           "landcolor": "#E5ECF6",
           "showlakes": true,
           "showland": true,
           "subunitcolor": "white"
          },
          "hoverlabel": {
           "align": "left"
          },
          "hovermode": "closest",
          "mapbox": {
           "style": "light"
          },
          "paper_bgcolor": "white",
          "plot_bgcolor": "#E5ECF6",
          "polar": {
           "angularaxis": {
            "gridcolor": "white",
            "linecolor": "white",
            "ticks": ""
           },
           "bgcolor": "#E5ECF6",
           "radialaxis": {
            "gridcolor": "white",
            "linecolor": "white",
            "ticks": ""
           }
          },
          "scene": {
           "xaxis": {
            "backgroundcolor": "#E5ECF6",
            "gridcolor": "white",
            "gridwidth": 2,
            "linecolor": "white",
            "showbackground": true,
            "ticks": "",
            "zerolinecolor": "white"
           },
           "yaxis": {
            "backgroundcolor": "#E5ECF6",
            "gridcolor": "white",
            "gridwidth": 2,
            "linecolor": "white",
            "showbackground": true,
            "ticks": "",
            "zerolinecolor": "white"
           },
           "zaxis": {
            "backgroundcolor": "#E5ECF6",
            "gridcolor": "white",
            "gridwidth": 2,
            "linecolor": "white",
            "showbackground": true,
            "ticks": "",
            "zerolinecolor": "white"
           }
          },
          "shapedefaults": {
           "line": {
            "color": "#2a3f5f"
           }
          },
          "ternary": {
           "aaxis": {
            "gridcolor": "white",
            "linecolor": "white",
            "ticks": ""
           },
           "baxis": {
            "gridcolor": "white",
            "linecolor": "white",
            "ticks": ""
           },
           "bgcolor": "#E5ECF6",
           "caxis": {
            "gridcolor": "white",
            "linecolor": "white",
            "ticks": ""
           }
          },
          "title": {
           "x": 0.05
          },
          "xaxis": {
           "automargin": true,
           "gridcolor": "white",
           "linecolor": "white",
           "ticks": "",
           "title": {
            "standoff": 15
           },
           "zerolinecolor": "white",
           "zerolinewidth": 2
          },
          "yaxis": {
           "automargin": true,
           "gridcolor": "white",
           "linecolor": "white",
           "ticks": "",
           "title": {
            "standoff": 15
           },
           "zerolinecolor": "white",
           "zerolinewidth": 2
          }
         }
        },
        "title": {
         "text": "CDs_3_5_Movies_8_10 - Statistics comparison"
        }
       }
      }
     },
     "metadata": {},
     "output_type": "display_data"
    }
   ],
   "source": [
    "plot_statistics_comparison(cds_35_movies_510_0s_stats, cds_35_movies_510_1s_stats, \"CDs_3_5_Movies_5_10\", skip_keys=SKIP_KEYS)\n",
    "plot_statistics_comparison(cds_35_movies_810_0s_stats, cds_35_movies_810_1s_stats, \"CDs_3_5_Movies_8_10\", skip_keys=SKIP_KEYS)"
   ]
  },
  {
   "cell_type": "code",
   "execution_count": 48,
   "metadata": {},
   "outputs": [],
   "source": [
    "# -------------------\n",
    "# Base domain: Movies\n",
    "# -------------------\n",
    "movies_35_books_510_0s_stats = compute_statistics_explanations(movies_35_books_510_0s_preds)\n",
    "movies_35_books_510_1s_stats = compute_statistics_explanations(movies_35_books_510_1s_preds)\n",
    "movies_35_books_810_0s_stats = compute_statistics_explanations(movies_35_books_810_0s_preds)\n",
    "movies_35_books_810_1s_stats = compute_statistics_explanations(movies_35_books_810_1s_preds)\n",
    "\n",
    "movies_35_cds_510_0s_stats = compute_statistics_explanations(movies_35_cds_510_0s_preds)\n",
    "movies_35_cds_510_1s_stats = compute_statistics_explanations(movies_35_cds_510_1s_preds)\n",
    "movies_35_cds_810_0s_stats = compute_statistics_explanations(movies_35_cds_810_0s_preds)\n",
    "movies_35_cds_810_1s_stats = compute_statistics_explanations(movies_35_cds_810_1s_preds)"
   ]
  },
  {
   "cell_type": "code",
   "execution_count": 49,
   "metadata": {},
   "outputs": [
    {
     "data": {
      "text/html": [
       "<div>\n",
       "<style scoped>\n",
       "    .dataframe tbody tr th:only-of-type {\n",
       "        vertical-align: middle;\n",
       "    }\n",
       "\n",
       "    .dataframe tbody tr th {\n",
       "        vertical-align: top;\n",
       "    }\n",
       "\n",
       "    .dataframe thead th {\n",
       "        text-align: right;\n",
       "    }\n",
       "</style>\n",
       "<table border=\"1\" class=\"dataframe\">\n",
       "  <thead>\n",
       "    <tr style=\"text-align: right;\">\n",
       "      <th></th>\n",
       "      <th>Property</th>\n",
       "      <th>Zero-shot</th>\n",
       "      <th>One-shot</th>\n",
       "      <th>Shift</th>\n",
       "    </tr>\n",
       "  </thead>\n",
       "  <tbody>\n",
       "    <tr>\n",
       "      <th>0</th>\n",
       "      <td>Range_max</td>\n",
       "      <td>2</td>\n",
       "      <td>1</td>\n",
       "      <td>-1</td>\n",
       "    </tr>\n",
       "    <tr>\n",
       "      <th>1</th>\n",
       "      <td>Below_mean</td>\n",
       "      <td>806</td>\n",
       "      <td>633</td>\n",
       "      <td>-173</td>\n",
       "    </tr>\n",
       "    <tr>\n",
       "      <th>2</th>\n",
       "      <td>Max</td>\n",
       "      <td>237</td>\n",
       "      <td>232</td>\n",
       "      <td>-5</td>\n",
       "    </tr>\n",
       "    <tr>\n",
       "      <th>3</th>\n",
       "      <td>Min</td>\n",
       "      <td>1</td>\n",
       "      <td>16</td>\n",
       "      <td>15</td>\n",
       "    </tr>\n",
       "    <tr>\n",
       "      <th>4</th>\n",
       "      <td>Mean</td>\n",
       "      <td>42</td>\n",
       "      <td>95</td>\n",
       "      <td>52</td>\n",
       "    </tr>\n",
       "    <tr>\n",
       "      <th>5</th>\n",
       "      <td>Short</td>\n",
       "      <td>2</td>\n",
       "      <td>0</td>\n",
       "      <td>-2</td>\n",
       "    </tr>\n",
       "    <tr>\n",
       "      <th>6</th>\n",
       "      <td>One_word</td>\n",
       "      <td>2</td>\n",
       "      <td>0</td>\n",
       "      <td>-2</td>\n",
       "    </tr>\n",
       "    <tr>\n",
       "      <th>7</th>\n",
       "      <td>Range_10_20</td>\n",
       "      <td>199</td>\n",
       "      <td>14</td>\n",
       "      <td>-185</td>\n",
       "    </tr>\n",
       "    <tr>\n",
       "      <th>8</th>\n",
       "      <td>Above_mean</td>\n",
       "      <td>365</td>\n",
       "      <td>592</td>\n",
       "      <td>227</td>\n",
       "    </tr>\n",
       "  </tbody>\n",
       "</table>\n",
       "</div>"
      ],
      "text/plain": [
       "      Property  Zero-shot  One-shot  Shift\n",
       "0    Range_max          2         1     -1\n",
       "1   Below_mean        806       633   -173\n",
       "2          Max        237       232     -5\n",
       "3          Min          1        16     15\n",
       "4         Mean         42        95     52\n",
       "5        Short          2         0     -2\n",
       "6     One_word          2         0     -2\n",
       "7  Range_10_20        199        14   -185\n",
       "8   Above_mean        365       592    227"
      ]
     },
     "execution_count": 49,
     "metadata": {},
     "output_type": "execute_result"
    }
   ],
   "source": [
    "compare_statistics(movies_35_books_510_0s_stats, movies_35_books_510_1s_stats)"
   ]
  },
  {
   "cell_type": "code",
   "execution_count": 50,
   "metadata": {},
   "outputs": [
    {
     "data": {
      "text/html": [
       "<div>\n",
       "<style scoped>\n",
       "    .dataframe tbody tr th:only-of-type {\n",
       "        vertical-align: middle;\n",
       "    }\n",
       "\n",
       "    .dataframe tbody tr th {\n",
       "        vertical-align: top;\n",
       "    }\n",
       "\n",
       "    .dataframe thead th {\n",
       "        text-align: right;\n",
       "    }\n",
       "</style>\n",
       "<table border=\"1\" class=\"dataframe\">\n",
       "  <thead>\n",
       "    <tr style=\"text-align: right;\">\n",
       "      <th></th>\n",
       "      <th>Property</th>\n",
       "      <th>Zero-shot</th>\n",
       "      <th>One-shot</th>\n",
       "      <th>Shift</th>\n",
       "    </tr>\n",
       "  </thead>\n",
       "  <tbody>\n",
       "    <tr>\n",
       "      <th>0</th>\n",
       "      <td>Range_max</td>\n",
       "      <td>1</td>\n",
       "      <td>13</td>\n",
       "      <td>12</td>\n",
       "    </tr>\n",
       "    <tr>\n",
       "      <th>1</th>\n",
       "      <td>Below_mean</td>\n",
       "      <td>301</td>\n",
       "      <td>239</td>\n",
       "      <td>-62</td>\n",
       "    </tr>\n",
       "    <tr>\n",
       "      <th>2</th>\n",
       "      <td>Max</td>\n",
       "      <td>221</td>\n",
       "      <td>191</td>\n",
       "      <td>-30</td>\n",
       "    </tr>\n",
       "    <tr>\n",
       "      <th>3</th>\n",
       "      <td>Min</td>\n",
       "      <td>1</td>\n",
       "      <td>16</td>\n",
       "      <td>15</td>\n",
       "    </tr>\n",
       "    <tr>\n",
       "      <th>4</th>\n",
       "      <td>Mean</td>\n",
       "      <td>40</td>\n",
       "      <td>92</td>\n",
       "      <td>51</td>\n",
       "    </tr>\n",
       "    <tr>\n",
       "      <th>5</th>\n",
       "      <td>Short</td>\n",
       "      <td>2</td>\n",
       "      <td>0</td>\n",
       "      <td>-2</td>\n",
       "    </tr>\n",
       "    <tr>\n",
       "      <th>6</th>\n",
       "      <td>One_word</td>\n",
       "      <td>2</td>\n",
       "      <td>0</td>\n",
       "      <td>-2</td>\n",
       "    </tr>\n",
       "    <tr>\n",
       "      <th>7</th>\n",
       "      <td>Range_10_20</td>\n",
       "      <td>64</td>\n",
       "      <td>8</td>\n",
       "      <td>-56</td>\n",
       "    </tr>\n",
       "    <tr>\n",
       "      <th>8</th>\n",
       "      <td>Above_mean</td>\n",
       "      <td>147</td>\n",
       "      <td>222</td>\n",
       "      <td>75</td>\n",
       "    </tr>\n",
       "  </tbody>\n",
       "</table>\n",
       "</div>"
      ],
      "text/plain": [
       "      Property  Zero-shot  One-shot  Shift\n",
       "0    Range_max          1        13     12\n",
       "1   Below_mean        301       239    -62\n",
       "2          Max        221       191    -30\n",
       "3          Min          1        16     15\n",
       "4         Mean         40        92     51\n",
       "5        Short          2         0     -2\n",
       "6     One_word          2         0     -2\n",
       "7  Range_10_20         64         8    -56\n",
       "8   Above_mean        147       222     75"
      ]
     },
     "execution_count": 50,
     "metadata": {},
     "output_type": "execute_result"
    }
   ],
   "source": [
    "compare_statistics(movies_35_books_810_0s_stats, movies_35_books_810_1s_stats)"
   ]
  },
  {
   "cell_type": "code",
   "execution_count": 51,
   "metadata": {},
   "outputs": [
    {
     "data": {
      "text/html": [
       "<div>\n",
       "<style scoped>\n",
       "    .dataframe tbody tr th:only-of-type {\n",
       "        vertical-align: middle;\n",
       "    }\n",
       "\n",
       "    .dataframe tbody tr th {\n",
       "        vertical-align: top;\n",
       "    }\n",
       "\n",
       "    .dataframe thead th {\n",
       "        text-align: right;\n",
       "    }\n",
       "</style>\n",
       "<table border=\"1\" class=\"dataframe\">\n",
       "  <thead>\n",
       "    <tr style=\"text-align: right;\">\n",
       "      <th></th>\n",
       "      <th>Property</th>\n",
       "      <th>Zero-shot</th>\n",
       "      <th>One-shot</th>\n",
       "      <th>Shift</th>\n",
       "    </tr>\n",
       "  </thead>\n",
       "  <tbody>\n",
       "    <tr>\n",
       "      <th>0</th>\n",
       "      <td>Range_max</td>\n",
       "      <td>14</td>\n",
       "      <td>2</td>\n",
       "      <td>-12</td>\n",
       "    </tr>\n",
       "    <tr>\n",
       "      <th>1</th>\n",
       "      <td>Below_mean</td>\n",
       "      <td>856</td>\n",
       "      <td>627</td>\n",
       "      <td>-229</td>\n",
       "    </tr>\n",
       "    <tr>\n",
       "      <th>2</th>\n",
       "      <td>Max</td>\n",
       "      <td>190</td>\n",
       "      <td>227</td>\n",
       "      <td>37</td>\n",
       "    </tr>\n",
       "    <tr>\n",
       "      <th>3</th>\n",
       "      <td>Min</td>\n",
       "      <td>1</td>\n",
       "      <td>13</td>\n",
       "      <td>12</td>\n",
       "    </tr>\n",
       "    <tr>\n",
       "      <th>4</th>\n",
       "      <td>Mean</td>\n",
       "      <td>52</td>\n",
       "      <td>95</td>\n",
       "      <td>43</td>\n",
       "    </tr>\n",
       "    <tr>\n",
       "      <th>5</th>\n",
       "      <td>Short</td>\n",
       "      <td>5</td>\n",
       "      <td>0</td>\n",
       "      <td>-5</td>\n",
       "    </tr>\n",
       "    <tr>\n",
       "      <th>6</th>\n",
       "      <td>One_word</td>\n",
       "      <td>5</td>\n",
       "      <td>0</td>\n",
       "      <td>-5</td>\n",
       "    </tr>\n",
       "    <tr>\n",
       "      <th>7</th>\n",
       "      <td>Range_10_20</td>\n",
       "      <td>148</td>\n",
       "      <td>19</td>\n",
       "      <td>-129</td>\n",
       "    </tr>\n",
       "    <tr>\n",
       "      <th>8</th>\n",
       "      <td>Above_mean</td>\n",
       "      <td>369</td>\n",
       "      <td>598</td>\n",
       "      <td>229</td>\n",
       "    </tr>\n",
       "  </tbody>\n",
       "</table>\n",
       "</div>"
      ],
      "text/plain": [
       "      Property  Zero-shot  One-shot  Shift\n",
       "0    Range_max         14         2    -12\n",
       "1   Below_mean        856       627   -229\n",
       "2          Max        190       227     37\n",
       "3          Min          1        13     12\n",
       "4         Mean         52        95     43\n",
       "5        Short          5         0     -5\n",
       "6     One_word          5         0     -5\n",
       "7  Range_10_20        148        19   -129\n",
       "8   Above_mean        369       598    229"
      ]
     },
     "execution_count": 51,
     "metadata": {},
     "output_type": "execute_result"
    }
   ],
   "source": [
    "compare_statistics(movies_35_cds_510_0s_stats, movies_35_cds_510_1s_stats)"
   ]
  },
  {
   "cell_type": "code",
   "execution_count": 52,
   "metadata": {},
   "outputs": [
    {
     "data": {
      "text/html": [
       "<div>\n",
       "<style scoped>\n",
       "    .dataframe tbody tr th:only-of-type {\n",
       "        vertical-align: middle;\n",
       "    }\n",
       "\n",
       "    .dataframe tbody tr th {\n",
       "        vertical-align: top;\n",
       "    }\n",
       "\n",
       "    .dataframe thead th {\n",
       "        text-align: right;\n",
       "    }\n",
       "</style>\n",
       "<table border=\"1\" class=\"dataframe\">\n",
       "  <thead>\n",
       "    <tr style=\"text-align: right;\">\n",
       "      <th></th>\n",
       "      <th>Property</th>\n",
       "      <th>Zero-shot</th>\n",
       "      <th>One-shot</th>\n",
       "      <th>Shift</th>\n",
       "    </tr>\n",
       "  </thead>\n",
       "  <tbody>\n",
       "    <tr>\n",
       "      <th>0</th>\n",
       "      <td>Range_max</td>\n",
       "      <td>4</td>\n",
       "      <td>3</td>\n",
       "      <td>-1</td>\n",
       "    </tr>\n",
       "    <tr>\n",
       "      <th>1</th>\n",
       "      <td>Below_mean</td>\n",
       "      <td>249</td>\n",
       "      <td>192</td>\n",
       "      <td>-57</td>\n",
       "    </tr>\n",
       "    <tr>\n",
       "      <th>2</th>\n",
       "      <td>Max</td>\n",
       "      <td>189</td>\n",
       "      <td>203</td>\n",
       "      <td>14</td>\n",
       "    </tr>\n",
       "    <tr>\n",
       "      <th>3</th>\n",
       "      <td>Min</td>\n",
       "      <td>1</td>\n",
       "      <td>17</td>\n",
       "      <td>16</td>\n",
       "    </tr>\n",
       "    <tr>\n",
       "      <th>4</th>\n",
       "      <td>Mean</td>\n",
       "      <td>47</td>\n",
       "      <td>89</td>\n",
       "      <td>41</td>\n",
       "    </tr>\n",
       "    <tr>\n",
       "      <th>5</th>\n",
       "      <td>Short</td>\n",
       "      <td>4</td>\n",
       "      <td>0</td>\n",
       "      <td>-4</td>\n",
       "    </tr>\n",
       "    <tr>\n",
       "      <th>6</th>\n",
       "      <td>One_word</td>\n",
       "      <td>4</td>\n",
       "      <td>0</td>\n",
       "      <td>-4</td>\n",
       "    </tr>\n",
       "    <tr>\n",
       "      <th>7</th>\n",
       "      <td>Range_10_20</td>\n",
       "      <td>50</td>\n",
       "      <td>6</td>\n",
       "      <td>-44</td>\n",
       "    </tr>\n",
       "    <tr>\n",
       "      <th>8</th>\n",
       "      <td>Above_mean</td>\n",
       "      <td>122</td>\n",
       "      <td>179</td>\n",
       "      <td>57</td>\n",
       "    </tr>\n",
       "  </tbody>\n",
       "</table>\n",
       "</div>"
      ],
      "text/plain": [
       "      Property  Zero-shot  One-shot  Shift\n",
       "0    Range_max          4         3     -1\n",
       "1   Below_mean        249       192    -57\n",
       "2          Max        189       203     14\n",
       "3          Min          1        17     16\n",
       "4         Mean         47        89     41\n",
       "5        Short          4         0     -4\n",
       "6     One_word          4         0     -4\n",
       "7  Range_10_20         50         6    -44\n",
       "8   Above_mean        122       179     57"
      ]
     },
     "execution_count": 52,
     "metadata": {},
     "output_type": "execute_result"
    }
   ],
   "source": [
    "compare_statistics(movies_35_cds_810_0s_stats, movies_35_cds_810_1s_stats)"
   ]
  },
  {
   "cell_type": "code",
   "execution_count": 53,
   "metadata": {},
   "outputs": [
    {
     "data": {
      "application/vnd.plotly.v1+json": {
       "config": {
        "plotlyServerURL": "https://plot.ly"
       },
       "data": [
        {
         "marker": {
          "color": "#28A08C"
         },
         "name": "Zero-Shot",
         "type": "bar",
         "x": [
          "One_word",
          "Short",
          "Below_mean",
          "Range_10_20",
          "Above_mean",
          "Range_max"
         ],
         "y": [
          2,
          2,
          806,
          199,
          365,
          2
         ]
        },
        {
         "marker": {
          "color": "#01DB8C"
         },
         "name": "One-Shot",
         "type": "bar",
         "x": [
          "One_word",
          "Short",
          "Below_mean",
          "Range_10_20",
          "Above_mean",
          "Range_max"
         ],
         "y": [
          0,
          0,
          633,
          14,
          592,
          1
         ]
        }
       ],
       "layout": {
        "template": {
         "data": {
          "bar": [
           {
            "error_x": {
             "color": "#2a3f5f"
            },
            "error_y": {
             "color": "#2a3f5f"
            },
            "marker": {
             "line": {
              "color": "#E5ECF6",
              "width": 0.5
             },
             "pattern": {
              "fillmode": "overlay",
              "size": 10,
              "solidity": 0.2
             }
            },
            "type": "bar"
           }
          ],
          "barpolar": [
           {
            "marker": {
             "line": {
              "color": "#E5ECF6",
              "width": 0.5
             },
             "pattern": {
              "fillmode": "overlay",
              "size": 10,
              "solidity": 0.2
             }
            },
            "type": "barpolar"
           }
          ],
          "carpet": [
           {
            "aaxis": {
             "endlinecolor": "#2a3f5f",
             "gridcolor": "white",
             "linecolor": "white",
             "minorgridcolor": "white",
             "startlinecolor": "#2a3f5f"
            },
            "baxis": {
             "endlinecolor": "#2a3f5f",
             "gridcolor": "white",
             "linecolor": "white",
             "minorgridcolor": "white",
             "startlinecolor": "#2a3f5f"
            },
            "type": "carpet"
           }
          ],
          "choropleth": [
           {
            "colorbar": {
             "outlinewidth": 0,
             "ticks": ""
            },
            "type": "choropleth"
           }
          ],
          "contour": [
           {
            "colorbar": {
             "outlinewidth": 0,
             "ticks": ""
            },
            "colorscale": [
             [
              0,
              "#0d0887"
             ],
             [
              0.1111111111111111,
              "#46039f"
             ],
             [
              0.2222222222222222,
              "#7201a8"
             ],
             [
              0.3333333333333333,
              "#9c179e"
             ],
             [
              0.4444444444444444,
              "#bd3786"
             ],
             [
              0.5555555555555556,
              "#d8576b"
             ],
             [
              0.6666666666666666,
              "#ed7953"
             ],
             [
              0.7777777777777778,
              "#fb9f3a"
             ],
             [
              0.8888888888888888,
              "#fdca26"
             ],
             [
              1,
              "#f0f921"
             ]
            ],
            "type": "contour"
           }
          ],
          "contourcarpet": [
           {
            "colorbar": {
             "outlinewidth": 0,
             "ticks": ""
            },
            "type": "contourcarpet"
           }
          ],
          "heatmap": [
           {
            "colorbar": {
             "outlinewidth": 0,
             "ticks": ""
            },
            "colorscale": [
             [
              0,
              "#0d0887"
             ],
             [
              0.1111111111111111,
              "#46039f"
             ],
             [
              0.2222222222222222,
              "#7201a8"
             ],
             [
              0.3333333333333333,
              "#9c179e"
             ],
             [
              0.4444444444444444,
              "#bd3786"
             ],
             [
              0.5555555555555556,
              "#d8576b"
             ],
             [
              0.6666666666666666,
              "#ed7953"
             ],
             [
              0.7777777777777778,
              "#fb9f3a"
             ],
             [
              0.8888888888888888,
              "#fdca26"
             ],
             [
              1,
              "#f0f921"
             ]
            ],
            "type": "heatmap"
           }
          ],
          "heatmapgl": [
           {
            "colorbar": {
             "outlinewidth": 0,
             "ticks": ""
            },
            "colorscale": [
             [
              0,
              "#0d0887"
             ],
             [
              0.1111111111111111,
              "#46039f"
             ],
             [
              0.2222222222222222,
              "#7201a8"
             ],
             [
              0.3333333333333333,
              "#9c179e"
             ],
             [
              0.4444444444444444,
              "#bd3786"
             ],
             [
              0.5555555555555556,
              "#d8576b"
             ],
             [
              0.6666666666666666,
              "#ed7953"
             ],
             [
              0.7777777777777778,
              "#fb9f3a"
             ],
             [
              0.8888888888888888,
              "#fdca26"
             ],
             [
              1,
              "#f0f921"
             ]
            ],
            "type": "heatmapgl"
           }
          ],
          "histogram": [
           {
            "marker": {
             "pattern": {
              "fillmode": "overlay",
              "size": 10,
              "solidity": 0.2
             }
            },
            "type": "histogram"
           }
          ],
          "histogram2d": [
           {
            "colorbar": {
             "outlinewidth": 0,
             "ticks": ""
            },
            "colorscale": [
             [
              0,
              "#0d0887"
             ],
             [
              0.1111111111111111,
              "#46039f"
             ],
             [
              0.2222222222222222,
              "#7201a8"
             ],
             [
              0.3333333333333333,
              "#9c179e"
             ],
             [
              0.4444444444444444,
              "#bd3786"
             ],
             [
              0.5555555555555556,
              "#d8576b"
             ],
             [
              0.6666666666666666,
              "#ed7953"
             ],
             [
              0.7777777777777778,
              "#fb9f3a"
             ],
             [
              0.8888888888888888,
              "#fdca26"
             ],
             [
              1,
              "#f0f921"
             ]
            ],
            "type": "histogram2d"
           }
          ],
          "histogram2dcontour": [
           {
            "colorbar": {
             "outlinewidth": 0,
             "ticks": ""
            },
            "colorscale": [
             [
              0,
              "#0d0887"
             ],
             [
              0.1111111111111111,
              "#46039f"
             ],
             [
              0.2222222222222222,
              "#7201a8"
             ],
             [
              0.3333333333333333,
              "#9c179e"
             ],
             [
              0.4444444444444444,
              "#bd3786"
             ],
             [
              0.5555555555555556,
              "#d8576b"
             ],
             [
              0.6666666666666666,
              "#ed7953"
             ],
             [
              0.7777777777777778,
              "#fb9f3a"
             ],
             [
              0.8888888888888888,
              "#fdca26"
             ],
             [
              1,
              "#f0f921"
             ]
            ],
            "type": "histogram2dcontour"
           }
          ],
          "mesh3d": [
           {
            "colorbar": {
             "outlinewidth": 0,
             "ticks": ""
            },
            "type": "mesh3d"
           }
          ],
          "parcoords": [
           {
            "line": {
             "colorbar": {
              "outlinewidth": 0,
              "ticks": ""
             }
            },
            "type": "parcoords"
           }
          ],
          "pie": [
           {
            "automargin": true,
            "type": "pie"
           }
          ],
          "scatter": [
           {
            "fillpattern": {
             "fillmode": "overlay",
             "size": 10,
             "solidity": 0.2
            },
            "type": "scatter"
           }
          ],
          "scatter3d": [
           {
            "line": {
             "colorbar": {
              "outlinewidth": 0,
              "ticks": ""
             }
            },
            "marker": {
             "colorbar": {
              "outlinewidth": 0,
              "ticks": ""
             }
            },
            "type": "scatter3d"
           }
          ],
          "scattercarpet": [
           {
            "marker": {
             "colorbar": {
              "outlinewidth": 0,
              "ticks": ""
             }
            },
            "type": "scattercarpet"
           }
          ],
          "scattergeo": [
           {
            "marker": {
             "colorbar": {
              "outlinewidth": 0,
              "ticks": ""
             }
            },
            "type": "scattergeo"
           }
          ],
          "scattergl": [
           {
            "marker": {
             "colorbar": {
              "outlinewidth": 0,
              "ticks": ""
             }
            },
            "type": "scattergl"
           }
          ],
          "scattermapbox": [
           {
            "marker": {
             "colorbar": {
              "outlinewidth": 0,
              "ticks": ""
             }
            },
            "type": "scattermapbox"
           }
          ],
          "scatterpolar": [
           {
            "marker": {
             "colorbar": {
              "outlinewidth": 0,
              "ticks": ""
             }
            },
            "type": "scatterpolar"
           }
          ],
          "scatterpolargl": [
           {
            "marker": {
             "colorbar": {
              "outlinewidth": 0,
              "ticks": ""
             }
            },
            "type": "scatterpolargl"
           }
          ],
          "scatterternary": [
           {
            "marker": {
             "colorbar": {
              "outlinewidth": 0,
              "ticks": ""
             }
            },
            "type": "scatterternary"
           }
          ],
          "surface": [
           {
            "colorbar": {
             "outlinewidth": 0,
             "ticks": ""
            },
            "colorscale": [
             [
              0,
              "#0d0887"
             ],
             [
              0.1111111111111111,
              "#46039f"
             ],
             [
              0.2222222222222222,
              "#7201a8"
             ],
             [
              0.3333333333333333,
              "#9c179e"
             ],
             [
              0.4444444444444444,
              "#bd3786"
             ],
             [
              0.5555555555555556,
              "#d8576b"
             ],
             [
              0.6666666666666666,
              "#ed7953"
             ],
             [
              0.7777777777777778,
              "#fb9f3a"
             ],
             [
              0.8888888888888888,
              "#fdca26"
             ],
             [
              1,
              "#f0f921"
             ]
            ],
            "type": "surface"
           }
          ],
          "table": [
           {
            "cells": {
             "fill": {
              "color": "#EBF0F8"
             },
             "line": {
              "color": "white"
             }
            },
            "header": {
             "fill": {
              "color": "#C8D4E3"
             },
             "line": {
              "color": "white"
             }
            },
            "type": "table"
           }
          ]
         },
         "layout": {
          "annotationdefaults": {
           "arrowcolor": "#2a3f5f",
           "arrowhead": 0,
           "arrowwidth": 1
          },
          "autotypenumbers": "strict",
          "coloraxis": {
           "colorbar": {
            "outlinewidth": 0,
            "ticks": ""
           }
          },
          "colorscale": {
           "diverging": [
            [
             0,
             "#8e0152"
            ],
            [
             0.1,
             "#c51b7d"
            ],
            [
             0.2,
             "#de77ae"
            ],
            [
             0.3,
             "#f1b6da"
            ],
            [
             0.4,
             "#fde0ef"
            ],
            [
             0.5,
             "#f7f7f7"
            ],
            [
             0.6,
             "#e6f5d0"
            ],
            [
             0.7,
             "#b8e186"
            ],
            [
             0.8,
             "#7fbc41"
            ],
            [
             0.9,
             "#4d9221"
            ],
            [
             1,
             "#276419"
            ]
           ],
           "sequential": [
            [
             0,
             "#0d0887"
            ],
            [
             0.1111111111111111,
             "#46039f"
            ],
            [
             0.2222222222222222,
             "#7201a8"
            ],
            [
             0.3333333333333333,
             "#9c179e"
            ],
            [
             0.4444444444444444,
             "#bd3786"
            ],
            [
             0.5555555555555556,
             "#d8576b"
            ],
            [
             0.6666666666666666,
             "#ed7953"
            ],
            [
             0.7777777777777778,
             "#fb9f3a"
            ],
            [
             0.8888888888888888,
             "#fdca26"
            ],
            [
             1,
             "#f0f921"
            ]
           ],
           "sequentialminus": [
            [
             0,
             "#0d0887"
            ],
            [
             0.1111111111111111,
             "#46039f"
            ],
            [
             0.2222222222222222,
             "#7201a8"
            ],
            [
             0.3333333333333333,
             "#9c179e"
            ],
            [
             0.4444444444444444,
             "#bd3786"
            ],
            [
             0.5555555555555556,
             "#d8576b"
            ],
            [
             0.6666666666666666,
             "#ed7953"
            ],
            [
             0.7777777777777778,
             "#fb9f3a"
            ],
            [
             0.8888888888888888,
             "#fdca26"
            ],
            [
             1,
             "#f0f921"
            ]
           ]
          },
          "colorway": [
           "#636efa",
           "#EF553B",
           "#00cc96",
           "#ab63fa",
           "#FFA15A",
           "#19d3f3",
           "#FF6692",
           "#B6E880",
           "#FF97FF",
           "#FECB52"
          ],
          "font": {
           "color": "#2a3f5f"
          },
          "geo": {
           "bgcolor": "white",
           "lakecolor": "white",
           "landcolor": "#E5ECF6",
           "showlakes": true,
           "showland": true,
           "subunitcolor": "white"
          },
          "hoverlabel": {
           "align": "left"
          },
          "hovermode": "closest",
          "mapbox": {
           "style": "light"
          },
          "paper_bgcolor": "white",
          "plot_bgcolor": "#E5ECF6",
          "polar": {
           "angularaxis": {
            "gridcolor": "white",
            "linecolor": "white",
            "ticks": ""
           },
           "bgcolor": "#E5ECF6",
           "radialaxis": {
            "gridcolor": "white",
            "linecolor": "white",
            "ticks": ""
           }
          },
          "scene": {
           "xaxis": {
            "backgroundcolor": "#E5ECF6",
            "gridcolor": "white",
            "gridwidth": 2,
            "linecolor": "white",
            "showbackground": true,
            "ticks": "",
            "zerolinecolor": "white"
           },
           "yaxis": {
            "backgroundcolor": "#E5ECF6",
            "gridcolor": "white",
            "gridwidth": 2,
            "linecolor": "white",
            "showbackground": true,
            "ticks": "",
            "zerolinecolor": "white"
           },
           "zaxis": {
            "backgroundcolor": "#E5ECF6",
            "gridcolor": "white",
            "gridwidth": 2,
            "linecolor": "white",
            "showbackground": true,
            "ticks": "",
            "zerolinecolor": "white"
           }
          },
          "shapedefaults": {
           "line": {
            "color": "#2a3f5f"
           }
          },
          "ternary": {
           "aaxis": {
            "gridcolor": "white",
            "linecolor": "white",
            "ticks": ""
           },
           "baxis": {
            "gridcolor": "white",
            "linecolor": "white",
            "ticks": ""
           },
           "bgcolor": "#E5ECF6",
           "caxis": {
            "gridcolor": "white",
            "linecolor": "white",
            "ticks": ""
           }
          },
          "title": {
           "x": 0.05
          },
          "xaxis": {
           "automargin": true,
           "gridcolor": "white",
           "linecolor": "white",
           "ticks": "",
           "title": {
            "standoff": 15
           },
           "zerolinecolor": "white",
           "zerolinewidth": 2
          },
          "yaxis": {
           "automargin": true,
           "gridcolor": "white",
           "linecolor": "white",
           "ticks": "",
           "title": {
            "standoff": 15
           },
           "zerolinecolor": "white",
           "zerolinewidth": 2
          }
         }
        },
        "title": {
         "text": "Movies_3_5_Books_5_10 - Statistics comparison"
        }
       }
      }
     },
     "metadata": {},
     "output_type": "display_data"
    },
    {
     "data": {
      "application/vnd.plotly.v1+json": {
       "config": {
        "plotlyServerURL": "https://plot.ly"
       },
       "data": [
        {
         "marker": {
          "color": "#28A08C"
         },
         "name": "Zero-Shot",
         "type": "bar",
         "x": [
          "One_word",
          "Short",
          "Below_mean",
          "Range_10_20",
          "Above_mean",
          "Range_max"
         ],
         "y": [
          2,
          2,
          301,
          64,
          147,
          1
         ]
        },
        {
         "marker": {
          "color": "#01DB8C"
         },
         "name": "One-Shot",
         "type": "bar",
         "x": [
          "One_word",
          "Short",
          "Below_mean",
          "Range_10_20",
          "Above_mean",
          "Range_max"
         ],
         "y": [
          0,
          0,
          239,
          8,
          222,
          13
         ]
        }
       ],
       "layout": {
        "template": {
         "data": {
          "bar": [
           {
            "error_x": {
             "color": "#2a3f5f"
            },
            "error_y": {
             "color": "#2a3f5f"
            },
            "marker": {
             "line": {
              "color": "#E5ECF6",
              "width": 0.5
             },
             "pattern": {
              "fillmode": "overlay",
              "size": 10,
              "solidity": 0.2
             }
            },
            "type": "bar"
           }
          ],
          "barpolar": [
           {
            "marker": {
             "line": {
              "color": "#E5ECF6",
              "width": 0.5
             },
             "pattern": {
              "fillmode": "overlay",
              "size": 10,
              "solidity": 0.2
             }
            },
            "type": "barpolar"
           }
          ],
          "carpet": [
           {
            "aaxis": {
             "endlinecolor": "#2a3f5f",
             "gridcolor": "white",
             "linecolor": "white",
             "minorgridcolor": "white",
             "startlinecolor": "#2a3f5f"
            },
            "baxis": {
             "endlinecolor": "#2a3f5f",
             "gridcolor": "white",
             "linecolor": "white",
             "minorgridcolor": "white",
             "startlinecolor": "#2a3f5f"
            },
            "type": "carpet"
           }
          ],
          "choropleth": [
           {
            "colorbar": {
             "outlinewidth": 0,
             "ticks": ""
            },
            "type": "choropleth"
           }
          ],
          "contour": [
           {
            "colorbar": {
             "outlinewidth": 0,
             "ticks": ""
            },
            "colorscale": [
             [
              0,
              "#0d0887"
             ],
             [
              0.1111111111111111,
              "#46039f"
             ],
             [
              0.2222222222222222,
              "#7201a8"
             ],
             [
              0.3333333333333333,
              "#9c179e"
             ],
             [
              0.4444444444444444,
              "#bd3786"
             ],
             [
              0.5555555555555556,
              "#d8576b"
             ],
             [
              0.6666666666666666,
              "#ed7953"
             ],
             [
              0.7777777777777778,
              "#fb9f3a"
             ],
             [
              0.8888888888888888,
              "#fdca26"
             ],
             [
              1,
              "#f0f921"
             ]
            ],
            "type": "contour"
           }
          ],
          "contourcarpet": [
           {
            "colorbar": {
             "outlinewidth": 0,
             "ticks": ""
            },
            "type": "contourcarpet"
           }
          ],
          "heatmap": [
           {
            "colorbar": {
             "outlinewidth": 0,
             "ticks": ""
            },
            "colorscale": [
             [
              0,
              "#0d0887"
             ],
             [
              0.1111111111111111,
              "#46039f"
             ],
             [
              0.2222222222222222,
              "#7201a8"
             ],
             [
              0.3333333333333333,
              "#9c179e"
             ],
             [
              0.4444444444444444,
              "#bd3786"
             ],
             [
              0.5555555555555556,
              "#d8576b"
             ],
             [
              0.6666666666666666,
              "#ed7953"
             ],
             [
              0.7777777777777778,
              "#fb9f3a"
             ],
             [
              0.8888888888888888,
              "#fdca26"
             ],
             [
              1,
              "#f0f921"
             ]
            ],
            "type": "heatmap"
           }
          ],
          "heatmapgl": [
           {
            "colorbar": {
             "outlinewidth": 0,
             "ticks": ""
            },
            "colorscale": [
             [
              0,
              "#0d0887"
             ],
             [
              0.1111111111111111,
              "#46039f"
             ],
             [
              0.2222222222222222,
              "#7201a8"
             ],
             [
              0.3333333333333333,
              "#9c179e"
             ],
             [
              0.4444444444444444,
              "#bd3786"
             ],
             [
              0.5555555555555556,
              "#d8576b"
             ],
             [
              0.6666666666666666,
              "#ed7953"
             ],
             [
              0.7777777777777778,
              "#fb9f3a"
             ],
             [
              0.8888888888888888,
              "#fdca26"
             ],
             [
              1,
              "#f0f921"
             ]
            ],
            "type": "heatmapgl"
           }
          ],
          "histogram": [
           {
            "marker": {
             "pattern": {
              "fillmode": "overlay",
              "size": 10,
              "solidity": 0.2
             }
            },
            "type": "histogram"
           }
          ],
          "histogram2d": [
           {
            "colorbar": {
             "outlinewidth": 0,
             "ticks": ""
            },
            "colorscale": [
             [
              0,
              "#0d0887"
             ],
             [
              0.1111111111111111,
              "#46039f"
             ],
             [
              0.2222222222222222,
              "#7201a8"
             ],
             [
              0.3333333333333333,
              "#9c179e"
             ],
             [
              0.4444444444444444,
              "#bd3786"
             ],
             [
              0.5555555555555556,
              "#d8576b"
             ],
             [
              0.6666666666666666,
              "#ed7953"
             ],
             [
              0.7777777777777778,
              "#fb9f3a"
             ],
             [
              0.8888888888888888,
              "#fdca26"
             ],
             [
              1,
              "#f0f921"
             ]
            ],
            "type": "histogram2d"
           }
          ],
          "histogram2dcontour": [
           {
            "colorbar": {
             "outlinewidth": 0,
             "ticks": ""
            },
            "colorscale": [
             [
              0,
              "#0d0887"
             ],
             [
              0.1111111111111111,
              "#46039f"
             ],
             [
              0.2222222222222222,
              "#7201a8"
             ],
             [
              0.3333333333333333,
              "#9c179e"
             ],
             [
              0.4444444444444444,
              "#bd3786"
             ],
             [
              0.5555555555555556,
              "#d8576b"
             ],
             [
              0.6666666666666666,
              "#ed7953"
             ],
             [
              0.7777777777777778,
              "#fb9f3a"
             ],
             [
              0.8888888888888888,
              "#fdca26"
             ],
             [
              1,
              "#f0f921"
             ]
            ],
            "type": "histogram2dcontour"
           }
          ],
          "mesh3d": [
           {
            "colorbar": {
             "outlinewidth": 0,
             "ticks": ""
            },
            "type": "mesh3d"
           }
          ],
          "parcoords": [
           {
            "line": {
             "colorbar": {
              "outlinewidth": 0,
              "ticks": ""
             }
            },
            "type": "parcoords"
           }
          ],
          "pie": [
           {
            "automargin": true,
            "type": "pie"
           }
          ],
          "scatter": [
           {
            "fillpattern": {
             "fillmode": "overlay",
             "size": 10,
             "solidity": 0.2
            },
            "type": "scatter"
           }
          ],
          "scatter3d": [
           {
            "line": {
             "colorbar": {
              "outlinewidth": 0,
              "ticks": ""
             }
            },
            "marker": {
             "colorbar": {
              "outlinewidth": 0,
              "ticks": ""
             }
            },
            "type": "scatter3d"
           }
          ],
          "scattercarpet": [
           {
            "marker": {
             "colorbar": {
              "outlinewidth": 0,
              "ticks": ""
             }
            },
            "type": "scattercarpet"
           }
          ],
          "scattergeo": [
           {
            "marker": {
             "colorbar": {
              "outlinewidth": 0,
              "ticks": ""
             }
            },
            "type": "scattergeo"
           }
          ],
          "scattergl": [
           {
            "marker": {
             "colorbar": {
              "outlinewidth": 0,
              "ticks": ""
             }
            },
            "type": "scattergl"
           }
          ],
          "scattermapbox": [
           {
            "marker": {
             "colorbar": {
              "outlinewidth": 0,
              "ticks": ""
             }
            },
            "type": "scattermapbox"
           }
          ],
          "scatterpolar": [
           {
            "marker": {
             "colorbar": {
              "outlinewidth": 0,
              "ticks": ""
             }
            },
            "type": "scatterpolar"
           }
          ],
          "scatterpolargl": [
           {
            "marker": {
             "colorbar": {
              "outlinewidth": 0,
              "ticks": ""
             }
            },
            "type": "scatterpolargl"
           }
          ],
          "scatterternary": [
           {
            "marker": {
             "colorbar": {
              "outlinewidth": 0,
              "ticks": ""
             }
            },
            "type": "scatterternary"
           }
          ],
          "surface": [
           {
            "colorbar": {
             "outlinewidth": 0,
             "ticks": ""
            },
            "colorscale": [
             [
              0,
              "#0d0887"
             ],
             [
              0.1111111111111111,
              "#46039f"
             ],
             [
              0.2222222222222222,
              "#7201a8"
             ],
             [
              0.3333333333333333,
              "#9c179e"
             ],
             [
              0.4444444444444444,
              "#bd3786"
             ],
             [
              0.5555555555555556,
              "#d8576b"
             ],
             [
              0.6666666666666666,
              "#ed7953"
             ],
             [
              0.7777777777777778,
              "#fb9f3a"
             ],
             [
              0.8888888888888888,
              "#fdca26"
             ],
             [
              1,
              "#f0f921"
             ]
            ],
            "type": "surface"
           }
          ],
          "table": [
           {
            "cells": {
             "fill": {
              "color": "#EBF0F8"
             },
             "line": {
              "color": "white"
             }
            },
            "header": {
             "fill": {
              "color": "#C8D4E3"
             },
             "line": {
              "color": "white"
             }
            },
            "type": "table"
           }
          ]
         },
         "layout": {
          "annotationdefaults": {
           "arrowcolor": "#2a3f5f",
           "arrowhead": 0,
           "arrowwidth": 1
          },
          "autotypenumbers": "strict",
          "coloraxis": {
           "colorbar": {
            "outlinewidth": 0,
            "ticks": ""
           }
          },
          "colorscale": {
           "diverging": [
            [
             0,
             "#8e0152"
            ],
            [
             0.1,
             "#c51b7d"
            ],
            [
             0.2,
             "#de77ae"
            ],
            [
             0.3,
             "#f1b6da"
            ],
            [
             0.4,
             "#fde0ef"
            ],
            [
             0.5,
             "#f7f7f7"
            ],
            [
             0.6,
             "#e6f5d0"
            ],
            [
             0.7,
             "#b8e186"
            ],
            [
             0.8,
             "#7fbc41"
            ],
            [
             0.9,
             "#4d9221"
            ],
            [
             1,
             "#276419"
            ]
           ],
           "sequential": [
            [
             0,
             "#0d0887"
            ],
            [
             0.1111111111111111,
             "#46039f"
            ],
            [
             0.2222222222222222,
             "#7201a8"
            ],
            [
             0.3333333333333333,
             "#9c179e"
            ],
            [
             0.4444444444444444,
             "#bd3786"
            ],
            [
             0.5555555555555556,
             "#d8576b"
            ],
            [
             0.6666666666666666,
             "#ed7953"
            ],
            [
             0.7777777777777778,
             "#fb9f3a"
            ],
            [
             0.8888888888888888,
             "#fdca26"
            ],
            [
             1,
             "#f0f921"
            ]
           ],
           "sequentialminus": [
            [
             0,
             "#0d0887"
            ],
            [
             0.1111111111111111,
             "#46039f"
            ],
            [
             0.2222222222222222,
             "#7201a8"
            ],
            [
             0.3333333333333333,
             "#9c179e"
            ],
            [
             0.4444444444444444,
             "#bd3786"
            ],
            [
             0.5555555555555556,
             "#d8576b"
            ],
            [
             0.6666666666666666,
             "#ed7953"
            ],
            [
             0.7777777777777778,
             "#fb9f3a"
            ],
            [
             0.8888888888888888,
             "#fdca26"
            ],
            [
             1,
             "#f0f921"
            ]
           ]
          },
          "colorway": [
           "#636efa",
           "#EF553B",
           "#00cc96",
           "#ab63fa",
           "#FFA15A",
           "#19d3f3",
           "#FF6692",
           "#B6E880",
           "#FF97FF",
           "#FECB52"
          ],
          "font": {
           "color": "#2a3f5f"
          },
          "geo": {
           "bgcolor": "white",
           "lakecolor": "white",
           "landcolor": "#E5ECF6",
           "showlakes": true,
           "showland": true,
           "subunitcolor": "white"
          },
          "hoverlabel": {
           "align": "left"
          },
          "hovermode": "closest",
          "mapbox": {
           "style": "light"
          },
          "paper_bgcolor": "white",
          "plot_bgcolor": "#E5ECF6",
          "polar": {
           "angularaxis": {
            "gridcolor": "white",
            "linecolor": "white",
            "ticks": ""
           },
           "bgcolor": "#E5ECF6",
           "radialaxis": {
            "gridcolor": "white",
            "linecolor": "white",
            "ticks": ""
           }
          },
          "scene": {
           "xaxis": {
            "backgroundcolor": "#E5ECF6",
            "gridcolor": "white",
            "gridwidth": 2,
            "linecolor": "white",
            "showbackground": true,
            "ticks": "",
            "zerolinecolor": "white"
           },
           "yaxis": {
            "backgroundcolor": "#E5ECF6",
            "gridcolor": "white",
            "gridwidth": 2,
            "linecolor": "white",
            "showbackground": true,
            "ticks": "",
            "zerolinecolor": "white"
           },
           "zaxis": {
            "backgroundcolor": "#E5ECF6",
            "gridcolor": "white",
            "gridwidth": 2,
            "linecolor": "white",
            "showbackground": true,
            "ticks": "",
            "zerolinecolor": "white"
           }
          },
          "shapedefaults": {
           "line": {
            "color": "#2a3f5f"
           }
          },
          "ternary": {
           "aaxis": {
            "gridcolor": "white",
            "linecolor": "white",
            "ticks": ""
           },
           "baxis": {
            "gridcolor": "white",
            "linecolor": "white",
            "ticks": ""
           },
           "bgcolor": "#E5ECF6",
           "caxis": {
            "gridcolor": "white",
            "linecolor": "white",
            "ticks": ""
           }
          },
          "title": {
           "x": 0.05
          },
          "xaxis": {
           "automargin": true,
           "gridcolor": "white",
           "linecolor": "white",
           "ticks": "",
           "title": {
            "standoff": 15
           },
           "zerolinecolor": "white",
           "zerolinewidth": 2
          },
          "yaxis": {
           "automargin": true,
           "gridcolor": "white",
           "linecolor": "white",
           "ticks": "",
           "title": {
            "standoff": 15
           },
           "zerolinecolor": "white",
           "zerolinewidth": 2
          }
         }
        },
        "title": {
         "text": "Movies_3_5_Books_8_10 - Statistics comparison"
        }
       }
      }
     },
     "metadata": {},
     "output_type": "display_data"
    }
   ],
   "source": [
    "plot_statistics_comparison(movies_35_books_510_0s_stats, movies_35_books_510_1s_stats, \"Movies_3_5_Books_5_10\", skip_keys=SKIP_KEYS)\n",
    "plot_statistics_comparison(movies_35_books_810_0s_stats, movies_35_books_810_1s_stats, \"Movies_3_5_Books_8_10\", skip_keys=SKIP_KEYS)"
   ]
  },
  {
   "cell_type": "code",
   "execution_count": 54,
   "metadata": {},
   "outputs": [
    {
     "data": {
      "application/vnd.plotly.v1+json": {
       "config": {
        "plotlyServerURL": "https://plot.ly"
       },
       "data": [
        {
         "marker": {
          "color": "#28A08C"
         },
         "name": "Zero-Shot",
         "type": "bar",
         "x": [
          "One_word",
          "Short",
          "Below_mean",
          "Range_10_20",
          "Above_mean",
          "Range_max"
         ],
         "y": [
          5,
          5,
          856,
          148,
          369,
          14
         ]
        },
        {
         "marker": {
          "color": "#01DB8C"
         },
         "name": "One-Shot",
         "type": "bar",
         "x": [
          "One_word",
          "Short",
          "Below_mean",
          "Range_10_20",
          "Above_mean",
          "Range_max"
         ],
         "y": [
          0,
          0,
          627,
          19,
          598,
          2
         ]
        }
       ],
       "layout": {
        "template": {
         "data": {
          "bar": [
           {
            "error_x": {
             "color": "#2a3f5f"
            },
            "error_y": {
             "color": "#2a3f5f"
            },
            "marker": {
             "line": {
              "color": "#E5ECF6",
              "width": 0.5
             },
             "pattern": {
              "fillmode": "overlay",
              "size": 10,
              "solidity": 0.2
             }
            },
            "type": "bar"
           }
          ],
          "barpolar": [
           {
            "marker": {
             "line": {
              "color": "#E5ECF6",
              "width": 0.5
             },
             "pattern": {
              "fillmode": "overlay",
              "size": 10,
              "solidity": 0.2
             }
            },
            "type": "barpolar"
           }
          ],
          "carpet": [
           {
            "aaxis": {
             "endlinecolor": "#2a3f5f",
             "gridcolor": "white",
             "linecolor": "white",
             "minorgridcolor": "white",
             "startlinecolor": "#2a3f5f"
            },
            "baxis": {
             "endlinecolor": "#2a3f5f",
             "gridcolor": "white",
             "linecolor": "white",
             "minorgridcolor": "white",
             "startlinecolor": "#2a3f5f"
            },
            "type": "carpet"
           }
          ],
          "choropleth": [
           {
            "colorbar": {
             "outlinewidth": 0,
             "ticks": ""
            },
            "type": "choropleth"
           }
          ],
          "contour": [
           {
            "colorbar": {
             "outlinewidth": 0,
             "ticks": ""
            },
            "colorscale": [
             [
              0,
              "#0d0887"
             ],
             [
              0.1111111111111111,
              "#46039f"
             ],
             [
              0.2222222222222222,
              "#7201a8"
             ],
             [
              0.3333333333333333,
              "#9c179e"
             ],
             [
              0.4444444444444444,
              "#bd3786"
             ],
             [
              0.5555555555555556,
              "#d8576b"
             ],
             [
              0.6666666666666666,
              "#ed7953"
             ],
             [
              0.7777777777777778,
              "#fb9f3a"
             ],
             [
              0.8888888888888888,
              "#fdca26"
             ],
             [
              1,
              "#f0f921"
             ]
            ],
            "type": "contour"
           }
          ],
          "contourcarpet": [
           {
            "colorbar": {
             "outlinewidth": 0,
             "ticks": ""
            },
            "type": "contourcarpet"
           }
          ],
          "heatmap": [
           {
            "colorbar": {
             "outlinewidth": 0,
             "ticks": ""
            },
            "colorscale": [
             [
              0,
              "#0d0887"
             ],
             [
              0.1111111111111111,
              "#46039f"
             ],
             [
              0.2222222222222222,
              "#7201a8"
             ],
             [
              0.3333333333333333,
              "#9c179e"
             ],
             [
              0.4444444444444444,
              "#bd3786"
             ],
             [
              0.5555555555555556,
              "#d8576b"
             ],
             [
              0.6666666666666666,
              "#ed7953"
             ],
             [
              0.7777777777777778,
              "#fb9f3a"
             ],
             [
              0.8888888888888888,
              "#fdca26"
             ],
             [
              1,
              "#f0f921"
             ]
            ],
            "type": "heatmap"
           }
          ],
          "heatmapgl": [
           {
            "colorbar": {
             "outlinewidth": 0,
             "ticks": ""
            },
            "colorscale": [
             [
              0,
              "#0d0887"
             ],
             [
              0.1111111111111111,
              "#46039f"
             ],
             [
              0.2222222222222222,
              "#7201a8"
             ],
             [
              0.3333333333333333,
              "#9c179e"
             ],
             [
              0.4444444444444444,
              "#bd3786"
             ],
             [
              0.5555555555555556,
              "#d8576b"
             ],
             [
              0.6666666666666666,
              "#ed7953"
             ],
             [
              0.7777777777777778,
              "#fb9f3a"
             ],
             [
              0.8888888888888888,
              "#fdca26"
             ],
             [
              1,
              "#f0f921"
             ]
            ],
            "type": "heatmapgl"
           }
          ],
          "histogram": [
           {
            "marker": {
             "pattern": {
              "fillmode": "overlay",
              "size": 10,
              "solidity": 0.2
             }
            },
            "type": "histogram"
           }
          ],
          "histogram2d": [
           {
            "colorbar": {
             "outlinewidth": 0,
             "ticks": ""
            },
            "colorscale": [
             [
              0,
              "#0d0887"
             ],
             [
              0.1111111111111111,
              "#46039f"
             ],
             [
              0.2222222222222222,
              "#7201a8"
             ],
             [
              0.3333333333333333,
              "#9c179e"
             ],
             [
              0.4444444444444444,
              "#bd3786"
             ],
             [
              0.5555555555555556,
              "#d8576b"
             ],
             [
              0.6666666666666666,
              "#ed7953"
             ],
             [
              0.7777777777777778,
              "#fb9f3a"
             ],
             [
              0.8888888888888888,
              "#fdca26"
             ],
             [
              1,
              "#f0f921"
             ]
            ],
            "type": "histogram2d"
           }
          ],
          "histogram2dcontour": [
           {
            "colorbar": {
             "outlinewidth": 0,
             "ticks": ""
            },
            "colorscale": [
             [
              0,
              "#0d0887"
             ],
             [
              0.1111111111111111,
              "#46039f"
             ],
             [
              0.2222222222222222,
              "#7201a8"
             ],
             [
              0.3333333333333333,
              "#9c179e"
             ],
             [
              0.4444444444444444,
              "#bd3786"
             ],
             [
              0.5555555555555556,
              "#d8576b"
             ],
             [
              0.6666666666666666,
              "#ed7953"
             ],
             [
              0.7777777777777778,
              "#fb9f3a"
             ],
             [
              0.8888888888888888,
              "#fdca26"
             ],
             [
              1,
              "#f0f921"
             ]
            ],
            "type": "histogram2dcontour"
           }
          ],
          "mesh3d": [
           {
            "colorbar": {
             "outlinewidth": 0,
             "ticks": ""
            },
            "type": "mesh3d"
           }
          ],
          "parcoords": [
           {
            "line": {
             "colorbar": {
              "outlinewidth": 0,
              "ticks": ""
             }
            },
            "type": "parcoords"
           }
          ],
          "pie": [
           {
            "automargin": true,
            "type": "pie"
           }
          ],
          "scatter": [
           {
            "fillpattern": {
             "fillmode": "overlay",
             "size": 10,
             "solidity": 0.2
            },
            "type": "scatter"
           }
          ],
          "scatter3d": [
           {
            "line": {
             "colorbar": {
              "outlinewidth": 0,
              "ticks": ""
             }
            },
            "marker": {
             "colorbar": {
              "outlinewidth": 0,
              "ticks": ""
             }
            },
            "type": "scatter3d"
           }
          ],
          "scattercarpet": [
           {
            "marker": {
             "colorbar": {
              "outlinewidth": 0,
              "ticks": ""
             }
            },
            "type": "scattercarpet"
           }
          ],
          "scattergeo": [
           {
            "marker": {
             "colorbar": {
              "outlinewidth": 0,
              "ticks": ""
             }
            },
            "type": "scattergeo"
           }
          ],
          "scattergl": [
           {
            "marker": {
             "colorbar": {
              "outlinewidth": 0,
              "ticks": ""
             }
            },
            "type": "scattergl"
           }
          ],
          "scattermapbox": [
           {
            "marker": {
             "colorbar": {
              "outlinewidth": 0,
              "ticks": ""
             }
            },
            "type": "scattermapbox"
           }
          ],
          "scatterpolar": [
           {
            "marker": {
             "colorbar": {
              "outlinewidth": 0,
              "ticks": ""
             }
            },
            "type": "scatterpolar"
           }
          ],
          "scatterpolargl": [
           {
            "marker": {
             "colorbar": {
              "outlinewidth": 0,
              "ticks": ""
             }
            },
            "type": "scatterpolargl"
           }
          ],
          "scatterternary": [
           {
            "marker": {
             "colorbar": {
              "outlinewidth": 0,
              "ticks": ""
             }
            },
            "type": "scatterternary"
           }
          ],
          "surface": [
           {
            "colorbar": {
             "outlinewidth": 0,
             "ticks": ""
            },
            "colorscale": [
             [
              0,
              "#0d0887"
             ],
             [
              0.1111111111111111,
              "#46039f"
             ],
             [
              0.2222222222222222,
              "#7201a8"
             ],
             [
              0.3333333333333333,
              "#9c179e"
             ],
             [
              0.4444444444444444,
              "#bd3786"
             ],
             [
              0.5555555555555556,
              "#d8576b"
             ],
             [
              0.6666666666666666,
              "#ed7953"
             ],
             [
              0.7777777777777778,
              "#fb9f3a"
             ],
             [
              0.8888888888888888,
              "#fdca26"
             ],
             [
              1,
              "#f0f921"
             ]
            ],
            "type": "surface"
           }
          ],
          "table": [
           {
            "cells": {
             "fill": {
              "color": "#EBF0F8"
             },
             "line": {
              "color": "white"
             }
            },
            "header": {
             "fill": {
              "color": "#C8D4E3"
             },
             "line": {
              "color": "white"
             }
            },
            "type": "table"
           }
          ]
         },
         "layout": {
          "annotationdefaults": {
           "arrowcolor": "#2a3f5f",
           "arrowhead": 0,
           "arrowwidth": 1
          },
          "autotypenumbers": "strict",
          "coloraxis": {
           "colorbar": {
            "outlinewidth": 0,
            "ticks": ""
           }
          },
          "colorscale": {
           "diverging": [
            [
             0,
             "#8e0152"
            ],
            [
             0.1,
             "#c51b7d"
            ],
            [
             0.2,
             "#de77ae"
            ],
            [
             0.3,
             "#f1b6da"
            ],
            [
             0.4,
             "#fde0ef"
            ],
            [
             0.5,
             "#f7f7f7"
            ],
            [
             0.6,
             "#e6f5d0"
            ],
            [
             0.7,
             "#b8e186"
            ],
            [
             0.8,
             "#7fbc41"
            ],
            [
             0.9,
             "#4d9221"
            ],
            [
             1,
             "#276419"
            ]
           ],
           "sequential": [
            [
             0,
             "#0d0887"
            ],
            [
             0.1111111111111111,
             "#46039f"
            ],
            [
             0.2222222222222222,
             "#7201a8"
            ],
            [
             0.3333333333333333,
             "#9c179e"
            ],
            [
             0.4444444444444444,
             "#bd3786"
            ],
            [
             0.5555555555555556,
             "#d8576b"
            ],
            [
             0.6666666666666666,
             "#ed7953"
            ],
            [
             0.7777777777777778,
             "#fb9f3a"
            ],
            [
             0.8888888888888888,
             "#fdca26"
            ],
            [
             1,
             "#f0f921"
            ]
           ],
           "sequentialminus": [
            [
             0,
             "#0d0887"
            ],
            [
             0.1111111111111111,
             "#46039f"
            ],
            [
             0.2222222222222222,
             "#7201a8"
            ],
            [
             0.3333333333333333,
             "#9c179e"
            ],
            [
             0.4444444444444444,
             "#bd3786"
            ],
            [
             0.5555555555555556,
             "#d8576b"
            ],
            [
             0.6666666666666666,
             "#ed7953"
            ],
            [
             0.7777777777777778,
             "#fb9f3a"
            ],
            [
             0.8888888888888888,
             "#fdca26"
            ],
            [
             1,
             "#f0f921"
            ]
           ]
          },
          "colorway": [
           "#636efa",
           "#EF553B",
           "#00cc96",
           "#ab63fa",
           "#FFA15A",
           "#19d3f3",
           "#FF6692",
           "#B6E880",
           "#FF97FF",
           "#FECB52"
          ],
          "font": {
           "color": "#2a3f5f"
          },
          "geo": {
           "bgcolor": "white",
           "lakecolor": "white",
           "landcolor": "#E5ECF6",
           "showlakes": true,
           "showland": true,
           "subunitcolor": "white"
          },
          "hoverlabel": {
           "align": "left"
          },
          "hovermode": "closest",
          "mapbox": {
           "style": "light"
          },
          "paper_bgcolor": "white",
          "plot_bgcolor": "#E5ECF6",
          "polar": {
           "angularaxis": {
            "gridcolor": "white",
            "linecolor": "white",
            "ticks": ""
           },
           "bgcolor": "#E5ECF6",
           "radialaxis": {
            "gridcolor": "white",
            "linecolor": "white",
            "ticks": ""
           }
          },
          "scene": {
           "xaxis": {
            "backgroundcolor": "#E5ECF6",
            "gridcolor": "white",
            "gridwidth": 2,
            "linecolor": "white",
            "showbackground": true,
            "ticks": "",
            "zerolinecolor": "white"
           },
           "yaxis": {
            "backgroundcolor": "#E5ECF6",
            "gridcolor": "white",
            "gridwidth": 2,
            "linecolor": "white",
            "showbackground": true,
            "ticks": "",
            "zerolinecolor": "white"
           },
           "zaxis": {
            "backgroundcolor": "#E5ECF6",
            "gridcolor": "white",
            "gridwidth": 2,
            "linecolor": "white",
            "showbackground": true,
            "ticks": "",
            "zerolinecolor": "white"
           }
          },
          "shapedefaults": {
           "line": {
            "color": "#2a3f5f"
           }
          },
          "ternary": {
           "aaxis": {
            "gridcolor": "white",
            "linecolor": "white",
            "ticks": ""
           },
           "baxis": {
            "gridcolor": "white",
            "linecolor": "white",
            "ticks": ""
           },
           "bgcolor": "#E5ECF6",
           "caxis": {
            "gridcolor": "white",
            "linecolor": "white",
            "ticks": ""
           }
          },
          "title": {
           "x": 0.05
          },
          "xaxis": {
           "automargin": true,
           "gridcolor": "white",
           "linecolor": "white",
           "ticks": "",
           "title": {
            "standoff": 15
           },
           "zerolinecolor": "white",
           "zerolinewidth": 2
          },
          "yaxis": {
           "automargin": true,
           "gridcolor": "white",
           "linecolor": "white",
           "ticks": "",
           "title": {
            "standoff": 15
           },
           "zerolinecolor": "white",
           "zerolinewidth": 2
          }
         }
        },
        "title": {
         "text": "Movies_3_5_CDs_5_10 - Statistics comparison"
        }
       }
      }
     },
     "metadata": {},
     "output_type": "display_data"
    },
    {
     "data": {
      "application/vnd.plotly.v1+json": {
       "config": {
        "plotlyServerURL": "https://plot.ly"
       },
       "data": [
        {
         "marker": {
          "color": "#28A08C"
         },
         "name": "Zero-Shot",
         "type": "bar",
         "x": [
          "One_word",
          "Short",
          "Below_mean",
          "Range_10_20",
          "Above_mean",
          "Range_max"
         ],
         "y": [
          4,
          4,
          249,
          50,
          122,
          4
         ]
        },
        {
         "marker": {
          "color": "#01DB8C"
         },
         "name": "One-Shot",
         "type": "bar",
         "x": [
          "One_word",
          "Short",
          "Below_mean",
          "Range_10_20",
          "Above_mean",
          "Range_max"
         ],
         "y": [
          0,
          0,
          192,
          6,
          179,
          3
         ]
        }
       ],
       "layout": {
        "template": {
         "data": {
          "bar": [
           {
            "error_x": {
             "color": "#2a3f5f"
            },
            "error_y": {
             "color": "#2a3f5f"
            },
            "marker": {
             "line": {
              "color": "#E5ECF6",
              "width": 0.5
             },
             "pattern": {
              "fillmode": "overlay",
              "size": 10,
              "solidity": 0.2
             }
            },
            "type": "bar"
           }
          ],
          "barpolar": [
           {
            "marker": {
             "line": {
              "color": "#E5ECF6",
              "width": 0.5
             },
             "pattern": {
              "fillmode": "overlay",
              "size": 10,
              "solidity": 0.2
             }
            },
            "type": "barpolar"
           }
          ],
          "carpet": [
           {
            "aaxis": {
             "endlinecolor": "#2a3f5f",
             "gridcolor": "white",
             "linecolor": "white",
             "minorgridcolor": "white",
             "startlinecolor": "#2a3f5f"
            },
            "baxis": {
             "endlinecolor": "#2a3f5f",
             "gridcolor": "white",
             "linecolor": "white",
             "minorgridcolor": "white",
             "startlinecolor": "#2a3f5f"
            },
            "type": "carpet"
           }
          ],
          "choropleth": [
           {
            "colorbar": {
             "outlinewidth": 0,
             "ticks": ""
            },
            "type": "choropleth"
           }
          ],
          "contour": [
           {
            "colorbar": {
             "outlinewidth": 0,
             "ticks": ""
            },
            "colorscale": [
             [
              0,
              "#0d0887"
             ],
             [
              0.1111111111111111,
              "#46039f"
             ],
             [
              0.2222222222222222,
              "#7201a8"
             ],
             [
              0.3333333333333333,
              "#9c179e"
             ],
             [
              0.4444444444444444,
              "#bd3786"
             ],
             [
              0.5555555555555556,
              "#d8576b"
             ],
             [
              0.6666666666666666,
              "#ed7953"
             ],
             [
              0.7777777777777778,
              "#fb9f3a"
             ],
             [
              0.8888888888888888,
              "#fdca26"
             ],
             [
              1,
              "#f0f921"
             ]
            ],
            "type": "contour"
           }
          ],
          "contourcarpet": [
           {
            "colorbar": {
             "outlinewidth": 0,
             "ticks": ""
            },
            "type": "contourcarpet"
           }
          ],
          "heatmap": [
           {
            "colorbar": {
             "outlinewidth": 0,
             "ticks": ""
            },
            "colorscale": [
             [
              0,
              "#0d0887"
             ],
             [
              0.1111111111111111,
              "#46039f"
             ],
             [
              0.2222222222222222,
              "#7201a8"
             ],
             [
              0.3333333333333333,
              "#9c179e"
             ],
             [
              0.4444444444444444,
              "#bd3786"
             ],
             [
              0.5555555555555556,
              "#d8576b"
             ],
             [
              0.6666666666666666,
              "#ed7953"
             ],
             [
              0.7777777777777778,
              "#fb9f3a"
             ],
             [
              0.8888888888888888,
              "#fdca26"
             ],
             [
              1,
              "#f0f921"
             ]
            ],
            "type": "heatmap"
           }
          ],
          "heatmapgl": [
           {
            "colorbar": {
             "outlinewidth": 0,
             "ticks": ""
            },
            "colorscale": [
             [
              0,
              "#0d0887"
             ],
             [
              0.1111111111111111,
              "#46039f"
             ],
             [
              0.2222222222222222,
              "#7201a8"
             ],
             [
              0.3333333333333333,
              "#9c179e"
             ],
             [
              0.4444444444444444,
              "#bd3786"
             ],
             [
              0.5555555555555556,
              "#d8576b"
             ],
             [
              0.6666666666666666,
              "#ed7953"
             ],
             [
              0.7777777777777778,
              "#fb9f3a"
             ],
             [
              0.8888888888888888,
              "#fdca26"
             ],
             [
              1,
              "#f0f921"
             ]
            ],
            "type": "heatmapgl"
           }
          ],
          "histogram": [
           {
            "marker": {
             "pattern": {
              "fillmode": "overlay",
              "size": 10,
              "solidity": 0.2
             }
            },
            "type": "histogram"
           }
          ],
          "histogram2d": [
           {
            "colorbar": {
             "outlinewidth": 0,
             "ticks": ""
            },
            "colorscale": [
             [
              0,
              "#0d0887"
             ],
             [
              0.1111111111111111,
              "#46039f"
             ],
             [
              0.2222222222222222,
              "#7201a8"
             ],
             [
              0.3333333333333333,
              "#9c179e"
             ],
             [
              0.4444444444444444,
              "#bd3786"
             ],
             [
              0.5555555555555556,
              "#d8576b"
             ],
             [
              0.6666666666666666,
              "#ed7953"
             ],
             [
              0.7777777777777778,
              "#fb9f3a"
             ],
             [
              0.8888888888888888,
              "#fdca26"
             ],
             [
              1,
              "#f0f921"
             ]
            ],
            "type": "histogram2d"
           }
          ],
          "histogram2dcontour": [
           {
            "colorbar": {
             "outlinewidth": 0,
             "ticks": ""
            },
            "colorscale": [
             [
              0,
              "#0d0887"
             ],
             [
              0.1111111111111111,
              "#46039f"
             ],
             [
              0.2222222222222222,
              "#7201a8"
             ],
             [
              0.3333333333333333,
              "#9c179e"
             ],
             [
              0.4444444444444444,
              "#bd3786"
             ],
             [
              0.5555555555555556,
              "#d8576b"
             ],
             [
              0.6666666666666666,
              "#ed7953"
             ],
             [
              0.7777777777777778,
              "#fb9f3a"
             ],
             [
              0.8888888888888888,
              "#fdca26"
             ],
             [
              1,
              "#f0f921"
             ]
            ],
            "type": "histogram2dcontour"
           }
          ],
          "mesh3d": [
           {
            "colorbar": {
             "outlinewidth": 0,
             "ticks": ""
            },
            "type": "mesh3d"
           }
          ],
          "parcoords": [
           {
            "line": {
             "colorbar": {
              "outlinewidth": 0,
              "ticks": ""
             }
            },
            "type": "parcoords"
           }
          ],
          "pie": [
           {
            "automargin": true,
            "type": "pie"
           }
          ],
          "scatter": [
           {
            "fillpattern": {
             "fillmode": "overlay",
             "size": 10,
             "solidity": 0.2
            },
            "type": "scatter"
           }
          ],
          "scatter3d": [
           {
            "line": {
             "colorbar": {
              "outlinewidth": 0,
              "ticks": ""
             }
            },
            "marker": {
             "colorbar": {
              "outlinewidth": 0,
              "ticks": ""
             }
            },
            "type": "scatter3d"
           }
          ],
          "scattercarpet": [
           {
            "marker": {
             "colorbar": {
              "outlinewidth": 0,
              "ticks": ""
             }
            },
            "type": "scattercarpet"
           }
          ],
          "scattergeo": [
           {
            "marker": {
             "colorbar": {
              "outlinewidth": 0,
              "ticks": ""
             }
            },
            "type": "scattergeo"
           }
          ],
          "scattergl": [
           {
            "marker": {
             "colorbar": {
              "outlinewidth": 0,
              "ticks": ""
             }
            },
            "type": "scattergl"
           }
          ],
          "scattermapbox": [
           {
            "marker": {
             "colorbar": {
              "outlinewidth": 0,
              "ticks": ""
             }
            },
            "type": "scattermapbox"
           }
          ],
          "scatterpolar": [
           {
            "marker": {
             "colorbar": {
              "outlinewidth": 0,
              "ticks": ""
             }
            },
            "type": "scatterpolar"
           }
          ],
          "scatterpolargl": [
           {
            "marker": {
             "colorbar": {
              "outlinewidth": 0,
              "ticks": ""
             }
            },
            "type": "scatterpolargl"
           }
          ],
          "scatterternary": [
           {
            "marker": {
             "colorbar": {
              "outlinewidth": 0,
              "ticks": ""
             }
            },
            "type": "scatterternary"
           }
          ],
          "surface": [
           {
            "colorbar": {
             "outlinewidth": 0,
             "ticks": ""
            },
            "colorscale": [
             [
              0,
              "#0d0887"
             ],
             [
              0.1111111111111111,
              "#46039f"
             ],
             [
              0.2222222222222222,
              "#7201a8"
             ],
             [
              0.3333333333333333,
              "#9c179e"
             ],
             [
              0.4444444444444444,
              "#bd3786"
             ],
             [
              0.5555555555555556,
              "#d8576b"
             ],
             [
              0.6666666666666666,
              "#ed7953"
             ],
             [
              0.7777777777777778,
              "#fb9f3a"
             ],
             [
              0.8888888888888888,
              "#fdca26"
             ],
             [
              1,
              "#f0f921"
             ]
            ],
            "type": "surface"
           }
          ],
          "table": [
           {
            "cells": {
             "fill": {
              "color": "#EBF0F8"
             },
             "line": {
              "color": "white"
             }
            },
            "header": {
             "fill": {
              "color": "#C8D4E3"
             },
             "line": {
              "color": "white"
             }
            },
            "type": "table"
           }
          ]
         },
         "layout": {
          "annotationdefaults": {
           "arrowcolor": "#2a3f5f",
           "arrowhead": 0,
           "arrowwidth": 1
          },
          "autotypenumbers": "strict",
          "coloraxis": {
           "colorbar": {
            "outlinewidth": 0,
            "ticks": ""
           }
          },
          "colorscale": {
           "diverging": [
            [
             0,
             "#8e0152"
            ],
            [
             0.1,
             "#c51b7d"
            ],
            [
             0.2,
             "#de77ae"
            ],
            [
             0.3,
             "#f1b6da"
            ],
            [
             0.4,
             "#fde0ef"
            ],
            [
             0.5,
             "#f7f7f7"
            ],
            [
             0.6,
             "#e6f5d0"
            ],
            [
             0.7,
             "#b8e186"
            ],
            [
             0.8,
             "#7fbc41"
            ],
            [
             0.9,
             "#4d9221"
            ],
            [
             1,
             "#276419"
            ]
           ],
           "sequential": [
            [
             0,
             "#0d0887"
            ],
            [
             0.1111111111111111,
             "#46039f"
            ],
            [
             0.2222222222222222,
             "#7201a8"
            ],
            [
             0.3333333333333333,
             "#9c179e"
            ],
            [
             0.4444444444444444,
             "#bd3786"
            ],
            [
             0.5555555555555556,
             "#d8576b"
            ],
            [
             0.6666666666666666,
             "#ed7953"
            ],
            [
             0.7777777777777778,
             "#fb9f3a"
            ],
            [
             0.8888888888888888,
             "#fdca26"
            ],
            [
             1,
             "#f0f921"
            ]
           ],
           "sequentialminus": [
            [
             0,
             "#0d0887"
            ],
            [
             0.1111111111111111,
             "#46039f"
            ],
            [
             0.2222222222222222,
             "#7201a8"
            ],
            [
             0.3333333333333333,
             "#9c179e"
            ],
            [
             0.4444444444444444,
             "#bd3786"
            ],
            [
             0.5555555555555556,
             "#d8576b"
            ],
            [
             0.6666666666666666,
             "#ed7953"
            ],
            [
             0.7777777777777778,
             "#fb9f3a"
            ],
            [
             0.8888888888888888,
             "#fdca26"
            ],
            [
             1,
             "#f0f921"
            ]
           ]
          },
          "colorway": [
           "#636efa",
           "#EF553B",
           "#00cc96",
           "#ab63fa",
           "#FFA15A",
           "#19d3f3",
           "#FF6692",
           "#B6E880",
           "#FF97FF",
           "#FECB52"
          ],
          "font": {
           "color": "#2a3f5f"
          },
          "geo": {
           "bgcolor": "white",
           "lakecolor": "white",
           "landcolor": "#E5ECF6",
           "showlakes": true,
           "showland": true,
           "subunitcolor": "white"
          },
          "hoverlabel": {
           "align": "left"
          },
          "hovermode": "closest",
          "mapbox": {
           "style": "light"
          },
          "paper_bgcolor": "white",
          "plot_bgcolor": "#E5ECF6",
          "polar": {
           "angularaxis": {
            "gridcolor": "white",
            "linecolor": "white",
            "ticks": ""
           },
           "bgcolor": "#E5ECF6",
           "radialaxis": {
            "gridcolor": "white",
            "linecolor": "white",
            "ticks": ""
           }
          },
          "scene": {
           "xaxis": {
            "backgroundcolor": "#E5ECF6",
            "gridcolor": "white",
            "gridwidth": 2,
            "linecolor": "white",
            "showbackground": true,
            "ticks": "",
            "zerolinecolor": "white"
           },
           "yaxis": {
            "backgroundcolor": "#E5ECF6",
            "gridcolor": "white",
            "gridwidth": 2,
            "linecolor": "white",
            "showbackground": true,
            "ticks": "",
            "zerolinecolor": "white"
           },
           "zaxis": {
            "backgroundcolor": "#E5ECF6",
            "gridcolor": "white",
            "gridwidth": 2,
            "linecolor": "white",
            "showbackground": true,
            "ticks": "",
            "zerolinecolor": "white"
           }
          },
          "shapedefaults": {
           "line": {
            "color": "#2a3f5f"
           }
          },
          "ternary": {
           "aaxis": {
            "gridcolor": "white",
            "linecolor": "white",
            "ticks": ""
           },
           "baxis": {
            "gridcolor": "white",
            "linecolor": "white",
            "ticks": ""
           },
           "bgcolor": "#E5ECF6",
           "caxis": {
            "gridcolor": "white",
            "linecolor": "white",
            "ticks": ""
           }
          },
          "title": {
           "x": 0.05
          },
          "xaxis": {
           "automargin": true,
           "gridcolor": "white",
           "linecolor": "white",
           "ticks": "",
           "title": {
            "standoff": 15
           },
           "zerolinecolor": "white",
           "zerolinewidth": 2
          },
          "yaxis": {
           "automargin": true,
           "gridcolor": "white",
           "linecolor": "white",
           "ticks": "",
           "title": {
            "standoff": 15
           },
           "zerolinecolor": "white",
           "zerolinewidth": 2
          }
         }
        },
        "title": {
         "text": "Movies_3_5_CDs_8_10 - Statistics comparison"
        }
       }
      }
     },
     "metadata": {},
     "output_type": "display_data"
    }
   ],
   "source": [
    "plot_statistics_comparison(movies_35_cds_510_0s_stats, movies_35_cds_510_1s_stats, \"Movies_3_5_CDs_5_10\", skip_keys=SKIP_KEYS)\n",
    "plot_statistics_comparison(movies_35_cds_810_0s_stats, movies_35_cds_810_1s_stats, \"Movies_3_5_CDs_8_10\", skip_keys=SKIP_KEYS)"
   ]
  },
  {
   "cell_type": "markdown",
   "metadata": {},
   "source": [
    "### Sample scenarios"
   ]
  },
  {
   "cell_type": "markdown",
   "metadata": {},
   "source": [
    "For simplicity, we'll use the same scenarios used in previous sections."
   ]
  },
  {
   "cell_type": "code",
   "execution_count": 55,
   "metadata": {},
   "outputs": [],
   "source": [
    "cds_35_books_510_0s_explanations = get_sample_explanations(cds_35_books_510_0s_preds['Explanation'].values)\n",
    "cds_35_books_510_1s_explanations = get_sample_explanations(cds_35_books_510_1s_preds['Explanation'].values)\n",
    "\n",
    "movies_35_books_510_0s_explanations = get_sample_explanations(movies_35_books_510_0s_preds['Explanation'].values)\n",
    "movies_35_books_510_1s_explanations = get_sample_explanations(movies_35_books_510_1s_preds['Explanation'].values)"
   ]
  },
  {
   "cell_type": "markdown",
   "metadata": {},
   "source": [
    "#### Short explanations"
   ]
  },
  {
   "cell_type": "code",
   "execution_count": 56,
   "metadata": {},
   "outputs": [
    {
     "name": "stdout",
     "output_type": "stream",
     "text": [
      "\n",
      "-------------------------------------------------\n",
      "CDs_3_5_Books_5_10 - One word explanations:\n",
      "Zero-shot: 23\n",
      "One-shot: 0\n",
      "-------------------------------------------------\n",
      "\n",
      "-------------------------------------------------\n",
      "Movies_3_5_Books_5_10 - One word explanations:\n",
      "Zero-shot: 2\n",
      "One-shot: 0\n",
      "-------------------------------------------------\n"
     ]
    }
   ],
   "source": [
    "# ---------------------------\n",
    "# Count one-word explanations\n",
    "# ---------------------------\n",
    "print(\"\\n-------------------------------------------------\")\n",
    "print(\"CDs_3_5_Books_5_10 - One word explanations:\")\n",
    "print(f\"Zero-shot: {len(cds_35_books_510_0s_explanations['one_word'])}\")\n",
    "print(f\"One-shot: {len(cds_35_books_510_1s_explanations['one_word'])}\")\n",
    "print(\"-------------------------------------------------\")\n",
    "\n",
    "print(\"\\n-------------------------------------------------\")\n",
    "print(\"Movies_3_5_Books_5_10 - One word explanations:\")\n",
    "print(f\"Zero-shot: {len(movies_35_books_510_0s_explanations['one_word'])}\")\n",
    "print(f\"One-shot: {len(movies_35_books_510_1s_explanations['one_word'])}\")\n",
    "print(\"-------------------------------------------------\")"
   ]
  },
  {
   "cell_type": "code",
   "execution_count": 57,
   "metadata": {},
   "outputs": [
    {
     "name": "stdout",
     "output_type": "stream",
     "text": [
      "CDs_3_5_Books_5_10__0s: \n",
      "['', '', '', '', '', '', '', '', '', '', '', '', '', '', '', '', '', '', '', '', '', '', ''] \n",
      "\n",
      "Movies_3_5_Books_5_10__0s: \n",
      "['', '']\n"
     ]
    }
   ],
   "source": [
    "print(f\"CDs_3_5_Books_5_10__0s: \\n{cds_35_books_510_0s_explanations['one_word']} \\n\")\n",
    "print(f\"Movies_3_5_Books_5_10__0s: \\n{movies_35_books_510_0s_explanations['one_word']}\")"
   ]
  },
  {
   "cell_type": "code",
   "execution_count": 58,
   "metadata": {},
   "outputs": [
    {
     "name": "stdout",
     "output_type": "stream",
     "text": [
      "\n",
      "-------------------------------------------------\n",
      "CDs_3_5_Books_5_10 - Short explanations:\n",
      "Zero-shot: 23\n",
      "One-shot: 0\n",
      "-------------------------------------------------\n",
      "\n",
      "-------------------------------------------------\n",
      "Movies_3_5_Books_5_10 - Short explanations:\n",
      "Zero-shot: 2\n",
      "One-shot: 0\n",
      "-------------------------------------------------\n"
     ]
    }
   ],
   "source": [
    "# ---------------------------\n",
    "# Count short explanations\n",
    "# ---------------------------\n",
    "print(\"\\n-------------------------------------------------\")\n",
    "print(\"CDs_3_5_Books_5_10 - Short explanations:\")\n",
    "print(f\"Zero-shot: {len(cds_35_books_510_0s_explanations['short'])}\")\n",
    "print(f\"One-shot: {len(cds_35_books_510_1s_explanations['short'])}\")\n",
    "print(\"-------------------------------------------------\")\n",
    "\n",
    "print(\"\\n-------------------------------------------------\")\n",
    "print(\"Movies_3_5_Books_5_10 - Short explanations:\")\n",
    "print(f\"Zero-shot: {len(movies_35_books_510_0s_explanations['short'])}\")\n",
    "print(f\"One-shot: {len(movies_35_books_510_1s_explanations['short'])}\")\n",
    "print(\"-------------------------------------------------\")"
   ]
  },
  {
   "cell_type": "markdown",
   "metadata": {},
   "source": [
    "Therefore, very short explanation (up to 5 words) are the empty ones."
   ]
  },
  {
   "cell_type": "code",
   "execution_count": 59,
   "metadata": {},
   "outputs": [
    {
     "name": "stdout",
     "output_type": "stream",
     "text": [
      "\n",
      "-------------------------------------------------\n",
      "CDs_3_5_Books_5_10 - 10-20 words explanations:\n",
      "Zero-shot: 135\n",
      "One-shot: 7\n",
      "-------------------------------------------------\n",
      "\n",
      "-------------------------------------------------\n",
      "Movies_3_5_Books_5_10 - 10-20 words explanations:\n",
      "Zero-shot: 199\n",
      "One-shot: 14\n",
      "-------------------------------------------------\n"
     ]
    }
   ],
   "source": [
    "# ---------------------------\n",
    "# Count 10-20 words explanations\n",
    "# ---------------------------\n",
    "print(\"\\n-------------------------------------------------\")\n",
    "print(\"CDs_3_5_Books_5_10 - 10-20 words explanations:\")\n",
    "print(f\"Zero-shot: {cds_35_books_510_0s_explanations['count_10_20']}\")\n",
    "print(f\"One-shot: {cds_35_books_510_1s_explanations['count_10_20']}\")\n",
    "print(\"-------------------------------------------------\")\n",
    "\n",
    "print(\"\\n-------------------------------------------------\")\n",
    "print(\"Movies_3_5_Books_5_10 - 10-20 words explanations:\")\n",
    "print(f\"Zero-shot: {movies_35_books_510_0s_explanations['count_10_20']}\")\n",
    "print(f\"One-shot: {movies_35_books_510_1s_explanations['count_10_20']}\")\n",
    "print(\"-------------------------------------------------\")"
   ]
  },
  {
   "cell_type": "code",
   "execution_count": 60,
   "metadata": {},
   "outputs": [
    {
     "name": "stdout",
     "output_type": "stream",
     "text": [
      "\n",
      "------------- CDs_3_5_Books_5_10__0s -------------\n",
      "Based on the user's liked CDs from The Rolling Stones, I recommend the following books:\n",
      "Based on the user's liked CDs, which are in the pop and singer-songwriter genres, I recommend the following books:\n",
      "Based on the user's liked and disliked CDs, I recommend the following books:\n",
      "Based on the user's liked and disliked CDs, I have ranked the candidate books.\n",
      "Based on the user's liked CDs, which include soundtracks and classic rock albums, I recommend the following books:\n",
      "-------------------------------------------------\n",
      "\n",
      "------------- CDs_3_5_Books_5_10__1s -------------\n",
      "Based on your liked CDs, which are mainly in the Pop and Soft Rock genres, I recommend the following books:\n",
      "Based on your liked CDs, which include classic rock, jazz, and alternative metal, I recommend the following books:\n",
      "Based on your liked CDs, which include Broadway musicals and classical music, I recommend the following books:\n",
      "Based on your dislike for CDs related to alternative rock and punk genres, I have recommended books from different categories.\n",
      "Based on your liked CDs, which include soundtracks and pop music, I recommend books that cover a range of topics.\n",
      "-------------------------------------------------\n"
     ]
    }
   ],
   "source": [
    "print(\"\\n------------- CDs_3_5_Books_5_10__0s -------------\")\n",
    "for explanation in cds_35_books_510_0s_explanations['sample_10_20']:\n",
    "    print(explanation)\n",
    "print(\"-------------------------------------------------\")\n",
    "\n",
    "print(\"\\n------------- CDs_3_5_Books_5_10__1s -------------\")\n",
    "for explanation in cds_35_books_510_1s_explanations['sample_10_20']:\n",
    "    print(explanation)\n",
    "print(\"-------------------------------------------------\")"
   ]
  },
  {
   "cell_type": "code",
   "execution_count": 61,
   "metadata": {},
   "outputs": [
    {
     "name": "stdout",
     "output_type": "stream",
     "text": [
      "\n",
      "------------- Movies_3_5_Books_5_10__0s -------------\n",
      "Based on the user's liked movies, I have recommended books that are in similar categories or have similar themes.\n",
      "Based on the user's liked movies, which include action movies and studio specials, I would recommend the following books:\n",
      "Based on the user's liked movies, which include action, adventure, drama, and fantasy genres, I recommend the following books:\n",
      "Based on the user's liked and disliked movies, I will recommend books that are similar in genre and themes.\n",
      "Based on your liked movies, I have identified the following patterns:\n",
      "-------------------------------------------------\n",
      "\n",
      "------------- Movies_3_5_Books_5_10__1s -------------\n",
      "Based on your liked movies, which include action, adventure, and fantasy genres, I recommend the following books:\n",
      "Based on your liked movies in the reality TV genre, I have recommended books that cover a range of topics.\n",
      "Based on your liked movies, which are \"Reilly: Ace of Spies\" and \"Producers\", I recommend the following books:\n",
      "Based on your liked movies, which include comedy, music, and sci-fi genres, I have ranked the books accordingly.\n",
      "Based on your liked movies, which include music-related documentaries and fantasy films like Harry Potter, I recommend the following books:\n",
      "-------------------------------------------------\n"
     ]
    }
   ],
   "source": [
    "print(\"\\n------------- Movies_3_5_Books_5_10__0s -------------\")\n",
    "for explanation in movies_35_books_510_0s_explanations['sample_10_20']:\n",
    "    print(explanation)\n",
    "print(\"-------------------------------------------------\")\n",
    "\n",
    "print(\"\\n------------- Movies_3_5_Books_5_10__1s -------------\")\n",
    "for explanation in movies_35_books_510_1s_explanations['sample_10_20']:\n",
    "    print(explanation)\n",
    "print(\"-------------------------------------------------\")"
   ]
  },
  {
   "cell_type": "code",
   "execution_count": 62,
   "metadata": {},
   "outputs": [
    {
     "name": "stdout",
     "output_type": "stream",
     "text": [
      "\n",
      "-------------------------------------------------\n",
      "CDs_3_5_Books_5_10 - Below mean explanations:\n",
      "Zero-shot: 916\n",
      "One-shot: 669\n",
      "-------------------------------------------------\n",
      "\n",
      "-------------------------------------------------\n",
      "Movies_3_5_Books_5_10 - Below mean explanations:\n",
      "Zero-shot: 806\n",
      "One-shot: 633\n",
      "-------------------------------------------------\n"
     ]
    }
   ],
   "source": [
    "# ---------------------------\n",
    "# Count below mean explanations\n",
    "# ---------------------------\n",
    "print(\"\\n-------------------------------------------------\")\n",
    "print(\"CDs_3_5_Books_5_10 - Below mean explanations:\")\n",
    "print(f\"Zero-shot: {cds_35_books_510_0s_explanations['count_below_mean']}\")\n",
    "print(f\"One-shot: {cds_35_books_510_1s_explanations['count_below_mean']}\")\n",
    "print(\"-------------------------------------------------\")\n",
    "\n",
    "print(\"\\n-------------------------------------------------\")\n",
    "print(\"Movies_3_5_Books_5_10 - Below mean explanations:\")\n",
    "print(f\"Zero-shot: {movies_35_books_510_0s_explanations['count_below_mean']}\")\n",
    "print(f\"One-shot: {movies_35_books_510_1s_explanations['count_below_mean']}\")\n",
    "print(\"-------------------------------------------------\")"
   ]
  },
  {
   "cell_type": "code",
   "execution_count": 63,
   "metadata": {},
   "outputs": [
    {
     "name": "stdout",
     "output_type": "stream",
     "text": [
      "\n",
      "------------- CDs_3_5_Books_5_10__0s -------------\n",
      "Based on the user's liked CDs, which are in the category of 'World Music', 'Europe', 'British Isles', 'Britain', I recommend books that are related to literature and fiction.\n",
      "Based on the user's liked and disliked CDs, we can see that the user has a preference for soundtracks and movie scores. Therefore, it is likely that the user has an interest in books related to music or movies.\n",
      "Based on the user's liked CDs, which are in the categories of 'Dance & Electronic' and 'Techno', and the disliked CDs, which are in the categories of 'Jazz', it seems that the user has a preference for electronic music and may not be interested in jazz.\n",
      "Based on the user's liked CDs, which are in the categories of 'Classic Rock' and 'Album-Oriented Rock (AOR)', I recommend books that are related to engineering and transportation. The top 5 recommended books are:\n",
      "Based on the user's liked CDs, which are mainly in the categories of 'CDs & Vinyl', 'Pop', 'Adult Alternative', and 'Alternative Rock', the recommender system suggests books that are in the categories of 'Books', 'Science Fiction & Fantasy', 'Fantasy', 'Literature & Fiction', and 'Action & Adventure'.\n",
      "-------------------------------------------------\n",
      "\n",
      "------------- CDs_3_5_Books_5_10__1s -------------\n",
      "Based on your liked CDs, which are mainly in the pop and soundtracks categories, I recommend books that are related to crafts and hobbies, specifically quilting. Quilting is a creative and artistic activity that can be similar to the enjoyment of listening to music. The recommended books offer various projects and techniques for creating modern quilts, which can provide a similar sense of creativity and enjoyment as listening to music.\n",
      "Based on the user's liked CDs, which include artists like Roberta Flack, Whitney Houston, and Nancy Wilson, it seems that the user has a preference for pop and traditional pop music. Therefore, I have ranked the books that are related to arts and literature, biographies, and humor higher in the recommendation list. These books may appeal to the user's interest in the arts and entertainment industry. Additionally, I have considered books that are related to cooking and regional cuisine, as the user's liked CDs may indicate an interest in cultural aspects.\n",
      "Based on your liked CDs in the metal genre, I have recommended books that align with the themes of action, adventure, and thrillers. These books are likely to appeal to your taste for intense and exciting content. Additionally, I have considered books related to relationships and social sciences, as they can provide a diverse range of reading options.\n",
      "Based on your liked CDs, which include artists like Jimmy Buffett, Michelle Branch, and the Buffy the Vampire Slayer soundtrack, it seems that you have a preference for music with a pop and singer-songwriter style. Therefore, I have ranked the books that align with this preference.\n",
      "Based on your liked CDs in the R&B and Funk genres, I have recommended books that are related to health, fitness, and sports. These books can provide you with valuable information on endurance training, striking techniques for self-defense, Wing Chun martial arts, personal food and fitness journaling, and bodyweight strength training. These recommendations are made based on the assumption that you have an interest in physical fitness and self-improvement, which aligns with the themes of your liked CDs.\n",
      "-------------------------------------------------\n"
     ]
    }
   ],
   "source": [
    "print(\"\\n------------- CDs_3_5_Books_5_10__0s -------------\")\n",
    "for explanation in cds_35_books_510_0s_explanations['sample_below_mean']:\n",
    "    print(explanation)\n",
    "print(\"-------------------------------------------------\")\n",
    "\n",
    "print(\"\\n------------- CDs_3_5_Books_5_10__1s -------------\")\n",
    "for explanation in cds_35_books_510_1s_explanations['sample_below_mean']:\n",
    "    print(explanation)\n",
    "print(\"-------------------------------------------------\")"
   ]
  },
  {
   "cell_type": "code",
   "execution_count": 64,
   "metadata": {},
   "outputs": [
    {
     "name": "stdout",
     "output_type": "stream",
     "text": [
      "\n",
      "------------- Movies_3_5_Books_5_10__0s -------------\n",
      "Based on the user's liked movies, which are related to science, astronomy, and documentary, I recommend the following books:\n",
      "Based on the user's liked movies, which include movies about submarines, action & adventure, and television boxed sets, I recommend books that are related to similar themes.\n",
      "Based on the user's liked item \"Orla Fallon's Celtic Christmas\" which falls under the category \"Movies & TV, Holidays & Seasonal, Christmas\", I recommend the following books that are related to holidays, politics, and social sciences.\n",
      "Based on the user's liked movies in the comedy genre, I recommend books from the \"Comics & Graphic Novels\" category. These books are likely to appeal to the user's preference for visual storytelling and entertainment. The top 5 recommended books are:\n",
      "Based on the user's liked movies, which are in the categories of 'Movies & TV' and 'Drama', I have selected books that are in similar categories. The top 5 recommended books are:\n",
      "-------------------------------------------------\n",
      "\n",
      "------------- Movies_3_5_Books_5_10__1s -------------\n",
      "Based on the user's disliked movies, which include genres like documentary, action & adventure, and studio specials, I have ranked the books that are more likely to align with the user's preferences.\n",
      "Based on the user's liked movies, which include \"Widows' Peak VHS\" and \"VICAR OF DIBLEY: IMMACULATE COL (DVD)\", it seems that the user enjoys movies with strong female characters and comedic elements. Therefore, the recommended books are selected with a similar theme in mind.\n",
      "Based on the user's disliked movies, which include genres like action, adventure, and studio specials, I have ranked the books that fall under the mystery, thriller, and suspense categories. These books are likely to provide a different and engaging experience for the user, as they offer suspenseful and thrilling storylines. Additionally, the books by authors such as Christine Poulson, Dan Vining, and David Morrell are highly regarded in the mystery genre, making them suitable recommendations for the user.\n",
      "Based on your liked movies, which are in the drama genre, I have selected books that are related to mental health, alternative medicine, and personal growth. These books may provide you with positive quotations, information about bipolar disorder, and insights into the lives of famous individuals. Additionally, I have included books in the humor category to provide a balanced selection.\n",
      "Based on your liked movies, which include \"Breaking Bad: Season Four\" and \"The Best of Bluegrass Underground\", I can infer that you have an interest in music and entertainment. Therefore, I recommend books that align with these interests.\n",
      "-------------------------------------------------\n"
     ]
    }
   ],
   "source": [
    "print(\"\\n------------- Movies_3_5_Books_5_10__0s -------------\")\n",
    "for explanation in movies_35_books_510_0s_explanations['sample_below_mean']:\n",
    "    print(explanation)\n",
    "print(\"-------------------------------------------------\")\n",
    "\n",
    "print(\"\\n------------- Movies_3_5_Books_5_10__1s -------------\")\n",
    "for explanation in movies_35_books_510_1s_explanations['sample_below_mean']:\n",
    "    print(explanation)\n",
    "print(\"-------------------------------------------------\")"
   ]
  },
  {
   "cell_type": "markdown",
   "metadata": {},
   "source": [
    "#### Long explanations"
   ]
  },
  {
   "cell_type": "code",
   "execution_count": 65,
   "metadata": {},
   "outputs": [
    {
     "name": "stdout",
     "output_type": "stream",
     "text": [
      "\n",
      "-------------------------------------------------\n",
      "CDs_3_5_Books_5_10 - Above mean explanations:\n",
      "Zero-shot: 331\n",
      "One-shot: 578\n",
      "-------------------------------------------------\n",
      "\n",
      "-------------------------------------------------\n",
      "Movies_3_5_Books_5_10 - Above mean explanations:\n",
      "Zero-shot: 365\n",
      "One-shot: 592\n",
      "-------------------------------------------------\n"
     ]
    }
   ],
   "source": [
    "# ---------------------------\n",
    "# Count above mean explanations\n",
    "# ---------------------------\n",
    "print(\"\\n-------------------------------------------------\")\n",
    "print(\"CDs_3_5_Books_5_10 - Above mean explanations:\")\n",
    "print(f\"Zero-shot: {cds_35_books_510_0s_explanations['count_above_mean']}\")\n",
    "print(f\"One-shot: {cds_35_books_510_1s_explanations['count_above_mean']}\")\n",
    "print(\"-------------------------------------------------\")\n",
    "\n",
    "print(\"\\n-------------------------------------------------\")\n",
    "print(\"Movies_3_5_Books_5_10 - Above mean explanations:\")\n",
    "print(f\"Zero-shot: {movies_35_books_510_0s_explanations['count_above_mean']}\")\n",
    "print(f\"One-shot: {movies_35_books_510_1s_explanations['count_above_mean']}\")\n",
    "print(\"-------------------------------------------------\")"
   ]
  },
  {
   "cell_type": "code",
   "execution_count": 66,
   "metadata": {},
   "outputs": [
    {
     "name": "stdout",
     "output_type": "stream",
     "text": [
      "\n",
      "------------- CDs_3_5_Books_5_10__0s -------------\n",
      "Based on the user's liked CDs, which are mainly in the Jazz genre, I recommend books that are related to music and specifically guitar. The recommended books are focused on different aspects of guitar playing, such as arpeggios, soloing, classical guitar method, and scales & modes. These books are likely to be of interest to the user as they provide further knowledge and techniques for guitar playing, which aligns with their interest in Jazz music.\n",
      "Based on the user's liked CDs, which are mainly in the categories of 'Comedy & Spoken Word' and 'Comedic Music', I recommend books that are related to humor and entertainment. The top-ranked book, \"The Effortless Sleep Method: The Incredible New Cure for Insomnia and Chronic Sleep Problems\", may be of interest to the user as it falls under the category of 'Health, Fitness & Dieting' and addresses a common issue. The next recommended book, \"Dr. Peter Scardino's Prostate Book, Revised Edition: The Complete Guide to Overcoming Prostate Cancer, Prostatitis, and BPH\", is relevant to the user's interest in health and diseases. The remaining books, \"The New York City Bartender's Joke Book\" and \"Rick Sammon's Complete Guide to Digital Photography\", cater to the user's interest in humor and photography respectively.\n",
      "Based on the user's liked CDs, which are mainly in the categories of 'Pop' and 'Oldies', I have selected books that are related to arts, literature, and history. The top-ranked book, \"Topsy: The Startling Story of the Crooked Tailed Elephant, P.T. Barnum, and the American Wizard, Thomas Edison\" is in the category of 'Arts & Photography' and 'Performing Arts', which might be of interest to the user who enjoys music. The other recommended books cover a range of topics such as biographies, Christian values, and philosophical conversations, which could provide a diverse reading experience for the user.\n",
      "Based on the user's liked CDs, which are in the 'Pop' category, I have ranked the books that also fall under the 'Pop' category. The top recommended book is \"Che Guevara: A Revolutionary Life\" by Jon Lee Anderson, which is a biography and falls under the 'Biographies & Memoirs' category. This book may appeal to the user's interest in pop culture and provide an in-depth look into the life of a revolutionary figure. The other recommended books also fall under categories that align with the user's liked CDs, such as mystery, history, and technology.\n",
      "Based on the user's liked CDs, which are in the categories of 'Alternative Rock', 'Hardcore & Punk', and 'Proto Punk', I recommend books that are in the categories of 'Literature & Fiction' and 'Genre Fiction'. The recommended books have a similar theme of music, rebellion, and alternative culture, which aligns with the user's preferences. Additionally, the recommended books cover a range of topics such as historical fiction, vampire fiction, and war history, providing a diverse set of options for the user to explore.\n",
      "-------------------------------------------------\n",
      "\n",
      "------------- CDs_3_5_Books_5_10__1s -------------\n",
      "Based on your liked CDs, which are all Christmas-themed, I recommend books that are related to entertainment and leisure activities. \"Towers of Midnight\" is a fantasy novel that can provide an immersive and engaging reading experience. \"700 Sundays\" is a memoir by Billy Crystal, offering a mix of humor and personal stories. For puzzle enthusiasts, \"Large Print Sudoku\" books by Patrick Blindauer and Frank Longo can provide a fun and challenging activity. Lastly, \"The Mortal Instruments\" series by Cassandra Clare is a popular young adult fantasy series that can offer an exciting and adventurous reading experience.\n",
      "Based on your dislike for classical symphonies, I have ranked the books that are not related to classical music or symphonies. The top-ranked book, \"The Historian\" by Elizabeth Kostova, falls under the category of literature and fiction, which is completely different from classical music. The next book, \"The Canon: A Whirligig Tour of the Beautiful Basics of Science\" by Natalie Angier, is a science and math reference book, providing a different genre of knowledge. The third-ranked book, \"David Buschs Olympus OM-D E-M1 Guide to Digital Photography\" by David D. Busch, is a guide to digital photography, which is unrelated to classical music. The fourth-ranked book, \"Reading Lyrics\" by Robert Gottlieb, is a reference book on writing, research, and publishing guides, providing a different area of interest. Finally, the fifth-ranked book, \"The Imperial Cruise: A Secret History of Empire and War\" by James Bradley, falls under the category of politics and government, offering a different perspective from classical music.\n",
      "Based on your liked CDs in the country genre, I have recommended books that are related to humor, children's books, education, and crafts. The top-ranked book, \"Born Standing Up: A Comic's Life,\" by Steve Martin, is a memoir that explores the world of comedy. The second-ranked book, \"The Alphabet from A to Y With Bonus Letter Z!\" by Steve Martin, is a children's book that helps kids learn the alphabet. The third-ranked book, \"Digger Man\" by Andrea Zimmerman, is a children's book about construction vehicles. The fourth-ranked book, \"The Little Hands Big Fun Craft Book: Creative Fun for 2- To 6-Year-Olds\" by Judy Press, is an educational book that provides craft ideas for young children. The fifth-ranked book, \"The Ultimate Basket Book: A Cornucopia of Popular Designs to Make\" by Lyn Siler, is a craft book that offers various basket designs to create. These recommendations are based on the similarity between the country music genre and the themes of humor, children's books, education, and crafts.\n",
      "Based on your liked CDs, which include classic rock and jazz genres, I recommend books that are related to music, history, and biographies. \"Stick Control: For the Snare Drummer\" and \"Progressive Steps to Syncopation for the Modern Drummer\" are books that can enhance your drumming skills. \"The Fall of Carthage: The Punic Wars 265-146BC\" and \"Shinsengumi: The Shogun's Last Samurai Corps\" are historical books that may interest you. Lastly, \"Planet of Adventure: City of the Chasch, Servants of the Wankh, The Dirdir, and The Pnume\" is a science fiction book that can provide an adventurous reading experience.\n",
      "Based on your liked CDs, which include classical and pop genres, and your dislike for a pop and easy listening CD, the recommended books are selected to align with your interest in music and entertainment. The top-ranked book, \"The Zombie Survival Guide: Complete Protection from the Living Dead,\" combines the elements of entertainment and survival, which may appeal to your interest in pop culture. The other recommended books include \"Star Wars Lightsaber Thumb Wrestling\" for its interactive and playful nature, \"Theater Geek: The Real Life Drama of a Summer at Stagedoor Manor\" for its connection to performing arts, \"World Peace Diet: Eating for Spiritual Health and Social Harmony\" for its exploration of the relationship between food and spirituality, and \"Diagnostic and Statistical Manual of Mental Disorders, 5th Edition: DSM-5\" for its relevance to health and psychology.\n",
      "-------------------------------------------------\n"
     ]
    }
   ],
   "source": [
    "print(\"\\n------------- CDs_3_5_Books_5_10__0s -------------\")\n",
    "for explanation in cds_35_books_510_0s_explanations['sample_above_mean']:\n",
    "    print(explanation)\n",
    "print(\"-------------------------------------------------\")\n",
    "\n",
    "print(\"\\n------------- CDs_3_5_Books_5_10__1s -------------\")\n",
    "for explanation in cds_35_books_510_1s_explanations['sample_above_mean']:\n",
    "    print(explanation)\n",
    "print(\"-------------------------------------------------\")"
   ]
  },
  {
   "cell_type": "code",
   "execution_count": 67,
   "metadata": {},
   "outputs": [
    {
     "name": "stdout",
     "output_type": "stream",
     "text": [
      "\n",
      "------------- Movies_3_5_Books_5_10__0s -------------\n",
      "Based on the user's liked items, which include movies related to music artists and live performances, and the user's disliked items, which include drama TV series, the recommender system suggests books that are related to music, entertainment, and crafts. The top-ranked book, \"Backstage Pass: Just Justin,\" is a biography about Justin Timberlake, which aligns with the user's interest in music artists. \"Kardashian Konfidential\" is another biography about Kim Kardashian, who is also mentioned in the user's liked item. The other recommended books are related to crafts, teaching, and entertainment, which are relevant to the user's preferences.\n",
      "Based on the user's liked movies, which are \"Mulholland Drive\" and \"Amelie\", I can see that the user has a preference for movies in the \"Movies & TV\" category, specifically in the \"Studio Specials\" subcategory. Therefore, I will recommend books that are also in the \"Arts & Photography\" category, as it is a similar domain to movies\n",
      "Based on the user's liked movies, which are in the categories of 'Movies & TV', 'Science Fiction & Fantasy', 'Science Fiction', and 'Animation', I have ranked the books that have similar categories. The top recommended book, 'The Evidence Bible: Irrefutable Evidence for the Thinking Mind', falls under the category of 'Books', 'New, Used & Rental Textbooks', and 'Humanities', which aligns with the user's interest in science fiction and fantasy. The second recommended book, 'The Way Of The Master Evidence Bible', is in the categories of 'Books', 'Christian Books & Bibles', and 'Bibles', which may appeal to the user's interest in movies with religious themes. The third recommended book, 'The Harbinger: The Ancient Mystery That Holds the Secret of America's Future (Thorndike Christian Mystery)', is in the categories of 'Books', 'Christian Books & Bibles', and 'Literature & Fiction', which aligns with the user's interest in movies with Christian themes. The fourth recommended book, 'Llewellyn's Complete Formulary of Magical Oils: Over 1200 Recipes, Potions & Tinctures for Everyday Use (Llewellyn's Complete Book)', is in the categories of 'Books', 'Religion & Spirituality', and 'New Age & Spirituality', which may appeal to the user's interest in fantasy and magical elements. The fifth recommended book, 'The Complete Book of Essential Oils and Aromatherapy', is in the categories of 'Books', 'Crafts, Hobbies & Home', and 'Home Improvement & Design', which aligns with the user's interest in movies related to home improvement and design.\n",
      "Based on the user's liked movies, which include \"Farscape Season 1, Vol. 1 - Premiere/I, E.T.\" and \"Smallville: Season 8\", it seems that the user enjoys science fiction and fantasy genres. Therefore, the top 5 recommended books are selected based on this preference.\n",
      "Based on the user's liked movies, which are in the action and adventure genre, I have ranked the books that belong to the mystery, thriller, and suspense genre higher. This is because both genres involve excitement, suspense, and a sense of adventure. The top-ranked book, \"Stolen\" by Daniel Palmer, is a thriller and suspense novel that may appeal to the user's taste for action and adventure. Similarly, \"A Tap on the Window\" by Linwood Barclay and \"Desperate\" by Daniel Palmer are also in the same genre and offer thrilling and suspenseful stories.\n",
      "-------------------------------------------------\n",
      "\n",
      "------------- Movies_3_5_Books_5_10__1s -------------\n",
      "Based on your liked movies, which include LGBT themes and science fiction comedy, I have ranked the books that are related to science fiction, fantasy, politics, and social sciences. \"For the Win\" is a science fiction book that explores the themes of virtual economies and social justice. \"The 9/11 Report: A Graphic Adaptation\" provides a visual representation of the 9/11 Commission Report, which may appeal to your interest in politics and social sciences. \"Free To Be...you And Me (The Original Classic Edition)\" is a children's book that promotes gender equality and self-expression, aligning with the themes of acceptance and diversity present in \"Beautiful Thing\" and \"The Hitchhiker's Guide to the Galaxy.\" \"Look for the Lorax\" is a children's book that addresses environmental issues, which may resonate with your interest in social and political topics. Lastly, \"Pilgrim of the Sky\" is a fantasy romance novel that offers a different genre experience while still maintaining elements of imagination and storytelling.\n",
      "Based on your liked movies, which include movies in the genres of Kids & Family, Comedy, and Studio Specials, I have selected books that are related to similar themes. The top-ranked book, \"Holy Bible: New King James Version, Childrens, Princess, Bejeweled Snap-Flap Closure, Sparkle Lavender Cover, Satin Ribbon Marker,\" is a children's Bible with a princess-themed cover, which aligns with the family-friendly aspect of the movies you liked. The other recommended books include \"Holy Bible, Keystone Giant Print Presentation Edition: King James Version,\" \"The Wedding Planner & Organizer,\" \"The Knot Book of Wedding Lists: The Ultimate Guide to the Perfect Day, Down to the Smallest Detail,\" and \"Delusion in Death,\" which are related to relationships, weddings, and mysteries, which are common themes in the movies you liked.\n",
      "Based on your liked movies, which are known for their unique storytelling and unconventional narratives, I recommend books that also offer thought-provoking and unconventional stories. The top-ranked book, \"The Idiot\" by Fyodor Dostoyevsky, is a classic novel known for its complex characters and exploration of human nature. \"The Master and Margarita\" by Mikhail Bulgakov is another highly regarded novel that combines elements of fantasy and satire. \"Père Goriot\" by Honoré de Balzac is a literary masterpiece that delves into themes of social class and ambition. \"Death in Venice and Other Stories\" by Thomas Mann is a collection of short stories that explores themes of desire and artistic inspiration. Lastly, \"The Best Short Stories of Fyodor Dostoevsky\" offers a selection of Dostoevsky's captivating and thought-provoking short stories. These books are recommended based on their potential to provide you with a similar level of depth and unconventional storytelling that you enjoyed in the movies you liked.\n",
      "Based on your liked movie \"Stargate VHS\" which falls under the categories of \"Movies & TV\", \"Studio Specials\", \"Lionsgate Home Entertainment\", \"Top Sellers\", I have ranked the books that are related to science fiction and fantasy genres. These books are likely to appeal to you because they share similar themes of adventure, exploration, and imagination. The top-ranked book \"A Bridge of Years\" by Robert Charles Wilson is a science fiction novel that explores the concept of time travel. \"Lavondyss: Journey to an Unknown Region\" by Robert Holdstock is a fantasy novel that takes readers on a journey to a mysterious and magical realm. \"Gate of Ivory, Gate of Horn (Mythago Wood)\" by Robert Holdstock is another fantasy book that delves into the world of myth and folklore. \"The Hollowing\" by Robert Holdstock is a contemporary fantasy novel that combines elements of mythology and modern-day settings. Lastly, \"Iron Sunrise (Singularity)\" by Charles Stross is a science fiction book that explores the consequences of advanced technology and its impact on society. These books should provide you with a similar sense of adventure and imagination that you enjoyed in the movie \"Stargate VHS\".\n",
      "Based on your dislike for horror movies like \"A Nightmare on Elm Street 4: The Dream Master\" and \"Cabin Fever\", it seems that you prefer books that are not in the horror genre. Therefore, I have ranked the books accordingly. \"Barrel Fever: Stories and Essays\" is a collection of humorous stories and essays, which aligns with your preference for non-horror content. \"Possible Side Effects\" and \"Dry: A Memoir\" are memoirs that offer personal and introspective narratives, which may interest you. \"Running with Scissors: A Memoir\" is another memoir that explores unconventional and challenging experiences. Lastly, \"The Devil Wears Prada\" is a popular novel set in the fashion industry, providing a different genre option for you.\n",
      "-------------------------------------------------\n"
     ]
    }
   ],
   "source": [
    "print(\"\\n------------- Movies_3_5_Books_5_10__0s -------------\")\n",
    "for explanation in movies_35_books_510_0s_explanations['sample_above_mean']:\n",
    "    print(explanation)\n",
    "print(\"-------------------------------------------------\")\n",
    "\n",
    "print(\"\\n------------- Movies_3_5_Books_5_10__1s -------------\")\n",
    "for explanation in movies_35_books_510_1s_explanations['sample_above_mean']:\n",
    "    print(explanation)\n",
    "print(\"-------------------------------------------------\")"
   ]
  },
  {
   "cell_type": "code",
   "execution_count": 68,
   "metadata": {},
   "outputs": [
    {
     "name": "stdout",
     "output_type": "stream",
     "text": [
      "\n",
      "-------------------------------------------------\n",
      "CDs_3_5_Books_5_10 - Range max words explanations:\n",
      "Zero-shot: 5\n",
      "One-shot: 4\n",
      "-------------------------------------------------\n",
      "\n",
      "-------------------------------------------------\n",
      "Movies_3_5_Books_5_10 - Range max wordss explanations:\n",
      "Zero-shot: 2\n",
      "One-shot: 1\n",
      "-------------------------------------------------\n"
     ]
    }
   ],
   "source": [
    "# ---------------------------\n",
    "# Count Range max words explanations\n",
    "# ---------------------------\n",
    "print(\"\\n-------------------------------------------------\")\n",
    "print(\"CDs_3_5_Books_5_10 - Range max words explanations:\")\n",
    "print(f\"Zero-shot: {cds_35_books_510_0s_explanations['count_range_max']}\")\n",
    "print(f\"One-shot: {cds_35_books_510_1s_explanations['count_range_max']}\")\n",
    "print(\"-------------------------------------------------\")\n",
    "\n",
    "print(\"\\n-------------------------------------------------\")\n",
    "print(\"Movies_3_5_Books_5_10 - Range max wordss explanations:\")\n",
    "print(f\"Zero-shot: {movies_35_books_510_0s_explanations['count_range_max']}\")\n",
    "print(f\"One-shot: {movies_35_books_510_1s_explanations['count_range_max']}\")\n",
    "print(\"-------------------------------------------------\")"
   ]
  },
  {
   "cell_type": "code",
   "execution_count": 69,
   "metadata": {},
   "outputs": [
    {
     "name": "stdout",
     "output_type": "stream",
     "text": [
      "\n",
      "------------- CDs_3_5_Books_5_10__0s -------------\n",
      "Based on the user's liked CDs, which are all Christmas-themed, I recommend books that are related to history, landmarks, and relationships. The top-ranked book, 'Hutzler's: Where Baltimore Shops', is a book about the history of a famous department store in Baltimore. This recommendation is based on the user's interest in Christmas music and the category overlap between the CDs and the book. The second-ranked book, 'Baltimore's Bygone Department Stores: Many Happy Returns', is also a book about the history of department stores in Baltimore, which aligns with the user's interest in Christmas music and the category overlap. The third-ranked book, 'Days to Remember: A Keepsake Book for Birthdays, Anniversaries & Special Occasions', is a book about preserving memories and special occasions, which relates to the user's interest in Christmas music and the sentimental nature of the CDs. The fourth-ranked book, 'Friends: An Address Book for Those Who Cherish the Joys of Friendship', is a book about maintaining and cherishing friendships, which aligns with the user's interest in Christmas music and the theme of togetherness during the holiday season. The fifth-ranked book, 'Charm City: A Walk Through Baltimore', is a book about exploring the city of Baltimore, which relates to the user's interest in Christmas music and the location overlap between the CDs and the book.\n",
      "Based on the user's liked CDs, which are in the categories of 'Pop', 'Adult Alternative', and 'Country', I recommend books that are related to food, cooking, and crafts. The top-ranked book, \"Artisan Pizza and Flatbread in Five Minutes a Day: The Homemade Bread Revolution Continues\", is a cookbook that falls under the category of 'Cookbooks, Food & Wine'. This book is recommended because it aligns with the user's interest in music and food. The second-ranked book, \"The Cookie Dough Lover's Cookbook: Cookies, Cakes, Candies, and More\", is also a cookbook that falls under the category of 'Crafts, Hobbies & Home'. This book is recommended because it combines the user's interest in music and crafts. The third-ranked book, \"Betty Crocker's Picture Cook Book\", is another cookbook that falls under the category of 'Cookbooks, Food & Wine'. This book is recommended because it aligns with the user's interest in music and cooking. The fourth-ranked book, \"Shadow Wolf (Wolves of the Beyond, Book 2)\", is a children's book that falls under the category of 'Growing Up & Facts of Life'. This book is recommended because it provides a different genre for the user to explore. The fifth-ranked book, \"Superman: The Ultimate Guide to the Man of Steel (DK Superman)\", is a children's book that falls under the category of 'Arts, Music & Photography'. This book is recommended because it combines the user's interest in music and arts.\n",
      "Based on the user's liked CDs, which are all soundtracks from movies, I recommend books that are related to arts and entertainment. The top recommended book is \"A Californian's Guide to the Trees among Us\", which is a book about the natural environment in California. Although it is not directly related to soundtracks, it is still related to the arts and can provide an interesting read for someone who enjoys music. The second recommended book is \"The Natural Step for Communities: How Cities and Towns can Change to Sustainable Practices\", which is related to sustainability and can be of interest to someone who appreciates the creative process involved in making soundtracks. The third recommended book is \"The New Western Garden Book: The Ultimate Gardening Guide\", which is a book about gardening and landscape design. This recommendation is based on the assumption that someone who enjoys soundtracks might also have an interest in creating beautiful environments. The fourth recommended book is \"Ilium\", which is a work of literature and fiction. This recommendation is based on the assumption that someone who enjoys soundtracks might also appreciate storytelling and imaginative worlds. The fifth recommended book is \"House of M\", which is a graphic novel. This recommendation is based on the assumption that someone who enjoys soundtracks might also enjoy visual storytelling.\n",
      "Based on the user's liked CDs, which are mainly in the genres of alternative rock, punk, and metal, I recommend books that are related to social sciences, philosophy, biographies, humor, and Christian living. These books cover a wide range of topics that may interest the user based on their music preferences. For example, \"Fascism (Oxford Readers)\" and \"Fascism: A Very Short Introduction\" are recommended because they explore political ideologies, which can be related to the rebellious and alternative nature of the liked CDs. \"Ideas of the Great Philosophers\" is recommended as it delves into philosophical concepts, which can be intellectually stimulating for someone who enjoys alternative rock and punk music. \"Joseph McCarthy: Reexamining the Life and Legacy of America's Most Hated Senator\" is recommended as it relates to historical figures and events, which can be intriguing for someone interested in metal music that often explores darker themes. \"Idiocy! Taking Conservatives Behind the Woodshed: A Parody of Ann Coulter's Books and Right-Wing Ideology\" is recommended as it offers humor and entertainment, which can be a refreshing change from the intense and heavy nature of the liked CDs. Lastly, \"The Passion: Photography from the Movie 'The Passion of the Christ'\" is recommended as it connects to Christian themes, which can resonate with someone who enjoys music with religious undertones.\n",
      "Based on the user's liked CDs, which are classical symphonies, I recommend books that are related to arts, photography, and literature. The top-ranked book, 'The Canon: A Whirligig Tour of the Beautiful Basics of Science', is a book about science and math, which may appeal to the user's interest in classical music. The next recommended book, 'The Panasonic Lumix DMC-GH2: The Unofficial Quintessential Guide', is a book about photography and video, which can be a related interest to classical music. The third recommended book, 'David Buschs Olympus OM-D E-M1 Guide to Digital Photography', is another book about photography and video, specifically focused on Olympus cameras. This book can provide the user with practical knowledge and tips for capturing and documenting classical music performances. The fourth recommended book, 'A Short Course in Olympus Camedia C-5050 Zoom Photography (Book & CD-ROM)', is also related to photography and specifically focuses on the Olympus Camedia C-5050 Zoom camera. This book can provide the user with more specific information and guidance on using this camera for capturing classical music performances. Finally, the fifth recommended book, 'The Historian', is a work of literature and fiction, which can provide the user with a different form of artistic expression and storytelling. Overall, these recommendations aim to cater to the user's interest in classical music and provide them with related content in the form of arts, photography, and literature.\n",
      "-------------------------------------------------\n",
      "\n",
      "------------- CDs_3_5_Books_5_10__1s -------------\n",
      "Based on the user's liked CDs, which include jazz, swing jazz, contemporary big band, country, and vocal pop genres, I recommend books that may align with the user's musical preferences. The top-ranked book, \"Renegade (The Lost Books, Book 3)\" by Ted Dekker, falls under the category of teen and young adult literature, which often incorporates elements of adventure and excitement, similar to the diverse genres of the liked CDs. The second-ranked book, \"Bible Code III: Saving the World\" by Michael Drosnin, may appeal to the user's interest in exploring hidden codes and mysteries, as it relates to the Bible. The third-ranked book, \"Study Guide and Skills Performance Checklists for Fundamentals of Nursing\" by Patricia A. Potter, is included as it falls under the category of medicine and health sciences, which may be of interest to the user. The fourth-ranked book, \"Student Workbook and Resource Guide for Olds' Maternal-Newborn Nursing & Women's Health Across the Lifespan\" by Michele C. Davidson, is also related to medicine and health sciences, specifically focusing on maternal-newborn nursing and women's health. Lastly, the fifth-ranked book, \"HESI Comprehensive Review for the NCLEX-RN Examination\" by HESI, is a comprehensive review guide for the nursing examination, which may be relevant to the user's interest in nursing and healthcare.\n",
      "Based on your liked CDs, which are focused on world music and specifically from South & Central America and Far East & Asia, I recommend books that are related to these regions. The top-ranked book, \"An Illustrated Guide to Korean,\" is a literature and fiction book that explores the history and criticism of Korean literature. This book aligns with your interest in Far East & Asia music. The second-ranked book, \"Complete Cantonese with Two Audio CDs,\" is a language guide that teaches Cantonese, which is spoken in South & Central Asia. This book complements your interest in South & Central America music. The third-ranked book, \"Living Language Korean, Complete Edition,\" is a comprehensive course that includes coursebooks and audio CDs to learn the Korean language. This book aligns with your interest in Far East & Asia music. The fourth-ranked book, \"Learn Hangul in One Hour,\" is a complete course on how to teach yourself the Korean writing system. This book complements your interest in Far East & Asia music. The fifth-ranked book, \"Living Language Spanish, Essential Edition,\" is a beginner course that includes coursebooks and audio CDs to learn the Spanish language. Although it is not directly related to your liked CDs, it provides an opportunity to explore another world music genre.\n",
      "Based on your disliked CDs, which include soundtracks, world music, and Broadway vocalists, it seems that you have a preference for books in the genres of literature and fiction, genre fiction, and biographies. The top-ranked book, \"The Pillars of the Earth\" by Ken Follett, is a highly acclaimed historical novel that falls under the genre fiction category. It offers a captivating story set in medieval England. The second-ranked book, \"City of Dreams: A Novel of Nieuw Amsterdam and Early Manhattan\" by Beverly Swerling, is a historical fiction novel that takes place in the early days of Manhattan. It combines elements of romance, adventure, and historical accuracy. The third-ranked book, \"The First Man in Rome\" by Colleen McCullough, is the first book in the Masters of Rome series, which offers a detailed and immersive portrayal of ancient Rome. The fourth-ranked book, \"Divorced from the Mob: My Journey from Organized Crime to Independent Woman\" by Andrea Giovino, is a gripping true crime memoir that tells the story of a woman's escape from the mob. Finally, the fifth-ranked book, \"Brando Unzipped: Marlon Brando: Bad Boy, Megastar, Sexual Outlaw\" by Darwin Porter, is a biography that delves into the life and career of the iconic actor Marlon Brando. These recommendations are based on the similarity between the disliked CDs and the genres of the recommended books.\n",
      "Based on your liked CDs, which are in the alternative rock and indie rock genres, I have recommended books that align with those genres or have a similar vibe. \"American Gods\" by Neil Gaiman is a popular fantasy novel that combines mythology and contemporary themes, which may appeal to fans of alternative and indie music. \"Jesus for President: Politics for Ordinary Radicals\" by Shane Claiborne is a thought-provoking book that explores the intersection of faith and politics, which may resonate with individuals who appreciate alternative perspectives. \"Radical: Taking Back Your Faith From the American Dream\" by David Platt is a book that challenges conventional notions of Christianity and encourages a more radical approach to faith, which may appeal to those who appreciate alternative ideas. \"Investing Made Simple: Index Fund Investing and ETF Investing Explained in 100 Pages or Less\" by Mike Piper is a practical guide to investing, which may be of interest to individuals who appreciate the DIY and independent spirit often associated with alternative and indie music. Finally, \"Scott Pilgrim Vol. 1: Precious Little Life\" by Bryan Lee O'Malley is a graphic novel that combines music, romance, and coming-of-age themes, making it a fitting recommendation for fans of alternative and indie music.\n",
      "-------------------------------------------------\n"
     ]
    }
   ],
   "source": [
    "print(\"\\n------------- CDs_3_5_Books_5_10__0s -------------\")\n",
    "for explanation in cds_35_books_510_0s_explanations['sample_range_max']:\n",
    "    print(explanation)\n",
    "print(\"-------------------------------------------------\")\n",
    "\n",
    "print(\"\\n------------- CDs_3_5_Books_5_10__1s -------------\")\n",
    "for explanation in cds_35_books_510_1s_explanations['sample_range_max']:\n",
    "    print(explanation)\n",
    "print(\"-------------------------------------------------\")"
   ]
  },
  {
   "cell_type": "code",
   "execution_count": 70,
   "metadata": {},
   "outputs": [
    {
     "name": "stdout",
     "output_type": "stream",
     "text": [
      "\n",
      "------------- Movies_3_5_Books_5_10__0s -------------\n",
      "Based on the user's liked movies, which are in the categories of 'Movies & TV', 'Science Fiction & Fantasy', 'Science Fiction', and 'Animation', I have ranked the books that have similar categories. The top recommended book, 'The Evidence Bible: Irrefutable Evidence for the Thinking Mind', falls under the category of 'Books', 'New, Used & Rental Textbooks', and 'Humanities', which aligns with the user's interest in science fiction and fantasy. The second recommended book, 'The Way Of The Master Evidence Bible', is in the categories of 'Books', 'Christian Books & Bibles', and 'Bibles', which may appeal to the user's interest in movies with religious themes. The third recommended book, 'The Harbinger: The Ancient Mystery That Holds the Secret of America's Future (Thorndike Christian Mystery)', is in the categories of 'Books', 'Christian Books & Bibles', and 'Literature & Fiction', which aligns with the user's interest in movies with Christian themes. The fourth recommended book, 'Llewellyn's Complete Formulary of Magical Oils: Over 1200 Recipes, Potions & Tinctures for Everyday Use (Llewellyn's Complete Book)', is in the categories of 'Books', 'Religion & Spirituality', and 'New Age & Spirituality', which may appeal to the user's interest in fantasy and magical elements. The fifth recommended book, 'The Complete Book of Essential Oils and Aromatherapy', is in the categories of 'Books', 'Crafts, Hobbies & Home', and 'Home Improvement & Design', which aligns with the user's interest in movies related to home improvement and design.\n",
      "Based on the user's liked movies, which are all classical music performances, I recommend books that are related to history, world events, and religion. The top recommended book, \"Crossroads to Islam: The Origins of the Arab Religion and the Arab State,\" explores the origins of the Arab religion and its impact on the Arab state, which aligns with the user's interest in classical music and performing arts. The second recommended book, \"Migrations of the Holy: God, State, and the Political Meaning of the Church,\" delves into the political meaning of the church and its relationship with the state, which connects to the user's interest in classical music and the performing arts. The third recommended book, \"In the Shadow of the Sword: The Birth of Islam and the Rise of the Global Arab Empire,\" explores the birth of Islam and its impact on the global Arab empire, which relates to the user's interest in classical music and performing arts. The fourth recommended book, \"The Slightest Philosophy,\" offers insights into philosophy and its relevance to politics and social sciences, which aligns with the user's interest in classical music and performing arts. Lastly, the fifth recommended book, \"The World's Wisdom: Sacred Texts of the World's Religions,\" presents sacred texts from various religions, which connects to the user's interest in classical music and performing arts.\n",
      "-------------------------------------------------\n",
      "\n",
      "------------- Movies_3_5_Books_5_10__1s -------------\n",
      "Based on your liked movies, which include \"In The Good Old Summertime VHS\" and \"Just the Way You Are VHS\", I can see that you have a preference for romantic movies and movies from the Warner Home Video studio. Therefore, I have ranked the books that are related to entertainment, social sciences, and biographies. \"The Velvet Rage: Overcoming the Pain of Growing Up Gay in a Straight Man's World\" is a book that explores the challenges faced by gay individuals in a heterosexual society, which might resonate with your interest in movies that touch on personal struggles. \"Cruise Control: Understanding Sex Addiction in Gay Men\" is a book that delves into the topic of sex addiction in the gay community, which might be of interest to you based on the themes explored in your liked movies. \"My Life at Grey Gardens: 13 Months and Beyond\" is a memoir that offers a behind-the-scenes look at the famous Grey Gardens estate, which might appeal to your interest in movies with unique and intriguing settings. \"Lady Gaga 2011 12X12 Square Wall Calendar\" is a calendar featuring the popular singer, which might be of interest to you if you enjoy the entertainment industry. \"Are You Being Served?: A Celebration Of Twenty Five Years\" is a book that celebrates the popular British sitcom \"Are You Being Served?\", which might appeal to your interest in television and humor.\n",
      "-------------------------------------------------\n"
     ]
    }
   ],
   "source": [
    "print(\"\\n------------- Movies_3_5_Books_5_10__0s -------------\")\n",
    "for explanation in movies_35_books_510_0s_explanations['sample_range_max']:\n",
    "    print(explanation)\n",
    "print(\"-------------------------------------------------\")\n",
    "\n",
    "print(\"\\n------------- Movies_3_5_Books_5_10__1s -------------\")\n",
    "for explanation in movies_35_books_510_1s_explanations['sample_range_max']:\n",
    "    print(explanation)\n",
    "print(\"-------------------------------------------------\")"
   ]
  }
 ],
 "metadata": {
  "kernelspec": {
   "display_name": "env",
   "language": "python",
   "name": "python3"
  },
  "language_info": {
   "codemirror_mode": {
    "name": "ipython",
    "version": 3
   },
   "file_extension": ".py",
   "mimetype": "text/x-python",
   "name": "python",
   "nbconvert_exporter": "python",
   "pygments_lexer": "ipython3",
   "version": "3.12.0"
  }
 },
 "nbformat": 4,
 "nbformat_minor": 2
}
