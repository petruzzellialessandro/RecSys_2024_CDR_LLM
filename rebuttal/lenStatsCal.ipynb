{
 "cells": [
  {
   "cell_type": "code",
   "execution_count": 1,
   "metadata": {},
   "outputs": [],
   "source": [
    "import pandas as pd\n",
    "import os\n",
    "from tqdm import tqdm\n",
    "from transformers import AutoTokenizer"
   ]
  },
  {
   "cell_type": "code",
   "execution_count": 4,
   "metadata": {},
   "outputs": [
    {
     "name": "stderr",
     "output_type": "stream",
     "text": [
      "100%|██████████| 12/12 [00:50<00:00,  4.21s/it]\n"
     ]
    }
   ],
   "source": [
    "scenarios_stats = {}\n",
    "tokenizer = AutoTokenizer.from_pretrained(os.path.join('..', \"llama_tok\"))\n",
    "for f in tqdm(os.listdir(os.path.join('..', \"open-models-inference\", \"conf_to_test\"))):\n",
    "    df = pd.read_json(os.path.join('..', \"open-models-inference\", \"conf_to_test\", f), lines=True)\n",
    "    df['ids'] = df['text'].apply(lambda x: tokenizer(x)['input_ids'])\n",
    "    df['len'] = df['ids'].apply(len)\n",
    "    desc = df['len'].describe()\n",
    "    scenarios_stats[f] = {stat: desc[stat] for stat in ['mean', 'std', 'min', 'max']}"
   ]
  },
  {
   "cell_type": "code",
   "execution_count": 6,
   "metadata": {},
   "outputs": [],
   "source": [
    "import json \n",
    "with open(\"llama_test_file_stat.json\", \"w\") as outfile:\n",
    "    json.dump(scenarios_stats, outfile, indent=4)"
   ]
  },
  {
   "cell_type": "code",
   "execution_count": 2,
   "metadata": {},
   "outputs": [
    {
     "name": "stderr",
     "output_type": "stream",
     "text": [
      " 25%|██▌       | 3/12 [00:12<00:35,  3.99s/it]"
     ]
    }
   ],
   "source": [
    "scenarios_stats = {}\n",
    "tokenizer = AutoTokenizer.from_pretrained(os.path.join('..', \"mistral_tok\"), fast=False)\n",
    "for f in tqdm(os.listdir(os.path.join('..', \"open-models-inference\", \"conf_to_test_mistral\"))):\n",
    "    df = pd.read_json(os.path.join('..', \"open-models-inference\", \"conf_to_test\", f), lines=True)\n",
    "    df['ids'] = df['text'].apply(lambda x: tokenizer(x)['input_ids'])\n",
    "    df['len'] = df['ids'].apply(len)\n",
    "    desc = df['len'].describe()\n",
    "    scenarios_stats[f] = {stat: desc[stat] for stat in ['mean', 'std', 'min', 'max']}"
   ]
  },
  {
   "cell_type": "code",
   "execution_count": null,
   "metadata": {},
   "outputs": [],
   "source": [
    "import json \n",
    "with open(\"mistral_test_file_stat.json\", \"w\") as outfile:\n",
    "    json.dump(scenarios_stats, outfile, indent=4)"
   ]
  }
 ],
 "metadata": {
  "kernelspec": {
   "display_name": "transfromers_env",
   "language": "python",
   "name": "python3"
  },
  "language_info": {
   "codemirror_mode": {
    "name": "ipython",
    "version": 3
   },
   "file_extension": ".py",
   "mimetype": "text/x-python",
   "name": "python",
   "nbconvert_exporter": "python",
   "pygments_lexer": "ipython3",
   "version": "3.11.3"
  }
 },
 "nbformat": 4,
 "nbformat_minor": 2
}
